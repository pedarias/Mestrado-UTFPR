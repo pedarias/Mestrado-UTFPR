{
 "cells": [
  {
   "cell_type": "markdown",
   "metadata": {
    "id": "8BGKDoRzetFE"
   },
   "source": [
    "## Framework Mlrose\n",
    "* https://mlrose.readthedocs.io/en/stable/"
   ]
  },
  {
   "cell_type": "code",
   "execution_count": 1,
   "metadata": {},
   "outputs": [
    {
     "name": "stdout",
     "output_type": "stream",
     "text": [
      "Requirement already satisfied: scikit-learn in /home/a10/anaconda3/lib/python3.11/site-packages (1.3.0)\n",
      "Requirement already satisfied: numpy>=1.17.3 in /home/a10/anaconda3/lib/python3.11/site-packages (from scikit-learn) (1.24.3)\n",
      "Requirement already satisfied: scipy>=1.5.0 in /home/a10/anaconda3/lib/python3.11/site-packages (from scikit-learn) (1.11.1)\n",
      "Requirement already satisfied: joblib>=1.1.1 in /home/a10/anaconda3/lib/python3.11/site-packages (from scikit-learn) (1.2.0)\n",
      "Requirement already satisfied: threadpoolctl>=2.0.0 in /home/a10/anaconda3/lib/python3.11/site-packages (from scikit-learn) (2.2.0)\n",
      "Note: you may need to restart the kernel to use updated packages.\n"
     ]
    }
   ],
   "source": [
    "pip install scikit-learn"
   ]
  },
  {
   "cell_type": "code",
   "execution_count": 2,
   "metadata": {
    "colab": {
     "base_uri": "https://localhost:8080/"
    },
    "executionInfo": {
     "elapsed": 5238,
     "status": "ok",
     "timestamp": 1697157017222,
     "user": {
      "displayName": "DANILO SIPOLI SANCHES",
      "userId": "11160205893438547738"
     },
     "user_tz": 180
    },
    "id": "JNVoTIBnFONn",
    "outputId": "0b30d390-aaea-422c-ce3b-55bf5ca7b2c7"
   },
   "outputs": [
    {
     "name": "stdout",
     "output_type": "stream",
     "text": [
      "Collecting mlrose\n",
      "  Using cached mlrose-1.3.0-py3-none-any.whl (27 kB)\n",
      "Requirement already satisfied: numpy in /home/a10/anaconda3/lib/python3.11/site-packages (from mlrose) (1.24.3)\n",
      "Requirement already satisfied: scipy in /home/a10/anaconda3/lib/python3.11/site-packages (from mlrose) (1.11.1)\n",
      "Collecting sklearn (from mlrose)\n",
      "  Using cached sklearn-0.0.post10.tar.gz (3.6 kB)\n",
      "  Preparing metadata (setup.py) ... \u001b[?25lerror\n",
      "  \u001b[1;31merror\u001b[0m: \u001b[1msubprocess-exited-with-error\u001b[0m\n",
      "  \n",
      "  \u001b[31m×\u001b[0m \u001b[32mpython setup.py egg_info\u001b[0m did not run successfully.\n",
      "  \u001b[31m│\u001b[0m exit code: \u001b[1;36m1\u001b[0m\n",
      "  \u001b[31m╰─>\u001b[0m \u001b[31m[18 lines of output]\u001b[0m\n",
      "  \u001b[31m   \u001b[0m The 'sklearn' PyPI package is deprecated, use 'scikit-learn'\n",
      "  \u001b[31m   \u001b[0m rather than 'sklearn' for pip commands.\n",
      "  \u001b[31m   \u001b[0m \n",
      "  \u001b[31m   \u001b[0m Here is how to fix this error in the main use cases:\n",
      "  \u001b[31m   \u001b[0m - use 'pip install scikit-learn' rather than 'pip install sklearn'\n",
      "  \u001b[31m   \u001b[0m - replace 'sklearn' by 'scikit-learn' in your pip requirements files\n",
      "  \u001b[31m   \u001b[0m   (requirements.txt, setup.py, setup.cfg, Pipfile, etc ...)\n",
      "  \u001b[31m   \u001b[0m - if the 'sklearn' package is used by one of your dependencies,\n",
      "  \u001b[31m   \u001b[0m   it would be great if you take some time to track which package uses\n",
      "  \u001b[31m   \u001b[0m   'sklearn' instead of 'scikit-learn' and report it to their issue tracker\n",
      "  \u001b[31m   \u001b[0m - as a last resort, set the environment variable\n",
      "  \u001b[31m   \u001b[0m   SKLEARN_ALLOW_DEPRECATED_SKLEARN_PACKAGE_INSTALL=True to avoid this error\n",
      "  \u001b[31m   \u001b[0m \n",
      "  \u001b[31m   \u001b[0m More information is available at\n",
      "  \u001b[31m   \u001b[0m https://github.com/scikit-learn/sklearn-pypi-package\n",
      "  \u001b[31m   \u001b[0m \n",
      "  \u001b[31m   \u001b[0m If the previous advice does not cover your use case, feel free to report it at\n",
      "  \u001b[31m   \u001b[0m https://github.com/scikit-learn/sklearn-pypi-package/issues/new\n",
      "  \u001b[31m   \u001b[0m \u001b[31m[end of output]\u001b[0m\n",
      "  \n",
      "  \u001b[1;35mnote\u001b[0m: This error originates from a subprocess, and is likely not a problem with pip.\n",
      "\u001b[1;31merror\u001b[0m: \u001b[1mmetadata-generation-failed\u001b[0m\n",
      "\n",
      "\u001b[31m×\u001b[0m Encountered error while generating package metadata.\n",
      "\u001b[31m╰─>\u001b[0m See above for output.\n",
      "\n",
      "\u001b[1;35mnote\u001b[0m: This is an issue with the package mentioned above, not pip.\n",
      "\u001b[1;36mhint\u001b[0m: See above for details.\n",
      "\u001b[?25h"
     ]
    }
   ],
   "source": [
    "!pip install mlrose"
   ]
  },
  {
   "cell_type": "code",
   "execution_count": 2,
   "metadata": {
    "executionInfo": {
     "elapsed": 2130,
     "status": "ok",
     "timestamp": 1697156911743,
     "user": {
      "displayName": "DANILO SIPOLI SANCHES",
      "userId": "11160205893438547738"
     },
     "user_tz": 180
    },
    "id": "RDMMYF51I3Tn"
   },
   "outputs": [],
   "source": [
    "import six\n",
    "import sys\n",
    "sys.modules['sklearn.externals.six'] = six\n",
    "import mlrose"
   ]
  },
  {
   "cell_type": "markdown",
   "metadata": {
    "id": "z12zZlrNI1L8"
   },
   "source": [
    "## Função de avaliação"
   ]
  },
  {
   "cell_type": "code",
   "execution_count": 3,
   "metadata": {
    "executionInfo": {
     "elapsed": 253,
     "status": "ok",
     "timestamp": 1697156915826,
     "user": {
      "displayName": "DANILO SIPOLI SANCHES",
      "userId": "11160205893438547738"
     },
     "user_tz": 180
    },
    "id": "wDLbNo1xWibM"
   },
   "outputs": [],
   "source": [
    "# Geração de valores aleatórios para teste\n",
    "# Função objetivo: número de pares de rainhas não-atacantes\n",
    "# Exemplo: 8-Rainhas\n",
    "# min = 0, max =   8 x 7/2 = 28\n",
    "def funcao_avaliacao(solucao):\n",
    "        melhorFitness = (len(solucao) * (len(solucao) - 1) // 2)\n",
    "        h = 0 \n",
    "        #Contagem de ataques na diagonal e vertical\n",
    "        for i in range(0, len(solucao)):\n",
    "            for j in range(0, len(solucao)):\n",
    "                if j > i:\n",
    "                    # Avalia a diferença entre as colunas e as posições\n",
    "                    # das rainhas dentro da coluna\n",
    "                    if abs(i - j) == abs(solucao[i] - solucao[j]): #check ataque na diagonal\n",
    "                       #  print(f'{i} - {j} - {solucao[i]}-{solucao[j]}')\n",
    "                       h += 1\n",
    "                    # Ataques por linha (horizontal)\n",
    "                    # Avalia apenas as posições das rainhas\n",
    "                    if abs(solucao[i] - solucao[j]) == 0:\n",
    "                       h += 1\n",
    "        return melhorFitness - h"
   ]
  },
  {
   "cell_type": "markdown",
   "metadata": {
    "id": "z3I6cvDMh7Qb"
   },
   "source": [
    "#### Teste com a função avaliação"
   ]
  },
  {
   "cell_type": "code",
   "execution_count": 60,
   "metadata": {
    "colab": {
     "base_uri": "https://localhost:8080/"
    },
    "executionInfo": {
     "elapsed": 7,
     "status": "ok",
     "timestamp": 1697158501607,
     "user": {
      "displayName": "DANILO SIPOLI SANCHES",
      "userId": "11160205893438547738"
     },
     "user_tz": 180
    },
    "id": "cn7YdUM5mbUU",
    "outputId": "01c4fb00-d768-467a-80db-e2a6d7a05925"
   },
   "outputs": [
    {
     "name": "stdout",
     "output_type": "stream",
     "text": [
      "[0, 1, 2, 3, 4, 5, 6, 7]\n",
      "0\n",
      "[7, 6, 4, 1, 3, 5, 0, 2]\n",
      "24\n"
     ]
    }
   ],
   "source": [
    "# Testando a função avaliação\n",
    "from  random import shuffle\n",
    "sol = list(range(8))\n",
    "print(sol)\n",
    "print(funcao_avaliacao(sol))\n",
    "shuffle(sol)\n",
    "print(sol)\n",
    "print(funcao_avaliacao(sol))"
   ]
  },
  {
   "cell_type": "markdown",
   "metadata": {
    "id": "W896Uk6bh_IZ"
   },
   "source": [
    "#### Cadastra a função objetivo na biblioteca mlrose"
   ]
  },
  {
   "cell_type": "code",
   "execution_count": 37,
   "metadata": {
    "executionInfo": {
     "elapsed": 242,
     "status": "ok",
     "timestamp": 1697158359586,
     "user": {
      "displayName": "DANILO SIPOLI SANCHES",
      "userId": "11160205893438547738"
     },
     "user_tz": 180
    },
    "id": "kzRooBieJhax"
   },
   "outputs": [],
   "source": [
    "fitness = mlrose.CustomFitness(funcao_avaliacao)\n",
    "# fitness = mlrose.Queens()"
   ]
  },
  {
   "cell_type": "code",
   "execution_count": 38,
   "metadata": {
    "executionInfo": {
     "elapsed": 242,
     "status": "ok",
     "timestamp": 1697158364639,
     "user": {
      "displayName": "DANILO SIPOLI SANCHES",
      "userId": "11160205893438547738"
     },
     "user_tz": 180
    },
    "id": "R_v7bi5GJvwk"
   },
   "outputs": [],
   "source": [
    "problema = mlrose.DiscreteOpt(length = 8, fitness_fn = fitness,\n",
    "                             maximize = True, max_val = 8) #create env"
   ]
  },
  {
   "cell_type": "markdown",
   "metadata": {
    "id": "TfNpB5slN7Cp"
   },
   "source": [
    "### Algoritmo Hill climbing"
   ]
  },
  {
   "cell_type": "code",
   "execution_count": 47,
   "metadata": {
    "colab": {
     "base_uri": "https://localhost:8080/"
    },
    "executionInfo": {
     "elapsed": 381,
     "status": "ok",
     "timestamp": 1697158389779,
     "user": {
      "displayName": "DANILO SIPOLI SANCHES",
      "userId": "11160205893438547738"
     },
     "user_tz": 180
    },
    "id": "l4eyqdAbOS0p",
    "outputId": "b2a3038d-0351-4476-8c54-6b0460e59301"
   },
   "outputs": [
    {
     "data": {
      "text/plain": [
       "(array([3, 4, 5, 6, 7, 4, 5, 4]), 19.0, array([12., 15., 18., 19.]))"
      ]
     },
     "execution_count": 47,
     "metadata": {},
     "output_type": "execute_result"
    }
   ],
   "source": [
    "# versão tradicional\n",
    "solucao_HC, melhor_custo, curve = mlrose.hill_climb(problema, curve=True)\n",
    "solucao_HC, melhor_custo, curve"
   ]
  },
  {
   "cell_type": "code",
   "execution_count": 48,
   "metadata": {
    "colab": {
     "base_uri": "https://localhost:8080/"
    },
    "executionInfo": {
     "elapsed": 442,
     "status": "ok",
     "timestamp": 1697158393467,
     "user": {
      "displayName": "DANILO SIPOLI SANCHES",
      "userId": "11160205893438547738"
     },
     "user_tz": 180
    },
    "id": "4l71TYBlfSG7",
    "outputId": "563b77a7-c9ed-4e6e-d1ed-4a93f5a354ef"
   },
   "outputs": [
    {
     "name": "stdout",
     "output_type": "stream",
     "text": [
      "9\n"
     ]
    }
   ],
   "source": [
    "# sol = [5, 0, 2, 6, 7, 1, 4, 0]\n",
    "print(funcao_avaliacao(solucao_HC))"
   ]
  },
  {
   "cell_type": "markdown",
   "metadata": {
    "id": "ZQ0OxEuRhnEk"
   },
   "source": [
    "#### Utilizando a versão random restart"
   ]
  },
  {
   "cell_type": "code",
   "execution_count": 65,
   "metadata": {
    "colab": {
     "base_uri": "https://localhost:8080/"
    },
    "executionInfo": {
     "elapsed": 6,
     "status": "ok",
     "timestamp": 1697158693096,
     "user": {
      "displayName": "DANILO SIPOLI SANCHES",
      "userId": "11160205893438547738"
     },
     "user_tz": 180
    },
    "id": "H9sDQpagjhTF",
    "outputId": "44586df8-cacd-40c3-866e-7b68d3261064"
   },
   "outputs": [
    {
     "name": "stdout",
     "output_type": "stream",
     "text": [
      "Melhor solução: [6 5 0 3 2 0 0 0]: 17.0\n",
      "Evolução do Hill Climbing:\n",
      " [ 3.  3.  5.  5.  5.  9.  9.  9.  9.  9. 10. 10. 10. 10. 10. 10. 10. 10.\n",
      " 10. 12. 12. 12. 12. 14. 14. 14. 14. 14. 14. 15. 15. 15. 17. 17. 17. 17.\n",
      " 17. 17. 17. 17. 17. 17. 17.]\n"
     ]
    }
   ],
   "source": [
    "# versão com random restart\n",
    "solucao_HC, melhor_custo, curve = mlrose.random_hill_climb(problema,curve=True)\n",
    "print(f'Melhor solução: {solucao_HC}: {melhor_custo}')\n",
    "print(f'Evolução do Hill Climbing:\\n {curve}')"
   ]
  },
  {
   "cell_type": "markdown",
   "metadata": {
    "id": "YsP6kqpciI3B"
   },
   "source": [
    "#### Utilizando a função objetivo padrão (Queens) do mlrose"
   ]
  },
  {
   "cell_type": "code",
   "execution_count": 66,
   "metadata": {
    "colab": {
     "base_uri": "https://localhost:8080/"
    },
    "executionInfo": {
     "elapsed": 239,
     "status": "ok",
     "timestamp": 1697158738262,
     "user": {
      "displayName": "DANILO SIPOLI SANCHES",
      "userId": "11160205893438547738"
     },
     "user_tz": 180
    },
    "id": "dQwyJSjTu72S",
    "outputId": "250ae7eb-1ba5-4c7d-ec26-b5a60196efbc"
   },
   "outputs": [
    {
     "name": "stdout",
     "output_type": "stream",
     "text": [
      "Valor obtido: 17\n"
     ]
    }
   ],
   "source": [
    "# Utilizando a função Queens do framework mlrose\n",
    "import numpy as np\n",
    "fitness = mlrose.Queens()\n",
    "state = solucao_HC.copy()\n",
    "print(f'Valor obtido: {fitness.evaluate(state)}')"
   ]
  }
 ],
 "metadata": {
  "colab": {
   "provenance": [
    {
     "file_id": "1SCcp7zvaq-N8IYbFsuyIlk6_8xKsvjT2",
     "timestamp": 1693269478664
    },
    {
     "file_id": "1iVtOZ2llDkiNEIVAoraS-koCda1NVZO5",
     "timestamp": 1597774898696
    },
    {
     "file_id": "1ZH3_oJYnvARlH8JWF91iU73z_mikt_Sz",
     "timestamp": 1597155742428
    },
    {
     "file_id": "1v30PquKDzIxuJuOKnfgROcaKKrL-KqaJ",
     "timestamp": 1597083693189
    }
   ]
  },
  "kernelspec": {
   "display_name": "Python 3 (ipykernel)",
   "language": "python",
   "name": "python3"
  },
  "language_info": {
   "codemirror_mode": {
    "name": "ipython",
    "version": 3
   },
   "file_extension": ".py",
   "mimetype": "text/x-python",
   "name": "python",
   "nbconvert_exporter": "python",
   "pygments_lexer": "ipython3",
   "version": "3.11.5"
  }
 },
 "nbformat": 4,
 "nbformat_minor": 1
}
