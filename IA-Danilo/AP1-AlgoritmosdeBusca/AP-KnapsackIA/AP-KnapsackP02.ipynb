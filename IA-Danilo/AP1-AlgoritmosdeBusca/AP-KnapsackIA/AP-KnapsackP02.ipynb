{
 "cells": [
  {
   "cell_type": "markdown",
   "metadata": {},
   "source": [
    "# Kanapsack Problem databases 02:\n",
    "\n",
    "* https://people.sc.fsu.edu/~jburkardt/datasets/knapsack_01/knapsack_01.html\n",
    "\n",
    "# Atividade com nota:\n",
    "\n",
    "* Avaliar o algoritmo Hill Climbing para as bases P01 a P07;\n",
    "* Utilizar a função de aptidão knapsack do Mlrose;\n",
    "* Apresentar a melhor solução encontrada e comparar com a melhor solução global disponível para a base de dados"
   ]
  },
  {
   "cell_type": "code",
   "execution_count": 1,
   "metadata": {
    "scrolled": true
   },
   "outputs": [
    {
     "name": "stdout",
     "output_type": "stream",
     "text": [
      "Requirement already satisfied: mlrose in /home/a10/anaconda3/lib/python3.11/site-packages (1.3.0)\r\n",
      "Requirement already satisfied: numpy in /home/a10/anaconda3/lib/python3.11/site-packages (from mlrose) (1.24.3)\r\n",
      "Requirement already satisfied: scipy in /home/a10/anaconda3/lib/python3.11/site-packages (from mlrose) (1.11.3)\r\n",
      "Requirement already satisfied: sklearn in /home/a10/anaconda3/lib/python3.11/site-packages (from mlrose) (0.0.post10)\r\n"
     ]
    }
   ],
   "source": [
    "!pip install mlrose"
   ]
  },
  {
   "cell_type": "code",
   "execution_count": 2,
   "metadata": {},
   "outputs": [],
   "source": [
    "\n",
    "import six\n",
    "import sys\n",
    "sys.modules['sklearn.externals.six'] = six\n",
    "import mlrose\n",
    "import numpy as np"
   ]
  },
  {
   "cell_type": "markdown",
   "metadata": {},
   "source": [
    "## Problem representation:\n",
    "### 0/1 knapsack problem using a hill climbing algorithm for P02.\n",
    "- The Problem: \n",
    "Given a set of items, each with a weight and a value, select a subset of the items to maximize the total value while keeping the total weight within a given capacity.\n",
    "\n",
    "So the total_weight of any system configuration (any state) is constraint with a max_weight, I will call this max_weight W."
   ]
  },
  {
   "cell_type": "code",
   "execution_count": 3,
   "metadata": {},
   "outputs": [
    {
     "data": {
      "text/plain": [
       "5"
      ]
     },
     "execution_count": 3,
     "metadata": {},
     "output_type": "execute_result"
    }
   ],
   "source": [
    "max_weight = 26\n",
    "weights = [12, 7, 11, 8, 9]\n",
    "values = [24, 13, 23, 15, 26]\n",
    "state = np.array([0, 1, 1, 1, 0])\n",
    "len(weights)"
   ]
  },
  {
   "cell_type": "code",
   "execution_count": 4,
   "metadata": {},
   "outputs": [
    {
     "data": {
      "text/plain": [
       "[('Item0', 12, 24),\n",
       " ('Item1', 7, 13),\n",
       " ('Item2', 11, 23),\n",
       " ('Item3', 8, 15),\n",
       " ('Item4', 9, 26)]"
      ]
     },
     "execution_count": 4,
     "metadata": {},
     "output_type": "execute_result"
    }
   ],
   "source": [
    "items = []\n",
    "for i in range(len(weights)):\n",
    "    items.append(('Item' + str(i), weights[i], values[i]))\n",
    "\n",
    "items"
   ]
  },
  {
   "cell_type": "markdown",
   "metadata": {},
   "source": [
    "This get_cost function is what I want to maximize. It's used to see which neighbor is better."
   ]
  },
  {
   "cell_type": "code",
   "execution_count": 5,
   "metadata": {},
   "outputs": [],
   "source": [
    "# Define the fitness function\n",
    "def get_cost(state):\n",
    "    total_value = sum(state[i] * values[i] for i in range(len(weights)))\n",
    "    total_weight = sum(state[i] * weights[i] for i in range(len(weights)))\n",
    "    if total_weight > max_weight:\n",
    "        return 0\n",
    "    return total_value"
   ]
  },
  {
   "cell_type": "code",
   "execution_count": 6,
   "metadata": {},
   "outputs": [
    {
     "name": "stdout",
     "output_type": "stream",
     "text": [
      "profit: 51 \n"
     ]
    }
   ],
   "source": [
    "#sol otima\n",
    "#test_state = [0, 0, 1, 1, 0]\n",
    "#state = [0, 1, 1, 1, 0]\n",
    "#total_value = get_cost(test_state)\n",
    "#print(f'{total_value} - weight: {total_weight} ')\n",
    "total_value = get_cost(state)\n",
    "print(f'profit: {total_value} ')"
   ]
  },
  {
   "cell_type": "markdown",
   "metadata": {},
   "source": [
    "Which is nothing but this in an equation form:\n",
    "\n",
    "$F(x_i) = \\sum_{i=0}^{n-1} x_i v_i$,    if $\\sum_{i=0}^{n-1} x_i w_i \\leq W$ this is the constraint\n",
    "\n",
    "\n",
    "Where $x_i$ represents a state vector $x = [x_0, x_1, \\ldots, x_{n-1}]$. It denotes a number of copies of item i included in the knapsack."
   ]
  },
  {
   "cell_type": "code",
   "execution_count": 7,
   "metadata": {
    "scrolled": true
   },
   "outputs": [],
   "source": [
    "# custom fitness function object\n",
    "fitness_cust = mlrose.CustomFitness(get_cost)"
   ]
  },
  {
   "cell_type": "code",
   "execution_count": 8,
   "metadata": {},
   "outputs": [],
   "source": [
    "#create enviroment\n",
    "problem = mlrose.DiscreteOpt(length = 5, fitness_fn = fitness_cust, maximize = True, max_val = 2)"
   ]
  },
  {
   "cell_type": "markdown",
   "metadata": {},
   "source": [
    "### Hill Climb Method\n",
    "- Main Idea: \n",
    "The algorithm iteratively improves the solution by exploring neighboring states and selecting the state with the highest value (accordingly with get_cost) until no better solution can be found or a maximum number of iterations is reached (100 below).\n",
    "In other words, this algorithm maintain a single node and searches by moving to a neighboring node."
   ]
  },
  {
   "cell_type": "code",
   "execution_count": 9,
   "metadata": {},
   "outputs": [
    {
     "data": {
      "text/plain": [
       "(array([0, 1, 1, 1, 0]), 51.0, array([], dtype=float64))"
      ]
     },
     "execution_count": 9,
     "metadata": {},
     "output_type": "execute_result"
    }
   ],
   "source": [
    "# Call the hill_climb function to solve the problem\n",
    "best_state, best_fitness, curve = mlrose.hill_climb(problem, max_iters=100, restarts=0, init_state = state, curve=True)\n",
    "best_state, best_fitness, curve"
   ]
  },
  {
   "cell_type": "code",
   "execution_count": 10,
   "metadata": {},
   "outputs": [
    {
     "data": {
      "text/plain": [
       "51"
      ]
     },
     "execution_count": 10,
     "metadata": {},
     "output_type": "execute_result"
    }
   ],
   "source": [
    "get_cost(best_state)"
   ]
  },
  {
   "cell_type": "code",
   "execution_count": 11,
   "metadata": {},
   "outputs": [
    {
     "name": "stdout",
     "output_type": "stream",
     "text": [
      "SolucaoHC:   [0 1 1 1 0]\n",
      "Fitness Value: 51.0\n"
     ]
    }
   ],
   "source": [
    "print(\"SolucaoHC:  \", best_state)\n",
    "print(\"Fitness Value:\", best_fitness)"
   ]
  },
  {
   "cell_type": "markdown",
   "metadata": {},
   "source": [
    "### Introducing Random Restart \n",
    "Randomness should improve the optimization process value. Because for each iteration, it explores neighboring states by flipping the value (0 to 1 or 1 to 0) of a randomly selected item, and evaluates their costs and it keeps track of the best neighboring states with the highest cost.The current state is then updated to one of the best neighboring states. The process continues until no better neighbor is found or the maximum number of iterations is reached."
   ]
  },
  {
   "cell_type": "code",
   "execution_count": 12,
   "metadata": {},
   "outputs": [
    {
     "data": {
      "text/plain": [
       "(array([0, 1, 0, 1, 1]),\n",
       " 54.0,\n",
       " array([39., 39., 39., 39., 39., 39., 39., 39., 39., 39., 39., 41., 41.,\n",
       "        41., 41., 41., 54., 54., 54., 54., 54., 54., 54., 54., 54., 54.,\n",
       "        54., 28., 28., 54., 54., 54., 54., 54., 54., 54., 54., 54., 54.,\n",
       "        54., 50., 50., 50., 50., 50., 50., 50., 50., 50., 50., 50., 13.,\n",
       "        13., 39., 39., 39., 39., 54., 54., 54., 54., 54., 54., 54., 54.,\n",
       "        54., 54., 54., 41., 54., 54., 54., 54., 54., 54., 54., 54., 54.,\n",
       "        54., 54., 39., 39., 39., 39., 39., 39., 39., 39., 39., 39., 54.,\n",
       "        54., 54., 54., 54., 54., 54., 54., 54., 54., 54., 51., 51., 51.,\n",
       "        51., 51., 51., 51., 51., 51., 51., 51.,  0.,  0.,  0.,  0., 47.,\n",
       "        47., 47., 47., 47., 47., 47., 47., 47., 47., 47., 28., 28., 51.,\n",
       "        51., 51., 51., 51., 51., 51., 51., 51., 51., 51., 37., 37., 37.,\n",
       "        37., 37., 37., 37., 37., 37., 37., 37.]))"
      ]
     },
     "execution_count": 12,
     "metadata": {},
     "output_type": "execute_result"
    }
   ],
   "source": [
    "best_state, best_fitness, curve = mlrose.random_hill_climb(problem, max_iters=100, restarts=10, curve=True, random_state=10)\n",
    "best_state, best_fitness, curve"
   ]
  },
  {
   "cell_type": "markdown",
   "metadata": {},
   "source": [
    "## Conclusion\n",
    "Rather than just hill climb one time, we can hill climb multiple times and figure out what is the best one that I've been able to find.\n",
    "So we've implemented a function for random restart that restarts some maximum number of times, and repeat, on that number of times, this hill-climb method 'random_hill_climb' and figure out what the cost is (for that state after randomly restart maximum times).\n",
    "As we can see there is a lot of local maximums (39, 41, 51...),  the algorithm starts at 39 and runs through a lot of neighbors, always keeping track (even the lowest ones) of the best neighboring states with the highest cost. 54 is the global maximum for this dataset."
   ]
  },
  {
   "cell_type": "markdown",
   "metadata": {},
   "source": [
    "# Simulated Annealing\n",
    "In order to find a global maximum or global minimum we may need to make a move that makes our situation worse. Because sometimes if we get stuck in a local max/min, I want to dislodge from that in order to find the global max/min.\n",
    " - Simulated Annealing is a great technique for that. \n",
    "Suppose some state-space, if I am in a current state and I'm looking for a global maximum and I'm trying to maximize the value of the state, Hill-Climbing would just take the state and look at the two neighbor ones, and always pick the one that is going to increase the value of the state. As said before \"in order to find a global maximum/minimum we may need to make a move that makes our situation worse.\" such that later on we can find that global maximum.\n",
    "Once found this global max state we probably don't wan't to be moving to states worse than current state. This is why this metaphor for annealing -> start making more random moves and, over time, start to make fewer of those random moves based on a particular temperature schedule."
   ]
  },
  {
   "cell_type": "code",
   "execution_count": 13,
   "metadata": {},
   "outputs": [],
   "source": [
    "# Define a schedule for simulated annealing (you can customize this schedule)\n",
    "schedule = mlrose.ExpDecay(init_temp=1000, exp_const=0.04, min_temp=1)"
   ]
  },
  {
   "cell_type": "markdown",
   "metadata": {},
   "source": [
    "the idea is that this temperature is going to be higher early on and lower later on.\n",
    "It is exponentially decaying according to the formula: $T(t) = T_{i}e^{-rt}$\n",
    "where:\n",
    "-  T(t) is the temperature at time t.\n",
    "- $T(i)$ is the initial temperature at time t=0.\n",
    "- r is the rate of exponential decay.\n",
    "- t is the time variable.\n",
    "- The exponential decay is represented by $e^{-rt}$.\n",
    "\n",
    "For ex: You start off $T_{i}$=100, after 1s the temperature will be:"
   ]
  },
  {
   "cell_type": "code",
   "execution_count": 16,
   "metadata": {},
   "outputs": [
    {
     "name": "stdout",
     "output_type": "stream",
     "text": [
      "T(1) = 960.7894391523232\n"
     ]
    }
   ],
   "source": [
    "# Evaluate the temperature parameter at time t = 1 and exp_const=0.04\n",
    "t1 = schedule.evaluate(1)\n",
    "print(f\"T(1) = {t1}\")"
   ]
  },
  {
   "cell_type": "code",
   "execution_count": 15,
   "metadata": {
    "scrolled": true
   },
   "outputs": [
    {
     "data": {
      "text/plain": [
       "(array([0, 1, 0, 1, 1]),\n",
       " 54.0,\n",
       " array([ 0.,  0., 39.,  0.,  0.,  0.,  0.,  0.,  0.,  0., 47.,  0.,  0.,\n",
       "         0.,  0.,  0.,  0.,  0.,  0.,  0., 36., 13.,  0., 23., 36.,  0.,\n",
       "         0.,  0.,  0.,  0., 37.,  0., 39., 13., 36., 13., 36.,  0., 39.,\n",
       "        39.,  0., 36., 13., 13.,  0., 23., 49., 49.,  0., 41., 41., 54.,\n",
       "        41.,  0.,  0.,  0., 47., 24.,  0., 23., 49., 23., 47.,  0.,  0.,\n",
       "         0.,  0.,  0.,  0., 51.,  0.,  0.,  0.,  0.,  0., 54., 54., 54.,\n",
       "        54., 54., 54., 28., 54., 54., 41.,  0.,  0.,  0.,  0.,  0.,  0.,\n",
       "         0., 28., 28., 13., 28., 15., 38., 38., 51., 38., 15.,  0., 26.,\n",
       "        41., 41., 41., 41., 41., 41., 41., 41., 41., 41., 41., 41., 41.,\n",
       "        41., 54., 54., 54., 54., 54., 54., 54., 54., 54., 54., 54., 54.,\n",
       "        54., 54., 54., 54., 54., 54., 54., 54., 54., 54., 54., 54., 54.,\n",
       "        54., 54., 54., 54., 54., 54., 54., 54., 54., 54., 54., 54., 54.,\n",
       "        54., 54., 54., 54., 54., 54., 54., 54., 54., 54., 54., 54., 54.,\n",
       "        54., 54., 54., 54., 54., 54., 54., 54., 54., 54., 54., 54., 54.,\n",
       "        54., 54., 54., 54., 54., 54., 54., 54., 54., 54., 54., 54., 54.,\n",
       "        54., 54., 54., 54., 54., 54., 54., 54., 54., 54., 54., 54., 54.,\n",
       "        54., 54., 54., 54., 54., 54., 54., 54., 54., 54., 54.]))"
      ]
     },
     "execution_count": 15,
     "metadata": {},
     "output_type": "execute_result"
    }
   ],
   "source": [
    "# Call the simulated_annealing function to solve the problem\n",
    "best_state, best_fitness, curve = mlrose.simulated_annealing(problem, schedule=schedule, max_attempts=100, max_iters=np.inf, init_state=None, curve=True, random_state=100)\n",
    "best_state, best_fitness, curve"
   ]
  },
  {
   "cell_type": "markdown",
   "metadata": {},
   "source": [
    "\n",
    "# Conclusion\n",
    "So the goal of this whole process is as we begin our search to find the local/global max/min, we can dislodge ourselves if we get stuck at a local max/min in order to eventually make our way to exploring the part of the state space that is going to be the best. And then as the temperature decreases, start to make fewer of those random moves, that is, not moving aroung too much to get into another part of the state space.\n",
    "\n",
    "The simulated annealing algorithm ran through numerous iterations to find an optimal combination of items to include in a knapsack. The curve data indicates how the solution evolved over iterations, with the algorithm converging on the optimal solution towards the end.\n",
    "\n",
    "**Important**: In order for finding the global maximum, I had to **adjust the parameters** in the ExpDecay schedule and in the simulated_annealing function.\n",
    "\n",
    "- **Best State**: [0, 1, 0, 1, 1] This is an array representing the optimal solution found by the algorithm.\n",
    "- **Best fitness**: 54.0 says that the combination of items in the best state yields a total value of 54.\n",
    "- **Curve**: This is an array showing the fitness score at each iteration of the algorithm. It helps in understanding how the solution improved over time. The values fluctuate, indicating the exploration of different solutions. The repeated values of 54 towards the end suggest that the algorithm consistently found a solution with a fitness of 54, indicating it likely reached an optimal or near-optimal solution"
   ]
  },
  {
   "cell_type": "code",
   "execution_count": null,
   "metadata": {},
   "outputs": [],
   "source": []
  }
 ],
 "metadata": {
  "kernelspec": {
   "display_name": "Python 3 (ipykernel)",
   "language": "python",
   "name": "python3"
  },
  "language_info": {
   "codemirror_mode": {
    "name": "ipython",
    "version": 3
   },
   "file_extension": ".py",
   "mimetype": "text/x-python",
   "name": "python",
   "nbconvert_exporter": "python",
   "pygments_lexer": "ipython3",
   "version": "3.11.5"
  }
 },
 "nbformat": 4,
 "nbformat_minor": 4
}
