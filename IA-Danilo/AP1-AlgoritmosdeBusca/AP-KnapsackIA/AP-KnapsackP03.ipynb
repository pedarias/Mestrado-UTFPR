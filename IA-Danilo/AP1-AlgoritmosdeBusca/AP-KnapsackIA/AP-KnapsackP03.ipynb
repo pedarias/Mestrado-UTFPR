{
 "cells": [
  {
   "cell_type": "markdown",
   "metadata": {
    "id": "m4fZzXnRFW0i"
   },
   "source": [
    "# Kanapsack Problem databases 03:\n",
    "\n",
    "- https://people.sc.fsu.edu/~jburkardt/datasets/knapsack_01/knapsack_01.html\n",
    "\n",
    "# Atividade com nota:\n",
    "\n",
    "- Avaliar o algoritmo Hill Climbing para as bases P01 a P07;\n",
    "- Utilizar a função de aptidão knapsack do Mlrose;\n",
    "- Apresentar a melhor solução encontrada e comparar com a melhor solução global disponível para a base de dados"
   ]
  },
  {
   "cell_type": "code",
   "execution_count": 1,
   "metadata": {
    "id": "JNVoTIBnFONn"
   },
   "outputs": [
    {
     "name": "stdout",
     "output_type": "stream",
     "text": [
      "Requirement already satisfied: mlrose in /home/a10/anaconda3/lib/python3.11/site-packages (1.3.0)\r\n",
      "Requirement already satisfied: numpy in /home/a10/anaconda3/lib/python3.11/site-packages (from mlrose) (1.24.3)\r\n",
      "Requirement already satisfied: scipy in /home/a10/anaconda3/lib/python3.11/site-packages (from mlrose) (1.11.3)\r\n",
      "Requirement already satisfied: sklearn in /home/a10/anaconda3/lib/python3.11/site-packages (from mlrose) (0.0.post10)\r\n"
     ]
    }
   ],
   "source": [
    "!pip install mlrose"
   ]
  },
  {
   "cell_type": "code",
   "execution_count": 2,
   "metadata": {
    "id": "RDMMYF51I3Tn"
   },
   "outputs": [],
   "source": [
    "import six\n",
    "import sys\n",
    "\n",
    "sys.modules['sklearn.externals.six'] = six\n",
    "import mlrose\n",
    "import numpy as np"
   ]
  },
  {
   "cell_type": "markdown",
   "metadata": {
    "id": "z12zZlrNI1L8"
   },
   "source": [
    "## Problem representation:\n",
    "### 0/1 knapsack problem using a hill climbing algorithm for P03.\n",
    "- The Problem: \n",
    "Given a set of items, each with a weight and a value, select a subset of the items to maximize the total value while keeping the total weight within a given capacity.\n",
    "\n",
    "So the total_weight of any system configuration (any state) is constraint with a max_weight, I will call this max_weight W."
   ]
  },
  {
   "cell_type": "code",
   "execution_count": 3,
   "metadata": {
    "id": "BFtgAsHvwXUn"
   },
   "outputs": [
    {
     "data": {
      "text/plain": [
       "6"
      ]
     },
     "execution_count": 3,
     "metadata": {},
     "output_type": "execute_result"
    }
   ],
   "source": [
    "max_weight = 190\n",
    "weights = [56, 59, 80, 64, 75, 17]\n",
    "values = [50, 50, 64, 46, 50, 5]\n",
    "state = np.array([ 1, 1, 0, 0, 1, 0])\n",
    "len(weights)"
   ]
  },
  {
   "cell_type": "code",
   "execution_count": 4,
   "metadata": {
    "id": "zUWhR_neuJYs"
   },
   "outputs": [
    {
     "data": {
      "text/plain": [
       "[('Item0', 56, 50),\n",
       " ('Item1', 59, 50),\n",
       " ('Item2', 80, 64),\n",
       " ('Item3', 64, 46),\n",
       " ('Item4', 75, 50),\n",
       " ('Item5', 17, 5)]"
      ]
     },
     "execution_count": 4,
     "metadata": {},
     "output_type": "execute_result"
    }
   ],
   "source": [
    "items = []\n",
    "for i in range(len(weights)):\n",
    "    items.append(('Item' + str(i), weights[i], values[i]))\n",
    "\n",
    "items"
   ]
  },
  {
   "cell_type": "markdown",
   "metadata": {},
   "source": [
    "This get_cost function is what I want to maximize. It's used to see which neighbor is better."
   ]
  },
  {
   "cell_type": "code",
   "execution_count": 5,
   "metadata": {},
   "outputs": [],
   "source": [
    "# Knapsack fitness function\n",
    "def get_cost(state):\n",
    "    total_value = sum(state[i] * values[i] for i in range(len(weights)))\n",
    "    total_weight = sum(state[i] * weights[i] for i in range(len(weights)))\n",
    "    if total_weight > max_weight:\n",
    "        return 0\n",
    "    return total_value"
   ]
  },
  {
   "cell_type": "markdown",
   "metadata": {},
   "source": [
    "Which is nothing but this in an equation form:\n",
    "\n",
    "$F(x_i) = \\sum_{i=0}^{n-1} x_i v_i$,    if $\\sum_{i=0}^{n-1} x_i w_i \\leq W$ this is the constraint\n",
    "\n",
    "\n",
    "Where $x_i$ represents a state vector $x = [x_0, x_1, \\ldots, x_{n-1}]$. It denotes a number of copies of item i included in the knapsack."
   ]
  },
  {
   "cell_type": "code",
   "execution_count": 6,
   "metadata": {},
   "outputs": [
    {
     "name": "stdout",
     "output_type": "stream",
     "text": [
      "Fitness value:  150\n"
     ]
    }
   ],
   "source": [
    "# evaluate fitness function of given state\n",
    "total_value = get_cost(state)\n",
    "print(\"Fitness value: \", total_value)"
   ]
  },
  {
   "cell_type": "code",
   "execution_count": 7,
   "metadata": {},
   "outputs": [],
   "source": [
    "fitness_cust = mlrose.CustomFitness(get_cost)"
   ]
  },
  {
   "cell_type": "code",
   "execution_count": 8,
   "metadata": {},
   "outputs": [],
   "source": [
    "#create enviroment\n",
    "problem = mlrose.DiscreteOpt(length = 6, fitness_fn = fitness_cust, maximize = True, max_val = 2)"
   ]
  },
  {
   "cell_type": "markdown",
   "metadata": {},
   "source": [
    "### Hill Climb Method\n",
    "- Main Idea: \n",
    "The algorithm iteratively improves the solution by exploring neighboring states and selecting the state with the highest value (accordingly with get_cost) until no better solution can be found or a maximum number of iterations is reached (100 below).\n",
    "In other words, this algorithm maintain a single node and searches by moving to a neighboring node."
   ]
  },
  {
   "cell_type": "code",
   "execution_count": 9,
   "metadata": {},
   "outputs": [
    {
     "data": {
      "text/plain": [
       "(array([1, 1, 0, 0, 1, 0]), 150.0, array([], dtype=float64))"
      ]
     },
     "execution_count": 9,
     "metadata": {},
     "output_type": "execute_result"
    }
   ],
   "source": [
    "# Call the hill_climb function to solve the problem\n",
    "best_state, best_fitness, curve = mlrose.hill_climb(problem, max_iters=100, restarts=0, init_state = state, curve=True)\n",
    "best_state, best_fitness, curve"
   ]
  },
  {
   "cell_type": "code",
   "execution_count": 10,
   "metadata": {},
   "outputs": [
    {
     "data": {
      "text/plain": [
       "150"
      ]
     },
     "execution_count": 10,
     "metadata": {},
     "output_type": "execute_result"
    }
   ],
   "source": [
    "get_cost(best_state)"
   ]
  },
  {
   "cell_type": "code",
   "execution_count": 11,
   "metadata": {},
   "outputs": [
    {
     "name": "stdout",
     "output_type": "stream",
     "text": [
      "soluçãoHC: [1 1 0 0 1 0]\n",
      "Fitness Value: 150.0\n"
     ]
    }
   ],
   "source": [
    "print(f\"soluçãoHC: {best_state}\")\n",
    "print(f\"Fitness Value: {best_fitness}\")"
   ]
  },
  {
   "cell_type": "markdown",
   "metadata": {},
   "source": [
    "### Introducing Random Restart \n",
    "Randomness should improve the optimization process value. Because for each iteration, it explores neighboring states by flipping the value (0 to 1 or 1 to 0) of a randomly selected item, and evaluates their costs and it keeps track of the best neighboring states with the highest cost.The current state is then updated to one of the best neighboring states. The process continues until no better neighbor is found or the maximum number of iterations is reached."
   ]
  },
  {
   "cell_type": "code",
   "execution_count": 12,
   "metadata": {},
   "outputs": [
    {
     "data": {
      "text/plain": [
       "(array([1, 1, 0, 0, 1, 0]),\n",
       " 150.0,\n",
       " array([105., 105., 105., 105., 105., 105., 105., 105., 105., 105., 105.,\n",
       "         50.,  96.,  96.,  96.,  96.,  96.,  96.,  96.,  96.,  96., 101.,\n",
       "        101., 101., 101., 101., 101., 101., 101., 101., 101., 101.,   0.,\n",
       "        100., 100., 100., 150., 150., 150., 150., 150., 150., 150., 150.,\n",
       "        150., 150., 150., 100., 100., 100., 100., 100., 100., 105., 105.,\n",
       "        105., 105., 105., 105., 105., 105., 105., 105., 105., 105., 105.,\n",
       "        105., 105., 105., 105., 105., 105., 105., 105.,  96., 146., 146.,\n",
       "        146., 146., 146., 146., 146., 146., 146., 146., 146., 146., 146.,\n",
       "        146., 146., 146., 146., 146., 146., 146., 146.,  46.,  46.,  46.,\n",
       "        110., 115., 115., 115., 115., 115., 115., 115., 115., 115., 115.,\n",
       "        115.,   0.,   0.,   0.,   0.,   0.,   0.,   0.,   0.,   0.,   0.,\n",
       "        115., 115., 115., 115., 115., 115., 115., 115., 115., 115., 119.,\n",
       "        119., 119., 119., 119., 119., 119., 119., 119., 119., 119.]))"
      ]
     },
     "execution_count": 12,
     "metadata": {},
     "output_type": "execute_result"
    }
   ],
   "source": [
    "best_state, best_fitness, curve = mlrose.random_hill_climb(problem, max_iters=100, restarts=10, curve=True, random_state=10)\n",
    "best_state, best_fitness, curve"
   ]
  },
  {
   "cell_type": "markdown",
   "metadata": {},
   "source": [
    "## Conclusion\n",
    "Rather than just hill climb one time, we can hill climb multiple times and figure out what is the best one that I've been able to find.\n",
    "So we've implemented a function for random restart that restarts some maximum number of times, and repeat, on that number of times, this hill-climb method 'random_hill_climb' and figure out what the cost is (for that state after randomly restart maximum times).\n",
    "As we can see there is a lot of local maximums (105, 101, 146...),  the algorithm starts at 105 and runs through a lot of neighbors, always keeping track (even the lowest ones) of the best neighboring states with the highest cost. 150 is the global maximum for this dataset. So the given optimal solution was already a global maximum."
   ]
  },
  {
   "cell_type": "markdown",
   "metadata": {},
   "source": [
    "# Simulated Annealing\n",
    "In order to find a global maximum or global minimum we may need to make a move that makes our situation worse. Because sometimes if we get stuck in a local max/min, I want to dislodge from that in order to find the global max/min.\n",
    " - Simulated Annealing is a great technique for that. \n",
    "Suppose some state-space, if I am in a current state looking for a global maximum so I'm trying to maximize the value of the state. Hill-Climbing would just take the state and look at the two neighbor ones, and always pick the one that is going to increase the value of the state. As said before \"in order to find a global maximum/minimum we may need to make a move that makes our situation worse.\" such that later on we can find that global maximum.\n",
    "Once found this global max state we probably don't wan't to be moving to states worse than current state. This is why this metaphor for annealing -> start making more random moves and, over time, start to make fewer of those random moves based on a particular temperature schedule."
   ]
  },
  {
   "cell_type": "code",
   "execution_count": 13,
   "metadata": {},
   "outputs": [],
   "source": [
    "# Define a schedule for simulated annealing (you can customize this schedule)\n",
    "schedule = mlrose.ExpDecay(init_temp=1000, exp_const=0.01, min_temp=1)"
   ]
  },
  {
   "cell_type": "markdown",
   "metadata": {},
   "source": [
    "the idea is that this temperature is going to be higher early on and lower later on.\n",
    "It is exponentially decaying according to the formula: $T(t) = T_{i}e^{-rt}$\n",
    "where:\n",
    "-  T(t) is the temperature at time t.\n",
    "- $T(i)$ is the initial temperature at time t=0.\n",
    "- r is the rate of exponential decay.\n",
    "- t is the time variable.\n",
    "- The exponential decay is represented by $e^{-rt}$.\n",
    "\n",
    "For ex: You start off $T_{i}$=100, after 1s the temperature will be:"
   ]
  },
  {
   "cell_type": "code",
   "execution_count": 14,
   "metadata": {},
   "outputs": [
    {
     "name": "stdout",
     "output_type": "stream",
     "text": [
      "T(1) = 990.0498337491681\n"
     ]
    }
   ],
   "source": [
    "# Evaluate the temperature parameter at time t = 1 and exp_const=0.01\n",
    "t1 = schedule.evaluate(1)\n",
    "print(f\"T(1) = {t1}\")"
   ]
  },
  {
   "cell_type": "code",
   "execution_count": 15,
   "metadata": {},
   "outputs": [
    {
     "data": {
      "text/plain": [
       "(array([1, 1, 0, 0, 1, 0]),\n",
       " 150.0,\n",
       " array([  0., 114.,  64., 114.,   0., 114., 119.,  55., 105.,  55.,   5.,\n",
       "         55.,  55.,   5.,  69.,  64., 110.,   0., 110.,  46.,  96.,   0.,\n",
       "         96.,  50.,  96.,  46.,  51., 115.,   0., 119.,  69.,  64.,  69.,\n",
       "        115.,   0., 101.,  96.,   0., 114., 119.,  69., 119.,   0., 119.,\n",
       "          0., 119., 114., 114.,  50.,   0.,  50., 100.,   0., 100.,  50.,\n",
       "        100.,  50.,  55.,  50.,   0.,  50., 100., 105., 100.,  50.,  50.,\n",
       "        114.,   0.,   0., 150., 100., 105.,   0., 105.,   0.,   0.,  96.,\n",
       "          0.,   0.,   0.,  96.,  96., 101., 101.,  55., 119.,   0.,   0.,\n",
       "          0.,   0., 114.,  50., 114.,  64., 114.,   0.,   0.,   0.,   0.,\n",
       "          0.,   0.,   0.,  96.,  46.,  96.,   0., 110., 110.,  64., 114.,\n",
       "          0., 114.,   0., 100., 150., 100., 146., 146., 100., 146., 146.,\n",
       "         96.,   0.,   0.,   0.,   0.,   0.,   0., 105., 105.,  55., 101.,\n",
       "         96.,  46.,  96.,  50.,   0.,  50.,  96.,  50.,  50.,  96.,   0.,\n",
       "          0.,   0., 100.,  50.,  96.,  46.,   0.,  50.,   0.,  64., 114.,\n",
       "        114., 119.,  69., 119., 114., 114., 114.,   0., 100., 150., 150.,\n",
       "        100.,   0.,   0., 150., 150., 150.,   0.,   0.,   0.,   0.,   0.,\n",
       "        146., 100., 100., 100., 146., 146.,   0.,   0.,   0.,   0.,   0.,\n",
       "        105.,  55., 101.,  96.,   0.,   0., 101.,  96.,  96.,  96.,  96.,\n",
       "          0., 114., 114., 114.,   0., 100.,  50.,  96.,  96., 146., 146.,\n",
       "        146.,   0.,   0.,   0.,   0.,   0.,   0., 100.,   0.,   0.,   0.,\n",
       "          0.,   0.,   0.,   0., 100., 146., 146., 100., 105.,  55.,  50.,\n",
       "         96.,   0.,   0.,   0.,  96.,  96.,   0.,   0., 146., 146., 146.,\n",
       "        100., 105.,  55., 105., 105., 105., 105.,   0.,   0.,   0., 119.,\n",
       "          0., 101., 101., 101.,  51.,  51., 115., 115., 115., 115., 115.,\n",
       "         69., 119., 114., 114., 114., 114., 114., 114.,   0.,   0., 150.,\n",
       "        150., 150., 100.,  50.,  55., 119., 119., 114., 114., 114., 114.,\n",
       "        119.,   0., 119., 119.,   0., 105.,   0.,   0.,   0.,   0.,   0.,\n",
       "        146., 146.,  96.,   0., 100., 100., 100., 100., 150., 100.,   0.,\n",
       "        114., 114., 119., 119., 119., 119., 119.,  55.,  50., 100., 146.,\n",
       "        146., 146., 146., 146., 100., 105., 105.,   0.,   0.,   0.,   0.,\n",
       "          0., 146., 146., 146., 146., 146., 146., 146., 146., 146., 146.,\n",
       "        146., 146., 146., 100., 146., 146., 146., 146., 146., 146., 146.,\n",
       "        146., 146., 146., 146., 146., 146., 100., 146., 146., 146.,  96.,\n",
       "         96.,  50., 100., 100., 105., 105., 105., 105., 105., 105., 105.,\n",
       "        105., 105., 105., 105., 105., 105., 105., 105., 105., 105., 100.,\n",
       "        150., 150., 150., 150., 150., 150., 150., 150., 100., 100., 100.,\n",
       "         50., 100., 100., 100., 105., 105., 105., 105., 100., 100., 100.,\n",
       "        150., 150., 150., 150., 150., 150., 150., 150., 150., 150., 150.,\n",
       "        150., 150., 150., 150., 150., 150., 150., 150., 150., 150., 150.,\n",
       "        150., 150., 150., 150., 150., 150., 150., 150., 150., 150., 150.,\n",
       "        150., 150., 150., 150., 150., 150., 150., 100., 100., 150., 150.,\n",
       "        150., 150., 150., 150., 100., 100., 150., 150., 150., 150., 150.,\n",
       "        150., 150., 150., 150., 150., 150., 150., 150., 150., 150., 150.,\n",
       "        150., 150., 150., 150., 100., 100., 105., 105., 105., 105., 105.,\n",
       "        105., 105., 105., 105., 105., 105., 105., 105., 105., 105., 105.,\n",
       "        105., 105., 105., 105., 105., 105., 105., 105., 105., 105., 105.,\n",
       "        105., 105., 105., 105., 105., 105., 105., 105., 105., 105., 105.,\n",
       "        100., 150., 150., 150., 150., 150., 150., 150., 150., 150., 150.,\n",
       "        150., 150., 150., 150., 150., 150., 150., 150., 150., 150., 150.,\n",
       "        150., 150., 150., 150., 150., 150., 150., 150., 150., 150., 150.,\n",
       "        150., 150., 150., 150., 150., 150., 150., 150., 150., 150., 150.,\n",
       "        150., 150., 150., 150., 150., 150., 150., 150., 150., 150., 150.,\n",
       "        150., 150., 150., 150., 150., 150., 150., 150., 150., 150., 150.,\n",
       "        150., 150., 150., 150., 150., 150., 150., 150., 150., 150., 150.,\n",
       "        150., 150., 150., 150., 150., 150., 150., 150., 150., 150., 150.,\n",
       "        150., 150., 150., 150., 150., 150., 150., 150., 150., 150., 150.,\n",
       "        150., 150., 150.]))"
      ]
     },
     "execution_count": 15,
     "metadata": {},
     "output_type": "execute_result"
    }
   ],
   "source": [
    "# Call the simulated_annealing function to solve the problem\n",
    "best_state, best_fitness, curve = mlrose.simulated_annealing(problem, schedule=schedule, max_attempts=100, init_state=None, curve=True, random_state=1000)\n",
    "best_state, best_fitness, curve"
   ]
  },
  {
   "cell_type": "markdown",
   "metadata": {},
   "source": [
    "\n",
    "\n",
    "# Conclusion\n",
    "so the goal of this whole process is as we begin our search to find the local/global max/min, we can dislodge ourselves if we get stuck at a local max/min in order to eventually make our way to exploring the part of the state space that is going to be the best. And then as the temperature decreases, start to make fewer of those random moves, that is, not moving aroung too much to get into another part of the state space.\n",
    "\n",
    "The simulated annealing algorithm ran through numerous iterations to find an optimal combination of items to include in a knapsack. The curve data indicates how the solution evolved over iterations, with the algorithm converging on the optimal solution towards the end.\n",
    "\n",
    "**Important**: In order for finding the global maximum, I had to **adjust the parameters** in the ExpDecay schedule and in the simulated_annealing function.\n",
    "\n",
    "- **Best State**: [1, 1, 0, 0, 1, 0] This is an array representing the optimal solution found by the algorithm.\n",
    "- **Best fitness**: 150 says that the combination of items in the best state yields a total value of 150.\n",
    "- **Curve**: This is an array showing the fitness score at each iteration of the algorithm. It helps in understanding how the solution improved over time. The values fluctuate, indicating the exploration of different solutions. The repeated values of 150 towards the end suggest that the algorithm consistently found a solution with a fitness of 150, indicating it likely reached an optimal or near-optimal solution"
   ]
  },
  {
   "cell_type": "code",
   "execution_count": null,
   "metadata": {},
   "outputs": [],
   "source": []
  }
 ],
 "metadata": {
  "colab": {
   "provenance": []
  },
  "kernelspec": {
   "display_name": "Python 3 (ipykernel)",
   "language": "python",
   "name": "python3"
  },
  "language_info": {
   "codemirror_mode": {
    "name": "ipython",
    "version": 3
   },
   "file_extension": ".py",
   "mimetype": "text/x-python",
   "name": "python",
   "nbconvert_exporter": "python",
   "pygments_lexer": "ipython3",
   "version": "3.11.5"
  }
 },
 "nbformat": 4,
 "nbformat_minor": 4
}
