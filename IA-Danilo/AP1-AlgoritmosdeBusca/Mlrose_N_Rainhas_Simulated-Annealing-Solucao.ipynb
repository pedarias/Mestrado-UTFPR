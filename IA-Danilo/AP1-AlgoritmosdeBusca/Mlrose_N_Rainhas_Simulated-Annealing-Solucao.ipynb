{
 "cells": [
  {
   "cell_type": "markdown",
   "metadata": {
    "id": "8BGKDoRzetFE"
   },
   "source": [
    "## Framework Mlrose\n",
    "* https://mlrose.readthedocs.io/en/stable/"
   ]
  },
  {
   "cell_type": "code",
   "execution_count": null,
   "metadata": {
    "colab": {
     "base_uri": "https://localhost:8080/"
    },
    "executionInfo": {
     "elapsed": 4707,
     "status": "ok",
     "timestamp": 1694634564786,
     "user": {
      "displayName": "DANILO SIPOLI SANCHES",
      "userId": "11160205893438547738"
     },
     "user_tz": 180
    },
    "id": "JNVoTIBnFONn",
    "outputId": "28a72417-a0c8-4390-9cd8-5c55b1741c50"
   },
   "outputs": [
    {
     "name": "stdout",
     "output_type": "stream",
     "text": [
      "Collecting mlrose\n",
      "  Downloading mlrose-1.3.0-py3-none-any.whl (27 kB)\n",
      "Requirement already satisfied: numpy in /usr/local/lib/python3.10/dist-packages (from mlrose) (1.23.5)\n",
      "Requirement already satisfied: scipy in /usr/local/lib/python3.10/dist-packages (from mlrose) (1.11.2)\n",
      "Collecting sklearn (from mlrose)\n",
      "  Downloading sklearn-0.0.post9.tar.gz (3.6 kB)\n",
      "  Preparing metadata (setup.py) ... \u001b[?25l\u001b[?25hdone\n",
      "Building wheels for collected packages: sklearn\n",
      "  Building wheel for sklearn (setup.py) ... \u001b[?25l\u001b[?25hdone\n",
      "  Created wheel for sklearn: filename=sklearn-0.0.post9-py3-none-any.whl size=2952 sha256=9cc788c09470d52927e2dd44c28e7e1bce56ca60bd032d60d7fec8b72aeac6fb\n",
      "  Stored in directory: /root/.cache/pip/wheels/33/a3/d2/092b519e9522b4c91608b7dcec0dd9051fa1bff4c45f4502d1\n",
      "Successfully built sklearn\n",
      "Installing collected packages: sklearn, mlrose\n",
      "Successfully installed mlrose-1.3.0 sklearn-0.0.post9\n"
     ]
    }
   ],
   "source": [
    "#Instalação da versão anterior scikit-learn afim de evitar mlrose error\n",
    "# !pip install scikit-learn==0.22\n",
    "!pip install mlrose"
   ]
  },
  {
   "cell_type": "code",
   "execution_count": null,
   "metadata": {
    "id": "RDMMYF51I3Tn"
   },
   "outputs": [],
   "source": [
    "import six\n",
    "import sys\n",
    "sys.modules['sklearn.externals.six'] = six\n",
    "import mlrose"
   ]
  },
  {
   "cell_type": "markdown",
   "metadata": {
    "id": "z12zZlrNI1L8"
   },
   "source": [
    "## Função de avaliação"
   ]
  },
  {
   "cell_type": "code",
   "execution_count": null,
   "metadata": {
    "id": "wDLbNo1xWibM"
   },
   "outputs": [],
   "source": [
    "# Geração de valores aleatórios para teste\n",
    "# Função objetivo: número de pares de rainhas não-atacantes\n",
    "# Exemplo: 8-Rainhas\n",
    "# min = 0, max = 8 x 7/2 = 28\n",
    "def funcao_avaliacao(solucao):\n",
    "        melhorFitness = (len(solucao) * (len(solucao) - 1) // 2)\n",
    "        h = 0\n",
    "        #Contagem de ataques na diagonal e vertical\n",
    "        for i in range(0, len(solucao)):\n",
    "            for j in range(0, len(solucao)):\n",
    "                if j > i:\n",
    "                    # Avalia a diferença entre as colunas e as posições\n",
    "                    # das rainhas dentro da coluna\n",
    "                    if abs(i - j) == abs(solucao[i] - solucao[j]):\n",
    "                       #  print(f'{i} - {j} - {solucao[i]}-{solucao[j]}')\n",
    "                       h += 1\n",
    "                    # Ataques por linha (horizontal)\n",
    "                    # Avalia apenas as posições das rainhas\n",
    "                    if abs(solucao[i] - solucao[j]) == 0:\n",
    "                       h += 1\n",
    "        return melhorFitness - h"
   ]
  },
  {
   "cell_type": "code",
   "execution_count": null,
   "metadata": {
    "colab": {
     "base_uri": "https://localhost:8080/"
    },
    "executionInfo": {
     "elapsed": 285,
     "status": "ok",
     "timestamp": 1694634595635,
     "user": {
      "displayName": "DANILO SIPOLI SANCHES",
      "userId": "11160205893438547738"
     },
     "user_tz": 180
    },
    "id": "cn7YdUM5mbUU",
    "outputId": "9de53ae9-7aeb-4cec-ce8d-3d0a53aa9168"
   },
   "outputs": [
    {
     "name": "stdout",
     "output_type": "stream",
     "text": [
      "[0, 1, 2, 3, 4, 5, 6, 7]\n",
      "0\n",
      "[3, 5, 0, 2, 4, 7, 6, 1]\n",
      "25\n"
     ]
    }
   ],
   "source": [
    "# Testando a função\n",
    "from  random import shuffle\n",
    "sol = list(range(8))\n",
    "print(sol)\n",
    "print(funcao_avaliacao(sol))\n",
    "shuffle(sol)\n",
    "print(sol)\n",
    "print(funcao_avaliacao(sol))"
   ]
  },
  {
   "cell_type": "code",
   "execution_count": null,
   "metadata": {
    "id": "kzRooBieJhax"
   },
   "outputs": [],
   "source": [
    "fitness = mlrose.CustomFitness(funcao_avaliacao)\n",
    "# fitness = mlrose.Queens()"
   ]
  },
  {
   "cell_type": "code",
   "execution_count": null,
   "metadata": {
    "id": "R_v7bi5GJvwk"
   },
   "outputs": [],
   "source": [
    "problema = mlrose.DiscreteOpt(length = 8, fitness_fn = fitness,\n",
    "                             maximize = True, max_val = 8)"
   ]
  },
  {
   "cell_type": "markdown",
   "metadata": {
    "id": "TfNpB5slN7Cp"
   },
   "source": [
    "## Hill climbing"
   ]
  },
  {
   "cell_type": "code",
   "execution_count": null,
   "metadata": {
    "colab": {
     "base_uri": "https://localhost:8080/"
    },
    "executionInfo": {
     "elapsed": 353,
     "status": "ok",
     "timestamp": 1694558996564,
     "user": {
      "displayName": "DANILO SIPOLI SANCHES",
      "userId": "11160205893438547738"
     },
     "user_tz": 180
    },
    "id": "l4eyqdAbOS0p",
    "outputId": "b87881be-bd39-4603-f348-9822c4d99365"
   },
   "outputs": [
    {
     "data": {
      "text/plain": [
       "(array([6, 4, 2, 0, 5, 7, 1, 3]), 28.0, array([19., 23., 25., 26., 27., 28.]))"
      ]
     },
     "execution_count": 13,
     "metadata": {},
     "output_type": "execute_result"
    }
   ],
   "source": [
    "# versão tradicional\n",
    "solucao_HC, melhor_custo, curve = mlrose.hill_climb(problema, curve=True)\n",
    "solucao_HC, melhor_custo, curve"
   ]
  },
  {
   "cell_type": "code",
   "execution_count": null,
   "metadata": {
    "colab": {
     "base_uri": "https://localhost:8080/"
    },
    "executionInfo": {
     "elapsed": 4,
     "status": "ok",
     "timestamp": 1694559007593,
     "user": {
      "displayName": "DANILO SIPOLI SANCHES",
      "userId": "11160205893438547738"
     },
     "user_tz": 180
    },
    "id": "4l71TYBlfSG7",
    "outputId": "6a3acbdc-7463-46d4-9f80-030ee70d458e"
   },
   "outputs": [
    {
     "name": "stdout",
     "output_type": "stream",
     "text": [
      "28\n"
     ]
    }
   ],
   "source": [
    "# sol = [5, 0, 2, 6, 7, 1, 4, 0]\n",
    "print(funcao_avaliacao(solucao_HC))"
   ]
  },
  {
   "cell_type": "code",
   "execution_count": null,
   "metadata": {
    "colab": {
     "base_uri": "https://localhost:8080/"
    },
    "executionInfo": {
     "elapsed": 342,
     "status": "ok",
     "timestamp": 1694559013060,
     "user": {
      "displayName": "DANILO SIPOLI SANCHES",
      "userId": "11160205893438547738"
     },
     "user_tz": 180
    },
    "id": "H9sDQpagjhTF",
    "outputId": "20bea427-4637-43f9-daca-2858921f49c6"
   },
   "outputs": [
    {
     "data": {
      "text/plain": [
       "(array([6, 4, 2, 7, 5, 3, 6, 0]),\n",
       " 26.0,\n",
       " array([20., 23., 25., 25., 25., 25., 25., 25., 25., 25., 25., 26., 26.,\n",
       "        26., 26., 26., 26., 26., 26., 26., 26., 26.]))"
      ]
     },
     "execution_count": 15,
     "metadata": {},
     "output_type": "execute_result"
    }
   ],
   "source": [
    "# versão com random restart\n",
    "solucao_HC, melhor_custo, curve = mlrose.random_hill_climb(problema,curve=True)\n",
    "solucao_HC, melhor_custo, curve"
   ]
  },
  {
   "cell_type": "code",
   "execution_count": null,
   "metadata": {
    "id": "UpSBf5KIvA1m"
   },
   "outputs": [],
   "source": []
  },
  {
   "cell_type": "markdown",
   "metadata": {
    "id": "ZU8cD5k2N8wO"
   },
   "source": [
    "## Simulated annealing"
   ]
  },
  {
   "cell_type": "code",
   "execution_count": null,
   "metadata": {
    "colab": {
     "base_uri": "https://localhost:8080/"
    },
    "executionInfo": {
     "elapsed": 257,
     "status": "ok",
     "timestamp": 1694634626829,
     "user": {
      "displayName": "DANILO SIPOLI SANCHES",
      "userId": "11160205893438547738"
     },
     "user_tz": 180
    },
    "id": "L9KjmUcMKGh_",
    "outputId": "c8446cd4-42bd-4675-e75a-c3acbdd44e3b"
   },
   "outputs": [
    {
     "data": {
      "text/plain": [
       "(array([4, 7, 4, 6, 1, 5, 7, 0]),\n",
       " 26.0,\n",
       " array([21., 22., 23., 24., 24., 24., 23., 23., 23., 23., 23., 22., 22.,\n",
       "        24., 24., 24., 24., 24., 24., 24., 24., 25., 25., 25., 25., 25.,\n",
       "        25., 25., 25., 25., 25., 25., 25., 26., 26., 26., 26., 26., 26.,\n",
       "        26., 25., 25., 25., 25., 24., 24., 24., 24., 24., 24., 24., 24.,\n",
       "        24., 24., 24., 25., 24., 24., 24., 24., 24., 24., 24., 24., 23.,\n",
       "        23., 23., 23., 23., 23., 23., 23., 23., 24., 25., 25., 25., 25.,\n",
       "        25., 25., 26., 26., 26., 26., 26., 26., 26., 26., 26., 26., 26.,\n",
       "        26., 26., 26., 26., 26., 26., 26.]))"
      ]
     },
     "execution_count": 8,
     "metadata": {},
     "output_type": "execute_result"
    }
   ],
   "source": [
    "solucao_SA, melhor_custo, listaMelhores = mlrose.simulated_annealing(problema, curve=True)\n",
    "solucao_SA, melhor_custo, listaMelhores"
   ]
  }
 ],
 "metadata": {
  "colab": {
   "provenance": [
    {
     "file_id": "1SCcp7zvaq-N8IYbFsuyIlk6_8xKsvjT2",
     "timestamp": 1693269478664
    },
    {
     "file_id": "1iVtOZ2llDkiNEIVAoraS-koCda1NVZO5",
     "timestamp": 1597774898696
    },
    {
     "file_id": "1ZH3_oJYnvARlH8JWF91iU73z_mikt_Sz",
     "timestamp": 1597155742428
    },
    {
     "file_id": "1v30PquKDzIxuJuOKnfgROcaKKrL-KqaJ",
     "timestamp": 1597083693189
    }
   ]
  },
  "kernelspec": {
   "display_name": "Python 3 (ipykernel)",
   "language": "python",
   "name": "python3"
  },
  "language_info": {
   "codemirror_mode": {
    "name": "ipython",
    "version": 3
   },
   "file_extension": ".py",
   "mimetype": "text/x-python",
   "name": "python",
   "nbconvert_exporter": "python",
   "pygments_lexer": "ipython3",
   "version": "3.11.5"
  }
 },
 "nbformat": 4,
 "nbformat_minor": 1
}
