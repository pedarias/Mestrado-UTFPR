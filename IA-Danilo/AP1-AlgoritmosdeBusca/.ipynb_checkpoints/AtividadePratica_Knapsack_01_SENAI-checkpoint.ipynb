{
 "cells": [
  {
   "cell_type": "markdown",
   "metadata": {
    "id": "m4fZzXnRFW0i"
   },
   "source": [
    "# Kanapsack Problem databases:\n",
    "* https://people.sc.fsu.edu/~jburkardt/datasets/knapsack_01/knapsack_01.html\n",
    "\n",
    "# Atividade com nota:\n",
    "* Avaliar o algoritmo Hill Climbing para as bases P01 a P07;\n",
    "* Utilizar a função de aptidão knapsack do Mlrose;\n",
    "* Apresentar a melhor solução encontrada e comparar com a melhor solução global disponível para a base de dados\n"
   ]
  },
  {
   "cell_type": "code",
   "execution_count": null,
   "metadata": {
    "id": "JNVoTIBnFONn"
   },
   "outputs": [],
   "source": [
    "!pip install mlrose"
   ]
  },
  {
   "cell_type": "code",
   "execution_count": null,
   "metadata": {
    "id": "RDMMYF51I3Tn"
   },
   "outputs": [],
   "source": [
    "import six\n",
    "import sys\n",
    "sys.modules['sklearn.externals.six'] = six\n",
    "import mlrose"
   ]
  },
  {
   "cell_type": "markdown",
   "metadata": {
    "id": "z12zZlrNI1L8"
   },
   "source": [
    "## Representação do problema"
   ]
  },
  {
   "cell_type": "code",
   "execution_count": null,
   "metadata": {
    "id": "BFtgAsHvwXUn"
   },
   "outputs": [],
   "source": [
    "Capacidade = 165"
   ]
  },
  {
   "cell_type": "code",
   "execution_count": null,
   "metadata": {
    "id": "tdnwckiJtf1B"
   },
   "outputs": [],
   "source": [
    "pesos = [23, 31, 29, 44, 53, 38, 63, 85, 89, 82]"
   ]
  },
  {
   "cell_type": "code",
   "execution_count": null,
   "metadata": {
    "id": "s6HaNiI2tnOs"
   },
   "outputs": [],
   "source": [
    "custo= [92,57,49,68,60,43,67,84,87,72]"
   ]
  },
  {
   "cell_type": "code",
   "execution_count": null,
   "metadata": {
    "id": "oZzvv-VpSGz0"
   },
   "outputs": [],
   "source": [
    "solOtima = [1, 1, 1, 1, 0, 1, 0, 0, 0, 0]"
   ]
  },
  {
   "cell_type": "code",
   "execution_count": null,
   "metadata": {
    "id": "zUWhR_neuJYs"
   },
   "outputs": [],
   "source": [
    "items = []\n",
    "for i in range(len(pesos)):\n",
    "  items.append(['Item'+str(i),pesos[i],custo[i]])"
   ]
  },
  {
   "cell_type": "code",
   "execution_count": null,
   "metadata": {
    "colab": {
     "base_uri": "https://localhost:8080/"
    },
    "id": "f-PzbgCpvuv5",
    "outputId": "4731e07e-e5f4-43be-da2f-bc671bab5ada"
   },
   "outputs": [
    {
     "data": {
      "text/plain": [
       "[['Item0', 23, 92],\n",
       " ['Item1', 31, 57],\n",
       " ['Item2', 29, 49],\n",
       " ['Item3', 44, 68],\n",
       " ['Item4', 53, 60],\n",
       " ['Item5', 38, 43],\n",
       " ['Item6', 63, 67],\n",
       " ['Item7', 85, 84],\n",
       " ['Item8', 89, 87],\n",
       " ['Item9', 82, 72]]"
      ]
     },
     "execution_count": 8,
     "metadata": {},
     "output_type": "execute_result"
    }
   ],
   "source": [
    "items"
   ]
  }
 ],
 "metadata": {
  "colab": {
   "provenance": []
  },
  "kernelspec": {
   "display_name": "Python 3 (ipykernel)",
   "language": "python",
   "name": "python3"
  },
  "language_info": {
   "codemirror_mode": {
    "name": "ipython",
    "version": 3
   },
   "file_extension": ".py",
   "mimetype": "text/x-python",
   "name": "python",
   "nbconvert_exporter": "python",
   "pygments_lexer": "ipython3",
   "version": "3.11.5"
  }
 },
 "nbformat": 4,
 "nbformat_minor": 1
}
