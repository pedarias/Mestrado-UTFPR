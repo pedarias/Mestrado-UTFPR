{
 "cells": [
  {
   "cell_type": "markdown",
   "metadata": {
    "id": "VuWdrx-GpoXT"
   },
   "source": [
    "## Problema KNAPSACK_01\n",
    "* https://people.sc.fsu.edu/~jburkardt/datasets/knapsack_01/knapsack_01.html"
   ]
  },
  {
   "cell_type": "code",
   "execution_count": 1,
   "metadata": {
    "id": "Er6kg0G5p-JD"
   },
   "outputs": [
    {
     "name": "stdout",
     "output_type": "stream",
     "text": [
      "Requirement already satisfied: deap in /home/a10/anaconda3/lib/python3.11/site-packages (1.4.1)\r\n",
      "Requirement already satisfied: numpy in /home/a10/anaconda3/lib/python3.11/site-packages (from deap) (1.24.3)\r\n"
     ]
    }
   ],
   "source": [
    "!pip install deap"
   ]
  },
  {
   "cell_type": "code",
   "execution_count": 2,
   "metadata": {
    "id": "s2y0YQnLqjK-"
   },
   "outputs": [],
   "source": [
    "import random\n",
    "import numpy\n",
    "from deap import base\n",
    "from deap import creator\n",
    "from deap import algorithms\n",
    "from deap import tools"
   ]
  },
  {
   "cell_type": "code",
   "execution_count": 3,
   "metadata": {
    "id": "BFtgAsHvwXUn"
   },
   "outputs": [],
   "source": [
    "espaco_disponivel = 165"
   ]
  },
  {
   "cell_type": "code",
   "execution_count": 4,
   "metadata": {
    "id": "tdnwckiJtf1B"
   },
   "outputs": [],
   "source": [
    "capacidade = [23, 31, 29, 44, 53, 38, 63, 85, 89, 82]"
   ]
  },
  {
   "cell_type": "code",
   "execution_count": 5,
   "metadata": {
    "id": "s6HaNiI2tnOs"
   },
   "outputs": [],
   "source": [
    "custo = [92,57,49,68,60,43,67,84,87,72]"
   ]
  },
  {
   "cell_type": "code",
   "execution_count": 6,
   "metadata": {
    "id": "zUWhR_neuJYs"
   },
   "outputs": [],
   "source": [
    "produtos = []\n",
    "for i in range(len(capacidade)):\n",
    "  produtos.append(['Item'+str(i),capacidade[i],custo[i]])"
   ]
  },
  {
   "cell_type": "code",
   "execution_count": 7,
   "metadata": {
    "colab": {
     "base_uri": "https://localhost:8080/"
    },
    "collapsed": true,
    "id": "f-PzbgCpvuv5",
    "outputId": "ce5e79b7-c1bc-4c18-f30f-f2c90f525e97"
   },
   "outputs": [
    {
     "data": {
      "text/plain": [
       "[['Item0', 23, 92],\n",
       " ['Item1', 31, 57],\n",
       " ['Item2', 29, 49],\n",
       " ['Item3', 44, 68],\n",
       " ['Item4', 53, 60],\n",
       " ['Item5', 38, 43],\n",
       " ['Item6', 63, 67],\n",
       " ['Item7', 85, 84],\n",
       " ['Item8', 89, 87],\n",
       " ['Item9', 82, 72]]"
      ]
     },
     "execution_count": 7,
     "metadata": {},
     "output_type": "execute_result"
    }
   ],
   "source": [
    "produtos"
   ]
  },
  {
   "cell_type": "code",
   "execution_count": 8,
   "metadata": {
    "id": "kHmwzDiV0oaW"
   },
   "outputs": [],
   "source": [
    "# Retorna os valores de custo e peso da solução\n",
    "def fitness_test(solucao):\n",
    "  custo = 0\n",
    "  soma_espaco = 0\n",
    "  for i in range(len(solucao)):\n",
    "    if solucao[i] == 1:\n",
    "      custo += produtos[i][2]\n",
    "      soma_espaco += produtos[i][1]\n",
    "  if soma_espaco > espaco_disponivel:\n",
    "    custo = 0\n",
    "  return custo, soma_espaco"
   ]
  },
  {
   "cell_type": "code",
   "execution_count": 9,
   "metadata": {
    "colab": {
     "base_uri": "https://localhost:8080/"
    },
    "id": "0Tb6PjIjyE0a",
    "outputId": "c5543a95-3e3f-4acd-ba61-422121fd4712"
   },
   "outputs": [
    {
     "name": "stdout",
     "output_type": "stream",
     "text": [
      "Fitness: 309 - Peso: 165\n"
     ]
    }
   ],
   "source": [
    "# Solução ótima\n",
    "# test= [1,0,0,0,0,0,0,0,0,1]\n",
    "sol = [1,1,1,1,0,1,0,0,0,0]\n",
    "fit, peso = fitness_test(sol)\n",
    "print(f'Fitness: {fit} - Peso: {peso}')"
   ]
  },
  {
   "cell_type": "code",
   "execution_count": 10,
   "metadata": {
    "id": "Oi63vVUWVSr1"
   },
   "outputs": [],
   "source": [
    "# Cria a função fitness Oficial\n",
    "# Retorna apenas o custo no formato DEAP (com vírgula)\n",
    "def fitness_function(solucao):\n",
    "  custo = 0\n",
    "  soma_espaco = 0\n",
    "  for i in range(len(solucao)):\n",
    "    if solucao[i] == 1:\n",
    "      custo += produtos[i][2]\n",
    "      soma_espaco += produtos[i][1]\n",
    "  if soma_espaco > espaco_disponivel:\n",
    "    custo = 0\n",
    "  return custo,"
   ]
  },
  {
   "cell_type": "code",
   "execution_count": 11,
   "metadata": {
    "colab": {
     "base_uri": "https://localhost:8080/"
    },
    "id": "T3_KnbbGmk4v",
    "outputId": "84165a42-ab81-4060-e23a-c48edc826c09"
   },
   "outputs": [],
   "source": [
    "# Gera o objetivo toolbox responsável por registrar as configurações do framewrok\n",
    "toolbox = base.Toolbox()\n",
    "\n",
    "# Cria o tipo de função fitness e indivíduo\n",
    "creator.create(\"Maximization\", base.Fitness, weights=(1.0,)) #-1 for min\n",
    "creator.create(\"Cromossomo\", list,fitness=creator.Maximization)\n",
    "\n",
    "# Registra os nomes e os tipos de individuo, fiteness e população\n",
    "toolbox.register(\"atributo\", random.randint, 0, 1)\n",
    "toolbox.register(\"solucaoFinal\", tools.initRepeat, creator.Cromossomo, toolbox.atributo, n=len(produtos) )\n",
    "toolbox.register(\"Populacao\", tools.initRepeat, list, toolbox.solucaoFinal)\n",
    "\n",
    "# Registra os operadores. Deve-se manter os nomes evaluate, mate, mutate e select\n",
    "toolbox.register(\"evaluate\", fitness_function)\n",
    "# toolbox.register(\"mate\", tools.cxOnePoint)\n",
    "toolbox.register(\"mate\", tools.cxTwoPoints)\n",
    "toolbox.register(\"mutate\", tools.mutFlipBit, indpb = 0.05)\n",
    "# toolbox.register(\"select\", tools.selRoulette)\n",
    "toolbox.register(\"select\", tools.selTournament, tournsize = 3)\n"
   ]
  },
  {
   "cell_type": "code",
   "execution_count": 12,
   "metadata": {
    "id": "yyPTVSFRaXZ_"
   },
   "outputs": [],
   "source": [
    "def statistics(individual):\n",
    "  return individual.fitness.values"
   ]
  },
  {
   "cell_type": "code",
   "execution_count": 13,
   "metadata": {
    "colab": {
     "base_uri": "https://localhost:8080/"
    },
    "id": "NXiQTlYQYcys",
    "outputId": "2822b89d-1d5a-41b1-fb4e-7efd2625645c"
   },
   "outputs": [
    {
     "data": {
      "text/plain": [
       "[[0, 0, 0, 1, 1, 0, 1, 1, 1, 1],\n",
       " [1, 1, 1, 1, 1, 0, 0, 1, 0, 0],\n",
       " [1, 1, 1, 0, 1, 1, 0, 1, 0, 1],\n",
       " [0, 1, 0, 1, 1, 0, 1, 0, 1, 0],\n",
       " [1, 1, 1, 0, 1, 0, 1, 0, 0, 0],\n",
       " [0, 1, 1, 1, 1, 0, 0, 1, 1, 1],\n",
       " [0, 1, 0, 0, 1, 1, 1, 0, 1, 0],\n",
       " [0, 1, 1, 1, 1, 1, 1, 1, 1, 0],\n",
       " [0, 0, 0, 1, 0, 0, 1, 0, 0, 0],\n",
       " [1, 1, 1, 0, 0, 0, 1, 0, 1, 0]]"
      ]
     },
     "execution_count": 13,
     "metadata": {},
     "output_type": "execute_result"
    }
   ],
   "source": [
    "# Gera uma população para teste\n",
    "testePop = toolbox.Populacao(n=10)\n",
    "testePop"
   ]
  },
  {
   "cell_type": "code",
   "execution_count": 14,
   "metadata": {
    "colab": {
     "base_uri": "https://localhost:8080/"
    },
    "id": "uF35jwYoq-5x",
    "outputId": "885ae29e-dac8-4b73-ec31-baf557684b57"
   },
   "outputs": [
    {
     "name": "stdout",
     "output_type": "stream",
     "text": [
      "gen\tnevals\tMelhor Solucao\tMedia da Populacao\n",
      "0  \t20    \t179           \t28.95             \n",
      "1  \t15    \t216           \t58                \n",
      "2  \t18    \t247           \t78.75             \n",
      "3  \t18    \t251           \t155.45            \n",
      "4  \t16    \t251           \t188.6             \n",
      "5  \t14    \t251           \t226.2             \n",
      "6  \t17    \t251           \t247.15            \n",
      "7  \t16    \t251           \t238.45            \n",
      "8  \t16    \t251           \t238.45            \n",
      "9  \t20    \t251           \t248.85            \n",
      "10 \t18    \t251           \t238.45            \n",
      "11 \t18    \t251           \t251               \n",
      "12 \t14    \t251           \t251               \n",
      "13 \t17    \t251           \t248.55            \n",
      "14 \t17    \t251           \t238.45            \n",
      "15 \t18    \t251           \t251               \n",
      "16 \t14    \t251           \t238.45            \n",
      "17 \t20    \t251           \t238.45            \n",
      "18 \t16    \t251           \t213.35            \n",
      "19 \t17    \t251           \t221.3             \n",
      "20 \t20    \t251           \t247.65            \n",
      "21 \t16    \t251           \t251               \n",
      "22 \t20    \t251           \t251               \n",
      "23 \t20    \t251           \t225.9             \n",
      "24 \t16    \t251           \t251               \n",
      "25 \t20    \t251           \t251               \n",
      "26 \t16    \t259           \t251.4             \n",
      "27 \t15    \t259           \t240.85            \n",
      "28 \t20    \t259           \t225.4             \n",
      "29 \t18    \t259           \t242.8             \n",
      "30 \t18    \t259           \t246.05            \n",
      "31 \t16    \t259           \t255.65            \n",
      "32 \t18    \t259           \t246.05            \n",
      "33 \t18    \t259           \t259               \n",
      "34 \t20    \t259           \t246.05            \n",
      "35 \t18    \t259           \t259               \n",
      "36 \t14    \t259           \t246.05            \n",
      "37 \t11    \t259           \t246.05            \n",
      "38 \t18    \t259           \t256.85            \n",
      "39 \t20    \t259           \t256.85            \n",
      "40 \t18    \t259           \t259               \n",
      "41 \t16    \t259           \t259               \n",
      "42 \t18    \t259           \t246.05            \n",
      "43 \t18    \t259           \t241.45            \n",
      "44 \t13    \t259           \t243.2             \n",
      "45 \t18    \t259           \t246.05            \n",
      "46 \t18    \t259           \t243.2             \n",
      "47 \t15    \t259           \t238.6             \n",
      "48 \t18    \t259           \t259               \n",
      "49 \t18    \t259           \t229.75            \n",
      "50 \t16    \t259           \t256.15            \n",
      "51 \t20    \t259           \t220.15            \n",
      "52 \t16    \t259           \t254.4             \n",
      "53 \t17    \t284           \t260.25            \n",
      "54 \t19    \t284           \t227.9             \n",
      "55 \t18    \t259           \t218               \n",
      "56 \t15    \t259           \t246.05            \n",
      "57 \t16    \t259           \t259               \n",
      "58 \t14    \t259           \t246.05            \n",
      "59 \t15    \t259           \t259               \n",
      "60 \t15    \t259           \t254.4             \n",
      "61 \t17    \t259           \t259               \n",
      "62 \t18    \t259           \t259               \n",
      "63 \t20    \t259           \t233.1             \n",
      "64 \t18    \t259           \t246.05            \n",
      "65 \t16    \t259           \t259               \n",
      "66 \t16    \t259           \t259               \n",
      "67 \t17    \t259           \t259               \n",
      "68 \t16    \t259           \t259               \n",
      "69 \t16    \t259           \t259               \n",
      "70 \t19    \t259           \t229.75            \n",
      "71 \t16    \t259           \t246.05            \n",
      "72 \t19    \t259           \t246.05            \n",
      "73 \t14    \t259           \t256.15            \n",
      "74 \t16    \t259           \t246.05            \n",
      "75 \t18    \t259           \t256.15            \n",
      "76 \t12    \t259           \t252.8             \n",
      "77 \t17    \t259           \t259               \n",
      "78 \t16    \t259           \t233.1             \n",
      "79 \t15    \t259           \t259               \n",
      "80 \t18    \t259           \t259               \n",
      "81 \t18    \t259           \t243.9             \n",
      "82 \t14    \t259           \t246.05            \n",
      "83 \t14    \t259           \t241.45            \n",
      "84 \t14    \t259           \t259               \n",
      "85 \t12    \t259           \t246.05            \n",
      "86 \t20    \t259           \t259               \n",
      "87 \t18    \t259           \t259               \n",
      "88 \t12    \t259           \t259               \n",
      "89 \t20    \t259           \t241.45            \n",
      "90 \t18    \t259           \t259               \n",
      "91 \t20    \t259           \t246.05            \n",
      "92 \t18    \t259           \t259               \n",
      "93 \t17    \t284           \t260.25            \n",
      "94 \t16    \t284           \t223.35            \n",
      "95 \t17    \t284           \t259.25            \n",
      "96 \t13    \t284           \t267.3             \n",
      "97 \t14    \t284           \t280.6             \n",
      "98 \t20    \t284           \t269.8             \n",
      "99 \t17    \t284           \t266.45            \n",
      "100\t16    \t284           \t279.4             \n",
      "Solucao: [1, 1, 0, 1, 0, 0, 1, 0, 0, 0] - Fitness (284.0,)\n"
     ]
    },
    {
     "name": "stderr",
     "output_type": "stream",
     "text": [
      "/home/a10/anaconda3/lib/python3.11/site-packages/deap/tools/crossover.py:67: FutureWarning: tools.cxTwoPoints has been renamed. Use cxTwoPoint instead.\n",
      "  warnings.warn(\"tools.cxTwoPoints has been renamed. Use cxTwoPoint instead.\",\n"
     ]
    }
   ],
   "source": [
    "# Gera o Algoritmo Genético com a estrutura e operadores cadastrados\n",
    "pop = toolbox.Populacao(n=20)\n",
    "prob_cx = 0.8\n",
    "prob_mt = 0.1\n",
    "nger = 100\n",
    "hof = tools.HallOfFame(10)\n",
    "\n",
    "stat = tools.Statistics(statistics)\n",
    "stat.register(\"Melhor Solucao\", numpy.max)\n",
    "stat.register(\"Media da Populacao\", numpy.mean)\n",
    "\n",
    "finalPop, log = algorithms.eaSimple(pop, toolbox, prob_cx, prob_mt, nger, stat, hof, verbose = True)\n",
    "\n",
    "melhorSolucao = tools.selBest(finalPop, 1)\n",
    "for i in melhorSolucao:\n",
    "  print(f'Solucao: {i} - Fitness {i.fitness}')"
   ]
  },
  {
   "cell_type": "code",
   "execution_count": 15,
   "metadata": {
    "colab": {
     "base_uri": "https://localhost:8080/"
    },
    "id": "q0AiANrUdqeM",
    "outputId": "baab63bc-a924-45de-9898-00dd737a347e"
   },
   "outputs": [
    {
     "name": "stdout",
     "output_type": "stream",
     "text": [
      "Solucao: [1, 1, 0, 1, 0, 0, 1, 0, 0, 0] - Fit: (284.0,)\n",
      "Solucao: [1, 1, 0, 0, 0, 1, 1, 0, 0, 0] - Fit: (259.0,)\n",
      "Solucao: [1, 0, 1, 0, 0, 1, 1, 0, 0, 0] - Fit: (251.0,)\n",
      "Solucao: [1, 0, 0, 1, 0, 0, 0, 0, 1, 0] - Fit: (247.0,)\n",
      "Solucao: [1, 0, 1, 0, 1, 1, 0, 0, 0, 0] - Fit: (244.0,)\n",
      "Solucao: [1, 1, 0, 1, 0, 0, 0, 0, 0, 0] - Fit: (217.0,)\n",
      "Solucao: [1, 1, 0, 0, 0, 0, 1, 0, 0, 0] - Fit: (216.0,)\n",
      "Solucao: [0, 1, 1, 0, 0, 1, 1, 0, 0, 0] - Fit: (216.0,)\n",
      "Solucao: [1, 0, 1, 0, 0, 0, 1, 0, 0, 0] - Fit: (208.0,)\n",
      "Solucao: [1, 0, 0, 0, 0, 1, 1, 0, 0, 0] - Fit: (202.0,)\n"
     ]
    }
   ],
   "source": [
    "for i in hof:\n",
    "  print(f'Solucao: {i} - Fit: {i.fitness}')"
   ]
  }
 ],
 "metadata": {
  "colab": {
   "provenance": []
  },
  "kernelspec": {
   "display_name": "Python 3 (ipykernel)",
   "language": "python",
   "name": "python3"
  },
  "language_info": {
   "codemirror_mode": {
    "name": "ipython",
    "version": 3
   },
   "file_extension": ".py",
   "mimetype": "text/x-python",
   "name": "python",
   "nbconvert_exporter": "python",
   "pygments_lexer": "ipython3",
   "version": "3.11.5"
  }
 },
 "nbformat": 4,
 "nbformat_minor": 1
}
