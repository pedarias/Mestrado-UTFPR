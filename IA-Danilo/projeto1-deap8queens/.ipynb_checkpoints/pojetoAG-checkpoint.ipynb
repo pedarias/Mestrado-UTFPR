{
 "cells": [
  {
   "cell_type": "code",
   "execution_count": 25,
   "id": "683390bb",
   "metadata": {},
   "outputs": [
    {
     "name": "stdout",
     "output_type": "stream",
     "text": [
      "Requirement already satisfied: deap in /home/a10/anaconda3/lib/python3.11/site-packages (1.4.1)\r\n",
      "Requirement already satisfied: numpy in /home/a10/anaconda3/lib/python3.11/site-packages (from deap) (1.24.3)\r\n"
     ]
    }
   ],
   "source": [
    "!pip install deap"
   ]
  },
  {
   "cell_type": "code",
   "execution_count": 33,
   "id": "1d7df5eb",
   "metadata": {},
   "outputs": [],
   "source": [
    "import random\n",
    "import numpy\n",
    "from deap import creator, base, tools, algorithms"
   ]
  },
  {
   "cell_type": "code",
   "execution_count": 34,
   "id": "b1dc2917",
   "metadata": {},
   "outputs": [],
   "source": [
    "# Problem parameter\n",
    "NB_QUEENS = 8  # 8-Queens Problem"
   ]
  },
  {
   "cell_type": "code",
   "execution_count": 35,
   "id": "66db2a83",
   "metadata": {},
   "outputs": [],
   "source": [
    "# Define alternative N-Queens fitness function for maximization problem\n",
    "def queens_max(individual):\n",
    "    # Initialize counter\n",
    "    fitness_cnt = 0\n",
    "\n",
    "    # For all pairs of queens\n",
    "    for i in range(len(individual) - 1):\n",
    "        for j in range(i + 1, len(individual)):\n",
    "\n",
    "            # Check for horizontal, diagonal-up and diagonal-down attacks\n",
    "            if (individual[j] != individual[i]) \\\n",
    "                    and (individual[j] != individual[i] + (j - i)) \\\n",
    "                    and (individual[j] != individual[i] - (j - i)):\n",
    "\n",
    "                # If no attacks, then increment counter\n",
    "                fitness_cnt += 1\n",
    "\n",
    "    return fitness_cnt"
   ]
  },
  {
   "cell_type": "code",
   "execution_count": 28,
   "id": "94313965",
   "metadata": {},
   "outputs": [],
   "source": [
    "creator.create(\"FitnessMin\", base.Fitness, weights=(-1.0,))#minimization problem and only that\n",
    "#if a had another objective it w'd go on weights tuple"
   ]
  },
  {
   "cell_type": "code",
   "execution_count": 29,
   "id": "27844ec4",
   "metadata": {},
   "outputs": [],
   "source": [
    "# criação cromossomo, it's a list and each element represents a gene\n",
    "creator.create(\"Individual\", list, fitness = creator.FitnessMin)"
   ]
  },
  {
   "cell_type": "markdown",
   "id": "c14cc8a1",
   "metadata": {},
   "source": [
    "since there is only one queen per line,\n",
    "individual are represented by a permutation"
   ]
  },
  {
   "cell_type": "code",
   "execution_count": 30,
   "id": "9651e185",
   "metadata": {},
   "outputs": [],
   "source": [
    "#generate a toolbox with the objective of registering framework configurations/ max/min, list\n",
    "toolbox = base.Toolbox()"
   ]
  },
  {
   "cell_type": "code",
   "execution_count": 37,
   "id": "e953e7de",
   "metadata": {},
   "outputs": [
    {
     "ename": "AttributeError",
     "evalue": "'Toolbox' object has no attribute 'Individual'",
     "output_type": "error",
     "traceback": [
      "\u001b[0;31m---------------------------------------------------------------------------\u001b[0m",
      "\u001b[0;31mAttributeError\u001b[0m                            Traceback (most recent call last)",
      "Cell \u001b[0;32mIn[37], line 3\u001b[0m\n\u001b[1;32m      1\u001b[0m \u001b[38;5;66;03m## Registra os nomes e os tipos de individuo, fiteness e população\u001b[39;00m\n\u001b[1;32m      2\u001b[0m toolbox\u001b[38;5;241m.\u001b[39mregister(\u001b[38;5;124m\"\u001b[39m\u001b[38;5;124mpermutation\u001b[39m\u001b[38;5;124m\"\u001b[39m, random\u001b[38;5;241m.\u001b[39msample, \u001b[38;5;28mrange\u001b[39m(NB_QUEENS), NB_QUEENS)\n\u001b[0;32m----> 3\u001b[0m toolbox\u001b[38;5;241m.\u001b[39mregister(\u001b[38;5;124m\"\u001b[39m\u001b[38;5;124mpopulation\u001b[39m\u001b[38;5;124m\"\u001b[39m, tools\u001b[38;5;241m.\u001b[39minitRepeat, \u001b[38;5;28mlist\u001b[39m, toolbox\u001b[38;5;241m.\u001b[39mIndividual)\n",
      "\u001b[0;31mAttributeError\u001b[0m: 'Toolbox' object has no attribute 'Individual'"
     ]
    }
   ],
   "source": [
    "## Registra os nomes e os tipos de individuo, fiteness e população\n",
    "toolbox.register(\"permutation\", random.sample, range(NB_QUEENS), NB_QUEENS)\n",
    "toolbox.register(\"population\", tools.initRepeat, list, toolbox.Individual)"
   ]
  },
  {
   "cell_type": "code",
   "execution_count": null,
   "id": "4d0c543a",
   "metadata": {},
   "outputs": [],
   "source": [
    "toolbox.register(\"individual\", tools.initIterate, creator.Individual, toolbox.permutation)\n",
    "toolbox.register(\"population\", tools.initRepeat, list, toolbox.individual)\n"
   ]
  },
  {
   "cell_type": "code",
   "execution_count": null,
   "id": "4606baf8",
   "metadata": {},
   "outputs": [],
   "source": []
  }
 ],
 "metadata": {
  "kernelspec": {
   "display_name": "Python 3 (ipykernel)",
   "language": "python",
   "name": "python3"
  },
  "language_info": {
   "codemirror_mode": {
    "name": "ipython",
    "version": 3
   },
   "file_extension": ".py",
   "mimetype": "text/x-python",
   "name": "python",
   "nbconvert_exporter": "python",
   "pygments_lexer": "ipython3",
   "version": "3.11.5"
  }
 },
 "nbformat": 4,
 "nbformat_minor": 5
}
