{
 "cells": [
  {
   "cell_type": "markdown",
   "id": "269fe03a",
   "metadata": {},
   "source": [
    "# 8-queens problem using the DEAP library"
   ]
  },
  {
   "cell_type": "markdown",
   "id": "8485232b",
   "metadata": {},
   "source": [
    "This project is the application of a Genetic Algorithm (GA) to solve the N-Queens puzzle. GAs are optimization techniques inspired by biological evolution.\n",
    "\n",
    "Where initially we have a population of potential solutions, and iteratively improve them to find an optimal or at least a near-optimal solution. In this version of solving the N-Queens problem, our goal is to find a way to arrange 8 queens on an 8×8 chessboard such that no two queens can attack each other."
   ]
  },
  {
   "cell_type": "markdown",
   "id": "8486a1ed",
   "metadata": {},
   "source": [
    "DEAP (Distributed Evolutionary Algorithms in Python) is a library or a tool to solve optimization problems using genetic algorithms. As we gon' see it'll provide a set of building blocks and tools for defining the Components of an evolutionary algorithm. By components I mean, individuals, populations, selection methods, mutation, and evaluation functions, which are all built-in algorithms from his library."
   ]
  },
  {
   "cell_type": "markdown",
   "id": "77243e88",
   "metadata": {},
   "source": [
    "## Summary\n",
    "1. DEAP creates an initial population of chessboard arrangements. Each chessboard represents a potential solution to the problem. These initial solutions are generated randomly. (toolbox.population(n=300))\n",
    "\n",
    "2. The selection process in a GA prefers solutions (chessboard arrangements, in this case) that have a higher \"fitness\" value. The fitness value represents how good a solution is in terms of solving the problem. Parents are selected from the population based on their fitness values, with a higher likelihood for better solutions to be chosen.\n",
    "\n",
    "3. Now is where the mitosis and meiosis come on. This chessboard arrangements with high fitness values (called parents solutions) are recombined to produce a new solution, which is considered an \"offspring\". This method take parts of both parents' solutions and combining them to create a new solution. Mixing rows and columns from the parent chessboards.\n",
    "\n",
    "4. Mutation: Mutation is a random process that introduces small changes to the offspring's solution. In our case it involves changing the position of a queen on the chessboard. Mutation is used to introduce diversity into the population and could be represented similarly as to avoid getting stuck in a local max/min.\n",
    "\n",
    "5. This new offspring forms the next generation of solutions. The old population is typically replaced by this new generation, and the process iterates over multiple generations.\n",
    "\n",
    "6. The algorithm continues to evolve the population over several generations (100 in our case), with the aim of improving the quality of solutions over time. Through this process of selection, recombination, and mutation, the GA can explore the solution space and eventually converge towards an optimal or near-optimal solution."
   ]
  },
  {
   "cell_type": "markdown",
   "id": "9ea5540f",
   "metadata": {},
   "source": [
    "meiose e mitose"
   ]
  },
  {
   "cell_type": "markdown",
   "id": "efc919bd",
   "metadata": {},
   "source": [
    "The key idea is that by the principles of natural selection and genetic inheritance, GAs can efficiently search through a large solution space to find solutions to optimization problems, like the N-Queens problem.\n"
   ]
  },
  {
   "cell_type": "code",
   "execution_count": 12,
   "id": "ead1aa71",
   "metadata": {},
   "outputs": [],
   "source": [
    "import random\n",
    "\n",
    "import numpy\n",
    "\n",
    "from deap import algorithms\n",
    "from deap import base\n",
    "from deap import creator\n",
    "from deap import tools"
   ]
  },
  {
   "cell_type": "code",
   "execution_count": 13,
   "id": "f80febb1",
   "metadata": {},
   "outputs": [],
   "source": [
    "#Problem parameter\n",
    "NB_QUEENS = 8"
   ]
  },
  {
   "cell_type": "code",
   "execution_count": 14,
   "id": "479573a3",
   "metadata": {},
   "outputs": [],
   "source": [
    "#The evaluation function therefore only counts the number of conflicts along the diagonals.\n",
    "#The lower the conflict count, the better the fitness.\n",
    "def evalNQueens(individual):\n",
    "    size = len(individual)\n",
    "    #Count the number of conflicts with other queens.\n",
    "    #The conflicts can only be diagonal, count on each diagonal line\n",
    "    left_diagonal = [0] * (2*size-1)\n",
    "    right_diagonal = [0] * (2*size-1)\n",
    "\n",
    "    #Sum the number of queens on each diagonal:\n",
    "    for i in range(size):\n",
    "        left_diagonal[i+individual[i]] += 1\n",
    "        right_diagonal[size-1-i+individual[i]] += 1\n",
    "\n",
    "    #Count the number of conflicts on each diagonal\n",
    "    sum_ = 0\n",
    "    for i in range(2*size-1):\n",
    "        if left_diagonal[i] > 1:\n",
    "            sum_ += left_diagonal[i] - 1\n",
    "        if right_diagonal[i] > 1:\n",
    "            sum_ += right_diagonal[i] - 1\n",
    "    return sum_,"
   ]
  },
  {
   "cell_type": "code",
   "execution_count": 15,
   "id": "93d049ba",
   "metadata": {},
   "outputs": [
    {
     "name": "stderr",
     "output_type": "stream",
     "text": [
      "/home/a10/anaconda3/lib/python3.11/site-packages/deap/creator.py:185: RuntimeWarning: A class named 'FitnessMin' has already been created and it will be overwritten. Consider deleting previous creation of that class or rename it.\n",
      "  warnings.warn(\"A class named '{0}' has already been created and it \"\n",
      "/home/a10/anaconda3/lib/python3.11/site-packages/deap/creator.py:185: RuntimeWarning: A class named 'Individual' has already been created and it will be overwritten. Consider deleting previous creation of that class or rename it.\n",
      "  warnings.warn(\"A class named '{0}' has already been created and it \"\n"
     ]
    }
   ],
   "source": [
    "# DEAP's creator module is used to create a fitness class (FitnessMin) for minimization, \n",
    "# and an individual class (Individual) with the fitness attribute.\n",
    "\n",
    "creator.create(\"FitnessMin\", base.Fitness, weights=(-1.0,))\n",
    "creator.create(\"Individual\", list, fitness=creator.FitnessMin)"
   ]
  },
  {
   "cell_type": "code",
   "execution_count": 16,
   "id": "ce2050ab",
   "metadata": {},
   "outputs": [],
   "source": [
    "#Since there is only one queen per line, \n",
    "#individual are represented by a permutation\n",
    "toolbox = base.Toolbox()\n",
    "toolbox.register(\"permutation\", random.sample, range(NB_QUEENS), NB_QUEENS)\n",
    "#This set up to generate permutations of numbers from 0 to 7 (8-queens problem)."
   ]
  },
  {
   "cell_type": "code",
   "execution_count": 17,
   "id": "c661356a",
   "metadata": {},
   "outputs": [],
   "source": [
    "#Structure initializers\n",
    "#An individual is a list that represents the position of each queen.\n",
    "#Only the line is stored, the column is the index of the number in the list.\n",
    "toolbox.register(\"individual\", tools.initIterate, creator.Individual, toolbox.permutation)\n",
    "toolbox.register(\"population\", tools.initRepeat, list, toolbox.individual)"
   ]
  },
  {
   "cell_type": "code",
   "execution_count": 18,
   "id": "d4798183",
   "metadata": {},
   "outputs": [],
   "source": [
    "toolbox.register(\"evaluate\", evalNQueens)\n",
    "toolbox.register(\"mate\", tools.cxPartialyMatched)\n",
    "toolbox.register(\"mutate\", tools.mutShuffleIndexes, indpb=2.0/NB_QUEENS)\n",
    "toolbox.register(\"select\", tools.selTournament, tournsize=3)"
   ]
  },
  {
   "cell_type": "code",
   "execution_count": 22,
   "id": "199485c7",
   "metadata": {},
   "outputs": [],
   "source": [
    "#main function where the GA algorithm is executed.\n",
    "def main(seed=0):\n",
    "    random.seed(seed)\n",
    "    # initializes a population of 300 individuals with random queen placements.\n",
    "    pop = toolbox.population(n=300)\n",
    "    # Hall of Fame (hof) to keep track of the best individuals found during evolution.\n",
    "    hof = tools.HallOfFame(1)\n",
    "    \n",
    "    #Statistics about the population\n",
    "    stats = tools.Statistics(lambda ind: ind.fitness.values)\n",
    "    stats.register(\"Avg\", numpy.mean) #average\n",
    "    stats.register(\"Std\", numpy.std) #standard deviation\n",
    "    stats.register(\"Min\", numpy.min) #min\n",
    "    stats.register(\"Max\", numpy.max) #max fitness\n",
    "    \n",
    "    #perform the evolutionary process\n",
    "    #It runs for 100 generations with a crossover probability of 0.5, mutation probability of 0.2, and the defined statistics and Hall of Fame.\n",
    "    algorithms.eaSimple(pop, toolbox, cxpb=0.5, mutpb=0.2, ngen=100, stats=stats, verbose=True)\n",
    "\n",
    "    return pop, stats"
   ]
  },
  {
   "cell_type": "code",
   "execution_count": 23,
   "id": "207e9849",
   "metadata": {
    "scrolled": true
   },
   "outputs": [
    {
     "name": "stdout",
     "output_type": "stream",
     "text": [
      "gen\tnevals\tAvg    \tStd    \tMin\tMax\n",
      "0  \t300   \t3.94333\t1.25437\t1  \t9  \n",
      "1  \t176   \t3.4    \t1.23288\t0  \t7  \n",
      "2  \t149   \t3.09667\t1.20581\t0  \t7  \n",
      "3  \t181   \t2.98333\t1.32025\t0  \t7  \n",
      "4  \t175   \t2.84   \t1.35931\t0  \t7  \n",
      "5  \t163   \t2.74   \t1.48965\t0  \t7  \n",
      "6  \t204   \t2.82   \t1.51468\t0  \t7  \n",
      "7  \t183   \t2.57667\t1.48687\t0  \t7  \n",
      "8  \t170   \t2.29333\t1.46764\t0  \t6  \n",
      "9  \t186   \t2.35333\t1.51278\t0  \t7  \n",
      "10 \t176   \t2.21667\t1.63597\t0  \t8  \n",
      "11 \t170   \t2      \t1.7282 \t0  \t8  \n",
      "12 \t198   \t1.94   \t1.69009\t0  \t6  \n",
      "13 \t184   \t1.68667\t1.72099\t0  \t6  \n",
      "14 \t174   \t1.3    \t1.65429\t0  \t6  \n",
      "15 \t173   \t0.953333\t1.45756\t0  \t6  \n",
      "16 \t167   \t0.996667\t1.61555\t0  \t6  \n",
      "17 \t177   \t0.82    \t1.54087\t0  \t6  \n",
      "18 \t182   \t0.666667\t1.42439\t0  \t7  \n",
      "19 \t183   \t0.62    \t1.33502\t0  \t5  \n",
      "20 \t168   \t0.583333\t1.40821\t0  \t6  \n",
      "21 \t180   \t0.603333\t1.46492\t0  \t8  \n",
      "22 \t170   \t0.546667\t1.29916\t0  \t6  \n",
      "23 \t163   \t0.456667\t1.16681\t0  \t6  \n",
      "24 \t198   \t0.573333\t1.25351\t0  \t6  \n",
      "25 \t189   \t0.523333\t1.32519\t0  \t8  \n",
      "26 \t183   \t0.54    \t1.2813 \t0  \t6  \n",
      "27 \t177   \t0.45    \t1.19199\t0  \t6  \n",
      "28 \t169   \t0.59    \t1.30967\t0  \t6  \n",
      "29 \t184   \t0.656667\t1.39718\t0  \t6  \n",
      "30 \t189   \t0.62    \t1.41972\t0  \t6  \n",
      "31 \t160   \t0.533333\t1.25255\t0  \t5  \n",
      "32 \t168   \t0.52    \t1.27917\t0  \t6  \n",
      "33 \t170   \t0.536667\t1.29692\t0  \t6  \n",
      "34 \t175   \t0.51    \t1.32032\t0  \t7  \n",
      "35 \t202   \t0.63    \t1.42118\t0  \t7  \n",
      "36 \t167   \t0.64    \t1.4412 \t0  \t6  \n",
      "37 \t168   \t0.626667\t1.43781\t0  \t7  \n",
      "38 \t188   \t0.676667\t1.50957\t0  \t7  \n",
      "39 \t169   \t0.686667\t1.48161\t0  \t6  \n",
      "40 \t173   \t0.423333\t1.0476 \t0  \t5  \n",
      "41 \t183   \t0.67    \t1.44491\t0  \t8  \n",
      "42 \t173   \t0.64    \t1.37492\t0  \t6  \n",
      "43 \t192   \t0.626667\t1.33939\t0  \t7  \n",
      "44 \t190   \t0.433333\t1.14261\t0  \t5  \n",
      "45 \t179   \t0.656667\t1.44872\t0  \t7  \n",
      "46 \t177   \t0.68    \t1.41336\t0  \t7  \n",
      "47 \t158   \t0.52    \t1.29471\t0  \t6  \n",
      "48 \t184   \t0.663333\t1.41067\t0  \t6  \n",
      "49 \t173   \t0.64    \t1.42726\t0  \t6  \n",
      "50 \t183   \t0.58    \t1.27682\t0  \t5  \n",
      "51 \t176   \t0.613333\t1.30019\t0  \t6  \n",
      "52 \t188   \t0.513333\t1.18736\t0  \t5  \n",
      "53 \t161   \t0.426667\t1.16531\t0  \t6  \n",
      "54 \t186   \t0.596667\t1.36406\t0  \t6  \n",
      "55 \t175   \t0.67    \t1.43797\t0  \t7  \n",
      "56 \t179   \t0.626667\t1.40735\t0  \t6  \n",
      "57 \t179   \t0.556667\t1.35405\t0  \t7  \n",
      "58 \t187   \t0.59    \t1.32987\t0  \t6  \n",
      "59 \t161   \t0.526667\t1.24738\t0  \t6  \n",
      "60 \t196   \t0.593333\t1.32964\t0  \t7  \n",
      "61 \t186   \t0.573333\t1.3849 \t0  \t6  \n",
      "62 \t171   \t0.6     \t1.27279\t0  \t6  \n",
      "63 \t168   \t0.696667\t1.47354\t0  \t7  \n",
      "64 \t183   \t0.523333\t1.27389\t0  \t6  \n",
      "65 \t175   \t0.52    \t1.28177\t0  \t9  \n",
      "66 \t170   \t0.626667\t1.39067\t0  \t6  \n",
      "67 \t179   \t0.73    \t1.51782\t0  \t7  \n",
      "68 \t180   \t0.496667\t1.23423\t0  \t6  \n",
      "69 \t192   \t0.616667\t1.29475\t0  \t5  \n",
      "70 \t163   \t0.55    \t1.3016 \t0  \t7  \n",
      "71 \t179   \t0.596667\t1.35178\t0  \t6  \n",
      "72 \t155   \t0.493333\t1.26621\t0  \t6  \n",
      "73 \t201   \t0.723333\t1.5341 \t0  \t7  \n",
      "74 \t178   \t0.613333\t1.37979\t0  \t6  \n",
      "75 \t177   \t0.563333\t1.29846\t0  \t8  \n",
      "76 \t195   \t0.49    \t1.23958\t0  \t5  \n",
      "77 \t166   \t0.556667\t1.32166\t0  \t5  \n",
      "78 \t190   \t0.566667\t1.32372\t0  \t6  \n",
      "79 \t186   \t0.606667\t1.38514\t0  \t6  \n",
      "80 \t177   \t0.603333\t1.36601\t0  \t7  \n",
      "81 \t186   \t0.593333\t1.31705\t0  \t7  \n",
      "82 \t168   \t0.58    \t1.27943\t0  \t5  \n",
      "83 \t174   \t0.593333\t1.36185\t0  \t6  \n",
      "84 \t170   \t0.586667\t1.3326 \t0  \t6  \n",
      "85 \t161   \t0.586667\t1.35984\t0  \t6  \n",
      "86 \t177   \t0.66    \t1.44375\t0  \t5  \n",
      "87 \t174   \t0.51    \t1.24762\t0  \t5  \n",
      "88 \t183   \t0.74    \t1.47391\t0  \t7  \n",
      "89 \t170   \t0.513333\t1.26616\t0  \t6  \n",
      "90 \t187   \t0.62    \t1.41972\t0  \t6  \n",
      "91 \t176   \t0.693333\t1.40924\t0  \t6  \n",
      "92 \t176   \t0.68    \t1.36782\t0  \t5  \n",
      "93 \t184   \t0.74    \t1.56388\t0  \t8  \n",
      "94 \t175   \t0.633333\t1.32119\t0  \t6  \n",
      "95 \t178   \t0.68    \t1.51358\t0  \t7  \n",
      "96 \t186   \t0.433333\t1.16285\t0  \t6  \n",
      "97 \t184   \t0.583333\t1.35759\t0  \t6  \n",
      "98 \t176   \t0.573333\t1.36307\t0  \t6  \n",
      "99 \t197   \t0.603333\t1.28296\t0  \t5  \n",
      "100\t170   \t0.623333\t1.38617\t0  \t6  \n"
     ]
    }
   ],
   "source": [
    "if __name__ == \"__main__\":\n",
    "    main()"
   ]
  },
  {
   "cell_type": "markdown",
   "id": "a14dacc1",
   "metadata": {},
   "source": [
    "## Conclusion"
   ]
  },
  {
   "cell_type": "markdown",
   "id": "07ad9e04",
   "metadata": {},
   "source": [
    "This code is an implementation of a genetic algorithm to solve the 8-queens problem. It uses DEAP to create the necessary data structures and functions for the genetic algorithm. We find solutions to the 8-queens problem by evolving populations of queen placements."
   ]
  }
 ],
 "metadata": {
  "kernelspec": {
   "display_name": "Python 3 (ipykernel)",
   "language": "python",
   "name": "python3"
  },
  "language_info": {
   "codemirror_mode": {
    "name": "ipython",
    "version": 3
   },
   "file_extension": ".py",
   "mimetype": "text/x-python",
   "name": "python",
   "nbconvert_exporter": "python",
   "pygments_lexer": "ipython3",
   "version": "3.11.5"
  }
 },
 "nbformat": 4,
 "nbformat_minor": 5
}
