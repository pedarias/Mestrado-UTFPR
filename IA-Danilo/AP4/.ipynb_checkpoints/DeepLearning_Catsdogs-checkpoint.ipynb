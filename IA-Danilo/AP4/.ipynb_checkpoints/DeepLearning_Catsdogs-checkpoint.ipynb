{
 "cells": [
  {
   "cell_type": "markdown",
   "metadata": {
    "id": "Q2mNcenD2P_A"
   },
   "source": [
    "## Base de Dados Catsdogs\n",
    "* https://www.kaggle.com/datasets/samuelcortinhas/cats-and-dogs-image-classification\n",
    "\n",
    "Over a 1000 images of cats and dogs scraped off of google images. The problem statement is to build a model that can classify between a cat and a dog in an image as accurately as possible"
   ]
  },
  {
   "cell_type": "code",
   "execution_count": 1,
   "metadata": {
    "scrolled": true
   },
   "outputs": [],
   "source": [
    "#!pip install tensorflow"
   ]
  },
  {
   "cell_type": "code",
   "execution_count": 2,
   "metadata": {},
   "outputs": [],
   "source": [
    "#!pip install \"numpy<1.25.0\""
   ]
  },
  {
   "cell_type": "code",
   "execution_count": 3,
   "metadata": {
    "id": "KofVtlLHF-zt"
   },
   "outputs": [
    {
     "name": "stderr",
     "output_type": "stream",
     "text": [
      "2023-11-22 13:51:55.809568: I external/local_tsl/tsl/cuda/cudart_stub.cc:31] Could not find cuda drivers on your machine, GPU will not be used.\n",
      "2023-11-22 13:51:55.966214: E external/local_xla/xla/stream_executor/cuda/cuda_dnn.cc:9261] Unable to register cuDNN factory: Attempting to register factory for plugin cuDNN when one has already been registered\n",
      "2023-11-22 13:51:55.966282: E external/local_xla/xla/stream_executor/cuda/cuda_fft.cc:607] Unable to register cuFFT factory: Attempting to register factory for plugin cuFFT when one has already been registered\n",
      "2023-11-22 13:51:55.993746: E external/local_xla/xla/stream_executor/cuda/cuda_blas.cc:1515] Unable to register cuBLAS factory: Attempting to register factory for plugin cuBLAS when one has already been registered\n",
      "2023-11-22 13:51:56.052516: I external/local_tsl/tsl/cuda/cudart_stub.cc:31] Could not find cuda drivers on your machine, GPU will not be used.\n",
      "2023-11-22 13:51:56.053358: I tensorflow/core/platform/cpu_feature_guard.cc:182] This TensorFlow binary is optimized to use available CPU instructions in performance-critical operations.\n",
      "To enable the following instructions: AVX2 FMA, in other operations, rebuild TensorFlow with the appropriate compiler flags.\n",
      "2023-11-22 13:51:56.847539: W tensorflow/compiler/tf2tensorrt/utils/py_utils.cc:38] TF-TRT Warning: Could not find TensorRT\n"
     ]
    }
   ],
   "source": [
    "from keras.models import Sequential\n",
    "from keras.layers import Conv2D, MaxPooling2D, Flatten, Dense, Dropout\n",
    "from keras.preprocessing.image import ImageDataGenerator\n",
    "import numpy as np\n",
    "from keras.preprocessing import image"
   ]
  },
  {
   "cell_type": "code",
   "execution_count": 4,
   "metadata": {
    "colab": {
     "base_uri": "https://localhost:8080/"
    },
    "id": "0HL-LrG6H2vj",
    "outputId": "3eee478f-1ec9-4c41-dba0-6c5f7766fd57"
   },
   "outputs": [],
   "source": [
    "#from google.colab import drive\n",
    "#drive.mount('/content/drive')"
   ]
  },
  {
   "cell_type": "code",
   "execution_count": 7,
   "metadata": {
    "id": "gIasEQPfH46p"
   },
   "outputs": [],
   "source": [
    "path = 'cnd'"
   ]
  },
  {
   "cell_type": "code",
   "execution_count": 8,
   "metadata": {
    "colab": {
     "base_uri": "https://localhost:8080/"
    },
    "id": "pkskh705TbvJ",
    "outputId": "b93e6cdb-8718-4260-c4d5-d1ea07996fb3"
   },
   "outputs": [
    {
     "name": "stdout",
     "output_type": "stream",
     "text": [
      "Found 557 images belonging to 2 classes.\n",
      "Found 140 images belonging to 2 classes.\n"
     ]
    }
   ],
   "source": [
    "objTrain = ImageDataGenerator(rescale = 1./255)\n",
    "\n",
    "objTest = ImageDataGenerator(rescale = 1./255)\n",
    "\n",
    "dados_train = objTrain.flow_from_directory(path+'/train',\n",
    "                                                           target_size = (150, 150),\n",
    "                                                           batch_size = 32,\n",
    "                                                           class_mode = 'binary')\n",
    "dados_test = objTest.flow_from_directory(path+'/test',\n",
    "                                               target_size = (150, 150),\n",
    "                                               batch_size = 32,\n",
    "                                               class_mode = 'binary')"
   ]
  },
  {
   "cell_type": "code",
   "execution_count": 9,
   "metadata": {
    "id": "6Bpp-2Q1GGdY"
   },
   "outputs": [],
   "source": [
    "cnn = Sequential()\n",
    "cnn.add(Conv2D(128, (3,3), input_shape = (150, 150, 3), activation = 'relu'))\n",
    "cnn.add(MaxPooling2D(pool_size = (2,2)))\n",
    "cnn.add(Conv2D(64, (3,3), input_shape = (150, 150, 3), activation = 'relu'))\n",
    "cnn.add(MaxPooling2D(pool_size = (2,2)))\n",
    "cnn.add(Conv2D(32, (3,3), input_shape = (150, 150, 3), activation = 'relu'))\n",
    "cnn.add(MaxPooling2D(pool_size = (2,2)))\n",
    "\n",
    "# cnn.add(Conv2D(64, (3,3), activation = 'relu'))\n",
    "# cnn.add(MaxPooling2D(pool_size = (2,2)))\n",
    "\n",
    "cnn.add(Flatten())\n",
    "\n",
    "cnn.add(Dense(units = 128, activation = 'relu'))\n",
    "cnn.add(Dropout(0.5))\n",
    "cnn.add(Dense(units = 1, activation = 'sigmoid'))"
   ]
  },
  {
   "cell_type": "code",
   "execution_count": 10,
   "metadata": {
    "colab": {
     "base_uri": "https://localhost:8080/"
    },
    "id": "lIPbiRpFsOGW",
    "outputId": "3ebe54a6-fd6e-434d-a852-ed67185d1dcb"
   },
   "outputs": [
    {
     "name": "stdout",
     "output_type": "stream",
     "text": [
      "Model: \"sequential\"\n",
      "_________________________________________________________________\n",
      " Layer (type)                Output Shape              Param #   \n",
      "=================================================================\n",
      " conv2d (Conv2D)             (None, 148, 148, 128)     3584      \n",
      "                                                                 \n",
      " max_pooling2d (MaxPooling2  (None, 74, 74, 128)       0         \n",
      " D)                                                              \n",
      "                                                                 \n",
      " conv2d_1 (Conv2D)           (None, 72, 72, 64)        73792     \n",
      "                                                                 \n",
      " max_pooling2d_1 (MaxPoolin  (None, 36, 36, 64)        0         \n",
      " g2D)                                                            \n",
      "                                                                 \n",
      " conv2d_2 (Conv2D)           (None, 34, 34, 32)        18464     \n",
      "                                                                 \n",
      " max_pooling2d_2 (MaxPoolin  (None, 17, 17, 32)        0         \n",
      " g2D)                                                            \n",
      "                                                                 \n",
      " flatten (Flatten)           (None, 9248)              0         \n",
      "                                                                 \n",
      " dense (Dense)               (None, 128)               1183872   \n",
      "                                                                 \n",
      " dropout (Dropout)           (None, 128)               0         \n",
      "                                                                 \n",
      " dense_1 (Dense)             (None, 1)                 129       \n",
      "                                                                 \n",
      "=================================================================\n",
      "Total params: 1279841 (4.88 MB)\n",
      "Trainable params: 1279841 (4.88 MB)\n",
      "Non-trainable params: 0 (0.00 Byte)\n",
      "_________________________________________________________________\n"
     ]
    }
   ],
   "source": [
    "# Visualização da estrutura da rede neural\n",
    "cnn.summary()"
   ]
  },
  {
   "cell_type": "code",
   "execution_count": 11,
   "metadata": {
    "colab": {
     "base_uri": "https://localhost:8080/"
    },
    "id": "K7aZyNMpTeaO",
    "outputId": "b9b63a67-4e34-4347-f02e-4aca52f72d0c"
   },
   "outputs": [
    {
     "name": "stdout",
     "output_type": "stream",
     "text": [
      "Epoch 1/10\n",
      "17/17 [==============================] - 14s 785ms/step - loss: 0.6982 - accuracy: 0.4722 - val_loss: 0.6923 - val_accuracy: 0.5000\n",
      "Epoch 2/10\n",
      "17/17 [==============================] - 13s 759ms/step - loss: 0.6848 - accuracy: 0.5386 - val_loss: 0.6908 - val_accuracy: 0.5071\n",
      "Epoch 3/10\n",
      "17/17 [==============================] - 13s 756ms/step - loss: 0.6907 - accuracy: 0.5601 - val_loss: 0.6934 - val_accuracy: 0.5286\n",
      "Epoch 4/10\n",
      "17/17 [==============================] - 13s 764ms/step - loss: 0.6870 - accuracy: 0.5637 - val_loss: 0.6819 - val_accuracy: 0.6000\n",
      "Epoch 5/10\n",
      "17/17 [==============================] - 14s 763ms/step - loss: 0.6455 - accuracy: 0.6553 - val_loss: 0.6766 - val_accuracy: 0.6357\n",
      "Epoch 6/10\n",
      "17/17 [==============================] - 13s 763ms/step - loss: 0.6083 - accuracy: 0.6876 - val_loss: 0.6803 - val_accuracy: 0.6214\n",
      "Epoch 7/10\n",
      "17/17 [==============================] - 13s 758ms/step - loss: 0.5564 - accuracy: 0.7325 - val_loss: 0.6796 - val_accuracy: 0.5786\n",
      "Epoch 8/10\n",
      "17/17 [==============================] - 13s 762ms/step - loss: 0.5230 - accuracy: 0.7522 - val_loss: 0.7186 - val_accuracy: 0.6143\n",
      "Epoch 9/10\n",
      "17/17 [==============================] - 13s 762ms/step - loss: 0.4616 - accuracy: 0.7846 - val_loss: 0.8908 - val_accuracy: 0.6286\n",
      "Epoch 10/10\n",
      "17/17 [==============================] - 14s 785ms/step - loss: 0.3918 - accuracy: 0.8223 - val_loss: 0.8461 - val_accuracy: 0.6643\n"
     ]
    }
   ],
   "source": [
    "cnn.compile(optimizer = 'adam', loss = 'binary_crossentropy',\n",
    "                      metrics = ['accuracy'])\n",
    "saida = cnn.fit(dados_train, steps_per_epoch = 557 / 32, epochs = 10, validation_data = dados_test, validation_steps = 140 / 32)"
   ]
  },
  {
   "cell_type": "code",
   "execution_count": 12,
   "metadata": {
    "id": "5gzwODU0sINQ"
   },
   "outputs": [],
   "source": [
    "import matplotlib.pyplot as plt"
   ]
  },
  {
   "cell_type": "code",
   "execution_count": 13,
   "metadata": {
    "id": "plHpYXF3r8C4"
   },
   "outputs": [
    {
     "data": {
      "image/png": "[encoded data removed]",
      "text/plain": [
       "<Figure size 640x480 with 1 Axes>"
      ]
     },
     "metadata": {},
     "output_type": "display_data"
    }
   ],
   "source": [
    "# Gráfico para visualizar os erros e accuracy\n",
    "#evolução do erro, azul\n",
    "plt.plot(saida.history['accuracy'], label=\"Training accuracy\")\n",
    "#performance da rede\n",
    "plt.plot(saida.history['val_accuracy'], label=\"Validation accuracy\")\n",
    "plt.title(\"Training and Validation Accuracy\")\n",
    "plt.xlabel(\"Epoch\")\n",
    "plt.ylabel(\"Accuracy\")\n",
    "plt.legend()\n",
    "plt.show()"
   ]
  },
  {
   "cell_type": "code",
   "execution_count": null,
   "metadata": {},
   "outputs": [],
   "source": []
  }
 ],
 "metadata": {
  "accelerator": "GPU",
  "colab": {
   "gpuType": "T4",
   "provenance": []
  },
  "kernelspec": {
   "display_name": "Python 3 (ipykernel)",
   "language": "python",
   "name": "python3"
  },
  "language_info": {
   "codemirror_mode": {
    "name": "ipython",
    "version": 3
   },
   "file_extension": ".py",
   "mimetype": "text/x-python",
   "name": "python",
   "nbconvert_exporter": "python",
   "pygments_lexer": "ipython3",
   "version": "3.11.5"
  }
 },
 "nbformat": 4,
 "nbformat_minor": 1
}
