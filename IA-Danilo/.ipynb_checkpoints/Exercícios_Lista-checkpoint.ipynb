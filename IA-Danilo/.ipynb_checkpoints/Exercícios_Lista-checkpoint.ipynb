{
 "cells": [
  {
   "cell_type": "markdown",
   "id": "fcaaeefe",
   "metadata": {
    "id": "fcaaeefe"
   },
   "source": [
    "1 - Ler uma lista de 5 números inteiros e mostre cada número juntamente com a\n",
    "sua posição na lista."
   ]
  },
  {
   "cell_type": "code",
   "execution_count": 1,
   "id": "893c3df2",
   "metadata": {
    "id": "893c3df2"
   },
   "outputs": [
    {
     "name": "stdout",
     "output_type": "stream",
     "text": [
      "O número 10 está na posição 0\n",
      "O número 20 está na posição 1\n",
      "O número 30 está na posição 2\n",
      "O número 40 está na posição 3\n",
      "O número 50 está na posição 4\n"
     ]
    }
   ],
   "source": [
    "# Defina uma lista de 5 números inteiros\n",
    "numeros = [10, 20, 30, 40, 50]\n",
    "\n",
    "# Use um loop for para iterar pelos números com a função enumerate\n",
    "for posicao, numero in enumerate(numeros):\n",
    "    print(f\"O número {numero} está na posição {posicao}\")"
   ]
  },
  {
   "cell_type": "markdown",
   "id": "14ebc8b4",
   "metadata": {
    "id": "14ebc8b4"
   },
   "source": [
    "2 -  Ler uma lista de 10 números reais e mostre-os na ordem inversa."
   ]
  },
  {
   "cell_type": "code",
   "execution_count": null,
   "id": "1b130a6a",
   "metadata": {
    "id": "1b130a6a"
   },
   "outputs": [],
   "source": [
    "numeros = []\n",
    "\n",
    "# Faça um loop para ler 10 números reais\n",
    "for i in range(10):\n",
    "    numero = float(input(f\"Digite o {i + 1}º número real: \"))\n",
    "    numeros.append(numero)\n",
    "\n",
    "# Use a função reverse() para inverter a ordem dos números\n",
    "numeros.reverse()\n",
    "\n",
    "# Ou você pode usar a técnica de slicing para inverter a ordem\n",
    "# numeros = numeros[::-1]\n",
    "\n",
    "# Agora, imprima os números na ordem inversa\n",
    "print(\"Números na ordem inversa:\")\n",
    "for numero in numeros:\n",
    "    print(numero)"
   ]
  },
  {
   "cell_type": "markdown",
   "id": "748f2197",
   "metadata": {
    "id": "748f2197"
   },
   "source": [
    "3 - Ler uma lista com 4 notas, em seguida o programa deve exibir as notas e a\n",
    "média."
   ]
  },
  {
   "cell_type": "code",
   "execution_count": null,
   "id": "09c990fc",
   "metadata": {
    "id": "09c990fc"
   },
   "outputs": [],
   "source": [
    "notas = []\n",
    "\n",
    "# Faça um loop para ler as 4 notas\n",
    "for i in range(4):\n",
    "    nota = float(input(f\"Digite a {i + 1}ª nota: \"))\n",
    "    notas.append(nota)\n",
    "\n",
    "# Calcule a média das notas\n",
    "media = sum(notas) / len(notas)\n",
    "\n",
    "# Exiba as notas e a média\n",
    "print(\"Notas inseridas:\")\n",
    "for i, nota in enumerate(notas):\n",
    "    print(f\"Nota {i + 1}: {nota}\")\n",
    "\n",
    "print(f\"Média das notas: {media}\")\n"
   ]
  },
  {
   "cell_type": "markdown",
   "id": "e5be6d57",
   "metadata": {
    "id": "e5be6d57"
   },
   "source": [
    "4 - Ler um vetor com 10 valores e exibir o maior e menor."
   ]
  },
  {
   "cell_type": "code",
   "execution_count": null,
   "id": "yMl6yOwES93O",
   "metadata": {
    "id": "yMl6yOwES93O"
   },
   "outputs": [],
   "source": [
    "# Inicialize duas variáveis para armazenar o maior e o menor valor\n",
    "maior_valor = float(\"-inf\")  # Inicializado com o menor valor possível\n",
    "menor_valor = float(\"inf\")   # Inicializado com o maior valor possível\n",
    "\n",
    "# Faça um loop para ler os 10 valores\n",
    "for i in range(10):\n",
    "    valor = float(input(f\"Digite o {i + 1}º valor: \"))\n",
    "\n",
    "    # Atualize o maior e o menor valor, se necessário\n",
    "    if valor > maior_valor:\n",
    "        maior_valor = valor\n",
    "    if valor < menor_valor:\n",
    "        menor_valor = valor\n",
    "\n",
    "# Exiba o maior e o menor valor\n",
    "print(f\"O maior valor é: {maior_valor}\")\n",
    "print(f\"O menor valor é: {menor_valor}\")"
   ]
  },
  {
   "cell_type": "markdown",
   "id": "RxJBsdVjO0AB",
   "metadata": {
    "id": "RxJBsdVjO0AB"
   },
   "source": [
    "5 - Utilizando compreensão de listas, crie uma nova lista contendo apenas os elementos pares de uma lista original."
   ]
  },
  {
   "cell_type": "code",
   "execution_count": null,
   "id": "KmX6VbyXS-pz",
   "metadata": {
    "id": "KmX6VbyXS-pz"
   },
   "outputs": [],
   "source": [
    "# Defina a lista original\n",
    "lista_original = [1, 2, 3, 4, 5, 6, 7, 8, 9, 10]\n",
    "\n",
    "# Use a compreensão de listas para criar uma nova lista com elementos pares\n",
    "elementos_pares = [numero for numero in lista_original if numero % 2 == 0]\n",
    "\n",
    "# Exiba a nova lista com elementos pares\n",
    "print(elementos_pares)"
   ]
  },
  {
   "cell_type": "markdown",
   "id": "E0hiK87EPb1s",
   "metadata": {
    "id": "E0hiK87EPb1s"
   },
   "source": [
    "6 - Substitua todos os elementos maior ou igual 5 em uma lista pela maior  valor existente na lista.\n"
   ]
  },
  {
   "cell_type": "code",
   "execution_count": 2,
   "id": "0505b24c",
   "metadata": {
    "id": "0505b24c"
   },
   "outputs": [
    {
     "name": "stdout",
     "output_type": "stream",
     "text": [
      "[3, 9, 2, 9, 1, 9, 4, 9, 9]\n"
     ]
    }
   ],
   "source": [
    "# Defina a lista original\n",
    "lista_original = [3, 8, 2, 6, 1, 9, 4, 7, 5]\n",
    "\n",
    "# Encontre o maior valor na lista original\n",
    "maior_valor = max(lista_original)\n",
    "\n",
    "# Use a compreensão de listas para substituir os elementos maiores ou iguais a 5\n",
    "lista_modificada = [maior_valor if numero >= 5 else numero for numero in lista_original]\n",
    "\n",
    "# Exiba a lista modificada\n",
    "print(lista_modificada)\n"
   ]
  },
  {
   "cell_type": "code",
   "execution_count": null,
   "id": "b01c36f1",
   "metadata": {},
   "outputs": [],
   "source": []
  }
 ],
 "metadata": {
  "colab": {
   "provenance": []
  },
  "kernelspec": {
   "display_name": "Python 3 (ipykernel)",
   "language": "python",
   "name": "python3"
  },
  "language_info": {
   "codemirror_mode": {
    "name": "ipython",
    "version": 3
   },
   "file_extension": ".py",
   "mimetype": "text/x-python",
   "name": "python",
   "nbconvert_exporter": "python",
   "pygments_lexer": "ipython3",
   "version": "3.11.5"
  }
 },
 "nbformat": 4,
 "nbformat_minor": 5
}
