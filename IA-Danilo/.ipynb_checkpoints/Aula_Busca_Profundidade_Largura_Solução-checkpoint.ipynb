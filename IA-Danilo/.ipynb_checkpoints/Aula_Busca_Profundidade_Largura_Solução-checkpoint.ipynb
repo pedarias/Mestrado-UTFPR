{
 "cells": [
  {
   "cell_type": "markdown",
   "metadata": {
    "id": "r2ZZwVzmSD9w"
   },
   "source": [
    "Exemplo de busca em profundidade e largura\n",
    "\n",
    "*   Construção do Grafo (Espaço de estados) como um grafo direcionado\n",
    "*   Considera os dados do arquivo \"cidades.txt\""
   ]
  },
  {
   "cell_type": "code",
   "execution_count": null,
   "metadata": {
    "id": "uex10GT6LZxz"
   },
   "outputs": [],
   "source": [
    "# Construção manual do dicionário\n",
    "def criaListaAdj():\n",
    "  listaAdj = {\n",
    "              'Arad': {'Timisoara': 118 , 'Sibiu': 140, 'Zerind': 75 },\n",
    "              'Zerind': {'Arad': 75, 'Oradea': 71},\n",
    "              'Oradea': {'Zerind': 71, 'Sibiu': 151},\n",
    "              'Sibiu': {'Arad': 140, 'Oradea': 151, 'Fagaras': 99, 'Rimnicu': 80},\\\n",
    "              'Timisoara': {'Arad': 118, 'Lugoj': 111},\n",
    "              'Lugoj': {'Timisoara': 111, 'Mehadia': 70},\n",
    "              'Mehadia': {'Lugoj': 70, 'Dobreta': 75},\n",
    "              'Dobreta': {'Mehadia': 75, 'Craiova': 120},\n",
    "              'Craiova': {'Dobreta': 120, 'Rimnicu': 146, 'Pitesti': 138},\n",
    "              'Rimnicu': {'Sibiu': 80, 'Craiova': 146, 'Pitesti': 97},\n",
    "              'Fagaras': {'Sibiu': 99, 'Bucharest': 211},\n",
    "              'Pitesti': {'Rimnicu': 97, 'Craiova': 138, 'Bucharest': 101},\n",
    "              'Bucharest': {'Fagaras': 211, 'Pitesti': 101, 'Giurgiu': 90, 'Urziceni': 85},\n",
    "              'Giurgiu': {'Bucharest': 90},\n",
    "              'Urziceni': {'Bucharest': 85, 'Vaslui': 142, 'Hirsova': 98},\n",
    "              'Hirsova': {'Urziceni': 98, 'Eforie': 86},\n",
    "              'Eforie': {'Hirsova': 86},\n",
    "              'Vaslui': {'Iasi': 92, 'Urziceni': 142},\n",
    "              'Iasi': {'Vaslui': 92, 'Neamt': 87},\n",
    "              'Neamt': {'Iasi': 87}\n",
    "          }\n",
    "  return listaAdj"
   ]
  },
  {
   "cell_type": "code",
   "execution_count": null,
   "metadata": {
    "id": "yGFkusJRnB6r"
   },
   "outputs": [],
   "source": [
    "#Função Busca em Profundidade\n",
    "def dfs(listaAdj, cidade, objetivo):\n",
    "\n",
    "  # Cria as listas fronteiras  e visitados\n",
    "  fronteira = []\n",
    "  visitados = []\n",
    "\n",
    "  # adiciona a primeira cidade na fronteira\n",
    "  fronteira.append(cidade)\n",
    "\n",
    "  # Enquanto existir cidades na fronteira\n",
    "  while fronteira:\n",
    "\n",
    "    # Pega a cidade que foi inserido por último (estrutura pilha)\n",
    "    ## Percurso prioriza o caminho pela profundidade do nó\n",
    "    s = fronteira.pop()\n",
    "\n",
    "    # Inclua a cidade na lista de visitados\n",
    "    visitados.append(s)\n",
    "\n",
    "    # verifica se alcançou a cidade destino\n",
    "    if s == objetivo:\n",
    "      break\n",
    "\n",
    "    # Inclui as cidades vizinhas na fronteira\n",
    "\n",
    "    for vizinho in listaAdj[s].keys():\n",
    "      if vizinho not in visitados:\n",
    "          fronteira.append(vizinho)\n",
    "\n",
    "  # retorna a lista de cidades visitadas\n",
    "  return visitados"
   ]
  },
  {
   "cell_type": "code",
   "execution_count": null,
   "metadata": {
    "id": "_w-4LANAkhsQ"
   },
   "outputs": [],
   "source": [
    "#Função Busca em Largura\n",
    "def bfs(listaAdj, cidade, objetivo):\n",
    "\n",
    "  # Cria as listas fronteiras  e visitados\n",
    "  fronteira = []\n",
    "  visitados = []\n",
    "\n",
    "  # adiciona a primeira cidade na fronteira\n",
    "  fronteira.append(cidade)\n",
    "\n",
    "   # Enquanto existir cidades na fronteira\n",
    "  while fronteira:\n",
    "\n",
    "    # Pega a cidade que foi inserido primeiro (estrutura fila)\n",
    "    ## Percurso prioriza o caminho mais raso\n",
    "\n",
    "    s = fronteira.pop(0)\n",
    "\n",
    "    # Inclua a cidade na lista de visitados\n",
    "    visitados.append(s)\n",
    "\n",
    "     # verifica se alcançou a cidade destino\n",
    "    if s == objetivo:\n",
    "      break\n",
    "\n",
    "    # Inclui as cidades vizinhas na fronteira\n",
    "    for vizinho in listaAdj[s].keys():\n",
    "      if vizinho not in visitados:\n",
    "        fronteira.append(vizinho)\n",
    "\n",
    "  # retorna a lista de cidades visitadas\n",
    "  return visitados"
   ]
  },
  {
   "cell_type": "code",
   "execution_count": null,
   "metadata": {
    "colab": {
     "base_uri": "https://localhost:8080/"
    },
    "id": "Sa2KzC58dtKD",
    "outputId": "111e2e30-e0de-439c-cee6-55af973bfe71"
   },
   "outputs": [
    {
     "name": "stdout",
     "output_type": "stream",
     "text": [
      "['Arad', 'Zerind', 'Oradea', 'Sibiu', 'Rimnicu', 'Pitesti', 'Bucharest']\n",
      "['Arad', 'Timisoara', 'Sibiu', 'Zerind', 'Lugoj', 'Oradea', 'Fagaras', 'Rimnicu', 'Oradea', 'Mehadia', 'Bucharest']\n"
     ]
    }
   ],
   "source": [
    "# Execução\n",
    "cidades= criaListaAdj()\n",
    "\n",
    "listaDFS = dfs(cidades, 'Arad', 'Bucharest')\n",
    "print(listaDFS)\n",
    "\n",
    "listaBFS = bfs(cidades, 'Arad', 'Bucharest')\n",
    "print(listaBFS)\n"
   ]
  }
 ],
 "metadata": {
  "colab": {
   "provenance": []
  },
  "kernelspec": {
   "display_name": "Python 3 (ipykernel)",
   "language": "python",
   "name": "python3"
  },
  "language_info": {
   "codemirror_mode": {
    "name": "ipython",
    "version": 3
   },
   "file_extension": ".py",
   "mimetype": "text/x-python",
   "name": "python",
   "nbconvert_exporter": "python",
   "pygments_lexer": "ipython3",
   "version": "3.11.5"
  }
 },
 "nbformat": 4,
 "nbformat_minor": 1
}
