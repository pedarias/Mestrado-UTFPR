{
 "cells": [
  {
   "cell_type": "code",
   "execution_count": null,
   "metadata": {
    "id": "HLtT794OCkbn"
   },
   "outputs": [],
   "source": [
    "# Construção manual do dicionário\n",
    "def criaListaAdj():\n",
    "  listaAdj = {\n",
    "              'Arad': {'Timisoara': 118 , 'Sibiu': 140, 'Zerind': 75 },\n",
    "              'Zerind': {'Arad': 75, 'Oradea': 71},\n",
    "              'Oradea': {'Zerind': 71, 'Sibiu': 151},\n",
    "              'Sibiu': {'Arad': 140, 'Oradea': 151, 'Fagaras': 99, 'Rimnicu': 80},\\\n",
    "              'Timisoara': {'Arad': 118, 'Lugoj': 111},\n",
    "              'Lugoj': {'Timisoara': 111, 'Mehadia': 70},\n",
    "              'Mehadia': {'Lugoj': 70, 'Dobreta': 75},\n",
    "              'Dobreta': {'Mehadia': 75, 'Craiova': 120},\n",
    "              'Craiova': {'Dobreta': 120, 'Rimnicu': 146, 'Pitesti': 138},\n",
    "              'Rimnicu': {'Sibiu': 80, 'Craiova': 146, 'Pitesti': 97},\n",
    "              'Fagaras': {'Sibiu': 99, 'Bucharest': 211},\n",
    "              'Pitesti': {'Rimnicu': 97, 'Craiova': 138, 'Bucharest': 101},\n",
    "              'Bucharest': {'Fagaras': 211, 'Pitesti': 101, 'Giurgiu': 90, 'Urziceni': 85},\n",
    "              'Giurgiu': {'Bucharest': 90},\n",
    "              'Urziceni': {'Bucharest': 85, 'Vaslui': 142, 'Hirsova': 98},\n",
    "              'Hirsova': {'Urziceni': 98, 'Eforie': 86},\n",
    "              'Eforie': {'Hirsova': 86},\n",
    "              'Vaslui': {'Iasi': 92, 'Urziceni': 142},\n",
    "              'Iasi': {'Vaslui': 92, 'Neamt': 87},\n",
    "              'Neamt': {'Iasi': 87}\n",
    "          }\n",
    "  return listaAdj\n",
    "\n",
    "def getHeuristics():\n",
    "\n",
    "  heuristics = {'Arad':366,\n",
    "              'Bucharest':0,\n",
    "              'Craiova':160,\n",
    "              'Dobreta': 242,\n",
    "              'Eforie': 161,\n",
    "              'Fagaras': 178,\n",
    "              'Giurgiu': 77,\n",
    "              'Hirsova': 151,\n",
    "              'Iasi': 226,\n",
    "              'Lugoj': 244,\n",
    "              'Mehadia': 241,\n",
    "              'Neamt': 234,\n",
    "              'Oradea': 380,\n",
    "              'Pitesti': 98,\n",
    "              'Rimnicu': 193,\n",
    "              'Sibiu': 253,\n",
    "              'Timisoara': 329,\n",
    "              'Urziceni': 80,\n",
    "              'Vaslui': 199,\n",
    "              'Zerind': 374\n",
    "              }\n",
    "  return heuristics"
   ]
  },
  {
   "cell_type": "code",
   "execution_count": null,
   "metadata": {
    "id": "nlAmIajoYE8s"
   },
   "outputs": [],
   "source": [
    "from queue import PriorityQueue"
   ]
  },
  {
   "cell_type": "code",
   "execution_count": null,
   "metadata": {
    "id": "Ali823EvC3CQ"
   },
   "outputs": [],
   "source": [
    "# Função A-star\n",
    "def a_star(listaAdj, origem, objetivo, distancias):\n",
    "\n",
    "  \"\"\"\n",
    "    Dados necessários:\n",
    "    (i) fronteira:\n",
    "            Formato dicionário (não permite redundância de cidades)\n",
    "            Armazena as cidades expandidas (chave) e o custo parcial (valor)\n",
    "\n",
    "    (ii) custo_caminho: armazena os valores das arestas dos caminhos percorridos\n",
    "\n",
    "    (iii) f_custo: função custo com a soma\n",
    "               custo_caminho + distância por linha reta\n",
    "  \"\"\"\n",
    "\n",
    "  # Inicializa as variáveis fronteira e fila prioridade\n",
    "  fronteira = {}\n",
    "  fila = PriorityQueue()\n",
    "\n",
    "  #  Insere a cidade Arad na fila de prioridade e fronteira\n",
    "  fila.put((distancias[origem],0, origem, [origem]))\n",
    "  fronteira[origem] = distancias[origem]\n",
    "\n",
    "  while not fila.empty():\n",
    "\n",
    "      # Obtem os dados armazenados na fila de prioriodade!\n",
    "      # >>>>> código <<<<<<<<\n",
    "\n",
    "      # Teste de condição de parada: cidade == objetivo\n",
    "      # >>>>> código <<<<<<<<\n",
    "\n",
    "      #Visita todos os vizinhos da cidade atual\n",
    "      for vizinho in listaAdj[cidade].keys():\n",
    "\n",
    "         # Obtem a estimativa de custo do caminho entre a cidade origem (Arad)\n",
    "         #  e a cidade vizinha\n",
    "         # >>>>> código <<<<<<<<\n",
    "\n",
    "         # Função custo: (distância linha reta + custo_atual)\n",
    "         # >>>>> código <<<<<<<<\n",
    "\n",
    "         if not vizinho in fronteira or fronteira[vizinho] >= f_custo:\n",
    "            # Cria/Atualiza a melhor heuristica\n",
    "            # >>>>> código <<<<<<<<\n",
    "\n"
   ]
  },
  {
   "cell_type": "code",
   "execution_count": null,
   "metadata": {
    "id": "6YYK-AH0s-MD"
   },
   "outputs": [],
   "source": [
    "# Inicializa os objetos cidades e distancias\n",
    "cidades = criaListaAdj()\n",
    "h = getHeuristics()\n",
    "fc, caminho = a_star(cidades, 'Arad', 'Bucharest', h)\n",
    "print(f'Custo final: {fc} - solucao: {caminho}')"
   ]
  }
 ],
 "metadata": {
  "colab": {
   "provenance": []
  },
  "kernelspec": {
   "display_name": "Python 3 (ipykernel)",
   "language": "python",
   "name": "python3"
  },
  "language_info": {
   "codemirror_mode": {
    "name": "ipython",
    "version": 3
   },
   "file_extension": ".py",
   "mimetype": "text/x-python",
   "name": "python",
   "nbconvert_exporter": "python",
   "pygments_lexer": "ipython3",
   "version": "3.11.5"
  }
 },
 "nbformat": 4,
 "nbformat_minor": 1
}
