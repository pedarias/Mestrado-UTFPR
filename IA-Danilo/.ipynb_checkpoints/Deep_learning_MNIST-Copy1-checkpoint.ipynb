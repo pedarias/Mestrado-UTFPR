{
 "cells": [
  {
   "cell_type": "markdown",
   "metadata": {
    "id": "gBW6FqWxR-VT"
   },
   "source": [
    "# INTELIGÊNCIA ARTIFICIAL\n",
    "## **DEEP LEARNING**\n",
    "* https://www.tutorialspoint.com/keras/keras_convolution_neural_network.htm#\n",
    "* https://medium.com/data-hackers/uma-introdu%C3%A7%C3%A3o-as-redes-neurais-convolucionais-utilizando-o-keras-41ee8dcc033e"
   ]
  },
  {
   "cell_type": "markdown",
   "metadata": {
    "id": "-gKjdYprmcgL"
   },
   "source": [
    "#### **Base de Dados:**\n",
    "* Uma imagem preta e branca (grayscale) é representada como uma matrix 2D;\n",
    "* Em cada posição da matrix representa um pixel da imagem;\n",
    "* Os valores para cada elemento variam entre 0 (preto) até 255 (branco)"
   ]
  },
  {
   "cell_type": "markdown",
   "metadata": {
    "id": "Op5zGXn7TwQO"
   },
   "source": [
    "<center>\n",
    "<img src=\"https://miro.medium.com/v2/resize:fit:640/format:webp/1*8Ja5x9y-7-Mecxth7_zQOw.jpeg\">\n",
    "<figcaption>Representação grayscale. Fonte: Stanfor</figcaption>\n",
    "\n"
   ]
  },
  {
   "cell_type": "markdown",
   "metadata": {
    "id": "ybfegAY5nnJw"
   },
   "source": [
    "### **Camadas de Convoluções**\n",
    "\n",
    "* Matematicamente, uma convolução é uma operação linear que a partir de duas funções, gera uma terceira (normalmente chamada de **feature map**);\n",
    "* Podemos entender esse processo como um filtro/kernel que transforma uma imagem de entrada;\n",
    "* Um kernel é uma matrix utilizada para uma operação de multiplicação de matrizes;\n",
    "* Esta operação é aplicada diversas vezes em diferentes regiões da imagem."
   ]
  },
  {
   "cell_type": "markdown",
   "metadata": {
    "id": "gbpSPK_EWhy3"
   },
   "source": [
    "<center>\n",
    "<img src=\"https://www.researchgate.net/profile/Martin-Andreoni/publication/355261609/figure/fig6/AS:1081493766053894@1634859615362/Figura-46-Estrutura-simplificada-de-uma-rede-neural-convolucional-Convolutional-Neural.ppm\" width=\"700\"\n",
    "     height=\"200\">\n",
    "<figcaption>Estrutura simplificada de uma rede neural convolucional</figcaption>\n",
    "\n"
   ]
  },
  {
   "cell_type": "markdown",
   "metadata": {
    "id": "zeCnY3S-WfcY"
   },
   "source": [
    "### **Pooling**\n",
    "\n",
    "* É um processo simples de redução da dimensionalidade/features maps;\n",
    "* Busca diminuir a variância a pequenas alterações e também de reduzir a quantidade de parâmetros treinados pela rede;\n",
    "* Existem 3 operações diferentes de Pooling (MaxPooling, SumPooling, AvaragePooling)."
   ]
  },
  {
   "cell_type": "markdown",
   "metadata": {
    "id": "eGRw4NfBpR6Q"
   },
   "source": [
    "#### **Dropout**\n",
    "\n",
    "* A camada de Dropout é utilizada para evitar que determinadas partes da rede neural tenham muita responsabilidade e consequentemente, possam ficar muito sensíveis a pequenas alterações;\n",
    "* Essa camada recebe um hyper-parâmetro que define uma probabilidade de **desligar** determinada área da rede neural durante o processo de treinamento."
   ]
  },
  {
   "cell_type": "markdown",
   "metadata": {
    "id": "poHT512upkDi"
   },
   "source": [
    "#### **Flatten**\n",
    "\n",
    "* É utilizada na divisão das 2 partes da CNN (extração de características / rede neural tradicional );\n",
    "* Ela basicamente opera uma transformação na matrix da imagem, alterando seu formato para um array.\n",
    "* Exemplo, uma imagem em grayscale de 28x28 será transformada para um array de 784 posições."
   ]
  },
  {
   "cell_type": "markdown",
   "metadata": {
    "id": "OBEPUcsASYmX"
   },
   "source": [
    "## **Exemplo base dados mnist**\n",
    "* Reconhecimento de dígitos escritos a mão;\n",
    "* Formato grayscale representados por uma matrix 28x28\n",
    "\n",
    "<center>\n",
    "<img src=\"https://machinelearningmastery.com/wp-content/uploads/2019/02/Plot-of-a-Subset-of-Images-from-the-MNIST-Dataset-1024x768.png\" width=\"500\"\n",
    "     height=\"300\">\n",
    "<figcaption>Base de Dados MNIST</figcaption>"
   ]
  },
  {
   "cell_type": "markdown",
   "metadata": {
    "id": "iiNKyQ2Tz6G1"
   },
   "source": [
    "##### **Topologia**"
   ]
  },
  {
   "cell_type": "markdown",
   "metadata": {
    "id": "6ut1SajHUkmT"
   },
   "source": [
    "<center>\n",
    "<img src=\"https://miro.medium.com/v2/resize:fit:4800/format:webp/1*qgVD10M-KchTd-rfjGK2aQ.jpeg\" width=\"600\"\n",
    "     height=\"300\">\n",
    "<figcaption>Topologia CNN utilizada</figcaption>\n"
   ]
  },
  {
   "cell_type": "markdown",
   "metadata": {
    "id": "SaemdOUPVIjK"
   },
   "source": [
    "* Inicialmente é aplicado um processo de convolução com 32 filtros na imagem de entrada;\n",
    "* Aplica-se outro processo de convolução com 64 filtros;\n",
    "* Na próxima camada, aplica-se MaxPooling (reduzirá o tamanho para 14x14);\n",
    "* A nova dimensão é ajustada  em um array pela operação Flatten (64x14x14 = 12544)"
   ]
  },
  {
   "cell_type": "code",
   "execution_count": null,
   "metadata": {
    "id": "UwVvGjGPRPir"
   },
   "outputs": [],
   "source": [
    "# Importação das bibliotecas\n",
    "import matplotlib.pyplot as plt\n",
    "from keras.models import Sequential\n",
    "from keras.layers import Dense, Dropout, Flatten\n",
    "from keras.layers import Conv2D, MaxPooling2D\n",
    "from keras.utils import to_categorical\n",
    "import numpy as np\n",
    "from sklearn.metrics import accuracy_score\n",
    "from keras.datasets import mnist"
   ]
  },
  {
   "cell_type": "code",
   "execution_count": null,
   "metadata": {
    "colab": {
     "base_uri": "https://localhost:8080/",
     "height": 448
    },
    "id": "F4ex4KJgRPit",
    "outputId": "0c5c14bc-6e83-47e5-f42a-eb2a4ee06794"
   },
   "outputs": [
    {
     "data": {
      "text/plain": [
       "<matplotlib.image.AxesImage at 0x7c4739a0fd00>"
      ]
     },
     "execution_count": 10,
     "metadata": {},
     "output_type": "execute_result"
    },
    {
     "data": {
      "image/png": "[encoded data removed]",
      "text/plain": [
       "<Figure size 640x480 with 1 Axes>"
      ]
     },
     "metadata": {},
     "output_type": "display_data"
    }
   ],
   "source": [
    "# Obtenção dos dados e divisão automática entre treinamento e teste\n",
    "(X_treinamento, y_treinamento), (X_teste, y_teste) = mnist.load_data()\n",
    "# Visualização de imagens específicas\n",
    "plt.imshow(X_treinamento[5], cmap = 'gray')"
   ]
  },
  {
   "cell_type": "code",
   "execution_count": null,
   "metadata": {
    "colab": {
     "base_uri": "https://localhost:8080/"
    },
    "id": "mKvrdf8VrqVl",
    "outputId": "5c1c91ed-7eb7-46fb-dc93-e8e9eec5545e"
   },
   "outputs": [
    {
     "data": {
      "text/plain": [
       "(60000, 28, 28)"
      ]
     },
     "execution_count": 11,
     "metadata": {},
     "output_type": "execute_result"
    }
   ],
   "source": [
    "X_treinamento.shape"
   ]
  },
  {
   "cell_type": "code",
   "execution_count": null,
   "metadata": {
    "colab": {
     "base_uri": "https://localhost:8080/"
    },
    "id": "eQqxovfrryjW",
    "outputId": "1a3a4166-539d-4c22-dd05-ba42ccb53746"
   },
   "outputs": [
    {
     "data": {
      "text/plain": [
       "(10000, 28, 28)"
      ]
     },
     "execution_count": 12,
     "metadata": {},
     "output_type": "execute_result"
    }
   ],
   "source": [
    "X_teste.shape"
   ]
  },
  {
   "cell_type": "code",
   "execution_count": null,
   "metadata": {
    "id": "ODl1HtmGRPit"
   },
   "outputs": [],
   "source": [
    "# Transformação dos dados para float para podermos normalizar os dados\n",
    "X_treinamento = X_treinamento.astype('float32')\n",
    "X_teste = X_teste.astype('float32')"
   ]
  },
  {
   "cell_type": "code",
   "execution_count": null,
   "metadata": {
    "id": "HM2B7ZcFRPit"
   },
   "outputs": [],
   "source": [
    "# Normalização (255 é o valor máximo de um pixel)\n",
    "X_treinamento /= 255\n",
    "X_teste /= 255"
   ]
  },
  {
   "cell_type": "code",
   "execution_count": null,
   "metadata": {
    "colab": {
     "base_uri": "https://localhost:8080/"
    },
    "id": "HkpBpthHRPiu",
    "outputId": "71b7c9c8-31ec-484d-d62c-221e029de170"
   },
   "outputs": [
    {
     "data": {
      "text/plain": [
       "array([0., 0., 0., 0., 0., 0., 0., 1., 0., 0.], dtype=float32)"
      ]
     },
     "execution_count": 15,
     "metadata": {},
     "output_type": "execute_result"
    }
   ],
   "source": [
    "# Transformação para o formato dummy (temos 10 classes)\n",
    "y_treinamento = to_categorical(y_treinamento, 10)\n",
    "y_teste = to_categorical(y_teste, 10)\n",
    "y_teste[0]"
   ]
  },
  {
   "cell_type": "code",
   "execution_count": null,
   "metadata": {
    "id": "tjA2M_amXLFu"
   },
   "outputs": [],
   "source": [
    "modelo = Sequential()\n",
    "modelo.add(Conv2D(32, (5,5), activation='relu', input_shape=(28, 28,1)))\n",
    "modelo.add(Conv2D(64, (5,5), activation='relu'))\n",
    "modelo.add(MaxPooling2D(pool_size=(2,2)))\n",
    "\n",
    "modelo.add(Flatten())\n",
    "modelo.add(Dense(128, activation='relu'))\n",
    "\n",
    "modelo.add(Dense(10, activation='softmax'))"
   ]
  },
  {
   "cell_type": "code",
   "execution_count": null,
   "metadata": {
    "colab": {
     "base_uri": "https://localhost:8080/"
    },
    "id": "729-maxPRPiu",
    "outputId": "196555e6-2e35-49a3-c009-1cc5370875f2"
   },
   "outputs": [
    {
     "name": "stdout",
     "output_type": "stream",
     "text": [
      "Model: \"sequential\"\n",
      "_________________________________________________________________\n",
      " Layer (type)                Output Shape              Param #   \n",
      "=================================================================\n",
      " conv2d (Conv2D)             (None, 24, 24, 32)        832       \n",
      "                                                                 \n",
      " conv2d_1 (Conv2D)           (None, 20, 20, 64)        51264     \n",
      "                                                                 \n",
      " max_pooling2d (MaxPooling2  (None, 10, 10, 64)        0         \n",
      " D)                                                              \n",
      "                                                                 \n",
      " flatten (Flatten)           (None, 6400)              0         \n",
      "                                                                 \n",
      " dense (Dense)               (None, 128)               819328    \n",
      "                                                                 \n",
      " dense_1 (Dense)             (None, 10)                1290      \n",
      "                                                                 \n",
      "=================================================================\n",
      "Total params: 872714 (3.33 MB)\n",
      "Trainable params: 872714 (3.33 MB)\n",
      "Non-trainable params: 0 (0.00 Byte)\n",
      "_________________________________________________________________\n"
     ]
    }
   ],
   "source": [
    "# Visualização da estrutura da rede neural\n",
    "modelo.summary()"
   ]
  },
  {
   "cell_type": "code",
   "execution_count": null,
   "metadata": {
    "colab": {
     "base_uri": "https://localhost:8080/"
    },
    "id": "2F9M78onRPiu",
    "outputId": "45d45441-ca5d-47e4-b9f3-3735a674c98b"
   },
   "outputs": [
    {
     "name": "stdout",
     "output_type": "stream",
     "text": [
      "Epoch 1/5\n",
      "1875/1875 [==============================] - 152s 81ms/step - loss: 0.0998 - accuracy: 0.9696 - val_loss: 0.0465 - val_accuracy: 0.9860\n",
      "Epoch 2/5\n",
      "1875/1875 [==============================] - 158s 85ms/step - loss: 0.0353 - accuracy: 0.9891 - val_loss: 0.0362 - val_accuracy: 0.9876\n",
      "Epoch 3/5\n",
      "1875/1875 [==============================] - 147s 78ms/step - loss: 0.0229 - accuracy: 0.9930 - val_loss: 0.0312 - val_accuracy: 0.9903\n",
      "Epoch 4/5\n",
      "1875/1875 [==============================] - 145s 77ms/step - loss: 0.0155 - accuracy: 0.9951 - val_loss: 0.0347 - val_accuracy: 0.9905\n",
      "Epoch 5/5\n",
      "1875/1875 [==============================] - 145s 78ms/step - loss: 0.0121 - accuracy: 0.9960 - val_loss: 0.0345 - val_accuracy: 0.9903\n"
     ]
    }
   ],
   "source": [
    "# Configuração dos parâmetros da rede neural e treinamento (utilizando base de dados de validação)\n",
    "# Na variável historico temos os histórico das execuções (erro e accuracy)\n",
    "modelo.compile(optimizer = 'adam', loss = 'categorical_crossentropy',\n",
    "               metrics = ['accuracy'])\n",
    "historico = modelo.fit(X_treinamento, y_treinamento, epochs = 5,\n",
    "                       validation_data = (X_teste, y_teste))"
   ]
  },
  {
   "cell_type": "code",
   "execution_count": null,
   "metadata": {
    "colab": {
     "base_uri": "https://localhost:8080/",
     "height": 448
    },
    "id": "_8XoFst8RPiv",
    "outputId": "dde27932-fc26-458b-9800-b01af93378b0"
   },
   "outputs": [
    {
     "data": {
      "text/plain": [
       "[<matplotlib.lines.Line2D at 0x7c473590ee30>]"
      ]
     },
     "execution_count": 19,
     "metadata": {},
     "output_type": "execute_result"
    },
    {
     "data": {
      "image/png": "[encoded data removed]",
      "text/plain": [
       "<Figure size 640x480 with 1 Axes>"
      ]
     },
     "metadata": {},
     "output_type": "display_data"
    }
   ],
   "source": [
    "# Gráfico para visualizar os erros e accuracy\n",
    "historico.history.keys()\n",
    "#evolução do erro, azul\n",
    "plt.plot(historico.history['accuracy'])\n",
    "#performance da rede\n",
    "plt.plot(historico.history['val_accuracy'])"
   ]
  },
  {
   "cell_type": "markdown",
   "metadata": {
    "id": "nUt_wH0mmGhI"
   },
   "source": [
    "##### Acurácia final do modelo"
   ]
  },
  {
   "cell_type": "code",
   "execution_count": null,
   "metadata": {
    "colab": {
     "base_uri": "https://localhost:8080/"
    },
    "id": "rT2fqQc7SNKi",
    "outputId": "7ce587eb-2e69-4dce-e2b5-d6fb94f46f4d"
   },
   "outputs": [
    {
     "name": "stdout",
     "output_type": "stream",
     "text": [
      "313/313 - 10s - loss: 0.0345 - accuracy: 0.9903 - 10s/epoch - 33ms/step\n"
     ]
    }
   ],
   "source": [
    "test_loss, test_acc = modelo.evaluate(X_teste,  y_teste, verbose=2)"
   ]
  },
  {
   "cell_type": "code",
   "execution_count": null,
   "metadata": {
    "colab": {
     "base_uri": "https://localhost:8080/"
    },
    "id": "XjYYxZ-9Sagx",
    "outputId": "fcbb878e-94e0-44e8-cdbd-a76a164b6010"
   },
   "outputs": [
    {
     "name": "stdout",
     "output_type": "stream",
     "text": [
      "0.9902999997138977\n"
     ]
    }
   ],
   "source": [
    "print(f'Acurácia: {test_acc} - Erro: {test_loss}')"
   ]
  },
  {
   "cell_type": "markdown",
   "metadata": {
    "id": "6Ary4PIR2i7S"
   },
   "source": []
  }
 ],
 "metadata": {
  "colab": {
   "provenance": []
  },
  "jupytext": {
   "cell_metadata_filter": "-all",
   "main_language": "python",
   "notebook_metadata_filter": "-all"
  },
  "kernelspec": {
   "display_name": "Python 3 (ipykernel)",
   "language": "python",
   "name": "python3"
  },
  "language_info": {
   "codemirror_mode": {
    "name": "ipython",
    "version": 3
   },
   "file_extension": ".py",
   "mimetype": "text/x-python",
   "name": "python",
   "nbconvert_exporter": "python",
   "pygments_lexer": "ipython3",
   "version": "3.11.5"
  }
 },
 "nbformat": 4,
 "nbformat_minor": 1
}
