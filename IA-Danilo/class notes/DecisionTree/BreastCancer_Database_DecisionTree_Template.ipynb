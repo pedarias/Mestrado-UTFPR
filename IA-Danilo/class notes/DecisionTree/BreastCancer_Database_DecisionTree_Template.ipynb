{
  "cells": [
    {
      "cell_type": "markdown",
      "metadata": {
        "id": "XAnvGG3yhArc"
      },
      "source": [
        "### ------------------------------------------------------------------------\n",
        "### Aula Inteligência Artificial\n",
        "### Modelos Preditivos de avaliação\n",
        "### Algoritmo:  Árvore de Decisão\n",
        "### -------------------------------------------------------------------------"
      ]
    },
    {
      "cell_type": "markdown",
      "metadata": {
        "id": "wI9NMWmlhArh"
      },
      "source": [
        "#### Base de dados: Breast Cancer\n",
        "* https://www.kaggle.com/datasets/uciml/breast-cancer-wisconsin-data"
      ]
    },
    {
      "cell_type": "code",
      "execution_count": null,
      "metadata": {
        "id": "dWzOfVwjhArh"
      },
      "outputs": [],
      "source": [
        "import pandas"
      ]
    },
    {
      "cell_type": "code",
      "execution_count": null,
      "metadata": {
        "id": "QZTEgikbhArj"
      },
      "outputs": [],
      "source": [
        "# carrega a base de dados\n"
      ]
    },
    {
      "cell_type": "markdown",
      "source": [
        "#### Análise da Base"
      ],
      "metadata": {
        "id": "aBgidFSuMTar"
      }
    },
    {
      "cell_type": "code",
      "source": [],
      "metadata": {
        "id": "0JIiLQ5zNO7J"
      },
      "execution_count": null,
      "outputs": []
    },
    {
      "cell_type": "code",
      "execution_count": null,
      "metadata": {
        "id": "yj-xtU_fhArk"
      },
      "outputs": [],
      "source": []
    },
    {
      "cell_type": "code",
      "source": [],
      "metadata": {
        "id": "ZXtL37HG9HJT"
      },
      "execution_count": null,
      "outputs": []
    },
    {
      "cell_type": "code",
      "source": [],
      "metadata": {
        "id": "R27vRX92XlV8"
      },
      "execution_count": null,
      "outputs": []
    },
    {
      "cell_type": "markdown",
      "source": [
        "#### Pré-processamento"
      ],
      "metadata": {
        "id": "Y5yL7eKXMZVu"
      }
    },
    {
      "cell_type": "code",
      "source": [
        "from sklearn.preprocessing import LabelEncoder"
      ],
      "metadata": {
        "id": "gWHHEvBqO7sx"
      },
      "execution_count": null,
      "outputs": []
    },
    {
      "cell_type": "code",
      "source": [],
      "metadata": {
        "id": "ynimOKN370Ot"
      },
      "execution_count": null,
      "outputs": []
    },
    {
      "cell_type": "code",
      "execution_count": null,
      "metadata": {
        "id": "9KpHZO88hArj"
      },
      "outputs": [],
      "source": []
    },
    {
      "cell_type": "code",
      "execution_count": null,
      "metadata": {
        "id": "DxYaj83ZhArl"
      },
      "outputs": [],
      "source": []
    },
    {
      "cell_type": "markdown",
      "source": [
        "#### Separação entre treino e teste"
      ],
      "metadata": {
        "id": "U42smclwMcHG"
      }
    },
    {
      "cell_type": "code",
      "source": [
        "from sklearn.model_selection import train_test_split"
      ],
      "metadata": {
        "id": "HMSbtWHkO__A"
      },
      "execution_count": null,
      "outputs": []
    },
    {
      "cell_type": "code",
      "execution_count": null,
      "metadata": {
        "id": "I6j8RK_ZhArm"
      },
      "outputs": [],
      "source": []
    },
    {
      "cell_type": "markdown",
      "source": [
        "#### Algoritmo Árvore de Decisão"
      ],
      "metadata": {
        "id": "I4bq_dgxMflZ"
      }
    },
    {
      "cell_type": "code",
      "source": [
        "from sklearn.tree import DecisionTreeClassifier"
      ],
      "metadata": {
        "id": "wY89S0kPPE73"
      },
      "execution_count": null,
      "outputs": []
    },
    {
      "cell_type": "code",
      "source": [],
      "metadata": {
        "id": "qXQ6gjz-OQzo"
      },
      "execution_count": null,
      "outputs": []
    },
    {
      "cell_type": "code",
      "source": [],
      "metadata": {
        "id": "kSCT7bfkAs1E"
      },
      "execution_count": null,
      "outputs": []
    },
    {
      "cell_type": "code",
      "source": [],
      "metadata": {
        "id": "NYSUXOyxAuz-"
      },
      "execution_count": null,
      "outputs": []
    },
    {
      "cell_type": "markdown",
      "metadata": {
        "id": "nz2IfG39hArm"
      },
      "source": [
        "### Importando métricas do Sklearn"
      ]
    },
    {
      "cell_type": "code",
      "execution_count": null,
      "metadata": {
        "id": "TaIgxJqahArn"
      },
      "outputs": [],
      "source": [
        "from sklearn.metrics import accuracy_score"
      ]
    },
    {
      "cell_type": "markdown",
      "metadata": {
        "id": "0YhavJMVhArn"
      },
      "source": [
        "### Acuracidade"
      ]
    },
    {
      "cell_type": "code",
      "execution_count": null,
      "metadata": {
        "id": "UuJ7-FhghArn"
      },
      "outputs": [],
      "source": []
    },
    {
      "cell_type": "code",
      "source": [],
      "metadata": {
        "id": "7CopZ1VCvGLf"
      },
      "execution_count": null,
      "outputs": []
    },
    {
      "cell_type": "markdown",
      "metadata": {
        "id": "dNWxQ5ethArn"
      },
      "source": [
        "### Matriz Confusão"
      ]
    },
    {
      "cell_type": "code",
      "execution_count": null,
      "metadata": {
        "id": "WLBFzOAWhArn"
      },
      "outputs": [],
      "source": [
        "from sklearn.metrics import confusion_matrix, ConfusionMatrixDisplay"
      ]
    },
    {
      "cell_type": "code",
      "execution_count": null,
      "metadata": {
        "id": "86d_l1VZhAro"
      },
      "outputs": [],
      "source": []
    },
    {
      "cell_type": "markdown",
      "source": [
        "#### Plotando a árvore"
      ],
      "metadata": {
        "id": "r7nwmF6cOJ3K"
      }
    },
    {
      "cell_type": "code",
      "source": [
        "import matplotlib.pyplot as plt\n",
        "from sklearn import tree"
      ],
      "metadata": {
        "id": "bkLrfobCPJan"
      },
      "execution_count": null,
      "outputs": []
    },
    {
      "cell_type": "code",
      "execution_count": null,
      "metadata": {
        "scrolled": false,
        "id": "OPz92ZBehArm"
      },
      "outputs": [],
      "source": [
        "fig = plt.figure(figsize=(20,8))\n",
        "\n",
        "tree.plot_tree(clf,\n",
        "                   feature_names=dados.columns.drop('diagnosis'),\n",
        "                   class_names=['benign', 'malignant'],\n",
        "                   filled=False)\n",
        "\n",
        "# tree.plot_tree(clf)\n",
        "\n",
        "plt.show()\n"
      ]
    }
  ],
  "metadata": {
    "kernelspec": {
      "display_name": "Python 3 (ipykernel)",
      "language": "python",
      "name": "python3"
    },
    "language_info": {
      "codemirror_mode": {
        "name": "ipython",
        "version": 3
      },
      "file_extension": ".py",
      "mimetype": "text/x-python",
      "name": "python",
      "nbconvert_exporter": "python",
      "pygments_lexer": "ipython3",
      "version": "3.10.4"
    },
    "colab": {
      "provenance": []
    }
  },
  "nbformat": 4,
  "nbformat_minor": 0
}