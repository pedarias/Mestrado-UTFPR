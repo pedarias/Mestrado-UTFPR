{
  "nbformat": 4,
  "nbformat_minor": 0,
  "metadata": {
    "colab": {
      "provenance": []
    },
    "kernelspec": {
      "name": "python3",
      "display_name": "Python 3"
    }
  },
  "cells": [
    {
      "cell_type": "markdown",
      "source": [
        "## Exemplo de representação por dicionários"
      ],
      "metadata": {
        "id": "UkLZ3y4cmvlx"
      }
    },
    {
      "cell_type": "code",
      "source": [
        "# Construção manual do dicionário\n",
        "def criaListaAdj():\n",
        "  listaAdj = {\n",
        "              'Arad': {'Sibiu': 140, 'Zerind': 75, 'Timisoara': 118},\n",
        "              'Zerind': {'Arad': 75, 'Oradea': 71},\n",
        "              'Oradea': {'Zerind': 71, 'Sibiu': 151},\n",
        "              'Sibiu': {'Arad': 140, 'Oradea': 151, 'Fagaras': 99, 'Rimnicu': 80},\\\n",
        "              'Timisoara': {'Arad': 118, 'Lugoj': 111},\n",
        "              'Lugoj': {'Timisoara': 111, 'Mehadia': 70},\n",
        "              'Mehadia': {'Lugoj': 70, 'Dobreta': 75},\n",
        "              'Dobreta': {'Mehadia': 75, 'Craiova': 120},\n",
        "              'Craiova': {'Dobreta': 120, 'Rimnicu': 146, 'Pitesti': 138},\n",
        "              'Rimnicu': {'Sibiu': 80, 'Craiova': 146, 'Pitesti': 97},\n",
        "              'Fagaras': {'Sibiu': 99, 'Bucharest': 211},\n",
        "              'Pitesti': {'Rimnicu': 97, 'Craiova': 138, 'Bucharest': 101},\n",
        "              'Bucharest': {'Fagaras': 211, 'Pitesti': 101, 'Giurgiu': 90, 'Urziceni': 85},\n",
        "              'Giurgiu': {'Bucharest': 90},\n",
        "              'Urziceni': {'Bucharest': 85, 'Vaslui': 142, 'Hirsova': 98},\n",
        "              'Hirsova': {'Urziceni': 98, 'Eforie': 86},\n",
        "              'Eforie': {'Hirsova': 86},\n",
        "              'Vaslui': {'Iasi': 92, 'Urziceni': 142},\n",
        "              'Iasi': {'Vaslui': 92, 'Neamt': 87},\n",
        "              'Neamt': {'Iasi': 87}\n",
        "          }\n",
        "  return listaAdj"
      ],
      "metadata": {
        "id": "uex10GT6LZxz"
      },
      "execution_count": null,
      "outputs": []
    },
    {
      "cell_type": "code",
      "source": [
        "# Gera a lista adjacencia\n",
        "cidades = criaListaAdj()\n",
        "cidades"
      ],
      "metadata": {
        "colab": {
          "base_uri": "https://localhost:8080/"
        },
        "id": "akEm-_4FEaTT",
        "outputId": "1b27a87a-d89d-41bf-90f8-b1ca1463f28b"
      },
      "execution_count": null,
      "outputs": [
        {
          "output_type": "execute_result",
          "data": {
            "text/plain": [
              "{'Arad': {'Sibiu': 140, 'Zerind': 75, 'Timisoara': 118},\n",
              " 'Zerind': {'Arad': 75, 'Oradea': 71},\n",
              " 'Oradea': {'Zerind': 71, 'Sibiu': 151},\n",
              " 'Sibiu': {'Arad': 140, 'Oradea': 151, 'Fagaras': 99, 'Rimnicu': 80},\n",
              " 'Timisoara': {'Arad': 118, 'Lugoj': 111},\n",
              " 'Lugoj': {'Timisoara': 111, 'Mehadia': 70},\n",
              " 'Mehadia': {'Lugoj': 70, 'Dobreta': 75},\n",
              " 'Dobreta': {'Mehadia': 75, 'Craiova': 120},\n",
              " 'Craiova': {'Dobreta': 120, 'Rimnicu': 146, 'Pitesti': 138},\n",
              " 'Rimnicu': {'Sibiu': 80, 'Craiova': 146, 'Pitesti': 97},\n",
              " 'Fagaras': {'Sibiu': 99, 'Bucharest': 211},\n",
              " 'Pitesti': {'Rimnicu': 97, 'Craiova': 138, 'Bucharest': 101},\n",
              " 'Bucharest': {'Fagaras': 211, 'Pitesti': 101, 'Giurgiu': 90, 'Urziceni': 85},\n",
              " 'Giurgiu': {'Bucharest': 90},\n",
              " 'Urziceni': {'Bucharest': 85, 'Vaslui': 142, 'Hirsova': 98},\n",
              " 'Hirsova': {'Urziceni': 98, 'Eforie': 86},\n",
              " 'Eforie': {'Hirsova': 86},\n",
              " 'Vaslui': {'Iasi': 92, 'Urziceni': 142},\n",
              " 'Iasi': {'Vaslui': 92, 'Neamt': 87},\n",
              " 'Neamt': {'Iasi': 87}}"
            ]
          },
          "metadata": {},
          "execution_count": 2
        }
      ]
    },
    {
      "cell_type": "code",
      "source": [
        "cidades['Arad']"
      ],
      "metadata": {
        "id": "YCZHKkx1VP8V",
        "colab": {
          "base_uri": "https://localhost:8080/"
        },
        "outputId": "664dd1e0-1ec9-4649-f0ba-c6cbd7b5410a"
      },
      "execution_count": null,
      "outputs": [
        {
          "output_type": "execute_result",
          "data": {
            "text/plain": [
              "{'Sibiu': 140, 'Zerind': 75, 'Timisoara': 118}"
            ]
          },
          "metadata": {},
          "execution_count": 10
        }
      ]
    },
    {
      "cell_type": "code",
      "source": [
        "def vizinhos(cidade):\n",
        "  return list(cidades[cidade].keys())"
      ],
      "metadata": {
        "id": "rqYr7MDgYo-e"
      },
      "execution_count": null,
      "outputs": []
    },
    {
      "cell_type": "code",
      "source": [
        "print(vizinhos('Sibiu'))"
      ],
      "metadata": {
        "colab": {
          "base_uri": "https://localhost:8080/"
        },
        "id": "hu8zHArYY1Ak",
        "outputId": "23ee2b47-5637-4c98-c240-88650bb87d32"
      },
      "execution_count": null,
      "outputs": [
        {
          "output_type": "stream",
          "name": "stdout",
          "text": [
            "['Arad', 'Oradea', 'Fagaras', 'Rimnicu']\n"
          ]
        }
      ]
    }
  ]
}