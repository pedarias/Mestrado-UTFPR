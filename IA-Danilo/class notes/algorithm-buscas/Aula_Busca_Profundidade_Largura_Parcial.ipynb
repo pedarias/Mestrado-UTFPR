{
 "cells": [
  {
   "cell_type": "markdown",
   "metadata": {
    "id": "r2ZZwVzmSD9w"
   },
   "source": [
    "Exemplo de busca em profundidade\n",
    "\n",
    "*   Construção do Grafo (Espaço de estados) como um grafo direcionado\n",
    "*   Considera os dados do arquivo \"cidades.txt\""
   ]
  },
  {
   "cell_type": "code",
   "execution_count": 6,
   "metadata": {
    "id": "uex10GT6LZxz"
   },
   "outputs": [],
   "source": [
    "# Construção manual do dicionário\n",
    "def criaListaAdj():\n",
    "  listaAdj = {\n",
    "              'Arad': {'Sibiu': 140, 'Zerind': 75, 'Timisoara': 118 },\n",
    "              'Zerind': {'Arad': 75, 'Oradea': 71},\n",
    "              'Oradea': {'Zerind': 71, 'Sibiu': 151},\n",
    "              'Sibiu': {'Arad': 140, 'Oradea': 151, 'Fagaras': 99, 'Rimnicu': 80},\\\n",
    "              'Timisoara': {'Arad': 118, 'Lugoj': 111},\n",
    "              'Lugoj': {'Timisoara': 111, 'Mehadia': 70},\n",
    "              'Mehadia': {'Lugoj': 70, 'Dobreta': 75},\n",
    "              'Dobreta': {'Mehadia': 75, 'Craiova': 120},\n",
    "              'Craiova': {'Dobreta': 120, 'Rimnicu': 146, 'Pitesti': 138},\n",
    "              'Rimnicu': {'Sibiu': 80, 'Craiova': 146, 'Pitesti': 97},\n",
    "              'Fagaras': {'Sibiu': 99, 'Bucharest': 211},\n",
    "              'Pitesti': {'Rimnicu': 97, 'Craiova': 138, 'Bucharest': 101},\n",
    "              'Bucharest': {'Fagaras': 211, 'Pitesti': 101, 'Giurgiu': 90, 'Urziceni': 85},\n",
    "              'Giurgiu': {'Bucharest': 90},\n",
    "              'Urziceni': {'Bucharest': 85, 'Vaslui': 142, 'Hirsova': 98},\n",
    "              'Hirsova': {'Urziceni': 98, 'Eforie': 86},\n",
    "              'Eforie': {'Hirsova': 86},\n",
    "              'Vaslui': {'Iasi': 92, 'Urziceni': 142},\n",
    "              'Iasi': {'Vaslui': 92, 'Neamt': 87},\n",
    "              'Neamt': {'Iasi': 87}\n",
    "          }\n",
    "  return listaAdj"
   ]
  },
  {
   "cell_type": "code",
   "execution_count": null,
   "metadata": {},
   "outputs": [],
   "source": [
    "# Função Busca em Profundidade1\n",
    "def dfs(listaAdj, cidade, objetivo):\n",
    "\n",
    "  # Cria as listas fronteira e visitados\n",
    "  fronteira = [cidade]\n",
    "  visitados = []\n",
    "\n",
    "  # Enquanto existirem cidades na fronteira\n",
    "  while fronteira:\n",
    "\n",
    "    # Pega a cidade que foi inserida por último (estrutura de pilha)\n",
    "    cidade_atual = fronteira.pop()\n",
    "\n",
    "    # Inclua a cidade na lista de visitados\n",
    "    visitados.append(cidade_atual)\n",
    "\n",
    "    # Verifica se alcançou a cidade destino\n",
    "    if cidade_atual == objetivo:\n",
    "      break\n",
    "\n",
    "    # Inclui as cidades vizinhas na fronteira\n",
    "    for vizinho in listaAdj[cidade_atual]:\n",
    "      if vizinho not in visitados and vizinho not in fronteira:\n",
    "        fronteira.append(vizinho)\n",
    "\n",
    "  # Retorna a lista de cidades visitadas\n",
    "  return visitados\n",
    "\n",
    "# Exemplo de uso\n",
    "listaAdj = criaListaAdj()\n",
    "cidade_inicial = 'Arad'\n",
    "cidade_objetivo = 'Bucharest'\n",
    "caminho = dfs(listaAdj, cidade_inicial, cidade_objetivo)\n",
    "print(caminho)"
   ]
  },
  {
   "cell_type": "code",
   "execution_count": 7,
   "metadata": {
    "id": "yGFkusJRnB6r"
   },
   "outputs": [],
   "source": [
    "#Função Busca em Profundidade - DANILO\n",
    "def dfs(listaAdj, cidade, objetivo):\n",
    "\n",
    "  # Cria as listas fronteiras  e visitados      \n",
    "  fronteira = [] #pilha\n",
    "  visitados = []\n",
    "\n",
    "  # adiciona a primeira cidade na fronteira\n",
    "  ######### Inlcuir o código aqui\n",
    "  fronteira.append(cidade)  \n",
    "\n",
    "  # Enquanto existir cidades na fronteira\n",
    "  while fronteira:\n",
    "\n",
    "    # Pega a cidade que foi inserido por último (estrutura pilha)\n",
    "    ## Percurso prioriza o caminho pela profundidade do nó\n",
    "\n",
    "    ######### Inlcuir o código aqui\n",
    "    s = fronteira.pop()\n",
    "    \n",
    "    # Inclua a cidade na lista de visitados\n",
    "    visitados.append(s)\n",
    "\n",
    "    # verifica se alcançou a cidade destino\n",
    "    if s == objetivo:\n",
    "      break\n",
    "\n",
    "    # Inclui as cidades vizinhas na fronteira\n",
    "\n",
    "    ######### Inlcuir o código aqui\n",
    "    for vizinho in listaAdj[s].keys():\n",
    "        if vizinho not in visitados:\n",
    "            fronteira.append(vizinho)\n",
    "        \n",
    "\n",
    "  # retorna a lista de cidades visitadas\n",
    "  return visitados"
   ]
  },
  {
   "cell_type": "code",
   "execution_count": null,
   "metadata": {},
   "outputs": [],
   "source": [
    "#Função Busca em Largura1\n",
    "def bfs(listaAdj, cidade, objetivo):\n",
    "  fronteira = [cidade] #list used as a queue to keep track of cities to be explored. \n",
    "  visitados = set() #set to keep track of visited cities.\n",
    "\n",
    "  while fronteira:\n",
    "    cidade_atual = fronteira.pop(0)  # Remove the first city (FIFO- First-In-First-Out))\n",
    "\n",
    "    visitados.add(cidade_atual) #keep track of visited cities.\n",
    "\n",
    "    if cidade_atual == objetivo:\n",
    "      break\n",
    "\n",
    "    for vizinho in listaAdj[cidade_atual]: #Iterate through the neighbors (vizinhos) of cidade_atual\n",
    "      if vizinho not in visitados and vizinho not in fronteira: #Check if it has not been visited and is not already in the fronteira\n",
    "        fronteira.append(vizinho)\n",
    "\n",
    "  return list(visitados)\n",
    "\n",
    "# Exemplo de uso\n",
    "listaAdj = criaListaAdj()\n",
    "cidade_inicial = 'Arad'\n",
    "cidade_objetivo = 'Bucharest'\n",
    "caminho = bfs(listaAdj, cidade_inicial, cidade_objetivo)\n",
    "print(caminho)\n"
   ]
  },
  {
   "cell_type": "code",
   "execution_count": 12,
   "metadata": {
    "id": "_w-4LANAkhsQ"
   },
   "outputs": [],
   "source": [
    "#Função Busca em Largura - DANILO\n",
    "def bfs(listaAdj, cidade, objetivo):\n",
    "\n",
    "  # Cria as listas fronteiras  e visitados\n",
    "  fronteira = []\n",
    "  visitados = []\n",
    "\n",
    "  # adiciona a primeira cidade na fronteira\n",
    "  ######### Inlcuir o código aqui\n",
    "  fronteira.append(cidade)  \n",
    "   # Enquanto existir cidades na fronteira\n",
    "  while fronteira:\n",
    "\n",
    "    # Pega a cidade que foi inserido primeiro (estrutura fila)\n",
    "    ## Percurso prioriza o caminho mais raso\n",
    "    print(f'fonteira atual: {fronteira}')\n",
    "\n",
    "    ######### Inlcuir o código aqui\n",
    "    s = fronteira.pop(0) #remove do inicio\n",
    "    \n",
    "    # Inclua a cidade na lista de visitados\n",
    "    visitados.append(s)\n",
    "\n",
    "     # verifica se alcançou a cidade destino\n",
    "    if s == objetivo:\n",
    "      break\n",
    "\n",
    "    # Inclui as cidades vizinhas na fronteira\n",
    "    \n",
    "    ######### Inlcuir o código aqui\n",
    "    for vizinho in listaAdj[s].keys():\n",
    "        if vizinho not in visitados:\n",
    "            fronteira.append(vizinho) #jogo no final e tiro do inicio\n",
    "  # retorna a lista de cidades visitadas\n",
    "  return visitados"
   ]
  },
  {
   "cell_type": "code",
   "execution_count": 8,
   "metadata": {
    "colab": {
     "base_uri": "https://localhost:8080/"
    },
    "executionInfo": {
     "elapsed": 5,
     "status": "ok",
     "timestamp": 1693350946518,
     "user": {
      "displayName": "DANILO SIPOLI SANCHES",
      "userId": "11160205893438547738"
     },
     "user_tz": 180
    },
    "id": "Sa2KzC58dtKD",
    "outputId": "53d678a0-2848-4565-b972-0faafaa7502b"
   },
   "outputs": [
    {
     "name": "stdout",
     "output_type": "stream",
     "text": [
      "['Arad', 'Timisoara', 'Lugoj', 'Mehadia', 'Dobreta', 'Craiova', 'Pitesti', 'Bucharest']\n"
     ]
    }
   ],
   "source": [
    "# Execução\n",
    "cidades= criaListaAdj()\n",
    "#cidades.items()\n",
    "######### Inlcuir o código aqui\n",
    "listaDFS = dfs(cidades, 'Arad', 'Bucharest')\n",
    "print (listaDFS)"
   ]
  },
  {
   "cell_type": "code",
   "execution_count": 14,
   "metadata": {},
   "outputs": [
    {
     "name": "stdout",
     "output_type": "stream",
     "text": [
      "fonteira atual: ['Arad']\n",
      "fonteira atual: ['Sibiu', 'Zerind', 'Timisoara']\n",
      "fonteira atual: ['Zerind', 'Timisoara', 'Oradea', 'Fagaras', 'Rimnicu']\n",
      "fonteira atual: ['Timisoara', 'Oradea', 'Fagaras', 'Rimnicu', 'Oradea']\n",
      "fonteira atual: ['Oradea', 'Fagaras', 'Rimnicu', 'Oradea', 'Lugoj']\n",
      "fonteira atual: ['Fagaras', 'Rimnicu', 'Oradea', 'Lugoj']\n",
      "fonteira atual: ['Rimnicu', 'Oradea', 'Lugoj', 'Bucharest']\n",
      "fonteira atual: ['Oradea', 'Lugoj', 'Bucharest', 'Craiova', 'Pitesti']\n",
      "fonteira atual: ['Lugoj', 'Bucharest', 'Craiova', 'Pitesti']\n",
      "fonteira atual: ['Bucharest', 'Craiova', 'Pitesti', 'Mehadia']\n",
      "sequencia: ['Arad', 'Sibiu', 'Zerind', 'Timisoara', 'Oradea', 'Fagaras', 'Rimnicu', 'Oradea', 'Lugoj', 'Bucharest']\n"
     ]
    }
   ],
   "source": [
    "# Execução\n",
    "cidades= criaListaAdj()\n",
    "#cidades.items()\n",
    "######### Inlcuir o código aqui\n",
    "listaBFS = bfs(cidades, 'Arad', 'Bucharest')\n",
    "print (f'sequencia: {listaBFS}') "
   ]
  },
  {
   "cell_type": "code",
   "execution_count": null,
   "metadata": {},
   "outputs": [],
   "source": []
  }
 ],
 "metadata": {
  "colab": {
   "provenance": []
  },
  "kernelspec": {
   "display_name": "Python 3 (ipykernel)",
   "language": "python",
   "name": "python3"
  },
  "language_info": {
   "codemirror_mode": {
    "name": "ipython",
    "version": 3
   },
   "file_extension": ".py",
   "mimetype": "text/x-python",
   "name": "python",
   "nbconvert_exporter": "python",
   "pygments_lexer": "ipython3",
   "version": "3.11.5"
  }
 },
 "nbformat": 4,
 "nbformat_minor": 1
}
