{
  "cells": [
    {
      "cell_type": "markdown",
      "metadata": {
        "id": "zB7-Ba0_l9Qb"
      },
      "source": [
        "# Tutorial Python\n",
        "## Introdução Numpy\n",
        "* https://numpy.org/doc/stable/reference/generated/numpy.ndarray.html\n",
        "* https://medium.com/programadores-ajudando-programadores/brincando-com-numpy-parte-1-vetores-vs-listas-51f4867ea0f1\n",
        "* https://www.geeksforgeeks.org/python-lists-vs-numpy-arrays/"
      ]
    },
    {
      "cell_type": "code",
      "execution_count": null,
      "metadata": {
        "id": "OI04MPtZjwn4"
      },
      "outputs": [],
      "source": [
        "import numpy as np"
      ]
    },
    {
      "cell_type": "code",
      "execution_count": null,
      "metadata": {
        "colab": {
          "base_uri": "https://localhost:8080/"
        },
        "id": "ZhUgy5a5j7zR",
        "outputId": "7c1bb06d-858a-4c55-d0e9-1e702a1b14f9"
      },
      "outputs": [
        {
          "output_type": "stream",
          "name": "stdout",
          "text": [
            "[12 34 26 18 10]\n",
            "<class 'numpy.ndarray'>\n",
            "[24 68 52 36 20]\n"
          ]
        }
      ],
      "source": [
        "# cria uma matriz unidimensional\n",
        "mt = np.array([12,34,26,18,10])\n",
        "print(mt)\n",
        "print(type(mt))\n",
        "\n",
        "# flexibilidade de operações matemáticas\n",
        "mt2 = mt * 2\n",
        "print(mt2)"
      ]
    },
    {
      "cell_type": "code",
      "source": [
        "lst = [10,20,30]\n",
        "print(lst)\n",
        "lst = lst*5\n",
        "print(lst)"
      ],
      "metadata": {
        "colab": {
          "base_uri": "https://localhost:8080/"
        },
        "id": "-gbleTgo7EPg",
        "outputId": "b05d5a87-4fb2-4ba1-876b-9f143ffdabe5"
      },
      "execution_count": null,
      "outputs": [
        {
          "output_type": "stream",
          "name": "stdout",
          "text": [
            "[10, 20, 30]\n",
            "[10, 20, 30, 10, 20, 30, 10, 20, 30, 10, 20, 30, 10, 20, 30]\n"
          ]
        }
      ]
    },
    {
      "cell_type": "code",
      "source": [
        "# Numpy array a partir de uma lista\n",
        "lst = [1,2,3,4,5,6]\n",
        "arr = np.array(lst)\n",
        "print(lst)\n",
        "print(arr)\n",
        "print(type(arr))"
      ],
      "metadata": {
        "id": "aqmbUaLFxLzq",
        "colab": {
          "base_uri": "https://localhost:8080/"
        },
        "outputId": "820168a9-16e2-451e-d669-eeda42e4a607"
      },
      "execution_count": null,
      "outputs": [
        {
          "output_type": "stream",
          "name": "stdout",
          "text": [
            "[1, 2, 3, 4, 5, 6]\n",
            "[1 2 3 4 5 6]\n",
            "<class 'numpy.ndarray'>\n"
          ]
        }
      ]
    },
    {
      "cell_type": "code",
      "execution_count": null,
      "metadata": {
        "id": "WUXRn4SHC3Kf",
        "outputId": "8224fd07-8f6f-4cdc-9b11-275eba083fb1",
        "colab": {
          "base_uri": "https://localhost:8080/"
        }
      },
      "outputs": [
        {
          "output_type": "stream",
          "name": "stdout",
          "text": [
            "[ 1  2  3  4  5  6  7  8  9 10 11 12 13 14]\n"
          ]
        }
      ],
      "source": [
        "# Cria um vetor sequencial\n",
        "mt = np.arange(1,15)\n",
        "print(mt)"
      ]
    },
    {
      "cell_type": "code",
      "execution_count": null,
      "metadata": {
        "colab": {
          "base_uri": "https://localhost:8080/"
        },
        "id": "bZGaK3KGkQCK",
        "outputId": "95a45ca1-b2fb-496f-b48f-746278ffce1b"
      },
      "outputs": [
        {
          "output_type": "stream",
          "name": "stdout",
          "text": [
            "[ 1.4       3.6      -5.1       9.42      4.999999]\n",
            "[ 1  3 -5  9  4]\n"
          ]
        }
      ],
      "source": [
        "#mudar o tipo do array\n",
        "# Podemos transformar tipos de dados de arrays\n",
        "mtnew = np.array([1.4, 3.6, -5.1, 9.42, 4.999999])\n",
        "print(mtnew)\n",
        "# quando transformamos de float para int os valores são truncados\n",
        "mtnewint = mtnew.astype(np.int64)\n",
        "print(mtnewint)"
      ]
    },
    {
      "cell_type": "code",
      "execution_count": null,
      "metadata": {
        "colab": {
          "base_uri": "https://localhost:8080/"
        },
        "id": "GPkQHO_AkVf6",
        "outputId": "03b7ab85-0207-47a7-9d61-247302230236"
      },
      "outputs": [
        {
          "output_type": "stream",
          "name": "stdout",
          "text": [
            "[1 2 3 4]\n",
            "[1. 2. 3. 4.]\n"
          ]
        }
      ],
      "source": [
        "# podemos fazer o inverso também.\n",
        "mt5 = np.array([1, 2, 3, 4])\n",
        "print(mt5)\n",
        "mt6 = mt5.astype(float)\n",
        "print(mt6)"
      ]
    },
    {
      "cell_type": "code",
      "execution_count": null,
      "metadata": {
        "colab": {
          "base_uri": "https://localhost:8080/"
        },
        "id": "MKnSocy2kZ5S",
        "outputId": "b8712df9-4f44-4442-efdf-8179ea119b39"
      },
      "outputs": [
        {
          "output_type": "stream",
          "name": "stdout",
          "text": [
            "[[ 7  2 23]\n",
            " [12 27  4]\n",
            " [ 5 34 23]]\n"
          ]
        }
      ],
      "source": [
        "# mais de uma dimensão\n",
        "# cria um matriz bidimensional\n",
        "mt7 = np.array([[7,2,23],[12,27,4],[5,34,23]])\n",
        "print(mt7)"
      ]
    },
    {
      "cell_type": "code",
      "execution_count": null,
      "metadata": {
        "colab": {
          "base_uri": "https://localhost:8080/"
        },
        "id": "lTw3VGFIknOZ",
        "outputId": "88e07946-2784-489b-b93b-dfd54840f692"
      },
      "outputs": [
        {
          "output_type": "stream",
          "name": "stdout",
          "text": [
            "[[0.60337343 0.3641359  0.65097095]\n",
            " [0.09702018 0.99544544 0.70381223]]\n",
            "-------\n",
            "[-0.13478156  1.15598738  2.41897141 -0.15450579 -0.66685042]\n",
            "-------\n",
            "[[ 8 24 21 64  9]\n",
            " [66 59  6 41 86]\n",
            " [37 28 47 67 67]]\n"
          ]
        }
      ],
      "source": [
        "#valores aleatórios entre zero e um\n",
        "rnd = np.random.random((6))\n",
        "print(rnd)\n",
        "print(\"-------\")\n",
        "#valores aleatórios distr. normal contendo negativos\n",
        "rnd2= np.random.randn((5))\n",
        "print(rnd2)\n",
        "print(\"-------\")\n",
        "# Valores inteiros aleatórios (3x5)\n",
        "rnd3 = np.random.randint(100, size=(3, 5))\n",
        "print(rnd3)"
      ]
    },
    {
      "cell_type": "code",
      "source": [],
      "metadata": {
        "id": "00w_yJkREAKO"
      },
      "execution_count": null,
      "outputs": []
    },
    {
      "cell_type": "code",
      "execution_count": null,
      "metadata": {
        "colab": {
          "base_uri": "https://localhost:8080/"
        },
        "id": "EVoyOEg1knRl",
        "outputId": "dcaaeffe-b7e0-4d5f-9a18-3c23d421a836"
      },
      "outputs": [
        {
          "output_type": "stream",
          "name": "stdout",
          "text": [
            "[0.1285702  0.49927786 0.60149836 0.02868901 0.14792608 0.92821102\n",
            " 0.07042058 0.12977395 0.94832845 0.62188359 0.36899312 0.51139002\n",
            " 0.66284295]\n",
            "[[9 2 8 1 3 7 2 6 4 5 9 8]]\n"
          ]
        }
      ],
      "source": [
        "#outra forma de gerar aleatórios\n",
        "#uso de semente\n",
        "gnr = np.random.default_rng(11)\n",
        "rnd = gnr.random(13)\n",
        "print (rnd)\n",
        "\n",
        "#gerar inteiros\n",
        "rnd = gnr.integers(10, size=(1, 12))\n",
        "print(rnd)"
      ]
    },
    {
      "cell_type": "code",
      "execution_count": null,
      "metadata": {
        "colab": {
          "base_uri": "https://localhost:8080/"
        },
        "id": "AQc45hmnknUQ",
        "outputId": "e475ea4c-89fc-48ef-c765-f1d83e33c2ce"
      },
      "outputs": [
        {
          "output_type": "stream",
          "name": "stdout",
          "text": [
            "[11 12 13 14 15 16 17 18 19 20]\n"
          ]
        }
      ],
      "source": [
        "#unique remove repetições\n",
        "j = np.array([11, 12, 13, 14, 15, 16, 17, 12, 13, 11, 18, 19, 20])\n",
        "j = np.unique(j)\n",
        "print(j)"
      ]
    },
    {
      "cell_type": "code",
      "execution_count": null,
      "metadata": {
        "colab": {
          "base_uri": "https://localhost:8080/"
        },
        "id": "_P2gyfhIknW3",
        "outputId": "f57643ea-42b1-46ee-f4a6-d15cfcd26e36"
      },
      "outputs": [
        {
          "output_type": "stream",
          "name": "stdout",
          "text": [
            "[[ 17  22  43]\n",
            " [ 27  25  14]\n",
            " [ 15  24  32]\n",
            " [151 241 321]]\n",
            "43\n",
            "(4, 3)\n"
          ]
        }
      ],
      "source": [
        "#funções específicas\n",
        "# cria a matriz bidimensional k\n",
        "k = np.array([[17,22,43],[27,25,14],[15,24,32],[151,241,321]])\n",
        "# Mostra a matriz k\n",
        "print(k)\n",
        "# Mostra um elemento específico da matriz k\n",
        "print(k[0][2])\n",
        "# Mostra o tamanho das dimensões da matriz k\n",
        "print(k.shape)"
      ]
    },
    {
      "cell_type": "code",
      "execution_count": null,
      "metadata": {
        "colab": {
          "base_uri": "https://localhost:8080/"
        },
        "id": "j8aXkWLTknZs",
        "outputId": "df710d50-7ddd-410c-d0e6-1d62c934f713"
      },
      "outputs": [
        {
          "output_type": "stream",
          "name": "stdout",
          "text": [
            "321\n",
            "14\n",
            "932\n",
            "77.66666666666667\n",
            "98.96744694875964\n",
            "26.0\n"
          ]
        }
      ],
      "source": [
        "#Funções Matemáticas\n",
        "# Mostra o maior valor da matriz k\n",
        "print(np.max(k))\n",
        "# Mostra o menor valor da matriz k\n",
        "print(np.min(k))\n",
        "# Mostra a soma dos valores da matriz k\n",
        "print((np.sum(k)))\n",
        "# Mostra o valor da média dos valores da matriz k\n",
        "print(np.mean(k))\n",
        "# Mostra o valor do desvio padrão (standard deviation) dos valores da matiz k\n",
        "print(np.std(k))\n",
        "# Mostra o valor damediana dos valores da matiz k\n",
        "print(np.median(k))"
      ]
    },
    {
      "cell_type": "code",
      "execution_count": null,
      "metadata": {
        "colab": {
          "base_uri": "https://localhost:8080/"
        },
        "id": "1tG2157eknfR",
        "outputId": "b697678d-6f15-4cbe-9cbf-83038f37d5ca"
      },
      "outputs": [
        {
          "output_type": "stream",
          "name": "stdout",
          "text": [
            "2\n",
            "-------\n",
            "[1 2]\n",
            "-------\n",
            "[2 3 4 5 6]\n",
            "-------\n",
            "[4 5 6]\n"
          ]
        }
      ],
      "source": [
        "#extração de elementos\n",
        "m = np.array([1, 2, 3, 4, 5, 6])\n",
        "# Mostra o elemento da posição 2\n",
        "print(m[1])\n",
        "print(\"-------\")\n",
        "# Mostra o array criado a partir da posição 0, dois elementos\n",
        "print(m[0:2])\n",
        "print(\"-------\")\n",
        "# Mostra o array criado a partir da 2a posição\n",
        "# até todo o restante do array\n",
        "print(m[1:])\n",
        "print(\"-------\")\n",
        "# Mostra o array criado a partir da antepenúltima\n",
        "#posição até o final\n",
        "print(m[-3:])"
      ]
    },
    {
      "cell_type": "code",
      "execution_count": null,
      "metadata": {
        "colab": {
          "base_uri": "https://localhost:8080/"
        },
        "id": "urJQ-BtKlOOT",
        "outputId": "613cce82-37e3-445f-8206-a414b84bb83f"
      },
      "outputs": [
        {
          "output_type": "stream",
          "name": "stdout",
          "text": [
            "[[ 0  1  2]\n",
            " [ 3  4  5]\n",
            " [ 6  7  8]\n",
            " [ 9 10 11]\n",
            " [12 13 14]]\n",
            "-------\n",
            "[[ 0  1  2  3  4]\n",
            " [ 5  6  7  8  9]\n",
            " [10 11 12 13 14]]\n"
          ]
        }
      ],
      "source": [
        "# Redimensiona Matriz\n",
        "rnd = np.arange(15).reshape((5, 3))\n",
        "print(rnd)\n",
        "print(\"-------\")\n",
        "# mostra a matriz com 5 linhas e 3 colunas\n",
        "new_rnd = np.reshape(rnd, (3,5))\n",
        "print(new_rnd)"
      ]
    },
    {
      "cell_type": "code",
      "execution_count": null,
      "metadata": {
        "id": "LyMBC8o7C3Kk",
        "outputId": "f207efc6-4254-461a-9f98-e6bf5792a9d6",
        "colab": {
          "base_uri": "https://localhost:8080/"
        }
      },
      "outputs": [
        {
          "output_type": "stream",
          "name": "stdout",
          "text": [
            "[ 0  2  4  6  8 10 13 15 17]\n"
          ]
        }
      ],
      "source": [
        "# Cria um novo array com inserções no final\n",
        "# Array original não é alterado\n",
        "arr = np.array([[0,2,4],[6,8,10]])\n",
        "new_arr = np.append(arr, [13,15,17])\n",
        "print(new_arr)"
      ]
    },
    {
      "cell_type": "code",
      "execution_count": null,
      "metadata": {
        "id": "M5vZsRNpC3Kk",
        "outputId": "0d5557b4-ac1a-47b6-aec2-80b3346e00da",
        "colab": {
          "base_uri": "https://localhost:8080/"
        }
      },
      "outputs": [
        {
          "output_type": "stream",
          "name": "stdout",
          "text": [
            "[[ 0  2  4]\n",
            " [ 6  8 10]]\n"
          ]
        }
      ],
      "source": [
        "print(arr)"
      ]
    },
    {
      "cell_type": "code",
      "source": [
        "new_arr = np.reshape(new_arr, (3,3))\n",
        "new_arr"
      ],
      "metadata": {
        "colab": {
          "base_uri": "https://localhost:8080/"
        },
        "id": "rCDWcAAJqJTQ",
        "outputId": "96ad9b31-7495-4570-ad2e-0c7c1c87fc4c"
      },
      "execution_count": null,
      "outputs": [
        {
          "output_type": "execute_result",
          "data": {
            "text/plain": [
              "array([[ 0,  2,  4],\n",
              "       [ 6,  8, 10],\n",
              "       [13, 15, 17]])"
            ]
          },
          "metadata": {},
          "execution_count": 23
        }
      ]
    },
    {
      "cell_type": "code",
      "execution_count": null,
      "metadata": {
        "colab": {
          "base_uri": "https://localhost:8080/"
        },
        "id": "6RcwvarDlv8i",
        "outputId": "883f9696-65ac-454b-a84e-f7f95ed4facc"
      },
      "outputs": [
        {
          "output_type": "stream",
          "name": "stdout",
          "text": [
            "[[-0.50376347 -0.18097024  0.84732791  1.99951174]\n",
            " [-0.22736984  0.72741771  0.70945385 -0.80437231]\n",
            " [-0.62894141  0.29400003 -0.82525965 -1.32020175]\n",
            " [-0.22979492  2.09244556  0.77428095 -0.45996153]]\n",
            "[[False False  True  True]\n",
            " [False  True  True False]\n",
            " [False  True False False]\n",
            " [False  True  True False]]\n",
            "[[1.         1.         0.84732791 1.99951174]\n",
            " [1.         0.72741771 0.70945385 1.        ]\n",
            " [1.         0.29400003 1.         1.        ]\n",
            " [1.         2.09244556 0.77428095 1.        ]]\n"
          ]
        }
      ],
      "source": [
        "#expressões lógicas\n",
        "#usando where\n",
        "# criando matriz com valores aleatórios positivos e negativos\n",
        "v = np.random.randn(4, 4)\n",
        "print(v)\n",
        "# criando matriz com valores booleanos baseado no array v\n",
        "x = (v > 0)\n",
        "print(x)\n",
        "# substitui os valores negativos por 1\n",
        "v[v<0] = 1\n",
        "print(v)\n"
      ]
    }
  ],
  "metadata": {
    "colab": {
      "provenance": []
    },
    "kernelspec": {
      "display_name": "Python 3 (ipykernel)",
      "language": "python",
      "name": "python3"
    },
    "language_info": {
      "codemirror_mode": {
        "name": "ipython",
        "version": 3
      },
      "file_extension": ".py",
      "mimetype": "text/x-python",
      "name": "python",
      "nbconvert_exporter": "python",
      "pygments_lexer": "ipython3",
      "version": "3.10.4"
    }
  },
  "nbformat": 4,
  "nbformat_minor": 0
}