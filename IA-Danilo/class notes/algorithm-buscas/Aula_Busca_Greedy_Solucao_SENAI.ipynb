{
 "cells": [
  {
   "cell_type": "markdown",
   "metadata": {
    "id": "ulp7UD_StjD2"
   },
   "source": [
    "- https://www.geeksforgeeks.org/best-first-search-informed-search/"
   ]
  },
  {
   "cell_type": "markdown",
   "metadata": {
    "id": "ki0MZ2ipe9GX"
   },
   "source": [
    "## **Exemplo com Fila de Prioridade:**\n",
    "* https://docs.python.org/3/library/queue.html"
   ]
  },
  {
   "cell_type": "code",
   "execution_count": null,
   "metadata": {
    "id": "6xF8SBG9ysIs"
   },
   "outputs": [],
   "source": [
    "import queue as Q"
   ]
  },
  {
   "cell_type": "code",
   "execution_count": null,
   "metadata": {
    "colab": {
     "base_uri": "https://localhost:8080/"
    },
    "id": "BhYG-qha2zIo",
    "outputId": "cdb90ddb-6fdb-423e-be78-17e14a9f200d"
   },
   "outputs": [
    {
     "name": "stdout",
     "output_type": "stream",
     "text": [
      "Bucharest: 0\n",
      "Arad: 366\n",
      "Sibiu: 393\n",
      "Rimnicu: 413\n",
      "Fagaras: 415\n",
      "Pitesti: 417\n",
      "Timisoara: 447\n",
      "Zerind: 449\n",
      "Craiova: 526\n",
      "Oradea: 671\n"
     ]
    }
   ],
   "source": [
    "cidades = Q.PriorityQueue() #we initialise the PQ class instead of using a function to operate upon a list.\n",
    "cidades.put((366, 'Arad'))\n",
    "cidades.put((393, 'Sibiu'))\n",
    "cidades.put((449, 'Zerind'))\n",
    "cidades.put((447, 'Timisoara'))\n",
    "cidades.put((671, 'Oradea'))\n",
    "cidades.put((415, 'Fagaras'))\n",
    "cidades.put((413, 'Rimnicu'))\n",
    "cidades.put((526, 'Craiova'))\n",
    "cidades.put((417, 'Pitesti'))\n",
    "cidades.put((0, 'Bucharest'))\n",
    "\n",
    "# while not customers.empty():\n",
    "while cidades.qsize():\n",
    "  x, cidade = cidades.get()\n",
    "  print(f'{cidade}: {x}')"
   ]
  },
  {
   "cell_type": "code",
   "execution_count": null,
   "metadata": {
    "id": "qTNVYES7y9h0"
   },
   "outputs": [],
   "source": [
    "# Construção manual do dicionário\n",
    "def criaListaAdj():\n",
    "  listaAdj = {\n",
    "              'Arad': {'Timisoara': 118 , 'Sibiu': 140, 'Zerind': 75 },\n",
    "              'Zerind': {'Arad': 75, 'Oradea': 71},\n",
    "              'Oradea': {'Zerind': 71, 'Sibiu': 151},\n",
    "              'Sibiu': {'Arad': 140, 'Oradea': 151, 'Fagaras': 99, 'Rimnicu': 80},\\\n",
    "              'Timisoara': {'Arad': 118, 'Lugoj': 111},\n",
    "              'Lugoj': {'Timisoara': 111, 'Mehadia': 70},\n",
    "              'Mehadia': {'Lugoj': 70, 'Dobreta': 75},\n",
    "              'Dobreta': {'Mehadia': 75, 'Craiova': 120},\n",
    "              'Craiova': {'Dobreta': 120, 'Rimnicu': 146, 'Pitesti': 138},\n",
    "              'Rimnicu': {'Sibiu': 80, 'Craiova': 146, 'Pitesti': 97},\n",
    "              'Fagaras': {'Sibiu': 99, 'Bucharest': 211},\n",
    "              'Pitesti': {'Rimnicu': 97, 'Craiova': 138, 'Bucharest': 101},\n",
    "              'Bucharest': {'Fagaras': 211, 'Pitesti': 101, 'Giurgiu': 90, 'Urziceni': 85},\n",
    "              'Giurgiu': {'Bucharest': 90},\n",
    "              'Urziceni': {'Bucharest': 85, 'Vaslui': 142, 'Hirsova': 98},\n",
    "              'Hirsova': {'Urziceni': 98, 'Eforie': 86},\n",
    "              'Eforie': {'Hirsova': 86},\n",
    "              'Vaslui': {'Iasi': 92, 'Urziceni': 142},\n",
    "              'Iasi': {'Vaslui': 92, 'Neamt': 87},\n",
    "              'Neamt': {'Iasi': 87}\n",
    "          }\n",
    "  return listaAdj"
   ]
  },
  {
   "cell_type": "code",
   "execution_count": null,
   "metadata": {
    "id": "wfE5onMAYlXY"
   },
   "outputs": [],
   "source": [
    "\n",
    "def getHeuristics():\n",
    "\n",
    "  heuristics = {'Arad':366,\n",
    "              'Bucharest':0,\n",
    "              'Craiova':160,\n",
    "              'Dobreta': 242,\n",
    "              'Eforie': 161,\n",
    "              'Fagaras': 178,\n",
    "              'Giurgiu': 77,\n",
    "              'Hirsova': 151,\n",
    "              'Iasi': 226,\n",
    "              'Lugoj': 244,\n",
    "              'Mehadia': 241,\n",
    "              'Neamt': 234,\n",
    "              'Oradea': 380,\n",
    "              'Pitesti': 98,\n",
    "              'Rimnicu': 193,\n",
    "              'Sibiu': 253,\n",
    "              'Timisoara': 329,\n",
    "              'Urziceni': 80,\n",
    "              'Vaslui': 199,\n",
    "              'Zerind': 374\n",
    "              }\n",
    "  return heuristics"
   ]
  },
  {
   "cell_type": "code",
   "execution_count": null,
   "metadata": {
    "id": "Q4hJsJsGbQjG"
   },
   "outputs": [],
   "source": [
    "from queue import PriorityQueue"
   ]
  },
  {
   "cell_type": "code",
   "execution_count": null,
   "metadata": {
    "id": "FI8A3Q2ITokV"
   },
   "outputs": [],
   "source": [
    "# Função Greedy\n",
    "def greedy(listaAdj, origem, objetivo, distancias):\n",
    "\n",
    "    # Declara a fila prioridade e tabela de visitados\n",
    "        # >>>>>>>>>>> Código <<<<<<<<<<<<<<\n",
    "        visitados = []\n",
    "        fila = PriorityQueue()\n",
    "\n",
    "    # Adiciona a cidade origem em visitados\n",
    "        # >>>>>>>>>>> Código <<<<<<<<<<<<<<\n",
    "        visitados.append(origem)\n",
    "\n",
    "    # Adiciona a cidade origem na fila\n",
    "        # >>>>>>>>>>> Código <<<<<<<<<<<<<<\n",
    "        # fila: tupla (valor (heuristica), cidade)\n",
    "        fila.put((distancias[origem],origem))\n",
    "\n",
    "        while not fila.empty() and origem != objetivo:\n",
    "\n",
    "          # Inclui os vizinhos na fila de prioridade\n",
    "          for vizinho in listaAdj[origem]:\n",
    "            # >>>>>>>>>>> Código <<<<<<<<<<<<<<\n",
    "            fila.put((distancias[vizinho], vizinho))\n",
    "\n",
    "          #Remove a cidade de menor custo da fila\n",
    "          custo, cidade = fila.get()\n",
    "\n",
    "          # Verifica se a cidade ainda não foi visitada\n",
    "            # >>>>>>>>>>> Código <<<<<<<<<<<<<<\n",
    "          if cidade not in visitados:\n",
    "            origem = cidade\n",
    "            visitados.append(origem)\n",
    "\n",
    "        return visitados"
   ]
  },
  {
   "cell_type": "code",
   "execution_count": null,
   "metadata": {
    "colab": {
     "base_uri": "https://localhost:8080/"
    },
    "id": "4zDA4thLsGOi",
    "outputId": "526a0044-7678-41af-b0f2-773ab9746136"
   },
   "outputs": [
    {
     "name": "stdout",
     "output_type": "stream",
     "text": [
      "['Arad', 'Sibiu', 'Fagaras', 'Bucharest']\n"
     ]
    }
   ],
   "source": [
    "\n",
    "cidades = criaListaAdj()\n",
    "# print(cidades)\n",
    "h = getHeuristics()\n",
    "# print(h)\n",
    "solucao = greedy(cidades, 'Arad', 'Bucharest', h)\n",
    "print(solucao)"
   ]
  }
 ],
 "metadata": {
  "colab": {
   "provenance": []
  },
  "kernelspec": {
   "display_name": "Python 3 (ipykernel)",
   "language": "python",
   "name": "python3"
  },
  "language_info": {
   "codemirror_mode": {
    "name": "ipython",
    "version": 3
   },
   "file_extension": ".py",
   "mimetype": "text/x-python",
   "name": "python",
   "nbconvert_exporter": "python",
   "pygments_lexer": "ipython3",
   "version": "3.11.5"
  }
 },
 "nbformat": 4,
 "nbformat_minor": 1
}
