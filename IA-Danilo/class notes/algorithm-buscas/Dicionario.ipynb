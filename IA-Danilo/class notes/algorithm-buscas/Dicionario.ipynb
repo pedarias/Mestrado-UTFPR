{
  "cells": [
    {
      "cell_type": "markdown",
      "metadata": {
        "id": "c7dqTdulhz_z"
      },
      "source": [
        "# Tutorial Python\n",
        "## - Dicionários"
      ]
    },
    {
      "cell_type": "markdown",
      "metadata": {
        "id": "7mvMcBwOIwlr"
      },
      "source": [
        "* ### dicionários: estrutura chave/valor"
      ]
    },
    {
      "cell_type": "code",
      "source": [
        "# Dicionário vazio\n",
        "Notas = {}"
      ],
      "metadata": {
        "id": "MaB-7gT4PEMy"
      },
      "execution_count": 1,
      "outputs": []
    },
    {
      "cell_type": "code",
      "execution_count": 2,
      "metadata": {
        "colab": {
          "base_uri": "https://localhost:8080/"
        },
        "id": "QXI-bzfvcko9",
        "outputId": "0f452714-b3c2-4a1a-f28a-944da963c197"
      },
      "outputs": [
        {
          "output_type": "stream",
          "name": "stdout",
          "text": [
            "{'João': 6.0, 'Maria': 8.0, 'Pedro': 6.5}\n"
          ]
        }
      ],
      "source": [
        "# Inicializando um dicionário\n",
        "Notas = {'João': 6.0, 'Maria': 8.0, 'Pedro': 6.5}\n",
        "print(Notas)"
      ]
    },
    {
      "cell_type": "code",
      "execution_count": 3,
      "metadata": {
        "colab": {
          "base_uri": "https://localhost:8080/"
        },
        "id": "4nAIdxOcc8ya",
        "outputId": "44e0c7c3-77f3-4f1c-dd96-57f437d23a6a"
      },
      "outputs": [
        {
          "output_type": "stream",
          "name": "stdout",
          "text": [
            "6.0\n"
          ]
        }
      ],
      "source": [
        "print(Notas['João'])"
      ]
    },
    {
      "cell_type": "code",
      "execution_count": 4,
      "metadata": {
        "colab": {
          "base_uri": "https://localhost:8080/"
        },
        "id": "jUhrWDmFdH9R",
        "outputId": "a2c49c8a-3645-4c7a-ed1d-0cf927e906a7"
      },
      "outputs": [
        {
          "output_type": "execute_result",
          "data": {
            "text/plain": [
              "dict_keys(['João', 'Maria', 'Pedro'])"
            ]
          },
          "metadata": {},
          "execution_count": 4
        }
      ],
      "source": [
        "#Obtendo todas as chaves\n",
        "Notas.keys()"
      ]
    },
    {
      "cell_type": "code",
      "execution_count": 5,
      "metadata": {
        "colab": {
          "base_uri": "https://localhost:8080/"
        },
        "id": "fYGMVl6MdS6z",
        "outputId": "e73aca7b-217d-4f16-c3f5-7f7432a50009"
      },
      "outputs": [
        {
          "output_type": "execute_result",
          "data": {
            "text/plain": [
              "dict_values([6.0, 8.0, 6.5])"
            ]
          },
          "metadata": {},
          "execution_count": 5
        }
      ],
      "source": [
        "#todos os valores\n",
        "Notas.values()"
      ]
    },
    {
      "cell_type": "code",
      "execution_count": 6,
      "metadata": {
        "colab": {
          "base_uri": "https://localhost:8080/"
        },
        "id": "DjBy4ZvsdX2a",
        "outputId": "dff8c279-996c-496b-9aa0-c9fcf264b05c"
      },
      "outputs": [
        {
          "output_type": "stream",
          "name": "stdout",
          "text": [
            "True\n",
            "False\n"
          ]
        }
      ],
      "source": [
        "#Testa logicamente a existência\n",
        "print('João' in Notas)\n",
        "print('Fernando' in Notas)"
      ]
    },
    {
      "cell_type": "code",
      "execution_count": 7,
      "metadata": {
        "colab": {
          "base_uri": "https://localhost:8080/"
        },
        "id": "hmx--lsNdgkj",
        "outputId": "6a4ea8c6-b18c-4f7d-d7d9-0ffd16d64815"
      },
      "outputs": [
        {
          "output_type": "stream",
          "name": "stdout",
          "text": [
            "{'Maria': 8.0, 'Pedro': 6.5}\n"
          ]
        }
      ],
      "source": [
        "#apaga um elemento\n",
        "del Notas['João']\n",
        "print(Notas)"
      ]
    },
    {
      "cell_type": "code",
      "execution_count": 8,
      "metadata": {
        "colab": {
          "base_uri": "https://localhost:8080/"
        },
        "id": "suEjj2tWdqfB",
        "outputId": "c6ba4b18-ba2d-4795-9b82-4a8809f5f198"
      },
      "outputs": [
        {
          "output_type": "stream",
          "name": "stdout",
          "text": [
            "{'Maria': 8.0, 'Pedro': 6.5, 'Ana': 9}\n"
          ]
        }
      ],
      "source": [
        "#inclui um elemento\n",
        "Notas['Ana'] = 9\n",
        "print(Notas)"
      ]
    },
    {
      "cell_type": "code",
      "source": [
        "Notas.keys()"
      ],
      "metadata": {
        "colab": {
          "base_uri": "https://localhost:8080/"
        },
        "id": "nQI_vjTJthLm",
        "outputId": "e0f69032-df5c-4601-9544-b277d6ddf626"
      },
      "execution_count": 9,
      "outputs": [
        {
          "output_type": "execute_result",
          "data": {
            "text/plain": [
              "dict_keys(['Maria', 'Pedro', 'Ana'])"
            ]
          },
          "metadata": {},
          "execution_count": 9
        }
      ]
    },
    {
      "cell_type": "code",
      "execution_count": 10,
      "metadata": {
        "colab": {
          "base_uri": "https://localhost:8080/",
          "height": 35
        },
        "id": "yu483JMyd5yz",
        "outputId": "0f6ceadd-78d3-4ae8-f6b4-ec326e2d3375"
      },
      "outputs": [
        {
          "output_type": "execute_result",
          "data": {
            "text/plain": [
              "'Não encontrado!'"
            ],
            "application/vnd.google.colaboratory.intrinsic+json": {
              "type": "string"
            }
          },
          "metadata": {},
          "execution_count": 10
        }
      ],
      "source": [
        "#busca um valor, se não encontrar mostra segundo parametro\n",
        "Notas.get('Jonas',\"Não encontrado!\")"
      ]
    },
    {
      "cell_type": "code",
      "source": [
        "#Iterando em dicionários\n",
        "\n",
        "# Geral (Exibe o valor)\n",
        "for i in Notas:\n",
        "  print(Notas[i])\n",
        "\n",
        "# Apenas chave\n",
        "for i in Notas.keys():\n",
        "  print(i)\n",
        "\n",
        "# Chave e valor\n",
        "for i,j in zip(Notas.keys(),Notas.values()):\n",
        "  print(f'{i}: {j}')"
      ],
      "metadata": {
        "colab": {
          "base_uri": "https://localhost:8080/"
        },
        "id": "yNKqT5ExKEeH",
        "outputId": "3ee37b2f-1513-47c6-b269-9817dd8e9df5"
      },
      "execution_count": 11,
      "outputs": [
        {
          "output_type": "stream",
          "name": "stdout",
          "text": [
            "8.0\n",
            "6.5\n",
            "9\n",
            "Maria\n",
            "Pedro\n",
            "Ana\n",
            "Maria: 8.0\n",
            "Pedro: 6.5\n",
            "Ana: 9\n"
          ]
        }
      ]
    },
    {
      "cell_type": "code",
      "source": [
        "for i,j in Notas.items():\n",
        "  # Chave e valor\n",
        "  print(f'{i}: {j}')\n"
      ],
      "metadata": {
        "colab": {
          "base_uri": "https://localhost:8080/"
        },
        "id": "YK7JFYd3dWp7",
        "outputId": "c34ceaac-4746-4cd8-fe45-1c0d16e0d4fc"
      },
      "execution_count": 12,
      "outputs": [
        {
          "output_type": "stream",
          "name": "stdout",
          "text": [
            "Maria: 8.0\n",
            "Pedro: 6.5\n",
            "Ana: 9\n"
          ]
        }
      ]
    },
    {
      "cell_type": "markdown",
      "source": [
        "### **Gerando uma cópia do dicionário**"
      ],
      "metadata": {
        "id": "WGAkbbNZfDvp"
      }
    },
    {
      "cell_type": "code",
      "source": [
        "Notas"
      ],
      "metadata": {
        "colab": {
          "base_uri": "https://localhost:8080/"
        },
        "id": "eitp56x-voH2",
        "outputId": "87c3c804-3981-4e9d-ea2a-e2e19238e110"
      },
      "execution_count": 13,
      "outputs": [
        {
          "output_type": "execute_result",
          "data": {
            "text/plain": [
              "{'Maria': 8.0, 'Pedro': 6.5, 'Ana': 9}"
            ]
          },
          "metadata": {},
          "execution_count": 13
        }
      ]
    },
    {
      "cell_type": "code",
      "source": [
        "new_dic = Notas\n",
        "new_dic"
      ],
      "metadata": {
        "colab": {
          "base_uri": "https://localhost:8080/"
        },
        "id": "Ll2iPotOeE4k",
        "outputId": "8962fc54-789b-45ff-a2b2-d97506c148dc"
      },
      "execution_count": 14,
      "outputs": [
        {
          "output_type": "execute_result",
          "data": {
            "text/plain": [
              "{'Maria': 8.0, 'Pedro': 6.5, 'Ana': 9}"
            ]
          },
          "metadata": {},
          "execution_count": 14
        }
      ]
    },
    {
      "cell_type": "code",
      "source": [
        "new_dic['Joaquim'] = 10\n",
        "new_dic"
      ],
      "metadata": {
        "colab": {
          "base_uri": "https://localhost:8080/"
        },
        "id": "9YJKVyNCeKYp",
        "outputId": "abff5e0a-433a-4943-a079-1d9196a3226d"
      },
      "execution_count": 15,
      "outputs": [
        {
          "output_type": "execute_result",
          "data": {
            "text/plain": [
              "{'Maria': 8.0, 'Pedro': 6.5, 'Ana': 9, 'Joaquim': 10}"
            ]
          },
          "metadata": {},
          "execution_count": 15
        }
      ]
    },
    {
      "cell_type": "code",
      "source": [
        "Notas"
      ],
      "metadata": {
        "colab": {
          "base_uri": "https://localhost:8080/"
        },
        "id": "-Rg9Ej5SfNcB",
        "outputId": "e9b78c12-c3a9-41c9-a098-744cffb7ea3c"
      },
      "execution_count": 16,
      "outputs": [
        {
          "output_type": "execute_result",
          "data": {
            "text/plain": [
              "{'Maria': 8.0, 'Pedro': 6.5, 'Ana': 9, 'Joaquim': 10}"
            ]
          },
          "metadata": {},
          "execution_count": 16
        }
      ]
    },
    {
      "cell_type": "code",
      "source": [
        "new_dic2 = Notas.copy()\n",
        "# new_dic2 = {**Notas}\n",
        "# new_dic2"
      ],
      "metadata": {
        "id": "synQZ00jeTut"
      },
      "execution_count": 17,
      "outputs": []
    },
    {
      "cell_type": "code",
      "source": [
        "new_dic2['Jose'] = 7.0\n",
        "new_dic2"
      ],
      "metadata": {
        "colab": {
          "base_uri": "https://localhost:8080/"
        },
        "id": "xMlskK-Ve04p",
        "outputId": "f9347319-359d-4ffd-c76d-2c659c30f969"
      },
      "execution_count": 18,
      "outputs": [
        {
          "output_type": "execute_result",
          "data": {
            "text/plain": [
              "{'Maria': 8.0, 'Pedro': 6.5, 'Ana': 9, 'Joaquim': 10, 'Jose': 7.0}"
            ]
          },
          "metadata": {},
          "execution_count": 18
        }
      ]
    },
    {
      "cell_type": "code",
      "source": [
        "Notas"
      ],
      "metadata": {
        "colab": {
          "base_uri": "https://localhost:8080/"
        },
        "id": "bBOsKClre9Fq",
        "outputId": "8fad504c-4982-483b-f86f-e503b85aca2e"
      },
      "execution_count": 19,
      "outputs": [
        {
          "output_type": "execute_result",
          "data": {
            "text/plain": [
              "{'Maria': 8.0, 'Pedro': 6.5, 'Ana': 9, 'Joaquim': 10}"
            ]
          },
          "metadata": {},
          "execution_count": 19
        }
      ]
    }
  ],
  "metadata": {
    "colab": {
      "provenance": []
    },
    "kernelspec": {
      "display_name": "Python 3 (ipykernel)",
      "language": "python",
      "name": "python3"
    },
    "language_info": {
      "codemirror_mode": {
        "name": "ipython",
        "version": 3
      },
      "file_extension": ".py",
      "mimetype": "text/x-python",
      "name": "python",
      "nbconvert_exporter": "python",
      "pygments_lexer": "ipython3",
      "version": "3.10.4"
    }
  },
  "nbformat": 4,
  "nbformat_minor": 0
}