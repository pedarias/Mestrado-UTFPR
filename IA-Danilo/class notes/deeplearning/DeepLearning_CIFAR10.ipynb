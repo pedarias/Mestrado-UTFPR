{
 "cells": [
  {
   "cell_type": "markdown",
   "metadata": {
    "id": "Q2mNcenD2P_A"
   },
   "source": [
    "## Base de Dados CIFAR10\n",
    "* https://www.kaggle.com/datasets/gazu468/cifar10-classification-image\n",
    "* base com 10 categorias diferentes de imagens;\n",
    "* Total de 6.000 imagens de 10 classes diferentes, sendo elas: Avião, Automóvel, Pássaro, Gato, Veado, Cão, Sapo, Cavalo, Barco e Caminhão;\n",
    "* Todas as imagens têm o tamanho 64 × 64 pixels;\n",
    "* Existem no total 5.000 imagens de treinos (para cada classe) e 1.000 imagens de teste."
   ]
  },
  {
   "cell_type": "code",
   "execution_count": 1,
   "metadata": {
    "id": "KofVtlLHF-zt"
   },
   "outputs": [],
   "source": [
    "from keras.models import Sequential\n",
    "from keras.layers import Conv2D, MaxPooling2D, Flatten, Dense, Dropout\n",
    "from keras.preprocessing.image import ImageDataGenerator\n",
    "import numpy as np\n",
    "from keras.preprocessing import image"
   ]
  },
  {
   "cell_type": "code",
   "execution_count": 2,
   "metadata": {
    "colab": {
     "base_uri": "https://localhost:8080/"
    },
    "id": "0HL-LrG6H2vj",
    "outputId": "3eee478f-1ec9-4c41-dba0-6c5f7766fd57"
   },
   "outputs": [
    {
     "name": "stdout",
     "output_type": "stream",
     "text": [
      "Mounted at /content/drive\n"
     ]
    }
   ],
   "source": [
    "from google.colab import drive\n",
    "drive.mount('/content/drive')"
   ]
  },
  {
   "cell_type": "code",
   "execution_count": 3,
   "metadata": {
    "id": "gIasEQPfH46p"
   },
   "outputs": [],
   "source": [
    "path = '/content/drive/MyDrive/Disciplinas/IA-2023-2/Aprendizado-Maquina/Dataset/cifar10/'"
   ]
  },
  {
   "cell_type": "code",
   "execution_count": 8,
   "metadata": {
    "colab": {
     "base_uri": "https://localhost:8080/"
    },
    "id": "pkskh705TbvJ",
    "outputId": "b93e6cdb-8718-4260-c4d5-d1ea07996fb3"
   },
   "outputs": [
    {
     "name": "stdout",
     "output_type": "stream",
     "text": [
      "Found 50000 images belonging to 10 classes.\n",
      "Found 10000 images belonging to 10 classes.\n"
     ]
    }
   ],
   "source": [
    "objTrain = ImageDataGenerator(rescale = 1./255)\n",
    "\n",
    "objTest = ImageDataGenerator(rescale = 1./255)\n",
    "\n",
    "dados_train = objTrain.flow_from_directory(path+'/train',\n",
    "                                                           target_size = (64, 64),\n",
    "                                                           batch_size = 32,\n",
    "                                                           class_mode = 'categorical')\n",
    "dados_test = objTest.flow_from_directory(path+'/test',\n",
    "                                               target_size = (64, 64),\n",
    "                                               batch_size = 32,\n",
    "                                               class_mode = 'categorical')"
   ]
  },
  {
   "cell_type": "code",
   "execution_count": 9,
   "metadata": {
    "id": "6Bpp-2Q1GGdY"
   },
   "outputs": [],
   "source": [
    "cnn = Sequential()\n",
    "cnn.add(Conv2D(32, (3,3), input_shape = (64, 64, 3), activation = 'relu'))\n",
    "cnn.add(MaxPooling2D(pool_size = (2,2)))\n",
    "\n",
    "# cnn.add(Conv2D(64, (3,3), activation = 'relu'))\n",
    "# cnn.add(MaxPooling2D(pool_size = (2,2)))\n",
    "\n",
    "cnn.add(Flatten())\n",
    "\n",
    "cnn.add(Dense(units = 128, activation = 'relu'))\n",
    "cnn.add(Dropout(0.2))\n",
    "cnn.add(Dense(units = 10, activation = 'softmax'))"
   ]
  },
  {
   "cell_type": "code",
   "execution_count": 10,
   "metadata": {
    "colab": {
     "base_uri": "https://localhost:8080/"
    },
    "id": "lIPbiRpFsOGW",
    "outputId": "3ebe54a6-fd6e-434d-a852-ed67185d1dcb"
   },
   "outputs": [
    {
     "name": "stdout",
     "output_type": "stream",
     "text": [
      "Model: \"sequential_1\"\n",
      "_________________________________________________________________\n",
      " Layer (type)                Output Shape              Param #   \n",
      "=================================================================\n",
      " conv2d_1 (Conv2D)           (None, 62, 62, 32)        896       \n",
      "                                                                 \n",
      " max_pooling2d_1 (MaxPoolin  (None, 31, 31, 32)        0         \n",
      " g2D)                                                            \n",
      "                                                                 \n",
      " flatten_1 (Flatten)         (None, 30752)             0         \n",
      "                                                                 \n",
      " dense_2 (Dense)             (None, 128)               3936384   \n",
      "                                                                 \n",
      " dropout_1 (Dropout)         (None, 128)               0         \n",
      "                                                                 \n",
      " dense_3 (Dense)             (None, 10)                1290      \n",
      "                                                                 \n",
      "=================================================================\n",
      "Total params: 3938570 (15.02 MB)\n",
      "Trainable params: 3938570 (15.02 MB)\n",
      "Non-trainable params: 0 (0.00 Byte)\n",
      "_________________________________________________________________\n"
     ]
    }
   ],
   "source": [
    "# Visualização da estrutura da rede neural\n",
    "cnn.summary()"
   ]
  },
  {
   "cell_type": "code",
   "execution_count": null,
   "metadata": {
    "colab": {
     "base_uri": "https://localhost:8080/"
    },
    "id": "K7aZyNMpTeaO",
    "outputId": "b9b63a67-4e34-4347-f02e-4aca52f72d0c"
   },
   "outputs": [
    {
     "name": "stdout",
     "output_type": "stream",
     "text": [
      "Epoch 1/10\n",
      "114/312 [=========>....................] - ETA: 29:25 - loss: 0.3285 - accuracy: 0.2352"
     ]
    }
   ],
   "source": [
    "cnn.compile(optimizer = 'adam', loss = 'binary_crossentropy',\n",
    "                      metrics = ['accuracy'])\n",
    "saida = cnn.fit(dados_train, steps_per_epoch = 10000 / 32, epochs = 10, validation_data = dados_test, validation_steps = 5000 / 32)"
   ]
  },
  {
   "cell_type": "code",
   "execution_count": null,
   "metadata": {
    "id": "5gzwODU0sINQ"
   },
   "outputs": [],
   "source": [
    "import matplotlib.pyplot as plt"
   ]
  },
  {
   "cell_type": "code",
   "execution_count": null,
   "metadata": {
    "id": "plHpYXF3r8C4"
   },
   "outputs": [],
   "source": [
    "# Gráfico para visualizar os erros e accuracy\n",
    "#evolução do erro, azul\n",
    "plt.plot(saida.history['accuracy'])\n",
    "#performance da rede\n",
    "plt.plot(saida.history['val_accuracy'])"
   ]
  }
 ],
 "metadata": {
  "accelerator": "GPU",
  "colab": {
   "gpuType": "T4",
   "provenance": []
  },
  "kernelspec": {
   "display_name": "Python 3 (ipykernel)",
   "language": "python",
   "name": "python3"
  },
  "language_info": {
   "codemirror_mode": {
    "name": "ipython",
    "version": 3
   },
   "file_extension": ".py",
   "mimetype": "text/x-python",
   "name": "python",
   "nbconvert_exporter": "python",
   "pygments_lexer": "ipython3",
   "version": "3.11.5"
  }
 },
 "nbformat": 4,
 "nbformat_minor": 1
}
