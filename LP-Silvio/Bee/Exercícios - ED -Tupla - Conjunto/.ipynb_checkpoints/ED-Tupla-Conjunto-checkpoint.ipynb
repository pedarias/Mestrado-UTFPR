{
 "cells": [
  {
   "cell_type": "markdown",
   "id": "f294b511",
   "metadata": {},
   "source": [
    "# ex01 - right area"
   ]
  },
  {
   "cell_type": "code",
   "execution_count": null,
   "id": "1cdc5395",
   "metadata": {},
   "outputs": [],
   "source": [
    "# beecrowd - 1190\n",
    "m=[]\n",
    "l = input()\n",
    "\n",
    "for i in range(12):\n",
    "    m.append([])\n",
    "    for j in range(12):\n",
    "        x = float(input())\n",
    "        m[i].append(x)\n",
    "\n",
    "s = 0\n",
    "cont = 0\n",
    "col = 11\n",
    "for i in range(1,11):\n",
    "    for j in range(col,12):\n",
    "        s += m[i][j]\n",
    "        \n",
    "        cont += 1\n",
    "    if i < 5:\n",
    "        col -= 1\n",
    "    if i > 5:\n",
    "        col += 1\n",
    "    \n",
    "    \n",
    "\n",
    "med = s / cont\n",
    "\n",
    "if l == \"S\":\n",
    "    print('{:.1f}'.format(s))\n",
    "else:\n",
    "    print('{:.1f}'.format(med))\n",
    "    \n",
    "#This code essentially calculates the sum or average of elements in specific rows and columns of the matrix m based on the input character l.\n",
    "#The specific rows and columns included in the calculation are determined by the loops and conditional statements."
   ]
  },
  {
   "cell_type": "markdown",
   "id": "72b78da9",
   "metadata": {},
   "source": [
    "# ex02 - santa's translator"
   ]
  },
  {
   "cell_type": "code",
   "execution_count": null,
   "id": "8e7bbfce",
   "metadata": {},
   "outputs": [],
   "source": [
    "feliz_natal = {'brasil' : 'Feliz Natal!', 'alemanha' : 'Frohliche Weihnachten!', 'austria' : 'Frohe Weihnacht!', 'coreia' : 'Chuk Sung Tan!', 'espanha' : 'Feliz Navidad!', 'grecia' : 'Kala Christougena!', 'estados-unidos' : 'Merry Christmas!', 'inglaterra' : 'Merry Christmas!', 'australia' : 'Merry Christmas!', 'portugal' : 'Feliz Natal!', 'suecia' : 'God Jul!', 'turquia' : 'Mutlu Noeller', 'argentina' : 'Feliz Navidad!', 'chile' : 'Feliz Navidad!', 'mexico' : 'Feliz Navidad!', 'antardida' : 'Merry Christmas!', 'canada' : 'Merry Christmas!', 'irlanda' : 'Nollaig Shona Dhuit!', 'belgica' : 'Zalig Kerstfeest!', 'italia' : 'Buon Natale!', 'libia' : 'Buon Natale!', 'siria' : 'Milad Mubarak!', 'marrocos' : 'Milad Mubarak!', 'japao' : 'Merii Kurisumasu!'}\n",
    "\n",
    "while True:\n",
    "    try:\n",
    "        pais = input()\n",
    "        if pais in feliz_natal.keys():\n",
    "            print(feliz_natal[pais])\n",
    "        else:\n",
    "            print('--- NOT FOUND ---')\n",
    "\n",
    "    except EOFError:\n",
    "        break"
   ]
  },
  {
   "cell_type": "markdown",
   "id": "a77bf7f7",
   "metadata": {},
   "source": [
    "# ex03 - Eachians II"
   ]
  },
  {
   "cell_type": "code",
   "execution_count": null,
   "id": "9495f586",
   "metadata": {},
   "outputs": [],
   "source": [
    "for _ in range(int(input())):\n",
    "    s = input()\n",
    "    f = input()\n",
    "    \n",
    "    res = []\n",
    "    aux = ''\n",
    "    \n",
    "    if s == f:res.append(0)\n",
    "    elif s.startswith(f + ' '):res.append(0)\n",
    "    fspace,i=' '+f+' ',0\n",
    "    \n",
    "    while i!=-1:\n",
    "        i=s.find(fspace,i+1)\n",
    "        if i!=-1:res.append(i + 1)\n",
    "    if s.endswith(' ' + f):res.append(len(s)-(len(f)))\n",
    "    for i in res:aux+=str(i)+' '\n",
    "    \n",
    "    print(aux[:-1]) if len(res)>0 else print(-1)"
   ]
  },
  {
   "cell_type": "code",
   "execution_count": null,
   "id": "b054a905",
   "metadata": {},
   "outputs": [],
   "source": [
    "n = int(input())\n",
    "\n",
    "for w in range(n):\n",
    "    s = input()\n",
    "    f = input()\n",
    "\n",
    "    res = []\n",
    "    res1 = ''\n",
    "\n",
    "    if s == f:\n",
    "        res.append(0)\n",
    "    elif s.startswith(f + ' '):\n",
    "        res.append(0)\n",
    "\n",
    "    fspace = ' ' + f + ' '\n",
    "    i = 0\n",
    "    while i != -1:\n",
    "        i = s.find(fspace, i + 1)\n",
    "        if i != -1:\n",
    "            res.append(i + 1)\n",
    "    if s.endswith(' ' + f):\n",
    "        res.append(len(s) - (len(f)))\n",
    "\n",
    "    for i in res:\n",
    "        res1 += str(i) + ' '\n",
    "    if len(res) > 0:\n",
    "        print(res1[:-1])\n",
    "    else:\n",
    "        print(-1)"
   ]
  }
 ],
 "metadata": {
  "kernelspec": {
   "display_name": "Python 3 (ipykernel)",
   "language": "python",
   "name": "python3"
  },
  "language_info": {
   "codemirror_mode": {
    "name": "ipython",
    "version": 3
   },
   "file_extension": ".py",
   "mimetype": "text/x-python",
   "name": "python",
   "nbconvert_exporter": "python",
   "pygments_lexer": "ipython3",
   "version": "3.11.5"
  }
 },
 "nbformat": 4,
 "nbformat_minor": 5
}
