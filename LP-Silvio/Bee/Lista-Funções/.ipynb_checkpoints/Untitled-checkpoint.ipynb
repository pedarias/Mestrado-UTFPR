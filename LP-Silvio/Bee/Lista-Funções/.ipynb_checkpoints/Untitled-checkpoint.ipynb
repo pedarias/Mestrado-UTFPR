{
 "cells": [
  {
   "cell_type": "markdown",
   "id": "cbcc57d8",
   "metadata": {},
   "source": [
    "# ex01\n",
    "Function Definition: r2(n)\n",
    "\n",
    " - This function is defined recursively.\n",
    " - Base Case: When n is 0, it returns 2.\n",
    " - Recursive Case: For n > 0, it calculates 2+[1/r2(n−1)]. This essentially adds 2 to the reciprocal of the result of r2 for the previous value of n."
   ]
  },
  {
   "cell_type": "code",
   "execution_count": 1,
   "id": "92b1d661",
   "metadata": {},
   "outputs": [
    {
     "name": "stdout",
     "output_type": "stream",
     "text": [
      "3\n",
      "1.4166666667\n"
     ]
    }
   ],
   "source": [
    "def r2(n):\n",
    "    if n == 0:\n",
    "        return 2\n",
    "    x = 2+1/r2(n-1)\n",
    "    return x\n",
    "\n",
    "n = int(input())\n",
    "x = r2(n)-1\n",
    "print('%.10f' % x)"
   ]
  },
  {
   "cell_type": "markdown",
   "id": "3545c19a",
   "metadata": {},
   "source": [
    "# ex02"
   ]
  },
  {
   "cell_type": "code",
   "execution_count": null,
   "id": "8eace523",
   "metadata": {},
   "outputs": [],
   "source": [
    "def compara(a, b):\n",
    "    return (a > b) - (a < b)\n",
    "\n",
    "def main():\n",
    "    while True:\n",
    "        try:\n",
    "            n = int(input())\n",
    "        except EOFError:\n",
    "            break\n",
    "\n",
    "        vetor = [int(x) for x in input().split()]\n",
    "        vetor.sort(key=lambda x: (x, compara(x, 0)))\n",
    "\n",
    "        j = n - 1\n",
    "        soma = i = 0\n",
    "\n",
    "        while j > i:\n",
    "            soma += abs(vetor[i] - vetor[j])\n",
    "            i += 1\n",
    "            j -= 1\n",
    "\n",
    "        print(soma)\n",
    "\n",
    "if __name__ == \"__main__\":\n",
    "    main()"
   ]
  }
 ],
 "metadata": {
  "kernelspec": {
   "display_name": "Python 3 (ipykernel)",
   "language": "python",
   "name": "python3"
  },
  "language_info": {
   "codemirror_mode": {
    "name": "ipython",
    "version": 3
   },
   "file_extension": ".py",
   "mimetype": "text/x-python",
   "name": "python",
   "nbconvert_exporter": "python",
   "pygments_lexer": "ipython3",
   "version": "3.11.5"
  }
 },
 "nbformat": 4,
 "nbformat_minor": 5
}
