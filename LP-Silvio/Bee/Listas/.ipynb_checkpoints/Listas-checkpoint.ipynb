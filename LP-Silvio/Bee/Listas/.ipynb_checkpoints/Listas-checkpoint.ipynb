{
 "cells": [
  {
   "cell_type": "markdown",
   "id": "049f5365",
   "metadata": {},
   "source": [
    "# ex01"
   ]
  },
  {
   "cell_type": "code",
   "execution_count": null,
   "id": "6af26fbd",
   "metadata": {},
   "outputs": [],
   "source": [
    "r = input()\n",
    "comp = ''\n",
    "vowel = ['a', 'e', 'i', 'o', 'u']\n",
    "for i in range(len(r)):\n",
    "    if r[i] in vowel:\n",
    "        comp += r[i]\n",
    "if(comp == comp[::-1]): #After processing all the characters in the input string, it checks if comp is a palindrome by comparing it to its reverse\n",
    "    print('S')\n",
    "else:\n",
    "    print('N')"
   ]
  },
  {
   "cell_type": "markdown",
   "id": "699c84c9",
   "metadata": {},
   "source": [
    "# ex02"
   ]
  },
  {
   "cell_type": "code",
   "execution_count": null,
   "id": "a6b6dbbe",
   "metadata": {},
   "outputs": [],
   "source": [
    "n = int(input())\n",
    "t = [0, 0, 0]\n",
    "s = [0, 0, 0]\n",
    "while n > 0:\n",
    "    n -= 1\n",
    "    c = input()\n",
    "    for i in range(1):\n",
    "        l = [int(x) for x in input().split()]\n",
    "        for x in range(3):\n",
    "            t[x] += l[x]\n",
    "        l = [int(x) for x in input().split()]\n",
    "        for x in range(3):\n",
    "            s[x] += l[x]\n",
    "    \n",
    "print('Pontos de Saque: %.2f %%.' % (100*(s[0]/t[0])))\n",
    "print('Pontos de Bloqueio: %.2f %%.' % (100*(s[1]/t[1])))\n",
    "print('Pontos de Ataque: %.2f %%.' % (100*(s[2]/t[2])))"
   ]
  },
  {
   "cell_type": "markdown",
   "id": "5429ddd8",
   "metadata": {},
   "source": [
    "# ex03"
   ]
  },
  {
   "cell_type": "code",
   "execution_count": null,
   "id": "543098a7",
   "metadata": {},
   "outputs": [],
   "source": [
    "n, k = [int(x) for x in input().split()]\n",
    "alunos = []\n",
    "\n",
    "while n:\n",
    "    n -= 1\n",
    "    alunos.append(input())\n",
    "\n",
    "alunos.sort()\n",
    "print(alunos[k - 1])"
   ]
  },
  {
   "cell_type": "markdown",
   "id": "784efe55",
   "metadata": {},
   "source": [
    "# ex04"
   ]
  },
  {
   "cell_type": "code",
   "execution_count": null,
   "id": "a007c5c6",
   "metadata": {},
   "outputs": [],
   "source": [
    "soma=0\n",
    "for n in range(int(input())):\n",
    "    horas,kmhora=map(int,input().split())\n",
    "    soma+=(kmhora*horas)\n",
    "print(soma)"
   ]
  },
  {
   "cell_type": "markdown",
   "id": "fd760d90",
   "metadata": {},
   "source": [
    "# ex05"
   ]
  },
  {
   "cell_type": "code",
   "execution_count": null,
   "id": "f231d4d4",
   "metadata": {},
   "outputs": [],
   "source": [
    "n = int(input())\n",
    "l = []\n",
    "while n:\n",
    "    n -= 1\n",
    "    l.append(int(input()))\n",
    "\n",
    "l = set(l)\n",
    "print(len(l))"
   ]
  }
 ],
 "metadata": {
  "kernelspec": {
   "display_name": "Python 3 (ipykernel)",
   "language": "python",
   "name": "python3"
  },
  "language_info": {
   "codemirror_mode": {
    "name": "ipython",
    "version": 3
   },
   "file_extension": ".py",
   "mimetype": "text/x-python",
   "name": "python",
   "nbconvert_exporter": "python",
   "pygments_lexer": "ipython3",
   "version": "3.11.5"
  }
 },
 "nbformat": 4,
 "nbformat_minor": 5
}
