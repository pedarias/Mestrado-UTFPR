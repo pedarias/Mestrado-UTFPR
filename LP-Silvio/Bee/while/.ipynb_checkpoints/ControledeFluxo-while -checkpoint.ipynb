{
 "cells": [
  {
   "cell_type": "code",
   "execution_count": 2,
   "id": "38a45d9d",
   "metadata": {
    "collapsed": true
   },
   "outputs": [
    {
     "name": "stdout",
     "output_type": "stream",
     "text": [
      "20\n",
      "20\n"
     ]
    },
    {
     "ename": "ValueError",
     "evalue": "not enough values to unpack (expected 3, got 1)",
     "output_type": "error",
     "traceback": [
      "\u001b[0;31m---------------------------------------------------------------------------\u001b[0m",
      "\u001b[0;31mValueError\u001b[0m                                Traceback (most recent call last)",
      "Cell \u001b[0;32mIn[2], line 7\u001b[0m\n\u001b[1;32m      4\u001b[0m \u001b[38;5;66;03m# Process each test case\u001b[39;00m\n\u001b[1;32m      5\u001b[0m \u001b[38;5;28;01mfor\u001b[39;00m _ \u001b[38;5;129;01min\u001b[39;00m \u001b[38;5;28mrange\u001b[39m(N):\n\u001b[1;32m      6\u001b[0m     \u001b[38;5;66;03m# Read the three floating-point numbers\u001b[39;00m\n\u001b[0;32m----> 7\u001b[0m     num1, num2, num3 \u001b[38;5;241m=\u001b[39m \u001b[38;5;28mmap\u001b[39m(\u001b[38;5;28mfloat\u001b[39m, \u001b[38;5;28minput\u001b[39m()\u001b[38;5;241m.\u001b[39msplit())\n\u001b[1;32m      9\u001b[0m     \u001b[38;5;66;03m# Calculate the weighted average\u001b[39;00m\n\u001b[1;32m     10\u001b[0m     weighted_average \u001b[38;5;241m=\u001b[39m (num1 \u001b[38;5;241m*\u001b[39m \u001b[38;5;241m2\u001b[39m \u001b[38;5;241m+\u001b[39m num2 \u001b[38;5;241m*\u001b[39m \u001b[38;5;241m3\u001b[39m \u001b[38;5;241m+\u001b[39m num3 \u001b[38;5;241m*\u001b[39m \u001b[38;5;241m5\u001b[39m) \u001b[38;5;241m/\u001b[39m \u001b[38;5;241m10\u001b[39m\n",
      "\u001b[0;31mValueError\u001b[0m: not enough values to unpack (expected 3, got 1)"
     ]
    }
   ],
   "source": [
    "# 1-Weighted Averages\n",
    "# Read the number of test cases\n",
    "N = int(input())\n",
    "\n",
    "# Process each test case\n",
    "for _ in range(N):\n",
    "    # Read the three floating-point numbers\n",
    "    num1, num2, num3 = map(float, input().split())\n",
    "    \n",
    "    # Calculate the weighted average\n",
    "    weighted_average = (num1 * 2 + num2 * 3 + num3 * 5) / 10\n",
    "    \n",
    "    # Print the result with one decimal place\n",
    "    print(\"{:.1f}\".format(weighted_average))\n"
   ]
  },
  {
   "cell_type": "code",
   "execution_count": null,
   "id": "1b81325c",
   "metadata": {},
   "outputs": [],
   "source": [
    "# 2-Fixed Password\n",
    "correct_password = 2002\n",
    "\n",
    "# Read the password attempts from the user until end of input\n",
    "while True:\n",
    "    try:\n",
    "        password = int(input())\n",
    "        \n",
    "        # Check if the entered password is correct\n",
    "        if password == correct_password:\n",
    "            print(\"Acesso Permitido\")\n",
    "            break\n",
    "        else:\n",
    "            print(\"Senha Invalida\")\n",
    "    except EOFError:\n",
    "        break"
   ]
  },
  {
   "cell_type": "code",
   "execution_count": null,
   "id": "fdee45cc",
   "metadata": {},
   "outputs": [],
   "source": [
    "# 3-Type of Fuel\n",
    "# Initialize counters for each fuel type\n",
    "alcohol_count = 0\n",
    "gasoline_count = 0\n",
    "diesel_count = 0\n",
    "\n",
    "while True:\n",
    "    # Read the type of fuel supplied\n",
    "    fuel_type = int(input())\n",
    "    \n",
    "    # Check if the entered code is valid (1, 2, 3, or 4)\n",
    "    if fuel_type == 1:\n",
    "        alcohol_count += 1\n",
    "    elif fuel_type == 2:\n",
    "        gasoline_count += 1\n",
    "    elif fuel_type == 3:\n",
    "        diesel_count += 1\n",
    "    elif fuel_type == 4:\n",
    "        break  # Exit the loop when code 4 is entered\n",
    "\n",
    "# Print the results\n",
    "print(\"MUITO OBRIGADO\")\n",
    "print(\"Alcool:\", alcohol_count)\n",
    "print(\"Gasolina:\", gasoline_count)\n",
    "print(\"Diesel:\", diesel_count)"
   ]
  },
  {
   "cell_type": "code",
   "execution_count": null,
   "id": "d95f7b3f",
   "metadata": {},
   "outputs": [],
   "source": [
    "# 4- Several Scores with Validation\n",
    "while True:\n",
    "    valid_scores = 0\n",
    "    total_score = 0.0\n",
    "    \n",
    "    while valid_scores < 2:\n",
    "        score = float(input())\n",
    "        \n",
    "        if 0 <= score <= 10:\n",
    "            total_score += score\n",
    "            valid_scores += 1\n",
    "        else:\n",
    "            print(\"nota invalida\")\n",
    "    \n",
    "    average = total_score / 2\n",
    "    print(\"media = {:.2f}\".format(average))\n",
    "    \n",
    "    while True:\n",
    "        print(\"novo calculo (1-sim 2-nao)\")\n",
    "        choice = int(input())\n",
    "        \n",
    "        if choice == 1 or choice == 2:\n",
    "            break\n",
    "    \n",
    "    if choice == 2:\n",
    "        break"
   ]
  },
  {
   "cell_type": "code",
   "execution_count": null,
   "id": "575f0506",
   "metadata": {},
   "outputs": [],
   "source": [
    "# 5 - Growing Sequences\n",
    "while True:\n",
    "    X = int(input())\n",
    "    \n",
    "    if X == 0:\n",
    "        break\n",
    "    \n",
    "    # Print the sequence from 1 to X with one space between each number\n",
    "    for i in range(1, X + 1):\n",
    "        if i == X:\n",
    "            print(i)\n",
    "        else:\n",
    "            print(i, end=' ')"
   ]
  }
 ],
 "metadata": {
  "kernelspec": {
   "display_name": "Python 3 (ipykernel)",
   "language": "python",
   "name": "python3"
  },
  "language_info": {
   "codemirror_mode": {
    "name": "ipython",
    "version": 3
   },
   "file_extension": ".py",
   "mimetype": "text/x-python",
   "name": "python",
   "nbconvert_exporter": "python",
   "pygments_lexer": "ipython3",
   "version": "3.11.5"
  }
 },
 "nbformat": 4,
 "nbformat_minor": 5
}
