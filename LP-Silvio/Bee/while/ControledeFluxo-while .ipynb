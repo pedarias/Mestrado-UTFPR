{
 "cells": [
  {
   "cell_type": "code",
   "execution_count": null,
   "id": "07420594",
   "metadata": {
    "scrolled": true
   },
   "outputs": [],
   "source": [
    "# 1-Weighted Averages\n",
    "# Read the number of test cases\n",
    "N = int(input())\n",
    "\n",
    "# Process each test case\n",
    "for _ in range(N): # '_' placeholder for a variable when you don't need to use its value within the loop\n",
    "    # Read the three floating-point numbers\n",
    "    num1, num2, num3 = map(float, input().split())\n",
    "    \n",
    "    # Calculate the weighted average\n",
    "    weighted_average = (num1 * 2 + num2 * 3 + num3 * 5) / 10\n",
    "    \n",
    "    # Print the result with one decimal place\n",
    "    print(\"{:.1f}\".format(weighted_average))\n",
    "    \n",
    "# #INPUT\n",
    "# 3\n",
    "# 10 10 10\n",
    "# #output10.0\n"
   ]
  },
  {
   "cell_type": "code",
   "execution_count": 1,
   "id": "74dd767f",
   "metadata": {},
   "outputs": [
    {
     "name": "stdout",
     "output_type": "stream",
     "text": [
      "10\n",
      "Senha Invalida\n",
      "20\n",
      "Senha Invalida\n",
      "2022\n",
      "Senha Invalida\n",
      "2002\n",
      "Acesso Permitido\n"
     ]
    }
   ],
   "source": [
    "# 2-Fixed Password\n",
    "correct_password = 2002\n",
    "\n",
    "# Read the password attempts from the user until end of input\n",
    "while True:\n",
    "    try:\n",
    "        password = int(input())\n",
    "        \n",
    "        # Check if the entered password is correct\n",
    "        if password == correct_password:\n",
    "            print(\"Acesso Permitido\")\n",
    "            break\n",
    "        else:\n",
    "            print(\"Senha Invalida\")\n",
    "    except EOFError:\n",
    "        break"
   ]
  },
  {
   "cell_type": "code",
   "execution_count": null,
   "id": "61c316be",
   "metadata": {},
   "outputs": [],
   "source": [
    "# 3-Type of Fuel\n",
    "# Initialize counters for each fuel type\n",
    "alcohol_count = 0\n",
    "gasoline_count = 0\n",
    "diesel_count = 0\n",
    "\n",
    "while True:\n",
    "    # Read the type of fuel supplied\n",
    "    fuel_type = int(input())\n",
    "    \n",
    "    # Check if the entered code is valid (1, 2, 3, or 4)\n",
    "    if fuel_type == 1:\n",
    "        alcohol_count += 1\n",
    "    elif fuel_type == 2:\n",
    "        gasoline_count += 1\n",
    "    elif fuel_type == 3:\n",
    "        diesel_count += 1\n",
    "    elif fuel_type == 4:\n",
    "        break  # Exit the loop when code 4 is entered\n",
    "\n",
    "# Print the results\n",
    "print(\"MUITO OBRIGADO\")\n",
    "print(\"Alcool:\", alcohol_count)\n",
    "print(\"Gasolina:\", gasoline_count)\n",
    "print(\"Diesel:\", diesel_count)"
   ]
  },
  {
   "cell_type": "code",
   "execution_count": 3,
   "id": "a7e26463",
   "metadata": {},
   "outputs": [
    {
     "name": "stdout",
     "output_type": "stream",
     "text": [
      "4\n",
      "11\n",
      "nota invalida\n",
      "8\n",
      "media = 6.00\n",
      "novo calculo (1-sim 2-nao)\n",
      "1\n",
      "8\n",
      "10\n",
      "media = 9.00\n",
      "novo calculo (1-sim 2-nao)\n",
      "2\n"
     ]
    }
   ],
   "source": [
    "# 4- Several Scores with Validation\n",
    "while True:\n",
    "    valid_scores = 0\n",
    "    total_score = 0.0\n",
    "    \n",
    "    while valid_scores < 2:\n",
    "        score = float(input())\n",
    "        \n",
    "        if 0 <= score <= 10:\n",
    "            total_score += score\n",
    "            valid_scores += 1\n",
    "        else:\n",
    "            print(\"nota invalida\")\n",
    "    \n",
    "    average = total_score / 2\n",
    "    print(\"media = {:.2f}\".format(average))\n",
    "    \n",
    "    while True:\n",
    "        print(\"novo calculo (1-sim 2-nao)\")\n",
    "        choice = int(input())\n",
    "        \n",
    "        if choice == 1 or choice == 2:\n",
    "            break\n",
    "    \n",
    "    if choice == 2:\n",
    "        break"
   ]
  },
  {
   "cell_type": "code",
   "execution_count": 5,
   "id": "15078f18",
   "metadata": {},
   "outputs": [
    {
     "name": "stdout",
     "output_type": "stream",
     "text": [
      "10\n",
      "1 2 3 4 5 6 7 8 9 10\n",
      "2\n",
      "1 2\n"
     ]
    },
    {
     "ename": "KeyboardInterrupt",
     "evalue": "Interrupted by user",
     "output_type": "error",
     "traceback": [
      "\u001b[0;31m---------------------------------------------------------------------------\u001b[0m",
      "\u001b[0;31mKeyboardInterrupt\u001b[0m                         Traceback (most recent call last)",
      "Cell \u001b[0;32mIn[5], line 3\u001b[0m\n\u001b[1;32m      1\u001b[0m \u001b[38;5;66;03m# 5 - Growing Sequences\u001b[39;00m\n\u001b[1;32m      2\u001b[0m \u001b[38;5;28;01mwhile\u001b[39;00m \u001b[38;5;28;01mTrue\u001b[39;00m:\n\u001b[0;32m----> 3\u001b[0m     X \u001b[38;5;241m=\u001b[39m \u001b[38;5;28mint\u001b[39m(\u001b[38;5;28minput\u001b[39m())\n\u001b[1;32m      5\u001b[0m     \u001b[38;5;28;01mif\u001b[39;00m X \u001b[38;5;241m==\u001b[39m \u001b[38;5;241m0\u001b[39m:\n\u001b[1;32m      6\u001b[0m         \u001b[38;5;28;01mbreak\u001b[39;00m\n",
      "File \u001b[0;32m~/anaconda3/lib/python3.11/site-packages/ipykernel/kernelbase.py:1202\u001b[0m, in \u001b[0;36mKernel.raw_input\u001b[0;34m(self, prompt)\u001b[0m\n\u001b[1;32m   1200\u001b[0m     msg \u001b[38;5;241m=\u001b[39m \u001b[38;5;124m\"\u001b[39m\u001b[38;5;124mraw_input was called, but this frontend does not support input requests.\u001b[39m\u001b[38;5;124m\"\u001b[39m\n\u001b[1;32m   1201\u001b[0m     \u001b[38;5;28;01mraise\u001b[39;00m StdinNotImplementedError(msg)\n\u001b[0;32m-> 1202\u001b[0m \u001b[38;5;28;01mreturn\u001b[39;00m \u001b[38;5;28mself\u001b[39m\u001b[38;5;241m.\u001b[39m_input_request(\n\u001b[1;32m   1203\u001b[0m     \u001b[38;5;28mstr\u001b[39m(prompt),\n\u001b[1;32m   1204\u001b[0m     \u001b[38;5;28mself\u001b[39m\u001b[38;5;241m.\u001b[39m_parent_ident[\u001b[38;5;124m\"\u001b[39m\u001b[38;5;124mshell\u001b[39m\u001b[38;5;124m\"\u001b[39m],\n\u001b[1;32m   1205\u001b[0m     \u001b[38;5;28mself\u001b[39m\u001b[38;5;241m.\u001b[39mget_parent(\u001b[38;5;124m\"\u001b[39m\u001b[38;5;124mshell\u001b[39m\u001b[38;5;124m\"\u001b[39m),\n\u001b[1;32m   1206\u001b[0m     password\u001b[38;5;241m=\u001b[39m\u001b[38;5;28;01mFalse\u001b[39;00m,\n\u001b[1;32m   1207\u001b[0m )\n",
      "File \u001b[0;32m~/anaconda3/lib/python3.11/site-packages/ipykernel/kernelbase.py:1245\u001b[0m, in \u001b[0;36mKernel._input_request\u001b[0;34m(self, prompt, ident, parent, password)\u001b[0m\n\u001b[1;32m   1242\u001b[0m \u001b[38;5;28;01mexcept\u001b[39;00m \u001b[38;5;167;01mKeyboardInterrupt\u001b[39;00m:\n\u001b[1;32m   1243\u001b[0m     \u001b[38;5;66;03m# re-raise KeyboardInterrupt, to truncate traceback\u001b[39;00m\n\u001b[1;32m   1244\u001b[0m     msg \u001b[38;5;241m=\u001b[39m \u001b[38;5;124m\"\u001b[39m\u001b[38;5;124mInterrupted by user\u001b[39m\u001b[38;5;124m\"\u001b[39m\n\u001b[0;32m-> 1245\u001b[0m     \u001b[38;5;28;01mraise\u001b[39;00m \u001b[38;5;167;01mKeyboardInterrupt\u001b[39;00m(msg) \u001b[38;5;28;01mfrom\u001b[39;00m \u001b[38;5;28;01mNone\u001b[39;00m\n\u001b[1;32m   1246\u001b[0m \u001b[38;5;28;01mexcept\u001b[39;00m \u001b[38;5;167;01mException\u001b[39;00m:\n\u001b[1;32m   1247\u001b[0m     \u001b[38;5;28mself\u001b[39m\u001b[38;5;241m.\u001b[39mlog\u001b[38;5;241m.\u001b[39mwarning(\u001b[38;5;124m\"\u001b[39m\u001b[38;5;124mInvalid Message:\u001b[39m\u001b[38;5;124m\"\u001b[39m, exc_info\u001b[38;5;241m=\u001b[39m\u001b[38;5;28;01mTrue\u001b[39;00m)\n",
      "\u001b[0;31mKeyboardInterrupt\u001b[0m: Interrupted by user"
     ]
    }
   ],
   "source": [
    "# 5 - Growing Sequences\n",
    "while True:\n",
    "    X = int(input())\n",
    "    \n",
    "    if X == 0:\n",
    "        break\n",
    "    \n",
    "    # Print the sequence from 1 to X with one space between each number\n",
    "    for i in range(1, X + 1):\n",
    "        if i == X:\n",
    "            print(i)\n",
    "        else:\n",
    "            print(i, end=' ')\n",
    "#print a sequence of numbers from 1 to a specified integer X, with each number separated by a space."
   ]
  },
  {
   "cell_type": "code",
   "execution_count": null,
   "id": "36279026",
   "metadata": {},
   "outputs": [],
   "source": []
  },
  {
   "cell_type": "code",
   "execution_count": null,
   "id": "0e2cb98a",
   "metadata": {},
   "outputs": [],
   "source": []
  }
 ],
 "metadata": {
  "kernelspec": {
   "display_name": "Python 3 (ipykernel)",
   "language": "python",
   "name": "python3"
  },
  "language_info": {
   "codemirror_mode": {
    "name": "ipython",
    "version": 3
   },
   "file_extension": ".py",
   "mimetype": "text/x-python",
   "name": "python",
   "nbconvert_exporter": "python",
   "pygments_lexer": "ipython3",
   "version": "3.11.5"
  }
 },
 "nbformat": 4,
 "nbformat_minor": 5
}
