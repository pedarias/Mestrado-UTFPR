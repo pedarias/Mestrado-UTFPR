{
 "cells": [
  {
   "cell_type": "markdown",
   "id": "dd8e9670",
   "metadata": {},
   "source": [
    "# Ex01-Variations\n",
    "### beecrowd | 1632\n",
    "\n",
    "Dada uma senha, diga o número de diferentes variações que é possível montar.\n",
    "Input:\n",
    "2\n",
    "Hello, World!\n",
    "OpenAI"
   ]
  },
  {
   "cell_type": "code",
   "execution_count": null,
   "id": "a62487e8",
   "metadata": {
    "scrolled": true
   },
   "outputs": [],
   "source": [
    "n = int(input()) #number of times the subsequent loop will run.\n",
    "let = ['a', 'A', 'e', 'E', 'i', 'I', 'o', 'O', 's', 'S']\n",
    "\n",
    "\"\"\"\n",
    "This code take int 'n' as input, and then it enters a loop that runs n times. \n",
    "In each iteration of the loop, it takes a string c as input and calculates a value var based on the characters in the input.\n",
    "\"\"\"\n",
    "\n",
    "while n > 0:\n",
    "    n -= 1 #to keep track of how many times the loop has run.\n",
    "    c = input() #string\n",
    "    var = 1\n",
    "    for i in range(len(c)): #iterates through the string\n",
    "        if c[i] in let: #It checks if the current character c[i] is present in the let list\n",
    "            var *= 3\n",
    "        else:\n",
    "            var *= 2\n",
    "    \n",
    "    print(var)"
   ]
  },
  {
   "cell_type": "markdown",
   "id": "5fc2a319",
   "metadata": {},
   "source": [
    "## Ex02-Christmas Tree \n",
    "### beecrowd | 1768\n",
    "Draw a christmas tree w the asterisk * char."
   ]
  },
  {
   "cell_type": "code",
   "execution_count": null,
   "id": "6c158a20",
   "metadata": {},
   "outputs": [],
   "source": [
    "#For each value of n, it prints a pattern of asterisks representing a Christmas tree with a trunk.\n",
    "while True:\n",
    "    try:\n",
    "        n = int(input())\n",
    "        for i in range(1, n+1, 2):\n",
    "            print((n-i)//2 * ' ', end='')\n",
    "            print('*'*i)\n",
    "        \n",
    "        print(n//2*' ', end = '')\n",
    "        print('*')\n",
    "        print(((n//2)-1)*' ', end = '')\n",
    "        print('***')\n",
    "        print()\n",
    "    \n",
    "    except EOFError:\n",
    "        break"
   ]
  },
  {
   "cell_type": "markdown",
   "id": "584048c1",
   "metadata": {},
   "source": [
    "## ex03 - Problem with the Calculator\n",
    "### beecrowd | 2694\n",
    "This code takes an integer n as input, then enters a loop where it reads a string from the user. It uses regular expressions to remove all lowercase letters (a to z) from the string, converts the remaining numbers to integers, and finally calculates and prints their sum."
   ]
  },
  {
   "cell_type": "code",
   "execution_count": null,
   "id": "97f797d9",
   "metadata": {},
   "outputs": [],
   "source": [
    "import re\n",
    "n = int(input())\n",
    "while n > 0:\n",
    "    n -= 1\n",
    "    c = input()\n",
    "    c = re.sub('a|b|c|d|e|f|g|h|i|j|k|l|m|n|o|p|q|r|s|t|u|v|x|y|z|w', ' ', c.lower()).split()\n",
    "    c = [int(x) for x in c]\n",
    "    r = c[0] + c[1] + c[2]\n",
    "\n",
    "    print(r)"
   ]
  },
  {
   "cell_type": "markdown",
   "id": "b81fbc22",
   "metadata": {},
   "source": [
    "## ex04- Surname is not Easy\n",
    "### beecrowd | 3358\n",
    "A surname is difficult if it has three or more consecutive consonants. \n",
    "\n",
    "This code takes an integer as input, indicating the number of test cases, and then processes a series of strings. For each string, it performs the following actions:\n",
    "\n",
    "    1. It uses regular expressions (re.findall) to extract all sequences of consecutive consonants (non-vowels) from the input string while ignoring the case of the characters.\n",
    "    2. It sorts the extracted sequences in descending order of length (from longest to shortest).\n",
    "    3. It checks the length of the longest extracted sequence. If the longest sequence has a length of at least 3, it prints \"nao eh facil\"; otherwise, it prints \"eh facil\""
   ]
  },
  {
   "cell_type": "code",
   "execution_count": null,
   "id": "d9aa66c0",
   "metadata": {},
   "outputs": [],
   "source": [
    "from re import findall,IGNORECASE #findall is used to find all matches of a regular expression in a given string,IGNORECASE performs a case-insensitive search.\n",
    "for _ in range(int(input())): #number of test cases and enters a loop that run that number of times     \n",
    "    s=input() \n",
    "    \n",
    "    f=sorted(findall(r'[bcdfghjklmnpqrstvwxyz]+',s,IGNORECASE),key=lambda x: len(x),reverse=True)\n",
    "    #sorts the extracted sequences (f) based on their length, in descending order, using the sorted function.\n",
    "    #The key argument specifies the sorting key (length), and reverse=True sorts in descending order.\n",
    "    \n",
    "    print(f'{s} nao eh facil') if len(f[0])>=3 else print(f'{s} eh facil')\n",
    "    "
   ]
  },
  {
   "cell_type": "markdown",
   "id": "f1b2f2ed",
   "metadata": {},
   "source": [
    "## ex05 - Diet Plan\n",
    "### beecrowd | 1248"
   ]
  },
  {
   "cell_type": "code",
   "execution_count": null,
   "id": "ff97719a",
   "metadata": {},
   "outputs": [],
   "source": [
    "#This code takes an integer n as input, and then it enters a loop where it processes three strings: dieta, cafe, and almoco.\n",
    "\n",
    "n = int(input()) #number of test cases\n",
    "\n",
    "while n:\n",
    "    n -= 1\n",
    "    dieta = input()\n",
    "    cafe = input()\n",
    "    almoco = input()\n",
    "    almoco += cafe #represent the combined food intake for breakfast and lunch.\n",
    "    \n",
    "    for letra in range(len(almoco)): #It iterates through each character of almoco \n",
    "        if almoco[letra] not in dieta: #If a character is not found in the dieta, it sets dieta to 'CHEATER' and breaks out of the loop.\n",
    "            dieta = 'CHEATER'\n",
    "            break\n",
    "        else:\n",
    "            dieta = dieta.replace(almoco[letra], '') \n",
    "\n",
    "    if dieta != 'CHEATER': #if no cheating has been detected in the loop\n",
    "        dieta = ''.join(sorted(dieta)) #it sorts the characters remaining in dieta in alphabetical order.\n",
    "    print(dieta)"
   ]
  },
  {
   "cell_type": "markdown",
   "id": "5c37f3a2",
   "metadata": {},
   "source": [
    "## ex06 - International Chat\n",
    "### beecrowd | 1581\n",
    "This code takes an integer n as input, which represents the number of test cases. For each test case, it reads a set of languages that people in a group speak and determines the common language(s) spoken."
   ]
  },
  {
   "cell_type": "code",
   "execution_count": null,
   "id": "391cbb27",
   "metadata": {},
   "outputs": [],
   "source": [
    "for i in range(int(input())): #number of test cases\n",
    "    linguas = set() #For each test case, it initializes an empty set to store the unique languages spoken in the group.\n",
    "    \n",
    "    for y in range(int(input())): #number of people in the group and their languages.\n",
    "        lingua = input()\n",
    "        linguas.add(lingua) #for each person, it reads the language spoken by that person and adds it to the linguas set.\n",
    "        \n",
    "    if len(linguas) > 1: #means there are multiple unique languages spoken\n",
    "        print('ingles')\n",
    "    else:\n",
    "        for l in linguas: #If there is only one unique language in the linguas set, it means all people in the group speak the same language.\n",
    "            print(l)      #In this case, it iterates over the set and prints the language(s) spoken by the group"
   ]
  }
 ],
 "metadata": {
  "kernelspec": {
   "display_name": "Python 3 (ipykernel)",
   "language": "python",
   "name": "python3"
  },
  "language_info": {
   "codemirror_mode": {
    "name": "ipython",
    "version": 3
   },
   "file_extension": ".py",
   "mimetype": "text/x-python",
   "name": "python",
   "nbconvert_exporter": "python",
   "pygments_lexer": "ipython3",
   "version": "3.11.5"
  }
 },
 "nbformat": 4,
 "nbformat_minor": 5
}
