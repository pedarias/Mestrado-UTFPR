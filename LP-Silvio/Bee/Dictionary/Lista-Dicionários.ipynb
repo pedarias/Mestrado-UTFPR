{
 "cells": [
  {
   "cell_type": "markdown",
   "id": "4b45d87c",
   "metadata": {},
   "source": [
    "# ex01"
   ]
  },
  {
   "cell_type": "code",
   "execution_count": 3,
   "id": "b686cdc4",
   "metadata": {},
   "outputs": [
    {
     "name": "stdout",
     "output_type": "stream",
     "text": [
      "5\n",
      "1 7.5\n",
      "2 6.8\n",
      "3 8.2\n",
      "4 7\n",
      "5 8.5\n",
      "5\n"
     ]
    }
   ],
   "source": [
    "#reads pairs of 'a' and 'b' values, finds the pair with the highest 'b', and checks if that maximum 'b' is greater than or equal to 8. \n",
    "#If it is, it prints the 'a' value associated with it; otherwise, it prints the message about the minimum note not being reached.\n",
    "n = int(input())\n",
    "#initialized to hold the maximum value of 'b' encountered so far (m) and the corresponding 'a' value (al).\n",
    "m = 0.0\n",
    "al = 0\n",
    "while(n > 0):\n",
    "    n -= 1\n",
    "    a, b = input().split() #assigns the two parts to variables 'a' and 'b'. 'a' is assumed to be an integer, and 'b' is assumed to be a floating-point number.\n",
    "    if float(b) > m: #Converts 'b' to a float and checks if it is greater than the current maximum\n",
    "        m = float(b)\n",
    "        al = int(a)\n",
    "        \n",
    "if m >= 8:\n",
    "    print(al)\n",
    "else:\n",
    "    print(\"Minimum note not reached\")"
   ]
  },
  {
   "cell_type": "markdown",
   "id": "7eecd008",
   "metadata": {},
   "source": [
    "# ex02"
   ]
  },
  {
   "cell_type": "code",
   "execution_count": 6,
   "id": "ee2af3d8",
   "metadata": {
    "scrolled": true
   },
   "outputs": [
    {
     "name": "stdout",
     "output_type": "stream",
     "text": [
      "3\n",
      "cat\n",
      "gato\n",
      "dog\n",
      "perro\n",
      "hello\n",
      "hola\n",
      "2\n",
      "alice\n",
      "hello\n",
      "alice\n",
      "hola\n",
      "\n",
      "bob\n",
      "cat\n",
      "bob\n",
      "gato\n",
      "\n"
     ]
    }
   ],
   "source": [
    "n = int(input())\n",
    "dict = {}\n",
    "while n:\n",
    "    n -= 1\n",
    "    lingua = input()\n",
    "    trad = input()\n",
    "    dict[lingua] = trad\n",
    "\n",
    "m = int(input())\n",
    "while m:\n",
    "    m -= 1\n",
    "    pessoa = input()\n",
    "    lingua = input()\n",
    "    print(pessoa)\n",
    "    print(dict[lingua])\n",
    "    print()"
   ]
  },
  {
   "cell_type": "markdown",
   "id": "9f9b9309",
   "metadata": {},
   "source": [
    "# ex03"
   ]
  },
  {
   "cell_type": "code",
   "execution_count": 7,
   "id": "9a412f5e",
   "metadata": {},
   "outputs": [
    {
     "name": "stdout",
     "output_type": "stream",
     "text": [
      "abcdef\n",
      "acdf\n",
      "6\n"
     ]
    }
   ],
   "source": [
    "#longest common subsequence (LCS) between two input strings, s and s1.\n",
    "#subsequence that appears in both strings, not necessarily consecutively, and the goal is to find its length.\n",
    "s = input()\n",
    "s1 = input()\n",
    "n = len(s)\n",
    "n2 = len(s1)\n",
    "#2D array of dimensions (n + 1) x (n2 + 1). \n",
    "memo = [[-1 for _ in range(n2 + 1)] for _ in range(n + 1)]\n",
    "\n",
    "for i in range(n + 1):\n",
    "    for j in range(n2 + 1):\n",
    "        if i == 0 or j == 0: #when either of the strings is empty\n",
    "            memo[i][j] = 0\n",
    "        elif s[i - 1] == s1[j - 1]: #If the characters at positions i - 1 in s and j - 1 in s1 are the same,\n",
    "            memo[i][j] = 1 + memo[i - 1][j - 1]\n",
    "        else: #if different, memo[i][j] goes to the maximum of either the LCS when considering the character from s or s1.\n",
    "            memo[i][j] = max(memo[i][j - 1], memo[i - 1][j])\n",
    "\n",
    "ans = memo[n][n2] #contains the length of the LCS between s and s1.\n",
    "a = abs(n - ans)\n",
    "b = abs(n2 - ans)\n",
    "print(ans + a + b)\n"
   ]
  },
  {
   "cell_type": "code",
   "execution_count": null,
   "id": "4a464e2c",
   "metadata": {},
   "outputs": [],
   "source": []
  }
 ],
 "metadata": {
  "kernelspec": {
   "display_name": "Python 3 (ipykernel)",
   "language": "python",
   "name": "python3"
  },
  "language_info": {
   "codemirror_mode": {
    "name": "ipython",
    "version": 3
   },
   "file_extension": ".py",
   "mimetype": "text/x-python",
   "name": "python",
   "nbconvert_exporter": "python",
   "pygments_lexer": "ipython3",
   "version": "3.11.5"
  }
 },
 "nbformat": 4,
 "nbformat_minor": 5
}
