{
 "cells": [
  {
   "cell_type": "markdown",
   "id": "f6513f4e",
   "metadata": {},
   "source": [
    "# ex01"
   ]
  },
  {
   "cell_type": "code",
   "execution_count": 4,
   "id": "6f984616",
   "metadata": {},
   "outputs": [
    {
     "name": "stdout",
     "output_type": "stream",
     "text": [
      "4\n",
      "6\n"
     ]
    }
   ],
   "source": [
    "S = \"Departamento Acadêmico de Computação\"\n",
    "\n",
    "# Contar as ocorrências de 'a' (minúscula)\n",
    "count_a = S.count('a')\n",
    "\n",
    "# Converter a frase para letras minúsculas e contar 'a' e 'ã' (incluindo 'A' e 'Ã')\n",
    "count_a_with_accents = S.lower().count('a') + S.lower().count('ã')\n",
    "\n",
    "print(count_a)\n",
    "print(count_a_with_accents)\n"
   ]
  },
  {
   "cell_type": "markdown",
   "id": "7115cf59",
   "metadata": {},
   "source": [
    "## ex01 com RegEx"
   ]
  },
  {
   "cell_type": "code",
   "execution_count": 6,
   "id": "56c087bc",
   "metadata": {},
   "outputs": [
    {
     "name": "stdout",
     "output_type": "stream",
     "text": [
      "6\n"
     ]
    }
   ],
   "source": [
    "import re\n",
    "\n",
    "S = \"Departamento Acadêmico de Computação\"\n",
    "\n",
    "# Count occurrences of 'a' and 'ã' (including 'A' and 'Ã')\n",
    "count_a_and_ã = len(re.findall(r'[aãAÃ]', S))\n",
    "\n",
    "print(count_a_and_ã)\n"
   ]
  },
  {
   "cell_type": "markdown",
   "id": "3ede7636",
   "metadata": {},
   "source": [
    "# ex02"
   ]
  },
  {
   "cell_type": "code",
   "execution_count": 7,
   "id": "e37053bf",
   "metadata": {},
   "outputs": [
    {
     "name": "stdout",
     "output_type": "stream",
     "text": [
      "Digite uma string: Hello123@World!\n",
      "Letras: 10\n",
      "Dígitos: 3\n",
      "Caracteres Especiais: 2\n"
     ]
    }
   ],
   "source": [
    "#counts the number of letters, digits, and special characters in a user-inputted string.\n",
    "input_string = input(\"Digite uma string: \")\n",
    "\n",
    "# Inicialize contadores\n",
    "num_letters = 0\n",
    "num_digits = 0\n",
    "num_special_chars = 0\n",
    "\n",
    "# Itere através de cada caractere na string\n",
    "for char in input_string:\n",
    "    if char.isalpha(): #checks if the current character is an alphabetical letter.\n",
    "        num_letters += 1\n",
    "    elif char.isdigit():\n",
    "        num_digits += 1\n",
    "    else:\n",
    "        num_special_chars += 1\n",
    "\n",
    "print(\"Letras:\", num_letters)\n",
    "print(\"Dígitos:\", num_digits)\n",
    "print(\"Caracteres Especiais:\", num_special_chars)"
   ]
  },
  {
   "cell_type": "markdown",
   "id": "e07b8a07",
   "metadata": {},
   "source": [
    "# ex03"
   ]
  },
  {
   "cell_type": "code",
   "execution_count": 8,
   "id": "ed59f9dc",
   "metadata": {},
   "outputs": [
    {
     "name": "stdout",
     "output_type": "stream",
     "text": [
      "Digite uma string: 12345abc67\n",
      "Soma dos dígitos: 28\n",
      "Média dos dígitos: 4.0\n"
     ]
    }
   ],
   "source": [
    "#This code calculates the sum and average of the digits in a user-inputted string.\n",
    "input_string = input(\"Digite uma string: \")\n",
    "\n",
    "# Inicialize variáveis para a soma e contagem de dígitos\n",
    "soma_digitos = 0\n",
    "count_digitos = 0\n",
    "\n",
    "# Itere através de cada caractere na string\n",
    "for char in input_string:\n",
    "    if char.isdigit():\n",
    "        # Se o caractere for um dígito, adicione-o à soma\n",
    "        soma_digitos += int(char)\n",
    "        count_digitos += 1\n",
    "\n",
    "# Calcule a média dos dígitos\n",
    "media_digitos = soma_digitos / count_digitos if count_digitos > 0 else 0\n",
    "\n",
    "print(\"Soma dos dígitos:\", soma_digitos)\n",
    "print(\"Média dos dígitos:\", media_digitos)\n"
   ]
  },
  {
   "cell_type": "code",
   "execution_count": null,
   "id": "23136458",
   "metadata": {},
   "outputs": [],
   "source": []
  }
 ],
 "metadata": {
  "kernelspec": {
   "display_name": "Python 3 (ipykernel)",
   "language": "python",
   "name": "python3"
  },
  "language_info": {
   "codemirror_mode": {
    "name": "ipython",
    "version": 3
   },
   "file_extension": ".py",
   "mimetype": "text/x-python",
   "name": "python",
   "nbconvert_exporter": "python",
   "pygments_lexer": "ipython3",
   "version": "3.11.5"
  }
 },
 "nbformat": 4,
 "nbformat_minor": 5
}
