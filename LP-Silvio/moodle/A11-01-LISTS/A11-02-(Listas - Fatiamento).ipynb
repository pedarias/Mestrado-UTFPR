{
 "cells": [
  {
   "cell_type": "markdown",
   "id": "34e87c94",
   "metadata": {},
   "source": [
    "# ex01"
   ]
  },
  {
   "cell_type": "code",
   "execution_count": 6,
   "id": "7b945b4b",
   "metadata": {},
   "outputs": [
    {
     "name": "stdout",
     "output_type": "stream",
     "text": [
      "['azul', 'amarelo', 'vermelho']\n"
     ]
    }
   ],
   "source": [
    "cores = ['azul', 'amarelo', 'vermelho', 'preto', 'branco']\n",
    "nova_lista = cores[:3]\n",
    "print(nova_lista)"
   ]
  },
  {
   "cell_type": "markdown",
   "id": "aa0431f6",
   "metadata": {},
   "source": [
    "# ex02"
   ]
  },
  {
   "cell_type": "code",
   "execution_count": 7,
   "id": "a9e09d92",
   "metadata": {},
   "outputs": [
    {
     "name": "stdout",
     "output_type": "stream",
     "text": [
      "Menor elemento: 1\n",
      "Maior elemento: 82\n",
      "Soma dos elementos: 388\n"
     ]
    }
   ],
   "source": [
    "nums = [23, 22, 44, 17, 77, 55, 1, 65, 82, 2]\n",
    "\n",
    "# Find the smallest and largest elements using the min() and max() functions\n",
    "menor_elemento = min(nums)\n",
    "maior_elemento = max(nums)\n",
    "\n",
    "# Calculate the sum of the elements using the sum() function\n",
    "soma_elementos = sum(nums)\n",
    "\n",
    "# Print the results with formatting for clarity\n",
    "print(f\"Menor elemento: {menor_elemento}\")\n",
    "print(f\"Maior elemento: {maior_elemento}\")\n",
    "print(f\"Soma dos elementos: {soma_elementos}\")\n"
   ]
  },
  {
   "cell_type": "markdown",
   "id": "63a0d6fb",
   "metadata": {},
   "source": [
    "# ex03"
   ]
  },
  {
   "cell_type": "code",
   "execution_count": 8,
   "id": "62742304",
   "metadata": {},
   "outputs": [
    {
     "name": "stdout",
     "output_type": "stream",
     "text": [
      "['Blue', 'amarelo', 'vermelho', 'preto', 'White']\n"
     ]
    }
   ],
   "source": [
    "cores = ['azul', 'amarelo', 'vermelho', 'preto', 'branco']\n",
    "\n",
    "cores[0] = 'Blue'\n",
    "\n",
    "cores[-1] = 'White'\n",
    "\n",
    "print(cores)\n"
   ]
  },
  {
   "cell_type": "markdown",
   "id": "80adda27",
   "metadata": {},
   "source": [
    "# ex04"
   ]
  },
  {
   "cell_type": "code",
   "execution_count": 9,
   "id": "03708a5f",
   "metadata": {},
   "outputs": [
    {
     "name": "stdout",
     "output_type": "stream",
     "text": [
      "{'white', 'green'}\n"
     ]
    }
   ],
   "source": [
    "cores1 = [\"red\", \"green\", \"orange\", \"white\"]\n",
    "cores2 = [\"black\", \"green\", \"white\", 'pink']\n",
    "\n",
    "# Converte as listas em conjuntos (sets) e encontra os itens comuns\n",
    "itens_comuns = set(cores1) & set(cores2)\n",
    "\n",
    "print(itens_comuns)"
   ]
  },
  {
   "cell_type": "code",
   "execution_count": null,
   "id": "564d2860",
   "metadata": {},
   "outputs": [],
   "source": []
  }
 ],
 "metadata": {
  "kernelspec": {
   "display_name": "Python 3 (ipykernel)",
   "language": "python",
   "name": "python3"
  },
  "language_info": {
   "codemirror_mode": {
    "name": "ipython",
    "version": 3
   },
   "file_extension": ".py",
   "mimetype": "text/x-python",
   "name": "python",
   "nbconvert_exporter": "python",
   "pygments_lexer": "ipython3",
   "version": "3.11.5"
  }
 },
 "nbformat": 4,
 "nbformat_minor": 5
}
