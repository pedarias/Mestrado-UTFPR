{
 "cells": [
  {
   "cell_type": "markdown",
   "id": "d04fd5eb",
   "metadata": {},
   "source": [
    "# ex01"
   ]
  },
  {
   "cell_type": "code",
   "execution_count": 1,
   "id": "abe2a07f",
   "metadata": {},
   "outputs": [
    {
     "name": "stdout",
     "output_type": "stream",
     "text": [
      "[500, 400, 300, 200, 100]\n"
     ]
    }
   ],
   "source": [
    "list1 = [100, 200, 300, 400, 500]\n",
    "reversed_list = list1[::-1]  # Usando slicing para inverter a lista\n",
    "\n",
    "print(reversed_list)\n"
   ]
  },
  {
   "cell_type": "markdown",
   "id": "b5792366",
   "metadata": {},
   "source": [
    "# ex02"
   ]
  },
  {
   "cell_type": "code",
   "execution_count": 2,
   "id": "aeacec83",
   "metadata": {},
   "outputs": [
    {
     "name": "stdout",
     "output_type": "stream",
     "text": [
      "[1, 4, 9, 16, 25, 36, 49]\n"
     ]
    }
   ],
   "source": [
    "lista_de_numeros = [1, 2, 3, 4, 5, 6, 7]\n",
    "\n",
    "# Inicializa uma nova lista para armazenar os quadrados\n",
    "quadrados = []\n",
    "\n",
    "# Itera sobre os elementos da lista de números\n",
    "for numero in lista_de_numeros:\n",
    "    # Calcula o quadrado e adiciona à lista de quadrados\n",
    "    quadrado = numero ** 2\n",
    "    quadrados.append(quadrado)\n",
    "\n",
    "# Imprime a lista de quadrados\n",
    "print(quadrados)"
   ]
  },
  {
   "cell_type": "markdown",
   "id": "05680fe6",
   "metadata": {},
   "source": [
    "# ex03"
   ]
  },
  {
   "cell_type": "code",
   "execution_count": 3,
   "id": "79c88eee",
   "metadata": {},
   "outputs": [
    {
     "name": "stdout",
     "output_type": "stream",
     "text": [
      "Digite um número: 3\n",
      "O número 3 foi substituído por -1.\n",
      "Lista atualizada: [1, 2, -1, 4, 5, 6, 7]\n"
     ]
    }
   ],
   "source": [
    "# Lista de números\n",
    "lista = [1, 2, 3, 4, 5, 6, 7]\n",
    "\n",
    "# Solicita ao usuário que digite um número\n",
    "numero = int(input(\"Digite um número: \"))\n",
    "\n",
    "# Verifica se o número está na lista\n",
    "if numero in lista:\n",
    "    # Substitui o número por -1\n",
    "    index = lista.index(numero)\n",
    "    lista[index] = -1\n",
    "    print(f\"O número {numero} foi substituído por -1.\")\n",
    "else:\n",
    "    print(f\"O número {numero} não está na lista.\")\n",
    "\n",
    "# Imprime a lista atualizada\n",
    "print(\"Lista atualizada:\", lista)"
   ]
  },
  {
   "cell_type": "markdown",
   "id": "2d369278",
   "metadata": {},
   "source": [
    "# ex04"
   ]
  },
  {
   "cell_type": "code",
   "execution_count": 4,
   "id": "738e8f03",
   "metadata": {},
   "outputs": [
    {
     "name": "stdout",
     "output_type": "stream",
     "text": [
      "Digite um número: 6\n",
      "O número 6 foi removido da lista.\n",
      "Lista atualizada: [1, 2, 3, 4, 5, 7]\n"
     ]
    }
   ],
   "source": [
    "lista = [1, 2, 3, 4, 5, 6, 7]\n",
    "\n",
    "# Solicita ao usuário que digite um número\n",
    "numero = int(input(\"Digite um número: \"))\n",
    "\n",
    "# Verifica se o número está na lista\n",
    "if numero in lista:\n",
    "    # Remove o número da lista\n",
    "    lista.remove(numero)\n",
    "    print(f\"O número {numero} foi removido da lista.\")\n",
    "else:\n",
    "    print(f\"O número {numero} não está na lista.\")\n",
    "\n",
    "# Imprime a lista atualizada\n",
    "print(\"Lista atualizada:\", lista)"
   ]
  },
  {
   "cell_type": "code",
   "execution_count": null,
   "id": "b4f61024",
   "metadata": {},
   "outputs": [],
   "source": []
  }
 ],
 "metadata": {
  "kernelspec": {
   "display_name": "Python 3 (ipykernel)",
   "language": "python",
   "name": "python3"
  },
  "language_info": {
   "codemirror_mode": {
    "name": "ipython",
    "version": 3
   },
   "file_extension": ".py",
   "mimetype": "text/x-python",
   "name": "python",
   "nbconvert_exporter": "python",
   "pygments_lexer": "ipython3",
   "version": "3.11.5"
  }
 },
 "nbformat": 4,
 "nbformat_minor": 5
}
