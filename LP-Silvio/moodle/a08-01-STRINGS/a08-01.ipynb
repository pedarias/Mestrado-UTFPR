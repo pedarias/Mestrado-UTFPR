{
 "cells": [
  {
   "cell_type": "code",
   "execution_count": 2,
   "id": "07201dfa",
   "metadata": {},
   "outputs": [
    {
     "name": "stdout",
     "output_type": "stream",
     "text": [
      "Digite um número: 5\n",
      "contador = 1\n",
      "contador = 2\n",
      "contador = 3\n",
      "contador = 4\n",
      "contador = 5\n"
     ]
    }
   ],
   "source": [
    "#EX01\n",
    "# Solicita que o usuário digite um valor\n",
    "valor_digitado = int(input(\"Digite um número: \"))\n",
    "\n",
    "# Inicializa o contador\n",
    "contador = 1\n",
    "\n",
    "# Usa um loop while para exibir a sequência\n",
    "while contador <= valor_digitado:\n",
    "    print(\"contador =\", contador)\n",
    "    contador += 1\n"
   ]
  },
  {
   "cell_type": "code",
   "execution_count": 3,
   "id": "f0b8ac9a",
   "metadata": {},
   "outputs": [
    {
     "name": "stdout",
     "output_type": "stream",
     "text": [
      "Digite um número: 4\n",
      "contador = 1\n",
      "contador = 2\n",
      "contador = 3\n",
      "contador = 4\n",
      "SEQUÊNCIA FINALIZADA\n"
     ]
    }
   ],
   "source": [
    "#EX02\n",
    "# Solicita que o usuário digite um valor\n",
    "valor_digitado = int(input(\"Digite um número: \"))\n",
    "\n",
    "# Inicializa o contador\n",
    "contador = 1\n",
    "\n",
    "# Usa um loop while para exibir a sequência\n",
    "while contador <= valor_digitado:\n",
    "    print(\"contador =\", contador)\n",
    "    contador += 1\n",
    "else:\n",
    "    print(\"SEQUÊNCIA FINALIZADA\")\n"
   ]
  },
  {
   "cell_type": "code",
   "execution_count": 4,
   "id": "6899ecd6",
   "metadata": {},
   "outputs": [
    {
     "name": "stdout",
     "output_type": "stream",
     "text": [
      "Digite um número: 10\n",
      "Digite um número: 10\n",
      "Digite um número: 10\n",
      "Digite um número: 10\n",
      "Digite um número: 10\n",
      "A média dos números digitados é: 10.0\n"
     ]
    }
   ],
   "source": [
    "#ex03\n",
    "p = 5\n",
    "soma = 0\n",
    "count = 0\n",
    "\n",
    "while p > 0:\n",
    "    count += 1\n",
    "    f = int(input('Digite um número: '))\n",
    "    soma += f\n",
    "    p -= 1\n",
    "\n",
    "media = soma / count\n",
    "print(\"A média dos números digitados é:\", media)\n"
   ]
  },
  {
   "cell_type": "code",
   "execution_count": 5,
   "id": "dceb1925",
   "metadata": {},
   "outputs": [
    {
     "name": "stdout",
     "output_type": "stream",
     "text": [
      "Digite um número: 5\n",
      "Digite zero para encerrar\n",
      "Digite um número: 3\n",
      "Digite zero para encerrar\n",
      "Digite um número: 1\n",
      "Digite zero para encerrar\n",
      "Digite um número: 0\n"
     ]
    }
   ],
   "source": [
    "#ex04\n",
    "while True:\n",
    "    n = int(input('Digite um número: '))\n",
    "    if n == 0:\n",
    "        break\n",
    "    print('Digite zero para encerrar')\n",
    "\n",
    "else:\n",
    "    print('Encerrado')\n"
   ]
  },
  {
   "cell_type": "code",
   "execution_count": 6,
   "id": "eb39831b",
   "metadata": {},
   "outputs": [
    {
     "name": "stdout",
     "output_type": "stream",
     "text": [
      "A raiz quadrada do número 1 é 1.0000\n",
      "A raiz quadrada do número 2 é 1.4142\n",
      "A raiz quadrada do número 3 é 1.7321\n",
      "A raiz quadrada do número 4 é 2.0000\n",
      "A raiz quadrada do número 5 é 2.2361\n"
     ]
    }
   ],
   "source": [
    "#ex05\n",
    "import math\n",
    "\n",
    "n = 1\n",
    "\n",
    "while n <= 5:\n",
    "    raiz_quadrada = math.sqrt(n)\n",
    "    print(f\"A raiz quadrada do número {n} é {raiz_quadrada:.4f}\")\n",
    "    n += 1\n"
   ]
  },
  {
   "cell_type": "code",
   "execution_count": null,
   "id": "851d706a",
   "metadata": {},
   "outputs": [],
   "source": []
  }
 ],
 "metadata": {
  "kernelspec": {
   "display_name": "Python 3 (ipykernel)",
   "language": "python",
   "name": "python3"
  },
  "language_info": {
   "codemirror_mode": {
    "name": "ipython",
    "version": 3
   },
   "file_extension": ".py",
   "mimetype": "text/x-python",
   "name": "python",
   "nbconvert_exporter": "python",
   "pygments_lexer": "ipython3",
   "version": "3.11.5"
  }
 },
 "nbformat": 4,
 "nbformat_minor": 5
}
