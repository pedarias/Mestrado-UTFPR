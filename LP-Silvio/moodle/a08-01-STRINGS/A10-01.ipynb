{
 "cells": [
  {
   "cell_type": "markdown",
   "id": "bdc62df7",
   "metadata": {},
   "source": [
    "# ex01"
   ]
  },
  {
   "cell_type": "code",
   "execution_count": 1,
   "id": "98523ae3",
   "metadata": {},
   "outputs": [
    {
     "name": "stdout",
     "output_type": "stream",
     "text": [
      "Universidade Tecnológica Federal do Paraná\n"
     ]
    }
   ],
   "source": [
    "S = 'Universidade'\n",
    "T = 'Tecnológica'\n",
    "R = 'Federal'\n",
    "U = 'do'\n",
    "X = 'Paraná'\n",
    "\n",
    "K = S + ' ' + T + ' ' + R + ' ' + U + ' ' + X\n",
    "\n",
    "print(K)"
   ]
  },
  {
   "cell_type": "markdown",
   "id": "b1df17f7",
   "metadata": {},
   "source": [
    "# ex02"
   ]
  },
  {
   "cell_type": "code",
   "execution_count": 4,
   "id": "3dab36f5",
   "metadata": {},
   "outputs": [
    {
     "name": "stdout",
     "output_type": "stream",
     "text": [
      "Hoje\n",
      "02468\n",
      "9 8 7 6 5 4 3 2 1 0\n"
     ]
    }
   ],
   "source": [
    "s1 = \"Bom dia. Hoje o dia está ensolarado\"\n",
    "s2 = \"0123456789\"\n",
    "s3 = \"0 1 2 3 4 5 6 7 8 9\"\n",
    "\n",
    "# slicing para obter \"Hoje\"\n",
    "s1_part1 = s1[9:13]\n",
    "\n",
    "# slicing para obter \"02468\"\n",
    "s2_part1 = s2[::2]\n",
    "\n",
    "# slicing \"9 8 7 6 5 4 3 2 1 0\"\n",
    "s3_part1 = s3.split()\n",
    "s3_part1 = ' '.join(s3_part1[::-1])\n",
    "\n",
    "print(s1_part1)\n",
    "print(s2_part1)\n",
    "print(s3_part1)\n"
   ]
  },
  {
   "cell_type": "markdown",
   "id": "45a28941",
   "metadata": {},
   "source": [
    "# ex03"
   ]
  },
  {
   "cell_type": "code",
   "execution_count": 6,
   "id": "1c2b6436",
   "metadata": {},
   "outputs": [
    {
     "name": "stdout",
     "output_type": "stream",
     "text": [
      "Enter your name: Silvio\n",
      "Enter the number of characters to be displayed: 3\n",
      "Sil\n"
     ]
    }
   ],
   "source": [
    "# Ask the user to enter their name\n",
    "name = input(\"Enter your name: \")\n",
    "\n",
    "# enter the number of characters to be displayed\n",
    "char_count = int(input(\"Enter the number of characters to be displayed: \"))\n",
    "\n",
    "# Check if the number of characters is greater than or equal to the length of the name\n",
    "if char_count >= len(name):\n",
    "    print(name)\n",
    "else:\n",
    "    # If it's less, display only the first 'char_count' characters of the name\n",
    "    short_name = name[:char_count]\n",
    "    print(short_name)\n"
   ]
  },
  {
   "cell_type": "code",
   "execution_count": null,
   "id": "56f46c38",
   "metadata": {},
   "outputs": [],
   "source": []
  }
 ],
 "metadata": {
  "kernelspec": {
   "display_name": "Python 3 (ipykernel)",
   "language": "python",
   "name": "python3"
  },
  "language_info": {
   "codemirror_mode": {
    "name": "ipython",
    "version": 3
   },
   "file_extension": ".py",
   "mimetype": "text/x-python",
   "name": "python",
   "nbconvert_exporter": "python",
   "pygments_lexer": "ipython3",
   "version": "3.11.5"
  }
 },
 "nbformat": 4,
 "nbformat_minor": 5
}
