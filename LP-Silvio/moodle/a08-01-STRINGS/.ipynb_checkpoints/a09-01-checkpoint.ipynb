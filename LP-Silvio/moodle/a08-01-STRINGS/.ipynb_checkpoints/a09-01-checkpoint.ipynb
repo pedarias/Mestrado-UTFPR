{
 "cells": [
  {
   "cell_type": "code",
   "execution_count": null,
   "id": "62dd27d3",
   "metadata": {},
   "outputs": [],
   "source": [
    "#ex01\n",
    "for numero in range(0, 20, 2):\n",
    "    print(numero)\n"
   ]
  },
  {
   "cell_type": "code",
   "execution_count": null,
   "id": "7301f405",
   "metadata": {},
   "outputs": [],
   "source": [
    "#ex2\n",
    "for numero in range(10):\n",
    "    if numero == 5:\n",
    "        continue\n",
    "    print(numero)\n"
   ]
  },
  {
   "cell_type": "code",
   "execution_count": 1,
   "id": "a83bf419",
   "metadata": {},
   "outputs": [
    {
     "name": "stdout",
     "output_type": "stream",
     "text": [
      "Tabuada do 8:\n",
      "8 x 1 = 8\n",
      "8 x 2 = 16\n",
      "8 x 3 = 24\n",
      "8 x 4 = 32\n",
      "8 x 5 = 40\n",
      "8 x 6 = 48\n",
      "8 x 7 = 56\n",
      "8 x 8 = 64\n",
      "8 x 9 = 72\n",
      "8 x 10 = 80\n",
      "\n",
      "Tabuada do 9:\n",
      "9 x 1 = 9\n",
      "9 x 2 = 18\n",
      "9 x 3 = 27\n",
      "9 x 4 = 36\n",
      "9 x 5 = 45\n",
      "9 x 6 = 54\n",
      "9 x 7 = 63\n",
      "9 x 8 = 72\n",
      "9 x 9 = 81\n",
      "9 x 10 = 90\n",
      "\n"
     ]
    }
   ],
   "source": [
    "#ex03\n",
    "for numero in range(8, 10):  # Loop para os números 8 e 9\n",
    "    print(f\"Tabuada do {numero}:\")\n",
    "    for i in range(1, 11):  # Loop de 1 a 10 para multiplicação\n",
    "        resultado = numero * i\n",
    "        print(f\"{numero} x {i} = {resultado}\")\n",
    "    print()  # Adiciona uma linha em branco entre as tabuadas\n"
   ]
  },
  {
   "cell_type": "code",
   "execution_count": null,
   "id": "bc614428",
   "metadata": {},
   "outputs": [],
   "source": []
  }
 ],
 "metadata": {
  "kernelspec": {
   "display_name": "Python 3 (ipykernel)",
   "language": "python",
   "name": "python3"
  },
  "language_info": {
   "codemirror_mode": {
    "name": "ipython",
    "version": 3
   },
   "file_extension": ".py",
   "mimetype": "text/x-python",
   "name": "python",
   "nbconvert_exporter": "python",
   "pygments_lexer": "ipython3",
   "version": "3.11.5"
  }
 },
 "nbformat": 4,
 "nbformat_minor": 5
}
