{
 "cells": [
  {
   "cell_type": "code",
   "execution_count": 3,
   "id": "b8217687",
   "metadata": {},
   "outputs": [
    {
     "name": "stdout",
     "output_type": "stream",
     "text": [
      "Erro encontrado\n"
     ]
    }
   ],
   "source": [
    "#ex1\n",
    "a = 5\n",
    "b = 0\n",
    "\n",
    "try:\n",
    "    resultado = a / b\n",
    "    print(resultado)\n",
    "except Exception:\n",
    "    print(\"Erro encontrado\")\n"
   ]
  },
  {
   "cell_type": "code",
   "execution_count": 4,
   "id": "f0649914",
   "metadata": {},
   "outputs": [
    {
     "name": "stdout",
     "output_type": "stream",
     "text": [
      "Não é possível dividir um número por zero\n"
     ]
    }
   ],
   "source": [
    "#ex02\n",
    "a = 5\n",
    "b = 0\n",
    "\n",
    "try:\n",
    "    resultado = a / b\n",
    "    print(resultado)\n",
    "except ZeroDivisionError:\n",
    "    print(\"Não é possível dividir um número por zero\")\n"
   ]
  },
  {
   "cell_type": "code",
   "execution_count": 8,
   "id": "cf87efb7",
   "metadata": {},
   "outputs": [
    {
     "name": "stdout",
     "output_type": "stream",
     "text": [
      "Não é possível dividir um número por zero\n"
     ]
    }
   ],
   "source": [
    "#ex03\n",
    "a = 5\n",
    "b = 0\n",
    "\n",
    "try:\n",
    "    resultado = a / b\n",
    "    print(resultado)\n",
    "except ZeroDivisionError:\n",
    "    print(\"Não é possível dividir um número por zero\")\n",
    "except NameError as e:\n",
    "    print(f\"A variável {e} não foi declarada\")\n",
    "except Exception:\n",
    "    print(\"Ocorreu um erro não identificado\")\n"
   ]
  },
  {
   "cell_type": "code",
   "execution_count": 19,
   "id": "2aa3ab39",
   "metadata": {},
   "outputs": [
    {
     "name": "stdout",
     "output_type": "stream",
     "text": [
      "Digite um valor float: e\n"
     ]
    },
    {
     "ename": "TypeError",
     "evalue": "Apenas valores floats são permitidos",
     "output_type": "error",
     "traceback": [
      "\u001b[0;31m---------------------------------------------------------------------------\u001b[0m",
      "\u001b[0;31mValueError\u001b[0m                                Traceback (most recent call last)",
      "Cell \u001b[0;32mIn[19], line 3\u001b[0m\n\u001b[1;32m      2\u001b[0m \u001b[38;5;28;01mtry\u001b[39;00m:\n\u001b[0;32m----> 3\u001b[0m     x \u001b[38;5;241m=\u001b[39m \u001b[38;5;28mfloat\u001b[39m(\u001b[38;5;28minput\u001b[39m(\u001b[38;5;124m\"\u001b[39m\u001b[38;5;124mDigite um valor float: \u001b[39m\u001b[38;5;124m\"\u001b[39m))\n\u001b[1;32m      4\u001b[0m \u001b[38;5;28;01mexcept\u001b[39;00m \u001b[38;5;167;01mValueError\u001b[39;00m:\n",
      "\u001b[0;31mValueError\u001b[0m: could not convert string to float: 'e'",
      "\nDuring handling of the above exception, another exception occurred:\n",
      "\u001b[0;31mTypeError\u001b[0m                                 Traceback (most recent call last)",
      "Cell \u001b[0;32mIn[19], line 5\u001b[0m\n\u001b[1;32m      3\u001b[0m     x \u001b[38;5;241m=\u001b[39m \u001b[38;5;28mfloat\u001b[39m(\u001b[38;5;28minput\u001b[39m(\u001b[38;5;124m\"\u001b[39m\u001b[38;5;124mDigite um valor float: \u001b[39m\u001b[38;5;124m\"\u001b[39m))\n\u001b[1;32m      4\u001b[0m \u001b[38;5;28;01mexcept\u001b[39;00m \u001b[38;5;167;01mValueError\u001b[39;00m:\n\u001b[0;32m----> 5\u001b[0m     \u001b[38;5;28;01mraise\u001b[39;00m \u001b[38;5;167;01mTypeError\u001b[39;00m(\u001b[38;5;124m\"\u001b[39m\u001b[38;5;124mApenas valores floats são permitidos\u001b[39m\u001b[38;5;124m\"\u001b[39m)\n",
      "\u001b[0;31mTypeError\u001b[0m: Apenas valores floats são permitidos"
     ]
    }
   ],
   "source": [
    "#ex04\n",
    "try:\n",
    "    x = float(input(\"Digite um valor float: \"))\n",
    "except ValueError:\n",
    "    raise TypeError(\"Apenas valores floats são permitidos\")"
   ]
  },
  {
   "cell_type": "code",
   "execution_count": null,
   "id": "84400840",
   "metadata": {},
   "outputs": [],
   "source": []
  }
 ],
 "metadata": {
  "kernelspec": {
   "display_name": "Python 3 (ipykernel)",
   "language": "python",
   "name": "python3"
  },
  "language_info": {
   "codemirror_mode": {
    "name": "ipython",
    "version": 3
   },
   "file_extension": ".py",
   "mimetype": "text/x-python",
   "name": "python",
   "nbconvert_exporter": "python",
   "pygments_lexer": "ipython3",
   "version": "3.11.5"
  }
 },
 "nbformat": 4,
 "nbformat_minor": 5
}
