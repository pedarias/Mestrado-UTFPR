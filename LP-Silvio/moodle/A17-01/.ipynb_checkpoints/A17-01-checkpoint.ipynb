{
 "cells": [
  {
   "cell_type": "markdown",
   "id": "44854a79",
   "metadata": {},
   "source": [
    "# ex01"
   ]
  },
  {
   "cell_type": "code",
   "execution_count": 1,
   "id": "ac91bd66",
   "metadata": {},
   "outputs": [
    {
     "name": "stdout",
     "output_type": "stream",
     "text": [
      "Digite uma chave: Pedro\n",
      "A chave está no dicionário\n"
     ]
    }
   ],
   "source": [
    "D = {\n",
    "    'Marcos': 19,\n",
    "    'Paulo': 22,\n",
    "    'João': 21,\n",
    "    'Pedro': 20\n",
    "}\n",
    "\n",
    "chave = input(\"Digite uma chave: \")\n",
    "\n",
    "if chave in D:\n",
    "    print(\"A chave está no dicionário\")\n",
    "else:\n",
    "    print(\"A chave não está no dicionário\")"
   ]
  },
  {
   "cell_type": "markdown",
   "id": "25e510e2",
   "metadata": {},
   "source": [
    "# ex02"
   ]
  },
  {
   "cell_type": "code",
   "execution_count": 2,
   "id": "6220a93f",
   "metadata": {},
   "outputs": [
    {
     "name": "stdout",
     "output_type": "stream",
     "text": [
      "Maior valor: 112\n",
      "Menor valor: 12\n"
     ]
    }
   ],
   "source": [
    "D = {'w': 112, 'x': 12, 'y': 99, 'z': 60}\n",
    "\n",
    "values = D.values()\n",
    "\n",
    "max_value = max(values)\n",
    "min_value = min(values)\n",
    "\n",
    "print(\"Maior valor:\", max_value)\n",
    "print(\"Menor valor:\", min_value)"
   ]
  },
  {
   "cell_type": "markdown",
   "id": "96096aac",
   "metadata": {},
   "source": [
    "# ex03"
   ]
  },
  {
   "cell_type": "code",
   "execution_count": 5,
   "id": "dd613256",
   "metadata": {},
   "outputs": [
    {
     "name": "stdout",
     "output_type": "stream",
     "text": [
      "8\n"
     ]
    }
   ],
   "source": [
    "D = {'Brasil': ['verde', 'amarelo', 'azul'], 'Italia': ['branco', 'verde', 'vermelho'], 'Espanha': ['amarelo', 'vermelho']}\n",
    "\n",
    "total_itens = 0\n",
    "\n",
    "for lista_cores in D.values():\n",
    "    total_itens += len(lista_cores)\n",
    "\n",
    "print(total_itens)"
   ]
  },
  {
   "cell_type": "markdown",
   "id": "c1de0e1a",
   "metadata": {},
   "source": [
    "# ex04"
   ]
  },
  {
   "cell_type": "code",
   "execution_count": 6,
   "id": "974d5dbc",
   "metadata": {},
   "outputs": [
    {
     "name": "stdout",
     "output_type": "stream",
     "text": [
      "(Marcos: 8) está presente em A and B\n",
      "(Claudio: 56) está presente em A and B\n"
     ]
    }
   ],
   "source": [
    "A = {'Pedro': 92, 'Claudio': 56, 'Marcia': 88, 'Carlos': 17, 'Marcos': 8}\n",
    "B = {'Valdir': 70, 'Marcos': 8, 'Claudio': 56, 'Luiz': 97, 'Pedro': 12}\n",
    "\n",
    "common_items = set(A.items()) & set(B.items())\n",
    "\n",
    "for key, value in common_items:\n",
    "    print(f\"({key}: {value}) está presente em A and B\")"
   ]
  },
  {
   "cell_type": "markdown",
   "id": "fbed46e6",
   "metadata": {},
   "source": [
    "# ex05"
   ]
  },
  {
   "cell_type": "code",
   "execution_count": 7,
   "id": "42a84329",
   "metadata": {},
   "outputs": [
    {
     "name": "stdout",
     "output_type": "stream",
     "text": [
      "7\n"
     ]
    }
   ],
   "source": [
    "D = {\n",
    "    \"classe\": {\n",
    "        \"estudante\": {\n",
    "            \"nome\": \"Carlos\",\n",
    "            \"nota\": {\n",
    "                \"Matemática\": 7,\n",
    "                \"Química\": 8\n",
    "            }\n",
    "        }\n",
    "    }\n",
    "}\n",
    "\n",
    "valor_matematica = D[\"classe\"][\"estudante\"][\"nota\"][\"Matemática\"]\n",
    "print(valor_matematica)"
   ]
  },
  {
   "cell_type": "code",
   "execution_count": null,
   "id": "83ca5739",
   "metadata": {},
   "outputs": [],
   "source": []
  }
 ],
 "metadata": {
  "kernelspec": {
   "display_name": "Python 3 (ipykernel)",
   "language": "python",
   "name": "python3"
  },
  "language_info": {
   "codemirror_mode": {
    "name": "ipython",
    "version": 3
   },
   "file_extension": ".py",
   "mimetype": "text/x-python",
   "name": "python",
   "nbconvert_exporter": "python",
   "pygments_lexer": "ipython3",
   "version": "3.11.5"
  }
 },
 "nbformat": 4,
 "nbformat_minor": 5
}
