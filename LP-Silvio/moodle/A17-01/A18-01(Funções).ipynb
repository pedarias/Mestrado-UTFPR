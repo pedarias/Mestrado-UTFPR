{
 "cells": [
  {
   "cell_type": "markdown",
   "id": "c0e0dd6e",
   "metadata": {},
   "source": [
    "# EX01"
   ]
  },
  {
   "cell_type": "code",
   "execution_count": 1,
   "id": "2fc1edd5",
   "metadata": {},
   "outputs": [
    {
     "name": "stdout",
     "output_type": "stream",
     "text": [
      "[3, 4]\n"
     ]
    }
   ],
   "source": [
    "#using set\n",
    "def Intersecao(L1, L2):\n",
    "    # Use a função set() para converter as listas em conjuntos (sets)\n",
    "    set_L1 = set(L1)\n",
    "    set_L2 = set(L2)\n",
    "    \n",
    "    # Use a operação de interseção (&) entre os conjuntos\n",
    "    intersecao = set_L1 & set_L2\n",
    "    \n",
    "    # ConvertE o resultado de volta para uma lista\n",
    "    intersecao_lista = list(intersecao)\n",
    "    \n",
    "    return intersecao_lista\n",
    "\n",
    "L1 = [1, 2, 3, 4]\n",
    "L2 = [3, 4, 5, 6]\n",
    "resultado = Intersecao(L1, L2)\n",
    "print(resultado)"
   ]
  },
  {
   "cell_type": "code",
   "execution_count": 2,
   "id": "d4129694",
   "metadata": {},
   "outputs": [
    {
     "name": "stdout",
     "output_type": "stream",
     "text": [
      "[3, 4]\n"
     ]
    }
   ],
   "source": [
    "# using list comprehension\n",
    "def Intersecao(L1, L2):\n",
    "    # Use list comprehension to create a new list with elements that are in both L1 and L2\n",
    "    intersecao = [item for item in L1 if item in L2]\n",
    "    \n",
    "    return intersecao\n",
    "L1 = [1, 2, 3, 4]\n",
    "L2 = [3, 4, 5, 6]\n",
    "resultado = Intersecao(L1, L2)\n",
    "print(resultado)"
   ]
  },
  {
   "cell_type": "markdown",
   "id": "e948b3ec",
   "metadata": {},
   "source": [
    "# ex02"
   ]
  },
  {
   "cell_type": "code",
   "execution_count": 3,
   "id": "67cec0fb",
   "metadata": {},
   "outputs": [
    {
     "name": "stdout",
     "output_type": "stream",
     "text": [
      "carro : terrestre\n",
      "navio : aquatico\n",
      "bicicleta : terrestre\n"
     ]
    }
   ],
   "source": [
    "def veiculos(dic):\n",
    "    for key, value in dic.items():\n",
    "        print(f'{key} : {value}')\n",
    "\n",
    "dicVec = {\n",
    "    'carro': 'terrestre',\n",
    "    'navio': 'aquatico',\n",
    "    'bicicleta': 'terrestre'\n",
    "}\n",
    "\n",
    "veiculos(dicVec)"
   ]
  },
  {
   "cell_type": "markdown",
   "id": "85a66ee9",
   "metadata": {},
   "source": [
    "# ex03"
   ]
  },
  {
   "cell_type": "code",
   "execution_count": 4,
   "id": "0f42f104",
   "metadata": {},
   "outputs": [
    {
     "name": "stdout",
     "output_type": "stream",
     "text": [
      "verde amarelo\n",
      "verde amarelo azul branco\n"
     ]
    }
   ],
   "source": [
    "def imprime(*args):\n",
    "    print(*args)\n",
    "\n",
    "imprime(\"verde\", \"amarelo\")\n",
    "imprime(\"verde\", \"amarelo\", \"azul\", \"branco\")"
   ]
  },
  {
   "cell_type": "markdown",
   "id": "7d7d3159",
   "metadata": {},
   "source": [
    "# ex04"
   ]
  },
  {
   "cell_type": "code",
   "execution_count": 7,
   "id": "e0a6d83c",
   "metadata": {},
   "outputs": [
    {
     "name": "stdout",
     "output_type": "stream",
     "text": [
      "Digite um valor (entre 1 e 10): 8\n",
      "8 * 1 = 8\n",
      "8 * 2 = 16\n",
      "8 * 3 = 24\n",
      "8 * 4 = 32\n",
      "8 * 5 = 40\n",
      "8 * 6 = 48\n",
      "8 * 7 = 56\n",
      "8 * 8 = 64\n",
      "8 * 9 = 72\n",
      "8 * 10 = 80\n"
     ]
    }
   ],
   "source": [
    "def tabuada(numero):\n",
    "    for i in range(1, 11):\n",
    "        print(f\"{numero} * {i} = {numero * i}\")\n",
    "\n",
    "num = 0\n",
    "while num < 1 or num > 10:\n",
    "    num = int(input(\"Digite um valor (entre 1 e 10): \"))\n",
    "    if num < 1 or num > 10:\n",
    "        print(\"Valor fora do intervalo permitido. Digite um valor entre 1 e 10.\")\n",
    "    else:\n",
    "        tabuada(num)\n"
   ]
  },
  {
   "cell_type": "markdown",
   "id": "440e313c",
   "metadata": {},
   "source": [
    "# ex05"
   ]
  },
  {
   "cell_type": "code",
   "execution_count": 9,
   "id": "96e10da6",
   "metadata": {},
   "outputs": [
    {
     "name": "stdout",
     "output_type": "stream",
     "text": [
      "Digite o primeiro número: 2\n",
      "Digite o segundo número: 3\n",
      "Escolha a operação:\n",
      "1. Somar\n",
      "2. Subtrair\n",
      "3. Multiplicar\n",
      "4. Dividir\n",
      "Digite o número da operação desejada (1/2/3/4): 1\n",
      "O resultado da soma é: 5.0\n"
     ]
    }
   ],
   "source": [
    "def somar(a, b):\n",
    "    return a + b\n",
    "\n",
    "def subtrair(a, b):\n",
    "    return a - b\n",
    "\n",
    "def multiplicar(a, b):\n",
    "    return a * b\n",
    "\n",
    "def dividir(a, b):\n",
    "    if b != 0:\n",
    "        return a / b\n",
    "    else:\n",
    "        return \"Erro: divisão por zero.\"\n",
    "\n",
    "num1 = float(input(\"Digite o primeiro número: \"))\n",
    "num2 = float(input(\"Digite o segundo número: \"))\n",
    "\n",
    "print(\"Escolha a operação:\")\n",
    "print(\"1. Somar\")\n",
    "print(\"2. Subtrair\")\n",
    "print(\"3. Multiplicar\")\n",
    "print(\"4. Dividir\")\n",
    "\n",
    "opcao = int(input(\"Digite o número da operação desejada (1/2/3/4): \"))\n",
    "\n",
    "if opcao == 1:\n",
    "    resultado = somar(num1, num2)\n",
    "    operacao = \"soma\"\n",
    "elif opcao == 2:\n",
    "    resultado = subtrair(num1, num2)\n",
    "    operacao = \"subtração\"\n",
    "elif opcao == 3:\n",
    "    resultado = multiplicar(num1, num2)\n",
    "    operacao = \"multiplicação\"\n",
    "elif opcao == 4:\n",
    "    resultado = dividir(num1, num2)\n",
    "    operacao = \"divisão\"\n",
    "else:\n",
    "    resultado = \"Opção inválida\"\n",
    "    operacao = \"desconhecida\"\n",
    "\n",
    "print(f\"O resultado da {operacao} é: {resultado}\")\n"
   ]
  },
  {
   "cell_type": "code",
   "execution_count": null,
   "id": "0ad7a08a",
   "metadata": {},
   "outputs": [],
   "source": []
  }
 ],
 "metadata": {
  "kernelspec": {
   "display_name": "Python 3 (ipykernel)",
   "language": "python",
   "name": "python3"
  },
  "language_info": {
   "codemirror_mode": {
    "name": "ipython",
    "version": 3
   },
   "file_extension": ".py",
   "mimetype": "text/x-python",
   "name": "python",
   "nbconvert_exporter": "python",
   "pygments_lexer": "ipython3",
   "version": "3.11.5"
  }
 },
 "nbformat": 4,
 "nbformat_minor": 5
}
