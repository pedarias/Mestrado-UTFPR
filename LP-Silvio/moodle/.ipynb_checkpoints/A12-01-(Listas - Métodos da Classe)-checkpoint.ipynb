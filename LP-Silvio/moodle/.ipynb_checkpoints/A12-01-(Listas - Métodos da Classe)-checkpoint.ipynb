{
 "cells": [
  {
   "cell_type": "markdown",
   "id": "3bbc7e00",
   "metadata": {},
   "source": [
    "# ex01"
   ]
  },
  {
   "cell_type": "code",
   "execution_count": 2,
   "id": "e02bbbdd",
   "metadata": {},
   "outputs": [
    {
     "name": "stdout",
     "output_type": "stream",
     "text": [
      "[1, 2, 3, 4, 5, 6, 7, 8]\n"
     ]
    }
   ],
   "source": [
    "a = [1, 2, 3, 7, 2, 1, 5, 6, 4, 8, 5, 4]\n",
    "\n",
    "# Converte a lista em um conjunto para remover duplicatas\n",
    "a_set = set(a)\n",
    "\n",
    "# Converte o conjunto de volta em uma lista\n",
    "a_sd = list(a_set)\n",
    "\n",
    "print(a_sd)"
   ]
  },
  {
   "cell_type": "markdown",
   "id": "64d33c44",
   "metadata": {},
   "source": [
    "# ex02"
   ]
  },
  {
   "cell_type": "code",
   "execution_count": 3,
   "id": "8ec4559c",
   "metadata": {},
   "outputs": [
    {
     "name": "stdout",
     "output_type": "stream",
     "text": [
      "['pedro', 'paulo', 'carlos']\n"
     ]
    }
   ],
   "source": [
    "pess = ['paulo', 'pedro', 'carlos']\n",
    "\n",
    "# Ordena a lista em ordem alfabética (crescente) e inverte a ordem\n",
    "pess.sort(reverse=True)\n",
    "\n",
    "print(pess)"
   ]
  },
  {
   "cell_type": "markdown",
   "id": "35080825",
   "metadata": {},
   "source": [
    "# ex03"
   ]
  },
  {
   "cell_type": "code",
   "execution_count": 4,
   "id": "d0b278b5",
   "metadata": {},
   "outputs": [
    {
     "name": "stdout",
     "output_type": "stream",
     "text": [
      "['a', 'e', 'i', 'o', 'u']\n"
     ]
    }
   ],
   "source": [
    "vogais = ['a', 'e', 'i', 'u']\n",
    "vogais.insert(3, 'o')\n",
    "\n",
    "print(vogais)"
   ]
  },
  {
   "cell_type": "markdown",
   "id": "90ad9f7b",
   "metadata": {},
   "source": [
    "# ex04"
   ]
  },
  {
   "cell_type": "code",
   "execution_count": 6,
   "id": "994e7c4b",
   "metadata": {},
   "outputs": [
    {
     "name": "stdout",
     "output_type": "stream",
     "text": [
      "Digite uma letra: b\n",
      "Palavras que começam com b:\n",
      "['bla', 'bot']\n"
     ]
    }
   ],
   "source": [
    "test = ['abcd', 'abc', 'def', 'bla', 'xis', 'top', 'bot', 'ser', 'amn']\n",
    "\n",
    "letra = input(\"Digite uma letra: \")\n",
    "\n",
    "solucao = []\n",
    "# Percorre a lista e verifica se cada palavra começa com a letra digitada\n",
    "for i in test:\n",
    "    if i.startswith(letra):\n",
    "        solucao.append(i)\n",
    "        \n",
    "#wo append --> list comprehension\n",
    "#solucao = [i for i in test if i.startswith(letra)]        \n",
    "        \n",
    "print(\"Palavras que começam com\", letra + \":\")\n",
    "print(solucao)\n"
   ]
  },
  {
   "cell_type": "code",
   "execution_count": null,
   "id": "ff642558",
   "metadata": {},
   "outputs": [],
   "source": []
  }
 ],
 "metadata": {
  "kernelspec": {
   "display_name": "Python 3 (ipykernel)",
   "language": "python",
   "name": "python3"
  },
  "language_info": {
   "codemirror_mode": {
    "name": "ipython",
    "version": 3
   },
   "file_extension": ".py",
   "mimetype": "text/x-python",
   "name": "python",
   "nbconvert_exporter": "python",
   "pygments_lexer": "ipython3",
   "version": "3.11.5"
  }
 },
 "nbformat": 4,
 "nbformat_minor": 5
}
