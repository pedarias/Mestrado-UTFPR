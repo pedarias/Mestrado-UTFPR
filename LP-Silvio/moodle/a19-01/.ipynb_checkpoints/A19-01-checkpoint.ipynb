{
 "cells": [
  {
   "cell_type": "markdown",
   "id": "bb13acdd",
   "metadata": {},
   "source": [
    "# EX01\n",
    "1) Crie um programa que conte quantas linhas existem em um arquivo de texto."
   ]
  },
  {
   "cell_type": "code",
   "execution_count": null,
   "id": "3f727be5",
   "metadata": {},
   "outputs": [],
   "source": [
    "# Definição da função para contar linhas em um arquivo de texto\n",
    "def contar_linhas(nome_do_arquivo):\n",
    "    try:\n",
    "        with open(nome_do_arquivo, 'r', encoding='utf-8') as arquivo:\n",
    "            return sum(1 for linha in arquivo)\n",
    "    except FileNotFoundError:\n",
    "        return \"Arquivo não encontrado.\"\n",
    "\n",
    "# Chamada da função com o nome do arquivo específico\n",
    "nome_do_arquivo = 'contar.txt'\n",
    "numero_de_linhas = contar_linhas(nome_do_arquivo)\n",
    "numero_de_linhas"
   ]
  },
  {
   "cell_type": "markdown",
   "id": "8d499a03",
   "metadata": {},
   "source": [
    "# EX02\n",
    "2) Escreva um programa que permita ao usuário fornecer o nome de dois arquivos. O programa deve criar um terceiro arquivo que seja a concatenação dos conteúdos dos dois arquivos fornecidos."
   ]
  },
  {
   "cell_type": "code",
   "execution_count": null,
   "id": "cb87cb1d",
   "metadata": {},
   "outputs": [],
   "source": [
    "def concatenar_arquivos(arquivo1, arquivo2, arquivo_destino):\n",
    "    try:\n",
    "        with open(arquivo1, 'r', encoding='utf-8') as file1, \\\n",
    "             open(arquivo2, 'r', encoding='utf-8') as file2, \\\n",
    "             open(arquivo_destino, 'w', encoding='utf-8') as file_destino:\n",
    "            \n",
    "            conteudo1 = file1.read()\n",
    "            conteudo2 = file2.read()\n",
    "\n",
    "            file_destino.write(conteudo1 + \"\\n\" + conteudo2)\n",
    "\n",
    "        return f\"Arquivos concatenados com sucesso em {arquivo_destino}\"\n",
    "    except FileNotFoundError as e:\n",
    "        return f\"Erro ao abrir os arquivos: {e}\"\n",
    "\n",
    "# Exemplo de uso\n",
    "arquivo1 = input(\"Digite o nome do primeiro arquivo: \")\n",
    "arquivo2 = input(\"Digite o nome do segundo arquivo: \")\n",
    "arquivo_destino = input(\"Digite o nome do arquivo de destino: \")\n",
    "\n",
    "resultado = concatenar_arquivos(arquivo1, arquivo2, arquivo_destino)\n",
    "print(resultado)\n"
   ]
  },
  {
   "cell_type": "markdown",
   "id": "ace50d02",
   "metadata": {},
   "source": [
    "# ex03\n",
    "3) Escreva um programa que solicite ao usuário uma palavra-chave e um arquivo de texto. O programa deve verificar se a palavra-chave existe no arquivo e, em caso afirmativo, imprimir as linhas onde ela ocorre."
   ]
  },
  {
   "cell_type": "code",
   "execution_count": null,
   "id": "efcaf99c",
   "metadata": {},
   "outputs": [],
   "source": [
    "def find_keyword_in_file(keyword, file_name):\n",
    "    try:\n",
    "        with open(file_name, 'r', encoding='utf-8') as file:\n",
    "            lines_with_keyword = [line.strip() for line in file if keyword in line]\n",
    "        \n",
    "        if lines_with_keyword:\n",
    "            print(f\"The keyword '{keyword}' was found in the following lines:\")\n",
    "            for line in lines_with_keyword:\n",
    "                print(line)\n",
    "        else:\n",
    "            print(f\"The keyword '{keyword}' was not found in the file.\")\n",
    "\n",
    "    except FileNotFoundError:\n",
    "        print(\"File not found.\")\n",
    "\n",
    "# Example usage\n",
    "keyword = input(\"Enter the keyword: \")\n",
    "file_name = input(\"Enter the name of the text file: \")\n",
    "\n",
    "find_keyword_in_file(keyword, file_name)"
   ]
  },
  {
   "cell_type": "markdown",
   "id": "a3e36689",
   "metadata": {},
   "source": [
    "# ex04\n",
    "4) Peça ao usuário que forneça um arquivo de texto e duas palavras. Substitua a primeira palavra pela segunda em todo o arquivo e salve o resultado em um novo arquivo."
   ]
  },
  {
   "cell_type": "code",
   "execution_count": null,
   "id": "69a94810",
   "metadata": {},
   "outputs": [],
   "source": [
    "def replace_word_in_file(file_name, old_word, new_word, destination_file_name):\n",
    "    try:\n",
    "        with open(file_name, 'r', encoding='utf-8') as file:\n",
    "            content = file.read()\n",
    "\n",
    "        modified_content = content.replace(old_word, new_word)\n",
    "\n",
    "        with open(destination_file_name, 'w', encoding='utf-8') as new_file:\n",
    "            new_file.write(modified_content)\n",
    "\n",
    "        return f\"Modified file saved as '{destination_file_name}'.\"\n",
    "\n",
    "    except FileNotFoundError:\n",
    "        return \"File not found.\"\n",
    "\n",
    "# Example usage\n",
    "file_name = input(\"Enter the name of the text file: \")\n",
    "old_word = input(\"Enter the word to be replaced: \")\n",
    "new_word = input(\"Enter the new word: \")\n",
    "destination_file_name = input(\"Enter the name of the destination file: \")\n",
    "\n",
    "result = replace_word_in_file(file_name, old_word, new_word, destination_file_name)\n",
    "print(result)\n"
   ]
  },
  {
   "cell_type": "markdown",
   "id": "229e3ab2",
   "metadata": {},
   "source": [
    "# ex05\n",
    "5) Crie um programa que conte quantas palavras existem em um arquivo de texto. Considere que as palavras estão separadas por espaços em branco."
   ]
  },
  {
   "cell_type": "code",
   "execution_count": null,
   "id": "7b75a65c",
   "metadata": {},
   "outputs": [],
   "source": [
    "def count_words(file_name):\n",
    "    try:\n",
    "        with open(file_name, 'r', encoding='utf-8') as file:\n",
    "            content = file.read()\n",
    "            words = content.split()\n",
    "            return len(words)\n",
    "    except FileNotFoundError:\n",
    "        return \"File not found.\"\n",
    "\n",
    "# Example usage\n",
    "file_name = input(\"Enter the name of the text file: \")\n",
    "word_count = count_words(file_name)\n",
    "print(f\"This file contains {word_count} words.\")"
   ]
  }
 ],
 "metadata": {
  "kernelspec": {
   "display_name": "Python 3 (ipykernel)",
   "language": "python",
   "name": "python3"
  },
  "language_info": {
   "codemirror_mode": {
    "name": "ipython",
    "version": 3
   },
   "file_extension": ".py",
   "mimetype": "text/x-python",
   "name": "python",
   "nbconvert_exporter": "python",
   "pygments_lexer": "ipython3",
   "version": "3.11.5"
  }
 },
 "nbformat": 4,
 "nbformat_minor": 5
}
