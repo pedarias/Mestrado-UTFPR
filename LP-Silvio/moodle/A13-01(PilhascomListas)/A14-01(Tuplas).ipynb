{
 "cells": [
  {
   "cell_type": "markdown",
   "id": "e0acdec9",
   "metadata": {},
   "source": [
    "# ex01"
   ]
  },
  {
   "cell_type": "code",
   "execution_count": 6,
   "id": "cdbbc3b4",
   "metadata": {},
   "outputs": [
    {
     "name": "stdout",
     "output_type": "stream",
     "text": [
      "Tupla original: (1, 9, 1, 6, 3, 4, 5, 1, 1, 2, 5, 6, 7, 8, 9, 2)\n",
      "Tupla sem repetição: (1, 2, 3, 4, 5, 6, 7, 8, 9)\n"
     ]
    }
   ],
   "source": [
    "#set remove automaticamente os valores duplicados da tupla original, e depois convertendo novamente para uma tupla\n",
    "tupla_origin= (1, 9, 1, 6, 3, 4, 5, 1, 1, 2, 5, 6, 7, 8, 9, 2)\n",
    "tupla_norep = tuple(set(tupla_origin))\n",
    "\n",
    "print(\"Tupla original:\", tupla_origin)\n",
    "print(\"Tupla sem repetição:\", tupla_norep)"
   ]
  },
  {
   "cell_type": "code",
   "execution_count": 7,
   "id": "9efad818",
   "metadata": {},
   "outputs": [
    {
     "name": "stdout",
     "output_type": "stream",
     "text": [
      "Tupla original: (1, 9, 1, 6, 3, 4, 5, 1, 1, 2, 5, 6, 7, 8, 9, 2)\n",
      "Tupla sem repetição: (1, 9, 6, 3, 4, 5, 2, 7, 8)\n"
     ]
    }
   ],
   "source": [
    "#This code will maintain the original order of the elements while creating a new tuple without duplicates.\n",
    "tupla_origin = (1, 9, 1, 6, 3, 4, 5, 1, 1, 2, 5, 6, 7, 8, 9, 2)\n",
    "tupla_norep = ()\n",
    "\n",
    "for item in tupla_origin:\n",
    "    if item not in tupla_norep:\n",
    "        tupla_norep += (item,)\n",
    "\n",
    "print(\"Tupla original:\", tupla_origin)\n",
    "print(\"Tupla sem repetição:\", tupla_norep)"
   ]
  },
  {
   "cell_type": "markdown",
   "id": "8e0f6be6",
   "metadata": {},
   "source": [
    "# ex02"
   ]
  },
  {
   "cell_type": "code",
   "execution_count": 8,
   "id": "bcc3da5b",
   "metadata": {},
   "outputs": [
    {
     "name": "stdout",
     "output_type": "stream",
     "text": [
      "A soma de todos os valores na tupla é: 24\n"
     ]
    }
   ],
   "source": [
    "t1 = (1, 9, 1, 6, 3, 4)\n",
    "soma = sum(t1)\n",
    "\n",
    "print(\"A soma de todos os valores na tupla é:\", soma)"
   ]
  },
  {
   "cell_type": "markdown",
   "id": "d64bc0a5",
   "metadata": {},
   "source": [
    "# ex03\n"
   ]
  },
  {
   "cell_type": "code",
   "execution_count": 9,
   "id": "41dc5492",
   "metadata": {},
   "outputs": [
    {
     "name": "stdout",
     "output_type": "stream",
     "text": [
      "Enter the value you want to count: 50\n",
      "The value 50 appears 3 times in the tuple.\n"
     ]
    }
   ],
   "source": [
    "t = (50, 10, 60, 70, 50, 50)\n",
    "\n",
    "# Ask for the value to be counted\n",
    "desired_value = int(input(\"Enter the value you want to count: \"))\n",
    "\n",
    "# Use the count method to count the occurrences of the value in the tuple\n",
    "count = t.count(desired_value)\n",
    "\n",
    "print(f\"The value {desired_value} appears {count} times in the tuple.\")"
   ]
  },
  {
   "cell_type": "markdown",
   "id": "f45344b3",
   "metadata": {},
   "source": [
    "# ex04"
   ]
  },
  {
   "cell_type": "code",
   "execution_count": 10,
   "id": "09472b45",
   "metadata": {},
   "outputs": [
    {
     "name": "stdout",
     "output_type": "stream",
     "text": [
      "The value is: 20\n"
     ]
    }
   ],
   "source": [
    "t = (\"orange\", [10, 20, 30], (5, 15, 25))\n",
    "\n",
    "# Accessing the value 20 in the tuple\n",
    "value = t[1][1]\n",
    "\n",
    "print(\"The value is:\", value)"
   ]
  },
  {
   "cell_type": "markdown",
   "id": "4ada49c7",
   "metadata": {},
   "source": [
    "# ex05"
   ]
  },
  {
   "cell_type": "code",
   "execution_count": 13,
   "id": "84d801a2",
   "metadata": {},
   "outputs": [
    {
     "name": "stdout",
     "output_type": "stream",
     "text": [
      "List w/o empty tuples: [(15,), ('a', 'b'), ('a', 'b', 'c'), 'd']\n"
     ]
    }
   ],
   "source": [
    "# Using list comprehension to create a new list without empty tuples\n",
    "L = [(), (), (15,), ('a', 'b'), ('a', 'b', 'c'), ('d'), ()]\n",
    "\n",
    "L_without_empty = [tuple for tuple in L if tuple]\n",
    "\n",
    "# Print the new list\n",
    "print(\"List w/o empty tuples:\", L_without_empty)"
   ]
  },
  {
   "cell_type": "code",
   "execution_count": 14,
   "id": "b7f55e6a",
   "metadata": {},
   "outputs": [
    {
     "name": "stdout",
     "output_type": "stream",
     "text": [
      "List without empty tuples: [(15,), ('a', 'b'), ('a', 'b', 'c'), 'd']\n"
     ]
    }
   ],
   "source": [
    "#w/o list comprehension\n",
    "L = [(), (), (15,), ('a', 'b'), ('a', 'b', 'c'), ('d'), ()]\n",
    "\n",
    "L_without_empty = []\n",
    "for tuple in L:\n",
    "    if tuple:\n",
    "        L_without_empty.append(tuple)\n",
    "\n",
    "print(\"List without empty tuples:\", L_without_empty)"
   ]
  },
  {
   "cell_type": "markdown",
   "id": "4015008f",
   "metadata": {},
   "source": [
    "# ex06"
   ]
  },
  {
   "cell_type": "code",
   "execution_count": null,
   "id": "84752981",
   "metadata": {},
   "outputs": [],
   "source": [
    "dados = [('pedro', '72.20'), ('willian', '69.10'), ('Andre', '70.5')]\n",
    "\n",
    "# Use sorted() com uma chave personalizada para ordenar com base nos valores float\n",
    "dados_ordenados = sorted(dados, key=lambda x: float(x[1]))\n",
    "\n",
    "print(dados_ordenados)"
   ]
  },
  {
   "cell_type": "markdown",
   "id": "bef945fa",
   "metadata": {},
   "source": [
    "# ex07"
   ]
  },
  {
   "cell_type": "code",
   "execution_count": 26,
   "id": "9dfc752b",
   "metadata": {},
   "outputs": [
    {
     "name": "stdout",
     "output_type": "stream",
     "text": [
      "(4, 7, 9)\n"
     ]
    }
   ],
   "source": [
    "nums = [(3, 1), (2, 5), (8, 1)]\n",
    "\n",
    "# Initialize a tuple to store the sums\n",
    "sums = ()\n",
    "\n",
    "# Iterate through the list of tuples and calculate the sum for each tuple\n",
    "for tup in nums:\n",
    "    tuple_sum = sum(tup)\n",
    "    sums += (tuple_sum,)  # Note the comma inside the tuple to make it a single-element tuple\n",
    "\n",
    "# Print the sums as a single tuple\n",
    "print(sums)"
   ]
  },
  {
   "cell_type": "code",
   "execution_count": null,
   "id": "fad830a4",
   "metadata": {},
   "outputs": [],
   "source": []
  }
 ],
 "metadata": {
  "kernelspec": {
   "display_name": "Python 3 (ipykernel)",
   "language": "python",
   "name": "python3"
  },
  "language_info": {
   "codemirror_mode": {
    "name": "ipython",
    "version": 3
   },
   "file_extension": ".py",
   "mimetype": "text/x-python",
   "name": "python",
   "nbconvert_exporter": "python",
   "pygments_lexer": "ipython3",
   "version": "3.11.5"
  }
 },
 "nbformat": 4,
 "nbformat_minor": 5
}
