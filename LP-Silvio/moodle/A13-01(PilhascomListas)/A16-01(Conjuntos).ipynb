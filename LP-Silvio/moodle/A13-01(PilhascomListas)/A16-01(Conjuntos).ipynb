{
 "cells": [
  {
   "cell_type": "markdown",
   "id": "ed75ba5d",
   "metadata": {},
   "source": [
    "# ex01"
   ]
  },
  {
   "cell_type": "code",
   "execution_count": 2,
   "id": "f2a94268",
   "metadata": {},
   "outputs": [
    {
     "name": "stdout",
     "output_type": "stream",
     "text": [
      "Enter the item to be removed: 5\n",
      "Item 5 removed:\n",
      "{0, 1, 2, 3, 4}\n"
     ]
    }
   ],
   "source": [
    "# initial set\n",
    "num_set = set([0, 1, 2, 3, 4, 5])\n",
    "\n",
    "## only needed for desired output\n",
    "print(\"Elements:\")\n",
    "print(num_set)\n",
    "\n",
    "# Ask item to be removed\n",
    "item_to_remove = int(input(\"Enter the item to be removed: \"))\n",
    "\n",
    "# Check if the item is in the set before attempting to remove it\n",
    "if item_to_remove in num_set:\n",
    "    num_set.remove(item_to_remove)\n",
    "    print(f\"Item {item_to_remove} removed:\")\n",
    "    print(num_set)\n",
    "else:\n",
    "    print(f\"The item {item_to_remove} is not in the set.\")\n"
   ]
  },
  {
   "cell_type": "markdown",
   "id": "4167dbd0",
   "metadata": {},
   "source": [
    "# ex02"
   ]
  },
  {
   "cell_type": "code",
   "execution_count": 3,
   "id": "c9c12fa6",
   "metadata": {},
   "outputs": [
    {
     "name": "stdout",
     "output_type": "stream",
     "text": [
      "y is not a subset of x\n",
      "x is not a subset of y\n",
      "z is not a subset of y\n",
      "z is a subset of x\n"
     ]
    }
   ],
   "source": [
    "x = set(['horse', 'ear', 'goat'])\n",
    "y = set(['sheep', 'goat'])\n",
    "z = set(['ear'])\n",
    "\n",
    "# a - Check if y is a subset of x\n",
    "if y.issubset(x):\n",
    "    print(\"y is a subset of x\")\n",
    "else:\n",
    "    print(\"y is not a subset of x\")\n",
    "\n",
    "# b - Check if x is a subset of y\n",
    "if x.issubset(y):\n",
    "    print(\"x is a subset of y\")\n",
    "else:\n",
    "    print(\"x is not a subset of y\")\n",
    "\n",
    "# C - Check if z is a subset of y\n",
    "if z.issubset(y):\n",
    "    print(\"z is a subset of y\")\n",
    "else:\n",
    "    print(\"z is not a subset of y\")\n",
    "\n",
    "# d - Check if z is a subset of x\n",
    "if z.issubset(x):\n",
    "    print(\"z is a subset of x\")\n",
    "else:\n",
    "    print(\"z is not a subset of x\")"
   ]
  },
  {
   "cell_type": "markdown",
   "id": "9981e6a0",
   "metadata": {},
   "source": [
    "# ex03"
   ]
  },
  {
   "cell_type": "code",
   "execution_count": 5,
   "id": "2be2ac02",
   "metadata": {},
   "outputs": [
    {
     "name": "stdout",
     "output_type": "stream",
     "text": [
      "Difference: {1, 2, 3}\n",
      "Difference: {8, 6, 7}\n",
      "Symmetric Difference: {1, 2, 3, 6, 7, 8}\n"
     ]
    }
   ],
   "source": [
    "set1 = {1, 2, 3, 4, 5}\n",
    "set2 = {4, 5, 6, 7, 8}\n",
    "\n",
    "# elements in set1 but not in set2\n",
    "result1 = set1 - set2\n",
    "print(\"Difference:\", result1)\n",
    "\n",
    "# elements in set2 but not in set1\n",
    "result2 = set2 - set1\n",
    "print(\"Difference:\", result2)\n",
    "\n",
    "# elements in either set but not in their Intersection\n",
    "result3 = set1 ^ set2\n",
    "print(\"Symmetric Difference:\", result3)"
   ]
  },
  {
   "cell_type": "markdown",
   "id": "6124d881",
   "metadata": {},
   "source": [
    "# ex04"
   ]
  },
  {
   "cell_type": "code",
   "execution_count": 6,
   "id": "ee6e6f67",
   "metadata": {},
   "outputs": [
    {
     "name": "stdout",
     "output_type": "stream",
     "text": [
      "Symmetric Difference: {20, 70, 10, 60}\n"
     ]
    }
   ],
   "source": [
    "set1 = {10, 20, 30, 40, 50}\n",
    "set2 = {30, 40, 50, 60, 70}\n",
    "\n",
    "# symmetric difference between set1 and set2\n",
    "# elements that are present in either set1 or set2, but not in both.\n",
    "\n",
    "symmetric_diff = set1 ^ set2\n",
    "\n",
    "print(\"Symmetric Difference:\", symmetric_diff)"
   ]
  },
  {
   "cell_type": "code",
   "execution_count": 7,
   "id": "f6d2008b",
   "metadata": {},
   "outputs": [
    {
     "name": "stdout",
     "output_type": "stream",
     "text": [
      "Symmetric Difference: {20, 70, 10, 60}\n"
     ]
    }
   ],
   "source": [
    "set1 = {10, 20, 30, 40, 50}\n",
    "set2 = {30, 40, 50, 60, 70}\n",
    "\n",
    "# symmetric difference between set1 and set2\n",
    "# elements that are present in either set1 or set2, but not in both.\n",
    "symmetric_diff = set1.symmetric_difference(set2)\n",
    "\n",
    "print(\"Symmetric Difference:\", symmetric_diff)\n"
   ]
  },
  {
   "cell_type": "code",
   "execution_count": null,
   "id": "c28cc7da",
   "metadata": {},
   "outputs": [],
   "source": []
  }
 ],
 "metadata": {
  "kernelspec": {
   "display_name": "Python 3 (ipykernel)",
   "language": "python",
   "name": "python3"
  },
  "language_info": {
   "codemirror_mode": {
    "name": "ipython",
    "version": 3
   },
   "file_extension": ".py",
   "mimetype": "text/x-python",
   "name": "python",
   "nbconvert_exporter": "python",
   "pygments_lexer": "ipython3",
   "version": "3.11.5"
  }
 },
 "nbformat": 4,
 "nbformat_minor": 5
}
