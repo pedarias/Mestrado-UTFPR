{
 "cells": [
  {
   "cell_type": "markdown",
   "id": "3409ccec",
   "metadata": {},
   "source": [
    "# EX01"
   ]
  },
  {
   "cell_type": "markdown",
   "id": "2d89be2b",
   "metadata": {},
   "source": [
    "### Method  1 - creating a class"
   ]
  },
  {
   "cell_type": "code",
   "execution_count": 4,
   "id": "5f795914",
   "metadata": {},
   "outputs": [
    {
     "name": "stdout",
     "output_type": "stream",
     "text": [
      "Stack 1: ['A']\n",
      "Stack 2: ['A', 'J']\n",
      "Stack 3: ['A', 'J', 'K']\n",
      "Stack 4: ['A', 'J']\n",
      "Stack 5: ['A', 'J', 'P']\n",
      "Stack 6: ['A', 'J', 'P', 'E']\n",
      "Stack 7: ['A', 'J', 'P', 'E', 'H']\n",
      "Stack 8: []\n",
      "Stack 9: ['X']\n",
      "Stack 10: ['X', 'G']\n"
     ]
    }
   ],
   "source": [
    "class Stack:\n",
    "    def __init__(self):\n",
    "        self.items = []\n",
    "\n",
    "    def push(self, item):\n",
    "        self.items.append(item)\n",
    "\n",
    "    def pop(self):\n",
    "        if not self.is_empty():\n",
    "            return self.items.pop()\n",
    "        else:\n",
    "            return None\n",
    "\n",
    "    def is_empty(self):\n",
    "        return len(self.items) == 0\n",
    "\n",
    "    def __str__(self):\n",
    "        return str(self.items)\n",
    "\n",
    "# Create 11 stacks\n",
    "stacks = [Stack() for _ in range(11)]\n",
    "\n",
    "# Fill in and manipulate the stacks as you wish\n",
    "# Example:\n",
    "stacks[0].push('A')\n",
    "stacks[1].push('A')\n",
    "stacks[1].push('J')\n",
    "stacks[2].push('A')\n",
    "stacks[2].push('J')\n",
    "stacks[2].push('K')\n",
    "stacks[3].push('A')\n",
    "stacks[3].push('J')\n",
    "stacks[4].push('A')\n",
    "stacks[4].push('J')\n",
    "stacks[4].push('P')\n",
    "stacks[5].push('A')\n",
    "stacks[5].push('J')\n",
    "stacks[5].push('P')\n",
    "stacks[5].push('E')\n",
    "stacks[6].push('A')\n",
    "stacks[6].push('J')\n",
    "stacks[6].push('P')\n",
    "stacks[6].push('E')\n",
    "stacks[6].push('H')\n",
    "stacks[8].push('X')\n",
    "stacks[9].push('X')\n",
    "stacks[9].push('G')\n",
    "\n",
    "\n",
    "# Print the final state of each stack\n",
    "for i, stack in enumerate(stacks):\n",
    "    print(f'Stack {i+1}: {stack}')\n"
   ]
  },
  {
   "cell_type": "markdown",
   "id": "cf858142",
   "metadata": {},
   "source": [
    "### EX01 - Method  2"
   ]
  },
  {
   "cell_type": "code",
   "execution_count": 26,
   "id": "c7cc6929",
   "metadata": {},
   "outputs": [
    {
     "name": "stdout",
     "output_type": "stream",
     "text": [
      "Stack 1: ['A']\n",
      "Stack 2: ['A', 'J']\n",
      "Stack 3: ['A', 'J', 'K']\n",
      "Stack 4: ['A', 'J']\n",
      "Stack 5: ['A', 'J', 'P']\n",
      "Stack 6: ['A', 'J', 'P', 'E']\n",
      "Stack 7: ['A', 'J', 'P', 'E', 'H']\n",
      "Stack 8: []\n",
      "Stack 9: ['X']\n",
      "Stack 10: ['X', 'G']\n"
     ]
    }
   ],
   "source": [
    "stacks = [[] for _ in range(10)]\n",
    "\n",
    "# Comandos para criar as instâncias da pilha\n",
    "stacks[0].append('A')\n",
    "stacks[1].extend(['A', 'J'])\n",
    "stacks[2].extend(['A', 'J', 'K'])\n",
    "stacks[3].extend(['A', 'J'])\n",
    "stacks[4].extend(['A', 'J', 'P'])\n",
    "stacks[5].extend(['A', 'J', 'P', 'E'])\n",
    "stacks[6].extend(['A', 'J', 'P', 'E', 'H'])\n",
    "stacks[7] = []\n",
    "stacks[8].append('X')\n",
    "stacks[9].extend(['X', 'G'])\n",
    "\n",
    "# Imprimir as instâncias da pilha\n",
    "for i, stack in enumerate(stacks):\n",
    "    print(f'Stack {i + 1}: {stack}')"
   ]
  },
  {
   "cell_type": "markdown",
   "id": "ae475596",
   "metadata": {},
   "source": [
    "# ex02"
   ]
  },
  {
   "cell_type": "code",
   "execution_count": 27,
   "id": "3b593b76",
   "metadata": {},
   "outputs": [
    {
     "name": "stdout",
     "output_type": "stream",
     "text": [
      "Elementos da pilha: [10, 20, 30]\n",
      "Elementos da pilha depois de inserir dois elementos: [10, 20, 30, 40, 50]\n",
      "50 foi removido da pilha\n",
      "40 foi removido da pilha\n",
      "30 foi removido da pilha\n",
      "Elementos da pilha após remover 3 elementos: [10, 20]\n",
      "Elementos do topo da pilha: 20\n"
     ]
    }
   ],
   "source": [
    "stack = [10, 20, 30]\n",
    "print(\"Elementos da pilha:\", end=' ')\n",
    "print(stack)\n",
    "\n",
    "stack.append(40)\n",
    "stack.append(50)\n",
    "\n",
    "print(\"Elementos da pilha depois de inserir dois elementos:\", stack)\n",
    "\n",
    "item = stack.pop()\n",
    "print(f\"{item} foi removido da pilha\")\n",
    "\n",
    "item = stack.pop()\n",
    "print(f\"{item} foi removido da pilha\")\n",
    "\n",
    "item = stack.pop()\n",
    "print(f\"{item} foi removido da pilha\")\n",
    "\n",
    "print(\"Elementos da pilha após remover 3 elementos:\", stack)\n",
    "print(\"Elementos do topo da pilha:\", stack[-1])"
   ]
  },
  {
   "cell_type": "markdown",
   "id": "ef3c3e09",
   "metadata": {},
   "source": [
    "# ex03"
   ]
  },
  {
   "cell_type": "code",
   "execution_count": 28,
   "id": "f8335ca8",
   "metadata": {},
   "outputs": [
    {
     "name": "stdout",
     "output_type": "stream",
     "text": [
      "banana foi inserido na fila. \n",
      "Elementos na fila após inserção de um elemento: ['banana'] \n",
      "Elementos na fila após inserção de dois elementos: ['banana', 'abacate', 'caqui']\n",
      "Removendo dois elementos da fila\n",
      "banana foi removido da fila\n",
      "abacate foi removido da fila\n",
      "Elementos da fila após as remoções: ['caqui']\n"
     ]
    }
   ],
   "source": [
    "queue = []\n",
    "queue.append('banana')\n",
    "print(queue[0], \"foi inserido na fila.\", end=' ')\n",
    "\n",
    "print(\"\\nElementos na fila após inserção de um elemento:\", queue, end=' ')\n",
    "\n",
    "queue.append('abacate')\n",
    "queue.append('caqui')\n",
    "\n",
    "print(\"\\nElementos na fila após inserção de dois elementos:\", queue)\n",
    "\n",
    "print(\"Removendo dois elementos da fila\")\n",
    "\n",
    "item = queue.pop(0)\n",
    "print(f\"{item} foi removido da fila\")\n",
    "\n",
    "item = queue.pop(0)\n",
    "print(f\"{item} foi removido da fila\")\n",
    "\n",
    "print(\"Elementos da fila após as remoções:\", queue)"
   ]
  },
  {
   "cell_type": "code",
   "execution_count": null,
   "id": "939c0031",
   "metadata": {},
   "outputs": [],
   "source": []
  }
 ],
 "metadata": {
  "kernelspec": {
   "display_name": "Python 3 (ipykernel)",
   "language": "python",
   "name": "python3"
  },
  "language_info": {
   "codemirror_mode": {
    "name": "ipython",
    "version": 3
   },
   "file_extension": ".py",
   "mimetype": "text/x-python",
   "name": "python",
   "nbconvert_exporter": "python",
   "pygments_lexer": "ipython3",
   "version": "3.11.5"
  }
 },
 "nbformat": 4,
 "nbformat_minor": 5
}
