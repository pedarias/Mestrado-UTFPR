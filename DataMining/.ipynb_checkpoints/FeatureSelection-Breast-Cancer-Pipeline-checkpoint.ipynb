{
 "cells": [
  {
   "cell_type": "code",
   "execution_count": null,
   "metadata": {
    "id": "uk_Wbuh5jjMT"
   },
   "outputs": [],
   "source": []
  },
  {
   "cell_type": "markdown",
   "metadata": {
    "id": "swdsv2ZT62Y6"
   },
   "source": [
    "## Pré-processamento de dados  - Breast Cancer dataset\n",
    "\n",
    "* https://www.kaggle.com/datasets/uciml/breast-cancer-wisconsin-data"
   ]
  },
  {
   "cell_type": "code",
   "execution_count": 1,
   "metadata": {
    "id": "qwlY85FAKHTv"
   },
   "outputs": [],
   "source": [
    "import numpy as np\n",
    "import pandas as pd\n",
    "import matplotlib.pyplot as plt\n",
    "import seaborn as sns\n",
    "from sklearn.model_selection import train_test_split\n",
    "from sklearn.preprocessing import StandardScaler\n",
    "from sklearn.ensemble import RandomForestClassifier"
   ]
  },
  {
   "cell_type": "code",
   "execution_count": 2,
   "metadata": {
    "id": "J89hbLN462ZB"
   },
   "outputs": [
    {
     "ename": "FileNotFoundError",
     "evalue": "[Errno 2] No such file or directory: 'breast_cancer_missing.csv'",
     "output_type": "error",
     "traceback": [
      "\u001b[0;31m---------------------------------------------------------------------------\u001b[0m",
      "\u001b[0;31mFileNotFoundError\u001b[0m                         Traceback (most recent call last)",
      "Cell \u001b[0;32mIn[2], line 1\u001b[0m\n\u001b[0;32m----> 1\u001b[0m df \u001b[38;5;241m=\u001b[39m \u001b[43mpd\u001b[49m\u001b[38;5;241;43m.\u001b[39;49m\u001b[43mread_csv\u001b[49m\u001b[43m(\u001b[49m\u001b[38;5;124;43m'\u001b[39;49m\u001b[38;5;124;43mbreast_cancer_missing.csv\u001b[39;49m\u001b[38;5;124;43m'\u001b[39;49m\u001b[43m)\u001b[49m\n",
      "File \u001b[0;32m~/anaconda3/envs/eda/lib/python3.11/site-packages/pandas/io/parsers/readers.py:948\u001b[0m, in \u001b[0;36mread_csv\u001b[0;34m(filepath_or_buffer, sep, delimiter, header, names, index_col, usecols, dtype, engine, converters, true_values, false_values, skipinitialspace, skiprows, skipfooter, nrows, na_values, keep_default_na, na_filter, verbose, skip_blank_lines, parse_dates, infer_datetime_format, keep_date_col, date_parser, date_format, dayfirst, cache_dates, iterator, chunksize, compression, thousands, decimal, lineterminator, quotechar, quoting, doublequote, escapechar, comment, encoding, encoding_errors, dialect, on_bad_lines, delim_whitespace, low_memory, memory_map, float_precision, storage_options, dtype_backend)\u001b[0m\n\u001b[1;32m    935\u001b[0m kwds_defaults \u001b[38;5;241m=\u001b[39m _refine_defaults_read(\n\u001b[1;32m    936\u001b[0m     dialect,\n\u001b[1;32m    937\u001b[0m     delimiter,\n\u001b[0;32m   (...)\u001b[0m\n\u001b[1;32m    944\u001b[0m     dtype_backend\u001b[38;5;241m=\u001b[39mdtype_backend,\n\u001b[1;32m    945\u001b[0m )\n\u001b[1;32m    946\u001b[0m kwds\u001b[38;5;241m.\u001b[39mupdate(kwds_defaults)\n\u001b[0;32m--> 948\u001b[0m \u001b[38;5;28;01mreturn\u001b[39;00m \u001b[43m_read\u001b[49m\u001b[43m(\u001b[49m\u001b[43mfilepath_or_buffer\u001b[49m\u001b[43m,\u001b[49m\u001b[43m \u001b[49m\u001b[43mkwds\u001b[49m\u001b[43m)\u001b[49m\n",
      "File \u001b[0;32m~/anaconda3/envs/eda/lib/python3.11/site-packages/pandas/io/parsers/readers.py:611\u001b[0m, in \u001b[0;36m_read\u001b[0;34m(filepath_or_buffer, kwds)\u001b[0m\n\u001b[1;32m    608\u001b[0m _validate_names(kwds\u001b[38;5;241m.\u001b[39mget(\u001b[38;5;124m\"\u001b[39m\u001b[38;5;124mnames\u001b[39m\u001b[38;5;124m\"\u001b[39m, \u001b[38;5;28;01mNone\u001b[39;00m))\n\u001b[1;32m    610\u001b[0m \u001b[38;5;66;03m# Create the parser.\u001b[39;00m\n\u001b[0;32m--> 611\u001b[0m parser \u001b[38;5;241m=\u001b[39m \u001b[43mTextFileReader\u001b[49m\u001b[43m(\u001b[49m\u001b[43mfilepath_or_buffer\u001b[49m\u001b[43m,\u001b[49m\u001b[43m \u001b[49m\u001b[38;5;241;43m*\u001b[39;49m\u001b[38;5;241;43m*\u001b[39;49m\u001b[43mkwds\u001b[49m\u001b[43m)\u001b[49m\n\u001b[1;32m    613\u001b[0m \u001b[38;5;28;01mif\u001b[39;00m chunksize \u001b[38;5;129;01mor\u001b[39;00m iterator:\n\u001b[1;32m    614\u001b[0m     \u001b[38;5;28;01mreturn\u001b[39;00m parser\n",
      "File \u001b[0;32m~/anaconda3/envs/eda/lib/python3.11/site-packages/pandas/io/parsers/readers.py:1448\u001b[0m, in \u001b[0;36mTextFileReader.__init__\u001b[0;34m(self, f, engine, **kwds)\u001b[0m\n\u001b[1;32m   1445\u001b[0m     \u001b[38;5;28mself\u001b[39m\u001b[38;5;241m.\u001b[39moptions[\u001b[38;5;124m\"\u001b[39m\u001b[38;5;124mhas_index_names\u001b[39m\u001b[38;5;124m\"\u001b[39m] \u001b[38;5;241m=\u001b[39m kwds[\u001b[38;5;124m\"\u001b[39m\u001b[38;5;124mhas_index_names\u001b[39m\u001b[38;5;124m\"\u001b[39m]\n\u001b[1;32m   1447\u001b[0m \u001b[38;5;28mself\u001b[39m\u001b[38;5;241m.\u001b[39mhandles: IOHandles \u001b[38;5;241m|\u001b[39m \u001b[38;5;28;01mNone\u001b[39;00m \u001b[38;5;241m=\u001b[39m \u001b[38;5;28;01mNone\u001b[39;00m\n\u001b[0;32m-> 1448\u001b[0m \u001b[38;5;28mself\u001b[39m\u001b[38;5;241m.\u001b[39m_engine \u001b[38;5;241m=\u001b[39m \u001b[38;5;28;43mself\u001b[39;49m\u001b[38;5;241;43m.\u001b[39;49m\u001b[43m_make_engine\u001b[49m\u001b[43m(\u001b[49m\u001b[43mf\u001b[49m\u001b[43m,\u001b[49m\u001b[43m \u001b[49m\u001b[38;5;28;43mself\u001b[39;49m\u001b[38;5;241;43m.\u001b[39;49m\u001b[43mengine\u001b[49m\u001b[43m)\u001b[49m\n",
      "File \u001b[0;32m~/anaconda3/envs/eda/lib/python3.11/site-packages/pandas/io/parsers/readers.py:1705\u001b[0m, in \u001b[0;36mTextFileReader._make_engine\u001b[0;34m(self, f, engine)\u001b[0m\n\u001b[1;32m   1703\u001b[0m     \u001b[38;5;28;01mif\u001b[39;00m \u001b[38;5;124m\"\u001b[39m\u001b[38;5;124mb\u001b[39m\u001b[38;5;124m\"\u001b[39m \u001b[38;5;129;01mnot\u001b[39;00m \u001b[38;5;129;01min\u001b[39;00m mode:\n\u001b[1;32m   1704\u001b[0m         mode \u001b[38;5;241m+\u001b[39m\u001b[38;5;241m=\u001b[39m \u001b[38;5;124m\"\u001b[39m\u001b[38;5;124mb\u001b[39m\u001b[38;5;124m\"\u001b[39m\n\u001b[0;32m-> 1705\u001b[0m \u001b[38;5;28mself\u001b[39m\u001b[38;5;241m.\u001b[39mhandles \u001b[38;5;241m=\u001b[39m \u001b[43mget_handle\u001b[49m\u001b[43m(\u001b[49m\n\u001b[1;32m   1706\u001b[0m \u001b[43m    \u001b[49m\u001b[43mf\u001b[49m\u001b[43m,\u001b[49m\n\u001b[1;32m   1707\u001b[0m \u001b[43m    \u001b[49m\u001b[43mmode\u001b[49m\u001b[43m,\u001b[49m\n\u001b[1;32m   1708\u001b[0m \u001b[43m    \u001b[49m\u001b[43mencoding\u001b[49m\u001b[38;5;241;43m=\u001b[39;49m\u001b[38;5;28;43mself\u001b[39;49m\u001b[38;5;241;43m.\u001b[39;49m\u001b[43moptions\u001b[49m\u001b[38;5;241;43m.\u001b[39;49m\u001b[43mget\u001b[49m\u001b[43m(\u001b[49m\u001b[38;5;124;43m\"\u001b[39;49m\u001b[38;5;124;43mencoding\u001b[39;49m\u001b[38;5;124;43m\"\u001b[39;49m\u001b[43m,\u001b[49m\u001b[43m \u001b[49m\u001b[38;5;28;43;01mNone\u001b[39;49;00m\u001b[43m)\u001b[49m\u001b[43m,\u001b[49m\n\u001b[1;32m   1709\u001b[0m \u001b[43m    \u001b[49m\u001b[43mcompression\u001b[49m\u001b[38;5;241;43m=\u001b[39;49m\u001b[38;5;28;43mself\u001b[39;49m\u001b[38;5;241;43m.\u001b[39;49m\u001b[43moptions\u001b[49m\u001b[38;5;241;43m.\u001b[39;49m\u001b[43mget\u001b[49m\u001b[43m(\u001b[49m\u001b[38;5;124;43m\"\u001b[39;49m\u001b[38;5;124;43mcompression\u001b[39;49m\u001b[38;5;124;43m\"\u001b[39;49m\u001b[43m,\u001b[49m\u001b[43m \u001b[49m\u001b[38;5;28;43;01mNone\u001b[39;49;00m\u001b[43m)\u001b[49m\u001b[43m,\u001b[49m\n\u001b[1;32m   1710\u001b[0m \u001b[43m    \u001b[49m\u001b[43mmemory_map\u001b[49m\u001b[38;5;241;43m=\u001b[39;49m\u001b[38;5;28;43mself\u001b[39;49m\u001b[38;5;241;43m.\u001b[39;49m\u001b[43moptions\u001b[49m\u001b[38;5;241;43m.\u001b[39;49m\u001b[43mget\u001b[49m\u001b[43m(\u001b[49m\u001b[38;5;124;43m\"\u001b[39;49m\u001b[38;5;124;43mmemory_map\u001b[39;49m\u001b[38;5;124;43m\"\u001b[39;49m\u001b[43m,\u001b[49m\u001b[43m \u001b[49m\u001b[38;5;28;43;01mFalse\u001b[39;49;00m\u001b[43m)\u001b[49m\u001b[43m,\u001b[49m\n\u001b[1;32m   1711\u001b[0m \u001b[43m    \u001b[49m\u001b[43mis_text\u001b[49m\u001b[38;5;241;43m=\u001b[39;49m\u001b[43mis_text\u001b[49m\u001b[43m,\u001b[49m\n\u001b[1;32m   1712\u001b[0m \u001b[43m    \u001b[49m\u001b[43merrors\u001b[49m\u001b[38;5;241;43m=\u001b[39;49m\u001b[38;5;28;43mself\u001b[39;49m\u001b[38;5;241;43m.\u001b[39;49m\u001b[43moptions\u001b[49m\u001b[38;5;241;43m.\u001b[39;49m\u001b[43mget\u001b[49m\u001b[43m(\u001b[49m\u001b[38;5;124;43m\"\u001b[39;49m\u001b[38;5;124;43mencoding_errors\u001b[39;49m\u001b[38;5;124;43m\"\u001b[39;49m\u001b[43m,\u001b[49m\u001b[43m \u001b[49m\u001b[38;5;124;43m\"\u001b[39;49m\u001b[38;5;124;43mstrict\u001b[39;49m\u001b[38;5;124;43m\"\u001b[39;49m\u001b[43m)\u001b[49m\u001b[43m,\u001b[49m\n\u001b[1;32m   1713\u001b[0m \u001b[43m    \u001b[49m\u001b[43mstorage_options\u001b[49m\u001b[38;5;241;43m=\u001b[39;49m\u001b[38;5;28;43mself\u001b[39;49m\u001b[38;5;241;43m.\u001b[39;49m\u001b[43moptions\u001b[49m\u001b[38;5;241;43m.\u001b[39;49m\u001b[43mget\u001b[49m\u001b[43m(\u001b[49m\u001b[38;5;124;43m\"\u001b[39;49m\u001b[38;5;124;43mstorage_options\u001b[39;49m\u001b[38;5;124;43m\"\u001b[39;49m\u001b[43m,\u001b[49m\u001b[43m \u001b[49m\u001b[38;5;28;43;01mNone\u001b[39;49;00m\u001b[43m)\u001b[49m\u001b[43m,\u001b[49m\n\u001b[1;32m   1714\u001b[0m \u001b[43m\u001b[49m\u001b[43m)\u001b[49m\n\u001b[1;32m   1715\u001b[0m \u001b[38;5;28;01massert\u001b[39;00m \u001b[38;5;28mself\u001b[39m\u001b[38;5;241m.\u001b[39mhandles \u001b[38;5;129;01mis\u001b[39;00m \u001b[38;5;129;01mnot\u001b[39;00m \u001b[38;5;28;01mNone\u001b[39;00m\n\u001b[1;32m   1716\u001b[0m f \u001b[38;5;241m=\u001b[39m \u001b[38;5;28mself\u001b[39m\u001b[38;5;241m.\u001b[39mhandles\u001b[38;5;241m.\u001b[39mhandle\n",
      "File \u001b[0;32m~/anaconda3/envs/eda/lib/python3.11/site-packages/pandas/io/common.py:863\u001b[0m, in \u001b[0;36mget_handle\u001b[0;34m(path_or_buf, mode, encoding, compression, memory_map, is_text, errors, storage_options)\u001b[0m\n\u001b[1;32m    858\u001b[0m \u001b[38;5;28;01melif\u001b[39;00m \u001b[38;5;28misinstance\u001b[39m(handle, \u001b[38;5;28mstr\u001b[39m):\n\u001b[1;32m    859\u001b[0m     \u001b[38;5;66;03m# Check whether the filename is to be opened in binary mode.\u001b[39;00m\n\u001b[1;32m    860\u001b[0m     \u001b[38;5;66;03m# Binary mode does not support 'encoding' and 'newline'.\u001b[39;00m\n\u001b[1;32m    861\u001b[0m     \u001b[38;5;28;01mif\u001b[39;00m ioargs\u001b[38;5;241m.\u001b[39mencoding \u001b[38;5;129;01mand\u001b[39;00m \u001b[38;5;124m\"\u001b[39m\u001b[38;5;124mb\u001b[39m\u001b[38;5;124m\"\u001b[39m \u001b[38;5;129;01mnot\u001b[39;00m \u001b[38;5;129;01min\u001b[39;00m ioargs\u001b[38;5;241m.\u001b[39mmode:\n\u001b[1;32m    862\u001b[0m         \u001b[38;5;66;03m# Encoding\u001b[39;00m\n\u001b[0;32m--> 863\u001b[0m         handle \u001b[38;5;241m=\u001b[39m \u001b[38;5;28;43mopen\u001b[39;49m\u001b[43m(\u001b[49m\n\u001b[1;32m    864\u001b[0m \u001b[43m            \u001b[49m\u001b[43mhandle\u001b[49m\u001b[43m,\u001b[49m\n\u001b[1;32m    865\u001b[0m \u001b[43m            \u001b[49m\u001b[43mioargs\u001b[49m\u001b[38;5;241;43m.\u001b[39;49m\u001b[43mmode\u001b[49m\u001b[43m,\u001b[49m\n\u001b[1;32m    866\u001b[0m \u001b[43m            \u001b[49m\u001b[43mencoding\u001b[49m\u001b[38;5;241;43m=\u001b[39;49m\u001b[43mioargs\u001b[49m\u001b[38;5;241;43m.\u001b[39;49m\u001b[43mencoding\u001b[49m\u001b[43m,\u001b[49m\n\u001b[1;32m    867\u001b[0m \u001b[43m            \u001b[49m\u001b[43merrors\u001b[49m\u001b[38;5;241;43m=\u001b[39;49m\u001b[43merrors\u001b[49m\u001b[43m,\u001b[49m\n\u001b[1;32m    868\u001b[0m \u001b[43m            \u001b[49m\u001b[43mnewline\u001b[49m\u001b[38;5;241;43m=\u001b[39;49m\u001b[38;5;124;43m\"\u001b[39;49m\u001b[38;5;124;43m\"\u001b[39;49m\u001b[43m,\u001b[49m\n\u001b[1;32m    869\u001b[0m \u001b[43m        \u001b[49m\u001b[43m)\u001b[49m\n\u001b[1;32m    870\u001b[0m     \u001b[38;5;28;01melse\u001b[39;00m:\n\u001b[1;32m    871\u001b[0m         \u001b[38;5;66;03m# Binary mode\u001b[39;00m\n\u001b[1;32m    872\u001b[0m         handle \u001b[38;5;241m=\u001b[39m \u001b[38;5;28mopen\u001b[39m(handle, ioargs\u001b[38;5;241m.\u001b[39mmode)\n",
      "\u001b[0;31mFileNotFoundError\u001b[0m: [Errno 2] No such file or directory: 'breast_cancer_missing.csv'"
     ]
    }
   ],
   "source": [
    "df = pd.read_csv('breast_cancer_missing.csv')"
   ]
  },
  {
   "cell_type": "code",
   "execution_count": null,
   "metadata": {
    "colab": {
     "base_uri": "https://localhost:8080/"
    },
    "executionInfo": {
     "elapsed": 14,
     "status": "ok",
     "timestamp": 1706281958519,
     "user": {
      "displayName": "DANILO SIPOLI SANCHES",
      "userId": "11160205893438547738"
     },
     "user_tz": 180
    },
    "id": "3pyAZVx162ZB",
    "outputId": "70fd6da2-796f-4aa1-8d9a-b8fbe6b6bb34"
   },
   "outputs": [],
   "source": [
    "df.info()"
   ]
  },
  {
   "cell_type": "markdown",
   "metadata": {
    "id": "inxS2tEI62ZA"
   },
   "source": [
    "## Limpeza dos Dados"
   ]
  },
  {
   "cell_type": "markdown",
   "metadata": {
    "id": "nmhDxjpe62ZA"
   },
   "source": [
    "### Dados Faltantes"
   ]
  },
  {
   "cell_type": "code",
   "execution_count": null,
   "metadata": {
    "colab": {
     "base_uri": "https://localhost:8080/"
    },
    "executionInfo": {
     "elapsed": 324,
     "status": "ok",
     "timestamp": 1706281958831,
     "user": {
      "displayName": "DANILO SIPOLI SANCHES",
      "userId": "11160205893438547738"
     },
     "user_tz": 180
    },
    "id": "ZLdJd7MvE7L_",
    "outputId": "47ae66c7-a51f-440f-c2f8-71c3690f5e62"
   },
   "outputs": [],
   "source": [
    "df.isnull().sum()"
   ]
  },
  {
   "cell_type": "code",
   "execution_count": null,
   "metadata": {
    "colab": {
     "base_uri": "https://localhost:8080/"
    },
    "executionInfo": {
     "elapsed": 41,
     "status": "ok",
     "timestamp": 1706281958831,
     "user": {
      "displayName": "DANILO SIPOLI SANCHES",
      "userId": "11160205893438547738"
     },
     "user_tz": 180
    },
    "id": "8ptDMtPvE-d4",
    "outputId": "46ad17b0-f62f-450e-d04c-f10b50d9f59a"
   },
   "outputs": [],
   "source": [
    "df['diagnosis'].isnull().sum()"
   ]
  },
  {
   "cell_type": "code",
   "execution_count": null,
   "metadata": {
    "id": "ql4pg0vR62ZC"
   },
   "outputs": [],
   "source": [
    "#Remove os dados faltantes em diagnosis\n",
    "df.dropna(subset=['diagnosis'],inplace=True)"
   ]
  },
  {
   "cell_type": "code",
   "execution_count": null,
   "metadata": {
    "colab": {
     "base_uri": "https://localhost:8080/"
    },
    "executionInfo": {
     "elapsed": 34,
     "status": "ok",
     "timestamp": 1706281958832,
     "user": {
      "displayName": "DANILO SIPOLI SANCHES",
      "userId": "11160205893438547738"
     },
     "user_tz": 180
    },
    "id": "mkYWhvR5FFDJ",
    "outputId": "2f6ae6ee-0001-4f37-9b2b-d3735afa44f7"
   },
   "outputs": [],
   "source": [
    "df['diagnosis'].isnull().sum()"
   ]
  },
  {
   "cell_type": "code",
   "execution_count": null,
   "metadata": {
    "id": "Afe6xJQUFW1p"
   },
   "outputs": [],
   "source": [
    "# Obtem o nome das colunas com NaN\n",
    "# Deixa no formato list\n",
    "nan_columns = df.columns[df.isna().any()].tolist()"
   ]
  },
  {
   "cell_type": "code",
   "execution_count": null,
   "metadata": {
    "colab": {
     "base_uri": "https://localhost:8080/"
    },
    "executionInfo": {
     "elapsed": 29,
     "status": "ok",
     "timestamp": 1706281958833,
     "user": {
      "displayName": "DANILO SIPOLI SANCHES",
      "userId": "11160205893438547738"
     },
     "user_tz": 180
    },
    "id": "yg7m6ZikG_aI",
    "outputId": "0a0cba59-1c7a-47bb-c44f-26280e1b10fd"
   },
   "outputs": [],
   "source": [
    "# Percorre cada coluna calculando a média\n",
    "# Substitui todos os NaN pela média\n",
    "for col in nan_columns:\n",
    "  media = df[col].mean()\n",
    "  print(media)\n",
    "  df[col].fillna(media, inplace=True)"
   ]
  },
  {
   "cell_type": "code",
   "execution_count": null,
   "metadata": {
    "colab": {
     "base_uri": "https://localhost:8080/"
    },
    "executionInfo": {
     "elapsed": 25,
     "status": "ok",
     "timestamp": 1706281958833,
     "user": {
      "displayName": "DANILO SIPOLI SANCHES",
      "userId": "11160205893438547738"
     },
     "user_tz": 180
    },
    "id": "uWTVr9NmHVcu",
    "outputId": "6ad87c92-d0b0-415b-d6ab-8facb541ea3a"
   },
   "outputs": [],
   "source": [
    "df.isnull().sum()"
   ]
  },
  {
   "cell_type": "code",
   "execution_count": null,
   "metadata": {
    "id": "xjzfJ828HPM1"
   },
   "outputs": [],
   "source": [
    "# Remove sample_id\n",
    "df.drop(['sample_id'], axis=1, inplace=True)"
   ]
  },
  {
   "cell_type": "code",
   "execution_count": null,
   "metadata": {
    "id": "08A0IQbgftIr"
   },
   "outputs": [],
   "source": [
    "# Transforma os dados categóricos de diagnosis\n",
    "from sklearn.preprocessing import LabelEncoder\n",
    "\n",
    "labelencoder = LabelEncoder()\n",
    "df['diagnosis'] = labelencoder.fit_transform(df['diagnosis'])"
   ]
  },
  {
   "cell_type": "code",
   "execution_count": null,
   "metadata": {
    "colab": {
     "base_uri": "https://localhost:8080/"
    },
    "executionInfo": {
     "elapsed": 19,
     "status": "ok",
     "timestamp": 1706281958834,
     "user": {
      "displayName": "DANILO SIPOLI SANCHES",
      "userId": "11160205893438547738"
     },
     "user_tz": 180
    },
    "id": "NVfZPD_2hggp",
    "outputId": "53ca5824-c272-47b0-fd01-15a64e0e194d"
   },
   "outputs": [],
   "source": [
    "df['diagnosis'].value_counts()"
   ]
  },
  {
   "cell_type": "markdown",
   "metadata": {
    "id": "usH6Zyuk62ZD"
   },
   "source": [
    "## Normalização de atributos numéricos"
   ]
  },
  {
   "cell_type": "code",
   "execution_count": null,
   "metadata": {
    "colab": {
     "base_uri": "https://localhost:8080/"
    },
    "executionInfo": {
     "elapsed": 15,
     "status": "ok",
     "timestamp": 1706281958834,
     "user": {
      "displayName": "DANILO SIPOLI SANCHES",
      "userId": "11160205893438547738"
     },
     "user_tz": 180
    },
    "id": "3nglmfwyN4xd",
    "outputId": "7d738a70-8ea0-4c67-f329-64ad72db2e22"
   },
   "outputs": [],
   "source": [
    "scaler_cols = df.columns[0:30]\n",
    "print(scaler_cols)"
   ]
  },
  {
   "cell_type": "code",
   "execution_count": null,
   "metadata": {
    "id": "ZgDNZG1F62ZE"
   },
   "outputs": [],
   "source": [
    "from sklearn.preprocessing import StandardScaler\n",
    "\n",
    "scaler = StandardScaler()\n",
    "ajuste = scaler.fit(df[scaler_cols])\n",
    "df[scaler_cols] = ajuste.transform(df[scaler_cols])"
   ]
  },
  {
   "cell_type": "code",
   "execution_count": null,
   "metadata": {
    "colab": {
     "base_uri": "https://localhost:8080/",
     "height": 290
    },
    "executionInfo": {
     "elapsed": 604,
     "status": "ok",
     "timestamp": 1706281959428,
     "user": {
      "displayName": "DANILO SIPOLI SANCHES",
      "userId": "11160205893438547738"
     },
     "user_tz": 180
    },
    "id": "TE4ysMhT62ZF",
    "outputId": "a04e600b-a462-4d92-b8f1-aa5c1a790e23"
   },
   "outputs": [],
   "source": [
    "df.head()"
   ]
  },
  {
   "cell_type": "code",
   "execution_count": null,
   "metadata": {
    "colab": {
     "base_uri": "https://localhost:8080/"
    },
    "executionInfo": {
     "elapsed": 18,
     "status": "ok",
     "timestamp": 1706281959428,
     "user": {
      "displayName": "DANILO SIPOLI SANCHES",
      "userId": "11160205893438547738"
     },
     "user_tz": 180
    },
    "id": "jqXQTfymPSnU",
    "outputId": "bf580f90-9ab7-48fa-e0c2-4c9a91589086"
   },
   "outputs": [],
   "source": [
    "df.info()"
   ]
  },
  {
   "cell_type": "code",
   "execution_count": null,
   "metadata": {
    "id": "IDXe8W83fjNy"
   },
   "outputs": [],
   "source": []
  },
  {
   "cell_type": "markdown",
   "metadata": {
    "id": "hPBxdtbE0uAu"
   },
   "source": [
    "#### Heatmap com as correlações entre os atributos"
   ]
  },
  {
   "cell_type": "code",
   "execution_count": null,
   "metadata": {
    "colab": {
     "base_uri": "https://localhost:8080/",
     "height": 752
    },
    "executionInfo": {
     "elapsed": 2783,
     "status": "ok",
     "timestamp": 1706281962200,
     "user": {
      "displayName": "DANILO SIPOLI SANCHES",
      "userId": "11160205893438547738"
     },
     "user_tz": 180
    },
    "id": "eJ5exMnYIEwR",
    "outputId": "d58e0cac-ee6c-4669-9869-b8539ba7d2ce"
   },
   "outputs": [],
   "source": [
    "import seaborn as sns\n",
    "plt.figure(figsize = (15, 10))\n",
    "sns.heatmap(df.corr(), cmap = 'Blues')\n",
    "plt.title(\"Correlações entre os atributos\", size = 20)\n",
    "plt.show()"
   ]
  },
  {
   "cell_type": "markdown",
   "metadata": {
    "id": "ZXkqTkzQVy8I"
   },
   "source": [
    "## Pipeline Sklearn\n",
    "* Permite a criação de diferentes combinações de técnicas\n",
    "* https://scikit-learn.org/stable/modules/generated/sklearn.pipeline.Pipeline.html"
   ]
  },
  {
   "cell_type": "markdown",
   "metadata": {
    "id": "_xsH1TpAV3ee"
   },
   "source": [
    "### Separação entre treino e teste"
   ]
  },
  {
   "cell_type": "code",
   "execution_count": null,
   "metadata": {
    "id": "3l6_ESXyhJaE"
   },
   "outputs": [],
   "source": [
    "from sklearn.pipeline import Pipeline\n",
    "from sklearn.feature_selection import mutual_info_classif\n",
    "from sklearn.feature_selection import f_classif\n",
    "from sklearn.feature_selection import SelectKBest"
   ]
  },
  {
   "cell_type": "code",
   "execution_count": null,
   "metadata": {
    "colab": {
     "base_uri": "https://localhost:8080/"
    },
    "executionInfo": {
     "elapsed": 8215,
     "status": "ok",
     "timestamp": 1706281970400,
     "user": {
      "displayName": "DANILO SIPOLI SANCHES",
      "userId": "11160205893438547738"
     },
     "user_tz": 180
    },
    "id": "-emSr2FP9RZo",
    "outputId": "cfdd2369-3bde-42d0-cf6e-6c21dd6030a2"
   },
   "outputs": [],
   "source": [
    " !pip install feature-engine"
   ]
  },
  {
   "cell_type": "code",
   "execution_count": null,
   "metadata": {
    "id": "ACh_PLX490of"
   },
   "outputs": [],
   "source": [
    "from feature_engine.selection import DropCorrelatedFeatures, SmartCorrelatedSelection"
   ]
  },
  {
   "cell_type": "code",
   "execution_count": null,
   "metadata": {
    "id": "3Xwr_L2nug0Q"
   },
   "outputs": [],
   "source": [
    "# Formato dataframe e series\n",
    "X = df.drop(['diagnosis'], axis=1)\n",
    "y = df['diagnosis']"
   ]
  },
  {
   "cell_type": "code",
   "execution_count": null,
   "metadata": {
    "id": "7IFn9BVjWYqe"
   },
   "outputs": [],
   "source": [
    "X_train, X_test, y_train, y_test = train_test_split(X, y, test_size=0.3)"
   ]
  },
  {
   "cell_type": "markdown",
   "metadata": {
    "id": "3AuSSRBAWehG"
   },
   "source": [
    "### Configuração das técnicas que serão utilizadas"
   ]
  },
  {
   "cell_type": "code",
   "execution_count": null,
   "metadata": {
    "id": "KFUGR88AZKnx"
   },
   "outputs": [],
   "source": [
    "# forest = RandomForestClassifier(n_estimators = 100)\n",
    "# forest.fit(X_train, y_train)\n",
    "# forest_pred = forest.predict(X_test)\n",
    "\n",
    "# knn = KNeighborsClassifier()\n",
    "# knn.fit(X_train, y_train)\n",
    "# knn_pred = knn.predict(X_test)\n",
    "\n",
    "# Inclusão DecisionTree\n",
    "from sklearn.tree import DecisionTreeClassifier\n",
    "forest = DecisionTreeClassifier()\n",
    "forest.fit(X_train, y_train)\n",
    "forest_pred = forest.predict(X_test)"
   ]
  },
  {
   "cell_type": "code",
   "execution_count": null,
   "metadata": {
    "id": "loJ1p5OFC7nS"
   },
   "outputs": [],
   "source": [
    "# Configurações das técnicas de seleção e predição\n",
    "# forest = RandomForestClassifier(n_estimators = 100)\n",
    "\n",
    "mi = SelectKBest(mutual_info_classif, k=15)\n",
    "\n",
    "anova = SelectKBest(f_classif, k=15)\n",
    "\n",
    "dropC = DropCorrelatedFeatures(\n",
    "    threshold=0.8,\n",
    "    method='pearson'\n",
    ")\n",
    "\n",
    "smartC = SmartCorrelatedSelection(\n",
    "    method=\"pearson\",\n",
    "    threshold=0.8,\n",
    "    selection_method=\"variance\",\n",
    "    estimator=None\n",
    ")"
   ]
  },
  {
   "cell_type": "code",
   "execution_count": null,
   "metadata": {
    "id": "2BlrPpais6yH"
   },
   "outputs": [],
   "source": [
    "# >>> Randon Forest Analysis\n",
    "# Mutual Information|\n",
    "forest1 = Pipeline([('mi', mi),\n",
    "                ('rf', forest)])\n",
    "forest1.fit(X_train, y_train)\n",
    "forest1_pred = forest1.predict(X_test)\n",
    "\n",
    "# Drop Correlated\n",
    "forest2 = Pipeline([('dropC', dropC),\n",
    "                ('rf', forest)])\n",
    "forest2.fit(X_train, y_train)\n",
    "forest2_pred = forest2.predict(X_test)\n",
    "\n",
    "# Smart Correlated\n",
    "forest3 = Pipeline([('smartC', smartC),\n",
    "                ('rf', forest)])\n",
    "forest3.fit(X_train, y_train)\n",
    "forest3_pred = forest3.predict(X_test)\n",
    "\n",
    "# Anova\n",
    "forest4 = Pipeline([('Anova', anova),\n",
    "                ('rf', forest)])\n",
    "forest4.fit(X_train, y_train)\n",
    "forest4_pred = forest4.predict(X_test)\n",
    "\n",
    "# KNN Analysis\n",
    "# Mutual Information|\n",
    "knn1 = Pipeline([('mi', mi),\n",
    "                ('knn', knn)])\n",
    "knn1.fit(X_train, y_train)\n",
    "knn1_pred = knn1.predict(X_test)\n"
   ]
  },
  {
   "cell_type": "markdown",
   "metadata": {
    "id": "9fNBvuWnYUDT"
   },
   "source": [
    "### Métricas de avaliação"
   ]
  },
  {
   "cell_type": "code",
   "execution_count": null,
   "metadata": {
    "id": "Eehw93GlXOKs"
   },
   "outputs": [],
   "source": [
    "from sklearn.metrics import confusion_matrix, ConfusionMatrixDisplay\n",
    "from sklearn.metrics import (recall_score,\n",
    "                             accuracy_score,\n",
    "                             precision_score,\n",
    "                             f1_score)"
   ]
  },
  {
   "cell_type": "code",
   "execution_count": null,
   "metadata": {
    "colab": {
     "base_uri": "https://localhost:8080/",
     "height": 845
    },
    "executionInfo": {
     "elapsed": 508,
     "status": "ok",
     "timestamp": 1706281971314,
     "user": {
      "displayName": "DANILO SIPOLI SANCHES",
      "userId": "11160205893438547738"
     },
     "user_tz": 180
    },
    "id": "cF704x0wZ3pR",
    "outputId": "8c24bcf0-882f-4d81-a78f-c7cb951bd40e"
   },
   "outputs": [],
   "source": [
    "cm = confusion_matrix(y_test, forest_pred)\n",
    "ConfusionMatrixDisplay(cm).plot()"
   ]
  },
  {
   "cell_type": "code",
   "execution_count": null,
   "metadata": {
    "colab": {
     "base_uri": "https://localhost:8080/",
     "height": 845
    },
    "executionInfo": {
     "elapsed": 678,
     "status": "ok",
     "timestamp": 1706281971982,
     "user": {
      "displayName": "DANILO SIPOLI SANCHES",
      "userId": "11160205893438547738"
     },
     "user_tz": 180
    },
    "id": "LBokKS0xYno-",
    "outputId": "ca2a9d7f-52e5-43ad-f53b-fd6c273bbc0a"
   },
   "outputs": [],
   "source": [
    "cm = confusion_matrix(y_test, forest1_pred)\n",
    "ConfusionMatrixDisplay(cm).plot()"
   ]
  },
  {
   "cell_type": "code",
   "execution_count": null,
   "metadata": {
    "colab": {
     "base_uri": "https://localhost:8080/",
     "height": 845
    },
    "executionInfo": {
     "elapsed": 531,
     "status": "ok",
     "timestamp": 1706281972501,
     "user": {
      "displayName": "DANILO SIPOLI SANCHES",
      "userId": "11160205893438547738"
     },
     "user_tz": 180
    },
    "id": "3gUMlE2jExKK",
    "outputId": "bf92c9f3-2187-4feb-8df8-0265477daf8b"
   },
   "outputs": [],
   "source": [
    "cm = confusion_matrix(y_test, forest2_pred)\n",
    "ConfusionMatrixDisplay(cm).plot()"
   ]
  },
  {
   "cell_type": "code",
   "execution_count": null,
   "metadata": {
    "colab": {
     "base_uri": "https://localhost:8080/",
     "height": 845
    },
    "executionInfo": {
     "elapsed": 455,
     "status": "ok",
     "timestamp": 1706281972944,
     "user": {
      "displayName": "DANILO SIPOLI SANCHES",
      "userId": "11160205893438547738"
     },
     "user_tz": 180
    },
    "id": "JAGiCHADE1bG",
    "outputId": "c111bd36-ac89-4a1b-84ba-8c2e029d20be"
   },
   "outputs": [],
   "source": [
    "cm = confusion_matrix(y_test, forest3_pred)\n",
    "ConfusionMatrixDisplay(cm).plot()"
   ]
  },
  {
   "cell_type": "code",
   "execution_count": null,
   "metadata": {
    "colab": {
     "base_uri": "https://localhost:8080/",
     "height": 845
    },
    "executionInfo": {
     "elapsed": 990,
     "status": "ok",
     "timestamp": 1706281973926,
     "user": {
      "displayName": "DANILO SIPOLI SANCHES",
      "userId": "11160205893438547738"
     },
     "user_tz": 180
    },
    "id": "yjgPtqLriDzQ",
    "outputId": "bfae2773-cc6c-4457-b52a-ba23027474f3"
   },
   "outputs": [],
   "source": [
    "cm = confusion_matrix(y_test, forest4_pred)\n",
    "ConfusionMatrixDisplay(cm).plot()"
   ]
  },
  {
   "cell_type": "code",
   "execution_count": null,
   "metadata": {
    "colab": {
     "base_uri": "https://localhost:8080/"
    },
    "executionInfo": {
     "elapsed": 58,
     "status": "ok",
     "timestamp": 1706281973927,
     "user": {
      "displayName": "DANILO SIPOLI SANCHES",
      "userId": "11160205893438547738"
     },
     "user_tz": 180
    },
    "id": "d-bfyfX6Zixf",
    "outputId": "20f70073-200d-49a4-f84e-b7ab1c8a1057"
   },
   "outputs": [],
   "source": [
    "# Acuracidade\n",
    "print(\"Pipeline com Randon Forest\")\n",
    "print(\"ACC (Completo): %.3f\" %(accuracy_score(y_test,forest_pred)))\n",
    "print(\"ACC (MI): %.3f\" %(accuracy_score(y_test,forest1_pred)))\n",
    "print(\"ACC: (dropC) %.3f\" %(accuracy_score(y_test,forest2_pred)))\n",
    "print(\"ACC: (smartC) %.3f\" %(accuracy_score(y_test,forest3_pred)))\n",
    "print(\"ACC: (Anova) %.3f\" %(accuracy_score(y_test,forest4_pred)))\n",
    "# print(\"ACC: (KNN-MI) %.3f\" %(accuracy_score(y_test,knn1_pred)))\n",
    "#Revocação\n",
    "print(\"Recall (Completo):%.2f\" %(recall_score(y_test,forest_pred)))\n",
    "print(\"Recall (MI):%.2f\" %(recall_score(y_test,forest1_pred)))\n",
    "print(\"Recall (dropC):%.2f\" %(recall_score(y_test,forest2_pred)))\n",
    "print(\"Recall (smartC):%.2f\" %(recall_score(y_test,forest3_pred)))\n",
    "print(\"Recall (Anova):%.2f\" %(recall_score(y_test,forest4_pred)))\n",
    "#Precisão\n",
    "print(\"Precision (Completo):%.2f\" %(precision_score(y_test,forest_pred)))\n",
    "print(\"Precision (MI):%.2f\" %(precision_score(y_test,forest1_pred)))\n",
    "print(\"Precision (dropC):%.2f\" %(precision_score(y_test,forest2_pred)))\n",
    "print(\"Precision (smartC):%.2f\" %(precision_score(y_test,forest3_pred)))\n",
    "print(\"Precision (Anova):%.2f\" %(precision_score(y_test,forest4_pred)))\n",
    "#F1-score\n",
    "print(\"F1-score (Completo):%.2f\" %(f1_score(y_test,forest_pred)))\n",
    "print(\"F1-score (MI):%.2f\" %(f1_score(y_test,forest1_pred)))\n",
    "print(\"F1-score (dropC):%.2f\" %(f1_score(y_test,forest2_pred)))\n",
    "print(\"F1-score (smnartC):%.2f\" %(f1_score(y_test,forest3_pred)))\n",
    "print(\"F1-score (Anova):%.2f\" %(f1_score(y_test,forest4_pred)))\n"
   ]
  },
  {
   "cell_type": "markdown",
   "metadata": {
    "id": "j7Gojsw3FQi1"
   },
   "source": [
    "#### Similaridade das Features"
   ]
  },
  {
   "cell_type": "code",
   "execution_count": null,
   "metadata": {
    "id": "7Zi_w2wKag_j"
   },
   "outputs": [],
   "source": [
    "featuresMutualInfromation = forest1[:-1].get_feature_names_out()\n",
    "featuresBruteForce = forest2[:-1].get_feature_names_out()\n",
    "featuresSmartCorr = forest3[:-1].get_feature_names_out()\n",
    "featuresAnova = forest4[:-1].get_feature_names_out()"
   ]
  },
  {
   "cell_type": "code",
   "execution_count": null,
   "metadata": {
    "colab": {
     "base_uri": "https://localhost:8080/"
    },
    "executionInfo": {
     "elapsed": 51,
     "status": "ok",
     "timestamp": 1706281973928,
     "user": {
      "displayName": "DANILO SIPOLI SANCHES",
      "userId": "11160205893438547738"
     },
     "user_tz": 180
    },
    "id": "vlLyqIN9FWtE",
    "outputId": "4b35515e-0ce8-48da-bd95-21e4cce5cee8"
   },
   "outputs": [],
   "source": [
    "# Mutual Information\n",
    "print(featuresMutualInfromation)\n",
    "# Brute Force\n",
    "print(featuresBruteForce)\n",
    "# Smart Correlation\n",
    "print(featuresSmartCorr)\n",
    "# Anova\n",
    "print(featuresAnova)"
   ]
  },
  {
   "cell_type": "markdown",
   "metadata": {
    "id": "R1MewFpWKOCD"
   },
   "source": [
    "#### Diagrama de Venn (Até 4 conjuntos)\n",
    "* Biblioteca Vennforest4Py\n",
    "* https://pypi.org/project/venny4py/"
   ]
  },
  {
   "cell_type": "code",
   "execution_count": null,
   "metadata": {
    "colab": {
     "base_uri": "https://localhost:8080/"
    },
    "executionInfo": {
     "elapsed": 13566,
     "status": "ok",
     "timestamp": 1706281987448,
     "user": {
      "displayName": "DANILO SIPOLI SANCHES",
      "userId": "11160205893438547738"
     },
     "user_tz": 180
    },
    "id": "dpbtvpubMDkb",
    "outputId": "3703a61d-a4cc-477c-c80b-860bcb92d94f"
   },
   "outputs": [],
   "source": [
    "# !pip install milkviz\n",
    "!pip install venny4py"
   ]
  },
  {
   "cell_type": "code",
   "execution_count": null,
   "metadata": {
    "id": "6aKqM-zsKNnv"
   },
   "outputs": [],
   "source": [
    "# import matplotlib_venn as venn\n",
    "# import milkviz as mv\n",
    "from venny4py.venny4py import *"
   ]
  },
  {
   "cell_type": "code",
   "execution_count": null,
   "metadata": {
    "colab": {
     "base_uri": "https://localhost:8080/",
     "height": 596
    },
    "executionInfo": {
     "elapsed": 1164,
     "status": "ok",
     "timestamp": 1706281988564,
     "user": {
      "displayName": "DANILO SIPOLI SANCHES",
      "userId": "11160205893438547738"
     },
     "user_tz": 180
    },
    "id": "gDI7wQmeKUfo",
    "outputId": "de75b047-f6ac-44d5-f284-7595f1b45765"
   },
   "outputs": [],
   "source": [
    "#dict of sets\n",
    "sets = {\n",
    "    'Mutual_Information': set(featuresMutualInfromation),\n",
    "    'Brute_Force': set(featuresBruteForce),\n",
    "    'featuresSmartCorr': set(featuresSmartCorr),\n",
    "    'featuresAnova': set(featuresAnova)\n",
    "}\n",
    "\n",
    "venny4py(sets=sets)"
   ]
  },
  {
   "cell_type": "markdown",
   "metadata": {
    "id": "WekT9D_mjUtK"
   },
   "source": [
    "#### Features similares entre as 4 abordagens"
   ]
  },
  {
   "cell_type": "code",
   "execution_count": null,
   "metadata": {
    "colab": {
     "base_uri": "https://localhost:8080/"
    },
    "executionInfo": {
     "elapsed": 14,
     "status": "ok",
     "timestamp": 1706281988565,
     "user": {
      "displayName": "DANILO SIPOLI SANCHES",
      "userId": "11160205893438547738"
     },
     "user_tz": 180
    },
    "id": "66uq-Z5iGHsf",
    "outputId": "a77dfc52-72a8-4f3d-f447-616773d720a3"
   },
   "outputs": [],
   "source": [
    "set(featuresMutualInfromation).intersection(featuresBruteForce,featuresSmartCorr,featuresAnova)"
   ]
  }
 ],
 "metadata": {
  "colab": {
   "provenance": []
  },
  "kernelspec": {
   "display_name": "Python 3 (ipykernel)",
   "language": "python",
   "name": "python3"
  },
  "language_info": {
   "codemirror_mode": {
    "name": "ipython",
    "version": 3
   },
   "file_extension": ".py",
   "mimetype": "text/x-python",
   "name": "python",
   "nbconvert_exporter": "python",
   "pygments_lexer": "ipython3",
   "version": "3.11.5"
  }
 },
 "nbformat": 4,
 "nbformat_minor": 4
}
