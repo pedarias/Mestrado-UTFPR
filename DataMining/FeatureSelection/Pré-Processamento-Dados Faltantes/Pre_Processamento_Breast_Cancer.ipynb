{
 "cells": [
  {
   "cell_type": "markdown",
   "metadata": {
    "id": "swdsv2ZT62Y6"
   },
   "source": [
    "## Pré-processamento de dados  - Breast Cancer dataset\n",
    "\n",
    "* https://www.kaggle.com/datasets/uciml/breast-cancer-wisconsin-data"
   ]
  },
  {
   "cell_type": "code",
   "execution_count": 3,
   "metadata": {},
   "outputs": [
    {
     "name": "stdout",
     "output_type": "stream",
     "text": [
      "Collecting scikit-learn\n",
      "  Downloading scikit_learn-1.4.0-1-cp311-cp311-manylinux_2_17_x86_64.manylinux2014_x86_64.whl.metadata (11 kB)\n",
      "Requirement already satisfied: numpy<2.0,>=1.19.5 in /home/a10/anaconda3/envs/eda/lib/python3.11/site-packages (from scikit-learn) (1.26.3)\n",
      "Collecting scipy>=1.6.0 (from scikit-learn)\n",
      "  Downloading scipy-1.12.0-cp311-cp311-manylinux_2_17_x86_64.manylinux2014_x86_64.whl.metadata (60 kB)\n",
      "\u001b[2K     \u001b[38;2;114;156;31m━━━━━━━━━━━━━━━━━━━━━━━━━━━━━━━━━━━━━━━━\u001b[0m \u001b[32m60.4/60.4 kB\u001b[0m \u001b[31m1.2 MB/s\u001b[0m eta \u001b[36m0:00:00\u001b[0m MB/s\u001b[0m eta \u001b[36m0:00:01\u001b[0m\n",
      "\u001b[?25hCollecting joblib>=1.2.0 (from scikit-learn)\n",
      "  Downloading joblib-1.3.2-py3-none-any.whl.metadata (5.4 kB)\n",
      "Collecting threadpoolctl>=2.0.0 (from scikit-learn)\n",
      "  Downloading threadpoolctl-3.2.0-py3-none-any.whl.metadata (10.0 kB)\n",
      "Downloading scikit_learn-1.4.0-1-cp311-cp311-manylinux_2_17_x86_64.manylinux2014_x86_64.whl (12.1 MB)\n",
      "\u001b[2K   \u001b[38;2;114;156;31m━━━━━━━━━━━━━━━━━━━━━━━━━━━━━━━━━━━━━━━━\u001b[0m \u001b[32m12.1/12.1 MB\u001b[0m \u001b[31m35.5 MB/s\u001b[0m eta \u001b[36m0:00:00\u001b[0mm eta \u001b[36m0:00:01\u001b[0m0:01\u001b[0m01\u001b[0m\n",
      "\u001b[?25hDownloading joblib-1.3.2-py3-none-any.whl (302 kB)\n",
      "\u001b[2K   \u001b[38;2;114;156;31m━━━━━━━━━━━━━━━━━━━━━━━━━━━━━━━━━━━━━━━━\u001b[0m \u001b[32m302.2/302.2 kB\u001b[0m \u001b[31m31.5 MB/s\u001b[0m eta \u001b[36m0:00:00\u001b[0m\n",
      "\u001b[?25hDownloading scipy-1.12.0-cp311-cp311-manylinux_2_17_x86_64.manylinux2014_x86_64.whl (38.4 MB)\n",
      "\u001b[2K   \u001b[38;2;114;156;31m━━━━━━━━━━━━━━━━━━━━━━━━━━━━━━━━━━━━━━━━\u001b[0m \u001b[32m38.4/38.4 MB\u001b[0m \u001b[31m41.1 MB/s\u001b[0m eta \u001b[36m0:00:00\u001b[0mm eta \u001b[36m0:00:01\u001b[0m[36m0:00:01\u001b[0m\n",
      "\u001b[?25hDownloading threadpoolctl-3.2.0-py3-none-any.whl (15 kB)\n",
      "Installing collected packages: threadpoolctl, scipy, joblib, scikit-learn\n",
      "Successfully installed joblib-1.3.2 scikit-learn-1.4.0 scipy-1.12.0 threadpoolctl-3.2.0\n"
     ]
    }
   ],
   "source": [
    "!pip install scikit-learn"
   ]
  },
  {
   "cell_type": "code",
   "execution_count": 4,
   "metadata": {
    "id": "qwlY85FAKHTv"
   },
   "outputs": [],
   "source": [
    "import pandas as pd\n",
    "import numpy as np\n",
    "from sklearn.impute import SimpleImputer"
   ]
  },
  {
   "cell_type": "code",
   "execution_count": 5,
   "metadata": {
    "id": "J89hbLN462ZB"
   },
   "outputs": [],
   "source": [
    "df = pd.read_csv('breast_cancer_missing.csv')"
   ]
  },
  {
   "cell_type": "code",
   "execution_count": 14,
   "metadata": {},
   "outputs": [
    {
     "data": {
      "text/plain": [
       "(569, 32)"
      ]
     },
     "execution_count": 14,
     "metadata": {},
     "output_type": "execute_result"
    }
   ],
   "source": [
    "df.shape"
   ]
  },
  {
   "cell_type": "code",
   "execution_count": 6,
   "metadata": {
    "colab": {
     "base_uri": "https://localhost:8080/"
    },
    "id": "3pyAZVx162ZB",
    "outputId": "7065cde6-b590-45e0-93e6-84604e6ed739"
   },
   "outputs": [
    {
     "name": "stdout",
     "output_type": "stream",
     "text": [
      "<class 'pandas.core.frame.DataFrame'>\n",
      "RangeIndex: 569 entries, 0 to 568\n",
      "Data columns (total 32 columns):\n",
      " #   Column                   Non-Null Count  Dtype  \n",
      "---  ------                   --------------  -----  \n",
      " 0   sample_id                569 non-null    int64  \n",
      " 1   mean_radius              527 non-null    float64\n",
      " 2   mean_texture             521 non-null    float64\n",
      " 3   mean_perimeter           508 non-null    float64\n",
      " 4   mean_area                502 non-null    float64\n",
      " 5   mean_smoothness          523 non-null    float64\n",
      " 6   mean_compactness         510 non-null    float64\n",
      " 7   mean_concavity           502 non-null    float64\n",
      " 8   mean_concave_points      514 non-null    float64\n",
      " 9   mean_symmetry            519 non-null    float64\n",
      " 10  mean_fractal_dimension   513 non-null    float64\n",
      " 11  radius_error             511 non-null    float64\n",
      " 12  texture_error            513 non-null    float64\n",
      " 13  perimeter_error          505 non-null    float64\n",
      " 14  area_error               509 non-null    float64\n",
      " 15  smoothness_error         515 non-null    float64\n",
      " 16  compactness_error        509 non-null    float64\n",
      " 17  concavity_error          510 non-null    float64\n",
      " 18  concave_points_error     524 non-null    float64\n",
      " 19  symmetry_error           511 non-null    float64\n",
      " 20  fractal_dimension_error  517 non-null    float64\n",
      " 21  worst_radius             522 non-null    float64\n",
      " 22  worst_texture            511 non-null    float64\n",
      " 23  worst_perimeter          503 non-null    float64\n",
      " 24  worst_area               509 non-null    float64\n",
      " 25  worst_smoothness         506 non-null    float64\n",
      " 26  worst_compactness        516 non-null    float64\n",
      " 27  worst_concavity          519 non-null    float64\n",
      " 28  worst_concave_points     517 non-null    float64\n",
      " 29  worst_symmetry           510 non-null    float64\n",
      " 30  worst_fractal_dimension  494 non-null    float64\n",
      " 31  diagnosis                505 non-null    object \n",
      "dtypes: float64(30), int64(1), object(1)\n",
      "memory usage: 142.4+ KB\n"
     ]
    }
   ],
   "source": [
    "df.info()"
   ]
  },
  {
   "cell_type": "markdown",
   "metadata": {
    "id": "icBgVjtB8Sgg"
   },
   "source": [
    "## 1) Agrupamento e Amostragem"
   ]
  },
  {
   "cell_type": "code",
   "execution_count": 9,
   "metadata": {
    "colab": {
     "base_uri": "https://localhost:8080/",
     "height": 224
    },
    "id": "iVENjzNcP80d",
    "outputId": "33e6708a-5d9a-4159-ca51-98cee2ef9889"
   },
   "outputs": [
    {
     "data": {
      "text/html": [
       "<div>\n",
       "<style scoped>\n",
       "    .dataframe tbody tr th:only-of-type {\n",
       "        vertical-align: middle;\n",
       "    }\n",
       "\n",
       "    .dataframe tbody tr th {\n",
       "        vertical-align: top;\n",
       "    }\n",
       "\n",
       "    .dataframe thead th {\n",
       "        text-align: right;\n",
       "    }\n",
       "</style>\n",
       "<table border=\"1\" class=\"dataframe\">\n",
       "  <thead>\n",
       "    <tr style=\"text-align: right;\">\n",
       "      <th></th>\n",
       "      <th>sample_id</th>\n",
       "      <th>mean_radius</th>\n",
       "      <th>mean_texture</th>\n",
       "      <th>mean_perimeter</th>\n",
       "      <th>mean_area</th>\n",
       "      <th>mean_smoothness</th>\n",
       "      <th>mean_compactness</th>\n",
       "      <th>mean_concavity</th>\n",
       "      <th>mean_concave_points</th>\n",
       "      <th>mean_symmetry</th>\n",
       "      <th>...</th>\n",
       "      <th>worst_texture</th>\n",
       "      <th>worst_perimeter</th>\n",
       "      <th>worst_area</th>\n",
       "      <th>worst_smoothness</th>\n",
       "      <th>worst_compactness</th>\n",
       "      <th>worst_concavity</th>\n",
       "      <th>worst_concave_points</th>\n",
       "      <th>worst_symmetry</th>\n",
       "      <th>worst_fractal_dimension</th>\n",
       "      <th>diagnosis</th>\n",
       "    </tr>\n",
       "  </thead>\n",
       "  <tbody>\n",
       "    <tr>\n",
       "      <th>432</th>\n",
       "      <td>908194</td>\n",
       "      <td>20.18</td>\n",
       "      <td>19.54</td>\n",
       "      <td>133.8</td>\n",
       "      <td>1250.0</td>\n",
       "      <td>NaN</td>\n",
       "      <td>0.14890</td>\n",
       "      <td>0.21330</td>\n",
       "      <td>0.12590</td>\n",
       "      <td>0.1724</td>\n",
       "      <td>...</td>\n",
       "      <td>25.07</td>\n",
       "      <td>146.00</td>\n",
       "      <td>1479.0</td>\n",
       "      <td>0.1665</td>\n",
       "      <td>0.2942</td>\n",
       "      <td>0.5308</td>\n",
       "      <td>0.21730</td>\n",
       "      <td>0.3032</td>\n",
       "      <td>0.08075</td>\n",
       "      <td>malignant</td>\n",
       "    </tr>\n",
       "    <tr>\n",
       "      <th>411</th>\n",
       "      <td>905520</td>\n",
       "      <td>11.04</td>\n",
       "      <td>16.83</td>\n",
       "      <td>NaN</td>\n",
       "      <td>373.2</td>\n",
       "      <td>0.10770</td>\n",
       "      <td>0.07804</td>\n",
       "      <td>0.03046</td>\n",
       "      <td>0.02480</td>\n",
       "      <td>0.1714</td>\n",
       "      <td>...</td>\n",
       "      <td>26.44</td>\n",
       "      <td>79.93</td>\n",
       "      <td>471.4</td>\n",
       "      <td>0.1369</td>\n",
       "      <td>0.1482</td>\n",
       "      <td>0.1067</td>\n",
       "      <td>0.07431</td>\n",
       "      <td>0.2998</td>\n",
       "      <td>NaN</td>\n",
       "      <td>benign</td>\n",
       "    </tr>\n",
       "    <tr>\n",
       "      <th>89</th>\n",
       "      <td>861598</td>\n",
       "      <td>14.64</td>\n",
       "      <td>15.24</td>\n",
       "      <td>NaN</td>\n",
       "      <td>NaN</td>\n",
       "      <td>NaN</td>\n",
       "      <td>NaN</td>\n",
       "      <td>0.09966</td>\n",
       "      <td>0.07064</td>\n",
       "      <td>0.2116</td>\n",
       "      <td>...</td>\n",
       "      <td>18.24</td>\n",
       "      <td>109.40</td>\n",
       "      <td>803.6</td>\n",
       "      <td>0.1277</td>\n",
       "      <td>0.3089</td>\n",
       "      <td>0.2604</td>\n",
       "      <td>0.13970</td>\n",
       "      <td>0.3151</td>\n",
       "      <td>0.08473</td>\n",
       "      <td>benign</td>\n",
       "    </tr>\n",
       "    <tr>\n",
       "      <th>127</th>\n",
       "      <td>866203</td>\n",
       "      <td>19.00</td>\n",
       "      <td>18.91</td>\n",
       "      <td>123.4</td>\n",
       "      <td>1138.0</td>\n",
       "      <td>0.08217</td>\n",
       "      <td>0.08028</td>\n",
       "      <td>0.09271</td>\n",
       "      <td>0.05627</td>\n",
       "      <td>0.1946</td>\n",
       "      <td>...</td>\n",
       "      <td>25.73</td>\n",
       "      <td>148.20</td>\n",
       "      <td>1538.0</td>\n",
       "      <td>0.1021</td>\n",
       "      <td>0.2264</td>\n",
       "      <td>0.3207</td>\n",
       "      <td>0.12180</td>\n",
       "      <td>0.2841</td>\n",
       "      <td>0.06541</td>\n",
       "      <td>NaN</td>\n",
       "    </tr>\n",
       "  </tbody>\n",
       "</table>\n",
       "<p>4 rows × 32 columns</p>\n",
       "</div>"
      ],
      "text/plain": [
       "     sample_id  mean_radius  mean_texture  mean_perimeter  mean_area  \\\n",
       "432     908194        20.18         19.54           133.8     1250.0   \n",
       "411     905520        11.04         16.83             NaN      373.2   \n",
       "89      861598        14.64         15.24             NaN        NaN   \n",
       "127     866203        19.00         18.91           123.4     1138.0   \n",
       "\n",
       "     mean_smoothness  mean_compactness  mean_concavity  mean_concave_points  \\\n",
       "432              NaN           0.14890         0.21330              0.12590   \n",
       "411          0.10770           0.07804         0.03046              0.02480   \n",
       "89               NaN               NaN         0.09966              0.07064   \n",
       "127          0.08217           0.08028         0.09271              0.05627   \n",
       "\n",
       "     mean_symmetry  ...  worst_texture  worst_perimeter  worst_area  \\\n",
       "432         0.1724  ...          25.07           146.00      1479.0   \n",
       "411         0.1714  ...          26.44            79.93       471.4   \n",
       "89          0.2116  ...          18.24           109.40       803.6   \n",
       "127         0.1946  ...          25.73           148.20      1538.0   \n",
       "\n",
       "     worst_smoothness  worst_compactness  worst_concavity  \\\n",
       "432            0.1665             0.2942           0.5308   \n",
       "411            0.1369             0.1482           0.1067   \n",
       "89             0.1277             0.3089           0.2604   \n",
       "127            0.1021             0.2264           0.3207   \n",
       "\n",
       "     worst_concave_points  worst_symmetry  worst_fractal_dimension  diagnosis  \n",
       "432               0.21730          0.3032                  0.08075  malignant  \n",
       "411               0.07431          0.2998                      NaN     benign  \n",
       "89                0.13970          0.3151                  0.08473     benign  \n",
       "127               0.12180          0.2841                  0.06541        NaN  \n",
       "\n",
       "[4 rows x 32 columns]"
      ]
     },
     "execution_count": 9,
     "metadata": {},
     "output_type": "execute_result"
    }
   ],
   "source": [
    "# Amostragem aleatoria\n",
    "df.sample(4)"
   ]
  },
  {
   "cell_type": "code",
   "execution_count": 13,
   "metadata": {
    "colab": {
     "base_uri": "https://localhost:8080/",
     "height": 350
    },
    "id": "n5vglpk_Bfbq",
    "outputId": "db239751-7055-40de-8a72-f84b47384e7a"
   },
   "outputs": [
    {
     "data": {
      "text/html": [
       "<div>\n",
       "<style scoped>\n",
       "    .dataframe tbody tr th:only-of-type {\n",
       "        vertical-align: middle;\n",
       "    }\n",
       "\n",
       "    .dataframe tbody tr th {\n",
       "        vertical-align: top;\n",
       "    }\n",
       "\n",
       "    .dataframe thead th {\n",
       "        text-align: right;\n",
       "    }\n",
       "</style>\n",
       "<table border=\"1\" class=\"dataframe\">\n",
       "  <thead>\n",
       "    <tr style=\"text-align: right;\">\n",
       "      <th></th>\n",
       "      <th>sample_id</th>\n",
       "      <th>mean_radius</th>\n",
       "      <th>mean_texture</th>\n",
       "      <th>mean_perimeter</th>\n",
       "      <th>mean_area</th>\n",
       "      <th>mean_smoothness</th>\n",
       "      <th>mean_compactness</th>\n",
       "      <th>mean_concavity</th>\n",
       "      <th>mean_concave_points</th>\n",
       "      <th>mean_symmetry</th>\n",
       "      <th>...</th>\n",
       "      <th>worst_texture</th>\n",
       "      <th>worst_perimeter</th>\n",
       "      <th>worst_area</th>\n",
       "      <th>worst_smoothness</th>\n",
       "      <th>worst_compactness</th>\n",
       "      <th>worst_concavity</th>\n",
       "      <th>worst_concave_points</th>\n",
       "      <th>worst_symmetry</th>\n",
       "      <th>worst_fractal_dimension</th>\n",
       "      <th>diagnosis</th>\n",
       "    </tr>\n",
       "  </thead>\n",
       "  <tbody>\n",
       "    <tr>\n",
       "      <th>295</th>\n",
       "      <td>891923</td>\n",
       "      <td>13.77</td>\n",
       "      <td>13.27</td>\n",
       "      <td>88.06</td>\n",
       "      <td>582.7</td>\n",
       "      <td>0.09198</td>\n",
       "      <td>0.06221</td>\n",
       "      <td>0.01063</td>\n",
       "      <td>0.019170</td>\n",
       "      <td>0.1592</td>\n",
       "      <td>...</td>\n",
       "      <td>16.93</td>\n",
       "      <td>94.17</td>\n",
       "      <td>661.1</td>\n",
       "      <td>0.11700</td>\n",
       "      <td>0.1072</td>\n",
       "      <td>0.03732</td>\n",
       "      <td>0.05802</td>\n",
       "      <td>NaN</td>\n",
       "      <td>0.06794</td>\n",
       "      <td>benign</td>\n",
       "    </tr>\n",
       "    <tr>\n",
       "      <th>231</th>\n",
       "      <td>88199202</td>\n",
       "      <td>11.32</td>\n",
       "      <td>NaN</td>\n",
       "      <td>71.76</td>\n",
       "      <td>395.7</td>\n",
       "      <td>0.06883</td>\n",
       "      <td>0.03813</td>\n",
       "      <td>NaN</td>\n",
       "      <td>0.003125</td>\n",
       "      <td>0.1869</td>\n",
       "      <td>...</td>\n",
       "      <td>NaN</td>\n",
       "      <td>79.82</td>\n",
       "      <td>452.3</td>\n",
       "      <td>0.09203</td>\n",
       "      <td>0.1432</td>\n",
       "      <td>0.10890</td>\n",
       "      <td>0.02083</td>\n",
       "      <td>NaN</td>\n",
       "      <td>NaN</td>\n",
       "      <td>benign</td>\n",
       "    </tr>\n",
       "    <tr>\n",
       "      <th>187</th>\n",
       "      <td>874373</td>\n",
       "      <td>11.71</td>\n",
       "      <td>17.19</td>\n",
       "      <td>74.68</td>\n",
       "      <td>420.3</td>\n",
       "      <td>0.09774</td>\n",
       "      <td>0.06141</td>\n",
       "      <td>0.03809</td>\n",
       "      <td>NaN</td>\n",
       "      <td>0.1516</td>\n",
       "      <td>...</td>\n",
       "      <td>21.39</td>\n",
       "      <td>84.42</td>\n",
       "      <td>521.5</td>\n",
       "      <td>0.13230</td>\n",
       "      <td>0.1040</td>\n",
       "      <td>0.15210</td>\n",
       "      <td>0.10990</td>\n",
       "      <td>0.2572</td>\n",
       "      <td>0.07097</td>\n",
       "      <td>benign</td>\n",
       "    </tr>\n",
       "    <tr>\n",
       "      <th>491</th>\n",
       "      <td>91376702</td>\n",
       "      <td>17.85</td>\n",
       "      <td>13.23</td>\n",
       "      <td>114.60</td>\n",
       "      <td>992.1</td>\n",
       "      <td>0.07838</td>\n",
       "      <td>0.06217</td>\n",
       "      <td>0.04445</td>\n",
       "      <td>0.041780</td>\n",
       "      <td>0.1220</td>\n",
       "      <td>...</td>\n",
       "      <td>18.42</td>\n",
       "      <td>NaN</td>\n",
       "      <td>NaN</td>\n",
       "      <td>0.09862</td>\n",
       "      <td>NaN</td>\n",
       "      <td>0.10480</td>\n",
       "      <td>NaN</td>\n",
       "      <td>0.1783</td>\n",
       "      <td>0.05871</td>\n",
       "      <td>benign</td>\n",
       "    </tr>\n",
       "    <tr>\n",
       "      <th>25</th>\n",
       "      <td>852631</td>\n",
       "      <td>17.14</td>\n",
       "      <td>16.40</td>\n",
       "      <td>116.00</td>\n",
       "      <td>912.7</td>\n",
       "      <td>0.11860</td>\n",
       "      <td>0.22760</td>\n",
       "      <td>0.22290</td>\n",
       "      <td>0.140100</td>\n",
       "      <td>0.3040</td>\n",
       "      <td>...</td>\n",
       "      <td>21.40</td>\n",
       "      <td>NaN</td>\n",
       "      <td>1461.0</td>\n",
       "      <td>0.15450</td>\n",
       "      <td>0.3949</td>\n",
       "      <td>NaN</td>\n",
       "      <td>0.25500</td>\n",
       "      <td>NaN</td>\n",
       "      <td>0.10590</td>\n",
       "      <td>malignant</td>\n",
       "    </tr>\n",
       "    <tr>\n",
       "      <th>162</th>\n",
       "      <td>871201</td>\n",
       "      <td>19.59</td>\n",
       "      <td>18.15</td>\n",
       "      <td>130.70</td>\n",
       "      <td>1214.0</td>\n",
       "      <td>0.11200</td>\n",
       "      <td>0.16660</td>\n",
       "      <td>0.25080</td>\n",
       "      <td>0.128600</td>\n",
       "      <td>0.2027</td>\n",
       "      <td>...</td>\n",
       "      <td>26.39</td>\n",
       "      <td>174.90</td>\n",
       "      <td>NaN</td>\n",
       "      <td>0.14380</td>\n",
       "      <td>NaN</td>\n",
       "      <td>0.68100</td>\n",
       "      <td>0.22470</td>\n",
       "      <td>0.3643</td>\n",
       "      <td>0.09223</td>\n",
       "      <td>malignant</td>\n",
       "    </tr>\n",
       "    <tr>\n",
       "      <th>283</th>\n",
       "      <td>8912280</td>\n",
       "      <td>16.24</td>\n",
       "      <td>18.77</td>\n",
       "      <td>108.80</td>\n",
       "      <td>805.1</td>\n",
       "      <td>0.10660</td>\n",
       "      <td>0.18020</td>\n",
       "      <td>0.19480</td>\n",
       "      <td>0.090520</td>\n",
       "      <td>0.1876</td>\n",
       "      <td>...</td>\n",
       "      <td>25.09</td>\n",
       "      <td>126.90</td>\n",
       "      <td>NaN</td>\n",
       "      <td>0.13650</td>\n",
       "      <td>0.4706</td>\n",
       "      <td>0.50260</td>\n",
       "      <td>0.17320</td>\n",
       "      <td>0.2770</td>\n",
       "      <td>0.10630</td>\n",
       "      <td>malignant</td>\n",
       "    </tr>\n",
       "    <tr>\n",
       "      <th>131</th>\n",
       "      <td>8670</td>\n",
       "      <td>15.46</td>\n",
       "      <td>19.48</td>\n",
       "      <td>101.70</td>\n",
       "      <td>748.9</td>\n",
       "      <td>0.10920</td>\n",
       "      <td>0.12230</td>\n",
       "      <td>0.14660</td>\n",
       "      <td>0.080870</td>\n",
       "      <td>0.1931</td>\n",
       "      <td>...</td>\n",
       "      <td>26.00</td>\n",
       "      <td>124.90</td>\n",
       "      <td>1156.0</td>\n",
       "      <td>0.15460</td>\n",
       "      <td>0.2394</td>\n",
       "      <td>0.37910</td>\n",
       "      <td>0.15140</td>\n",
       "      <td>0.2837</td>\n",
       "      <td>0.08019</td>\n",
       "      <td>malignant</td>\n",
       "    </tr>\n",
       "  </tbody>\n",
       "</table>\n",
       "<p>8 rows × 32 columns</p>\n",
       "</div>"
      ],
      "text/plain": [
       "     sample_id  mean_radius  mean_texture  mean_perimeter  mean_area  \\\n",
       "295     891923        13.77         13.27           88.06      582.7   \n",
       "231   88199202        11.32           NaN           71.76      395.7   \n",
       "187     874373        11.71         17.19           74.68      420.3   \n",
       "491   91376702        17.85         13.23          114.60      992.1   \n",
       "25      852631        17.14         16.40          116.00      912.7   \n",
       "162     871201        19.59         18.15          130.70     1214.0   \n",
       "283    8912280        16.24         18.77          108.80      805.1   \n",
       "131       8670        15.46         19.48          101.70      748.9   \n",
       "\n",
       "     mean_smoothness  mean_compactness  mean_concavity  mean_concave_points  \\\n",
       "295          0.09198           0.06221         0.01063             0.019170   \n",
       "231          0.06883           0.03813             NaN             0.003125   \n",
       "187          0.09774           0.06141         0.03809                  NaN   \n",
       "491          0.07838           0.06217         0.04445             0.041780   \n",
       "25           0.11860           0.22760         0.22290             0.140100   \n",
       "162          0.11200           0.16660         0.25080             0.128600   \n",
       "283          0.10660           0.18020         0.19480             0.090520   \n",
       "131          0.10920           0.12230         0.14660             0.080870   \n",
       "\n",
       "     mean_symmetry  ...  worst_texture  worst_perimeter  worst_area  \\\n",
       "295         0.1592  ...          16.93            94.17       661.1   \n",
       "231         0.1869  ...            NaN            79.82       452.3   \n",
       "187         0.1516  ...          21.39            84.42       521.5   \n",
       "491         0.1220  ...          18.42              NaN         NaN   \n",
       "25          0.3040  ...          21.40              NaN      1461.0   \n",
       "162         0.2027  ...          26.39           174.90         NaN   \n",
       "283         0.1876  ...          25.09           126.90         NaN   \n",
       "131         0.1931  ...          26.00           124.90      1156.0   \n",
       "\n",
       "     worst_smoothness  worst_compactness  worst_concavity  \\\n",
       "295           0.11700             0.1072          0.03732   \n",
       "231           0.09203             0.1432          0.10890   \n",
       "187           0.13230             0.1040          0.15210   \n",
       "491           0.09862                NaN          0.10480   \n",
       "25            0.15450             0.3949              NaN   \n",
       "162           0.14380                NaN          0.68100   \n",
       "283           0.13650             0.4706          0.50260   \n",
       "131           0.15460             0.2394          0.37910   \n",
       "\n",
       "     worst_concave_points  worst_symmetry  worst_fractal_dimension  diagnosis  \n",
       "295               0.05802             NaN                  0.06794     benign  \n",
       "231               0.02083             NaN                      NaN     benign  \n",
       "187               0.10990          0.2572                  0.07097     benign  \n",
       "491                   NaN          0.1783                  0.05871     benign  \n",
       "25                0.25500             NaN                  0.10590  malignant  \n",
       "162               0.22470          0.3643                  0.09223  malignant  \n",
       "283               0.17320          0.2770                  0.10630  malignant  \n",
       "131               0.15140          0.2837                  0.08019  malignant  \n",
       "\n",
       "[8 rows x 32 columns]"
      ]
     },
     "execution_count": 13,
     "metadata": {},
     "output_type": "execute_result"
    }
   ],
   "source": [
    "# Amostra com quantidades iguais por classe\n",
    "# 4 amostras aleatórias por classe\n",
    "# group_keys=False\n",
    "# df.groupby('diagnosis', group_keys=False).apply(lambda x: x.sample(4))\n",
    "df.groupby('diagnosis',group_keys=False).sample(4)"
   ]
  },
  {
   "cell_type": "code",
   "execution_count": 15,
   "metadata": {
    "colab": {
     "base_uri": "https://localhost:8080/"
    },
    "id": "LZf8vfnrBFxd",
    "outputId": "f78ec480-3ff1-47ba-c9d6-7f940d370959"
   },
   "outputs": [
    {
     "name": "stdout",
     "output_type": "stream",
     "text": [
      "diagnosis\n",
      "benign       316\n",
      "malignant    189\n",
      "Name: count, dtype: int64\n"
     ]
    }
   ],
   "source": [
    "print(df['diagnosis'].value_counts())"
   ]
  },
  {
   "cell_type": "code",
   "execution_count": 18,
   "metadata": {
    "colab": {
     "base_uri": "https://localhost:8080/"
    },
    "id": "4TKSads3C-Dp",
    "outputId": "40015200-9fab-42b1-b593-f852d54b611a"
   },
   "outputs": [
    {
     "name": "stdout",
     "output_type": "stream",
     "text": [
      "diagnosis\n",
      "benign       55.536028\n",
      "malignant    33.216169\n",
      "Name: count, dtype: float64\n"
     ]
    }
   ],
   "source": [
    "print((df['diagnosis'].value_counts()) / len(df) * 100)"
   ]
  },
  {
   "cell_type": "code",
   "execution_count": 19,
   "metadata": {
    "colab": {
     "base_uri": "https://localhost:8080/"
    },
    "id": "UhxdKeXaCCCR",
    "outputId": "69ffdf31-a1d4-4007-8dbd-64e5b5c4a625"
   },
   "outputs": [
    {
     "data": {
      "text/plain": [
       "diagnosis\n",
       "benign       190\n",
       "malignant    113\n",
       "Name: count, dtype: int64"
      ]
     },
     "execution_count": 19,
     "metadata": {},
     "output_type": "execute_result"
    }
   ],
   "source": [
    "# Amostragem Proporcional (Estratificada)\n",
    "# Exemplo baseado em 60% das amostras\n",
    "df.groupby('diagnosis',group_keys=False)['diagnosis'].sample(frac=0.6).value_counts()"
   ]
  },
  {
   "cell_type": "code",
   "execution_count": 20,
   "metadata": {
    "colab": {
     "base_uri": "https://localhost:8080/",
     "height": 175
    },
    "id": "hGNOJXTm8ekT",
    "outputId": "6188d255-7694-4fd3-af2a-1d3ba39b7ccb"
   },
   "outputs": [
    {
     "data": {
      "text/html": [
       "<div>\n",
       "<style scoped>\n",
       "    .dataframe tbody tr th:only-of-type {\n",
       "        vertical-align: middle;\n",
       "    }\n",
       "\n",
       "    .dataframe tbody tr th {\n",
       "        vertical-align: top;\n",
       "    }\n",
       "\n",
       "    .dataframe thead tr th {\n",
       "        text-align: left;\n",
       "    }\n",
       "</style>\n",
       "<table border=\"1\" class=\"dataframe\">\n",
       "  <thead>\n",
       "    <tr>\n",
       "      <th></th>\n",
       "      <th>diagnosis</th>\n",
       "      <th colspan=\"2\" halign=\"left\">mean_area</th>\n",
       "      <th colspan=\"2\" halign=\"left\">worst_area</th>\n",
       "    </tr>\n",
       "    <tr>\n",
       "      <th></th>\n",
       "      <th></th>\n",
       "      <th>mean</th>\n",
       "      <th>std</th>\n",
       "      <th>mean</th>\n",
       "      <th>std</th>\n",
       "    </tr>\n",
       "  </thead>\n",
       "  <tbody>\n",
       "    <tr>\n",
       "      <th>0</th>\n",
       "      <td>benign</td>\n",
       "      <td>464.033684</td>\n",
       "      <td>134.705060</td>\n",
       "      <td>557.475524</td>\n",
       "      <td>162.800566</td>\n",
       "    </tr>\n",
       "    <tr>\n",
       "      <th>1</th>\n",
       "      <td>malignant</td>\n",
       "      <td>990.943558</td>\n",
       "      <td>367.001705</td>\n",
       "      <td>1440.750303</td>\n",
       "      <td>595.849372</td>\n",
       "    </tr>\n",
       "  </tbody>\n",
       "</table>\n",
       "</div>"
      ],
      "text/plain": [
       "   diagnosis   mean_area               worst_area            \n",
       "                    mean         std         mean         std\n",
       "0     benign  464.033684  134.705060   557.475524  162.800566\n",
       "1  malignant  990.943558  367.001705  1440.750303  595.849372"
      ]
     },
     "execution_count": 20,
     "metadata": {},
     "output_type": "execute_result"
    }
   ],
   "source": [
    "df.groupby('diagnosis', as_index=False)[['mean_area', 'worst_area']].agg(['mean','std'])"
   ]
  },
  {
   "cell_type": "markdown",
   "metadata": {
    "id": "inxS2tEI62ZA"
   },
   "source": [
    "## 2) Limpeza dos Dados"
   ]
  },
  {
   "cell_type": "markdown",
   "metadata": {
    "id": "nmhDxjpe62ZA"
   },
   "source": [
    "### Dados Faltantes"
   ]
  },
  {
   "cell_type": "markdown",
   "metadata": {
    "id": "pSXQRLCV62ZA"
   },
   "source": [
    "Missing Data ou Missing Values são valores ausentes mostrados como NaN que significa \"Not a Number\"\n",
    "\n",
    "#### A sintaxe Python usada:\n",
    "\n",
    "- Para selecionar NaN: pd.isnull()\n",
    "- Para substituir valores NaN: df.fillna()\n",
    "- Para substituir NaN pela média: df.fillna(df.mean(), inplace=True)\n",
    "- Para substituir valores presentes por outros valores: `pd.replace(\"valor\",\"novo_valor\")\n",
    "- Para remover os registros NaN: df.dropna(inplace=True)"
   ]
  },
  {
   "cell_type": "code",
   "execution_count": 25,
   "metadata": {
    "colab": {
     "base_uri": "https://localhost:8080/"
    },
    "id": "ZLdJd7MvE7L_",
    "outputId": "6720a414-a830-4d57-cca7-3fd836f6812f"
   },
   "outputs": [
    {
     "data": {
      "text/plain": [
       "sample_id                   0\n",
       "mean_radius                42\n",
       "mean_texture               48\n",
       "mean_perimeter             61\n",
       "mean_area                  67\n",
       "mean_smoothness            46\n",
       "mean_compactness           59\n",
       "mean_concavity             67\n",
       "mean_concave_points        55\n",
       "mean_symmetry              50\n",
       "mean_fractal_dimension     56\n",
       "radius_error               58\n",
       "texture_error              56\n",
       "perimeter_error            64\n",
       "area_error                 60\n",
       "smoothness_error           54\n",
       "compactness_error          60\n",
       "concavity_error            59\n",
       "concave_points_error       45\n",
       "symmetry_error             58\n",
       "fractal_dimension_error    52\n",
       "worst_radius               47\n",
       "worst_texture              58\n",
       "worst_perimeter            66\n",
       "worst_area                 60\n",
       "worst_smoothness           63\n",
       "worst_compactness          53\n",
       "worst_concavity            50\n",
       "worst_concave_points       52\n",
       "worst_symmetry             59\n",
       "worst_fractal_dimension    75\n",
       "diagnosis                  64\n",
       "dtype: int64"
      ]
     },
     "execution_count": 25,
     "metadata": {},
     "output_type": "execute_result"
    }
   ],
   "source": [
    "df.isnull().sum()"
   ]
  },
  {
   "cell_type": "code",
   "execution_count": 26,
   "metadata": {
    "colab": {
     "base_uri": "https://localhost:8080/"
    },
    "id": "8ptDMtPvE-d4",
    "outputId": "56cf374e-6975-422a-d3ee-8f8381702e24"
   },
   "outputs": [
    {
     "data": {
      "text/plain": [
       "64"
      ]
     },
     "execution_count": 26,
     "metadata": {},
     "output_type": "execute_result"
    }
   ],
   "source": [
    "df['diagnosis'].isnull().sum()"
   ]
  },
  {
   "cell_type": "code",
   "execution_count": 27,
   "metadata": {
    "id": "ql4pg0vR62ZC"
   },
   "outputs": [],
   "source": [
    "#Remove os dados faltantes em diagnosis\n",
    "df.dropna(subset=['diagnosis'],inplace=True)"
   ]
  },
  {
   "cell_type": "code",
   "execution_count": 28,
   "metadata": {
    "colab": {
     "base_uri": "https://localhost:8080/"
    },
    "id": "mkYWhvR5FFDJ",
    "outputId": "9b00201a-40f8-4a62-9243-986bef313c5b"
   },
   "outputs": [
    {
     "data": {
      "text/plain": [
       "0"
      ]
     },
     "execution_count": 28,
     "metadata": {},
     "output_type": "execute_result"
    }
   ],
   "source": [
    "df['diagnosis'].isnull().sum()"
   ]
  },
  {
   "cell_type": "code",
   "execution_count": 29,
   "metadata": {
    "id": "Afe6xJQUFW1p"
   },
   "outputs": [],
   "source": [
    "# Obtem o nome das colunas com NaN\n",
    "# Deixa no formato list\n",
    "nan_columns = df.columns[df.isna().any()].tolist()"
   ]
  },
  {
   "cell_type": "code",
   "execution_count": 30,
   "metadata": {
    "colab": {
     "base_uri": "https://localhost:8080/"
    },
    "id": "yg7m6ZikG_aI",
    "outputId": "3748f591-f915-4ec6-8fb2-419d87bd0ff1"
   },
   "outputs": [
    {
     "name": "stdout",
     "output_type": "stream",
     "text": [
      "14.199702355460387\n",
      "19.27627155172414\n",
      "92.82754966887418\n",
      "655.7441964285715\n",
      "0.09656095032397409\n",
      "0.10429558758314857\n",
      "0.09061060135135138\n",
      "0.05012960352422907\n",
      "0.18145119305856833\n",
      "0.06304136563876651\n",
      "0.4074896929824561\n",
      "1.205546799116998\n",
      "2.9253336283185836\n",
      "40.40882926829268\n",
      "0.007074840611353712\n",
      "0.026135179600886918\n",
      "0.032873957743362825\n",
      "0.012027144708423324\n",
      "0.020362975770925107\n",
      "0.003854444857768052\n",
      "16.408450216450216\n",
      "25.57175824175824\n",
      "107.61477876106196\n",
      "880.6248337028826\n",
      "0.13211443458980043\n",
      "0.25396089324618737\n",
      "0.2738400715835141\n",
      "0.11536521710526315\n",
      "0.2903896247240618\n",
      "0.08413929061784897\n"
     ]
    }
   ],
   "source": [
    "# Percorre cada coluna calculando a média\n",
    "# Substitui todos os NaN pela média\n",
    "for col in nan_columns:\n",
    "  media = df[col].mean()\n",
    "  print(media)\n",
    "  df[col].fillna(media, inplace=True)"
   ]
  },
  {
   "cell_type": "code",
   "execution_count": 35,
   "metadata": {
    "colab": {
     "base_uri": "https://localhost:8080/"
    },
    "id": "uWTVr9NmHVcu",
    "outputId": "4e1af181-705c-4c3e-8b01-91bbc02179a8"
   },
   "outputs": [
    {
     "data": {
      "text/plain": [
       "sample_id                  0\n",
       "mean_radius                0\n",
       "mean_texture               0\n",
       "mean_perimeter             0\n",
       "mean_area                  0\n",
       "mean_smoothness            0\n",
       "mean_compactness           0\n",
       "mean_concavity             0\n",
       "mean_concave_points        0\n",
       "mean_symmetry              0\n",
       "mean_fractal_dimension     0\n",
       "radius_error               0\n",
       "texture_error              0\n",
       "perimeter_error            0\n",
       "area_error                 0\n",
       "smoothness_error           0\n",
       "compactness_error          0\n",
       "concavity_error            0\n",
       "concave_points_error       0\n",
       "symmetry_error             0\n",
       "fractal_dimension_error    0\n",
       "worst_radius               0\n",
       "worst_texture              0\n",
       "worst_perimeter            0\n",
       "worst_area                 0\n",
       "worst_smoothness           0\n",
       "worst_compactness          0\n",
       "worst_concavity            0\n",
       "worst_concave_points       0\n",
       "worst_symmetry             0\n",
       "worst_fractal_dimension    0\n",
       "diagnosis                  0\n",
       "dtype: int64"
      ]
     },
     "execution_count": 35,
     "metadata": {},
     "output_type": "execute_result"
    }
   ],
   "source": [
    "df.isnull().sum()"
   ]
  },
  {
   "cell_type": "code",
   "execution_count": 36,
   "metadata": {
    "colab": {
     "base_uri": "https://localhost:8080/",
     "height": 444
    },
    "id": "8sbr5X3GJrGn",
    "outputId": "60e5d381-41a5-4e0e-86e3-ba0dbc24b1df"
   },
   "outputs": [
    {
     "data": {
      "text/html": [
       "<div>\n",
       "<style scoped>\n",
       "    .dataframe tbody tr th:only-of-type {\n",
       "        vertical-align: middle;\n",
       "    }\n",
       "\n",
       "    .dataframe tbody tr th {\n",
       "        vertical-align: top;\n",
       "    }\n",
       "\n",
       "    .dataframe thead th {\n",
       "        text-align: right;\n",
       "    }\n",
       "</style>\n",
       "<table border=\"1\" class=\"dataframe\">\n",
       "  <thead>\n",
       "    <tr style=\"text-align: right;\">\n",
       "      <th></th>\n",
       "      <th>mean_radius</th>\n",
       "      <th>mean_texture</th>\n",
       "      <th>mean_perimeter</th>\n",
       "      <th>mean_area</th>\n",
       "      <th>mean_smoothness</th>\n",
       "      <th>mean_compactness</th>\n",
       "      <th>mean_concavity</th>\n",
       "      <th>mean_concave_points</th>\n",
       "      <th>mean_symmetry</th>\n",
       "      <th>mean_fractal_dimension</th>\n",
       "      <th>...</th>\n",
       "      <th>worst_radius</th>\n",
       "      <th>worst_texture</th>\n",
       "      <th>worst_perimeter</th>\n",
       "      <th>worst_area</th>\n",
       "      <th>worst_smoothness</th>\n",
       "      <th>worst_compactness</th>\n",
       "      <th>worst_concavity</th>\n",
       "      <th>worst_concave_points</th>\n",
       "      <th>worst_symmetry</th>\n",
       "      <th>worst_fractal_dimension</th>\n",
       "    </tr>\n",
       "  </thead>\n",
       "  <tbody>\n",
       "    <tr>\n",
       "      <th>0</th>\n",
       "      <td>17.990000</td>\n",
       "      <td>10.38</td>\n",
       "      <td>122.80</td>\n",
       "      <td>655.744196</td>\n",
       "      <td>0.1184</td>\n",
       "      <td>0.277600</td>\n",
       "      <td>0.300100</td>\n",
       "      <td>0.14710</td>\n",
       "      <td>0.181451</td>\n",
       "      <td>0.078710</td>\n",
       "      <td>...</td>\n",
       "      <td>25.38</td>\n",
       "      <td>17.33</td>\n",
       "      <td>184.60</td>\n",
       "      <td>2019.000000</td>\n",
       "      <td>0.162200</td>\n",
       "      <td>0.6656</td>\n",
       "      <td>0.27384</td>\n",
       "      <td>0.265400</td>\n",
       "      <td>0.46010</td>\n",
       "      <td>0.118900</td>\n",
       "    </tr>\n",
       "    <tr>\n",
       "      <th>2</th>\n",
       "      <td>19.690000</td>\n",
       "      <td>21.25</td>\n",
       "      <td>130.00</td>\n",
       "      <td>1203.000000</td>\n",
       "      <td>0.1096</td>\n",
       "      <td>0.104296</td>\n",
       "      <td>0.090611</td>\n",
       "      <td>0.12790</td>\n",
       "      <td>0.206900</td>\n",
       "      <td>0.059990</td>\n",
       "      <td>...</td>\n",
       "      <td>23.57</td>\n",
       "      <td>25.53</td>\n",
       "      <td>152.50</td>\n",
       "      <td>1709.000000</td>\n",
       "      <td>0.144400</td>\n",
       "      <td>0.4245</td>\n",
       "      <td>0.45040</td>\n",
       "      <td>0.243000</td>\n",
       "      <td>0.29039</td>\n",
       "      <td>0.087580</td>\n",
       "    </tr>\n",
       "    <tr>\n",
       "      <th>3</th>\n",
       "      <td>11.420000</td>\n",
       "      <td>20.38</td>\n",
       "      <td>77.58</td>\n",
       "      <td>386.100000</td>\n",
       "      <td>0.1425</td>\n",
       "      <td>0.283900</td>\n",
       "      <td>0.090611</td>\n",
       "      <td>0.10520</td>\n",
       "      <td>0.259700</td>\n",
       "      <td>0.097440</td>\n",
       "      <td>...</td>\n",
       "      <td>14.91</td>\n",
       "      <td>26.50</td>\n",
       "      <td>98.87</td>\n",
       "      <td>567.700000</td>\n",
       "      <td>0.209800</td>\n",
       "      <td>0.8663</td>\n",
       "      <td>0.68690</td>\n",
       "      <td>0.257500</td>\n",
       "      <td>0.66380</td>\n",
       "      <td>0.173000</td>\n",
       "    </tr>\n",
       "    <tr>\n",
       "      <th>4</th>\n",
       "      <td>20.290000</td>\n",
       "      <td>14.34</td>\n",
       "      <td>135.10</td>\n",
       "      <td>1297.000000</td>\n",
       "      <td>0.1003</td>\n",
       "      <td>0.132800</td>\n",
       "      <td>0.090611</td>\n",
       "      <td>0.10430</td>\n",
       "      <td>0.180900</td>\n",
       "      <td>0.058830</td>\n",
       "      <td>...</td>\n",
       "      <td>22.54</td>\n",
       "      <td>16.67</td>\n",
       "      <td>152.20</td>\n",
       "      <td>1575.000000</td>\n",
       "      <td>0.137400</td>\n",
       "      <td>0.2050</td>\n",
       "      <td>0.40000</td>\n",
       "      <td>0.162500</td>\n",
       "      <td>0.23640</td>\n",
       "      <td>0.076780</td>\n",
       "    </tr>\n",
       "    <tr>\n",
       "      <th>5</th>\n",
       "      <td>12.450000</td>\n",
       "      <td>15.70</td>\n",
       "      <td>82.57</td>\n",
       "      <td>477.100000</td>\n",
       "      <td>0.1278</td>\n",
       "      <td>0.170000</td>\n",
       "      <td>0.157800</td>\n",
       "      <td>0.08089</td>\n",
       "      <td>0.208700</td>\n",
       "      <td>0.076130</td>\n",
       "      <td>...</td>\n",
       "      <td>15.47</td>\n",
       "      <td>23.75</td>\n",
       "      <td>103.40</td>\n",
       "      <td>741.600000</td>\n",
       "      <td>0.179100</td>\n",
       "      <td>0.5249</td>\n",
       "      <td>0.53550</td>\n",
       "      <td>0.174100</td>\n",
       "      <td>0.39850</td>\n",
       "      <td>0.124400</td>\n",
       "    </tr>\n",
       "    <tr>\n",
       "      <th>...</th>\n",
       "      <td>...</td>\n",
       "      <td>...</td>\n",
       "      <td>...</td>\n",
       "      <td>...</td>\n",
       "      <td>...</td>\n",
       "      <td>...</td>\n",
       "      <td>...</td>\n",
       "      <td>...</td>\n",
       "      <td>...</td>\n",
       "      <td>...</td>\n",
       "      <td>...</td>\n",
       "      <td>...</td>\n",
       "      <td>...</td>\n",
       "      <td>...</td>\n",
       "      <td>...</td>\n",
       "      <td>...</td>\n",
       "      <td>...</td>\n",
       "      <td>...</td>\n",
       "      <td>...</td>\n",
       "      <td>...</td>\n",
       "      <td>...</td>\n",
       "    </tr>\n",
       "    <tr>\n",
       "      <th>562</th>\n",
       "      <td>15.220000</td>\n",
       "      <td>30.62</td>\n",
       "      <td>103.40</td>\n",
       "      <td>655.744196</td>\n",
       "      <td>0.1048</td>\n",
       "      <td>0.208700</td>\n",
       "      <td>0.255000</td>\n",
       "      <td>0.09429</td>\n",
       "      <td>0.212800</td>\n",
       "      <td>0.063041</td>\n",
       "      <td>...</td>\n",
       "      <td>17.52</td>\n",
       "      <td>42.79</td>\n",
       "      <td>128.70</td>\n",
       "      <td>915.000000</td>\n",
       "      <td>0.141700</td>\n",
       "      <td>0.7917</td>\n",
       "      <td>1.17000</td>\n",
       "      <td>0.235600</td>\n",
       "      <td>0.40890</td>\n",
       "      <td>0.140900</td>\n",
       "    </tr>\n",
       "    <tr>\n",
       "      <th>563</th>\n",
       "      <td>20.920000</td>\n",
       "      <td>25.09</td>\n",
       "      <td>143.00</td>\n",
       "      <td>1347.000000</td>\n",
       "      <td>0.1099</td>\n",
       "      <td>0.223600</td>\n",
       "      <td>0.317400</td>\n",
       "      <td>0.14740</td>\n",
       "      <td>0.214900</td>\n",
       "      <td>0.068790</td>\n",
       "      <td>...</td>\n",
       "      <td>24.29</td>\n",
       "      <td>29.41</td>\n",
       "      <td>179.10</td>\n",
       "      <td>880.624834</td>\n",
       "      <td>0.132114</td>\n",
       "      <td>0.4186</td>\n",
       "      <td>0.65990</td>\n",
       "      <td>0.254200</td>\n",
       "      <td>0.29290</td>\n",
       "      <td>0.098730</td>\n",
       "    </tr>\n",
       "    <tr>\n",
       "      <th>564</th>\n",
       "      <td>21.560000</td>\n",
       "      <td>22.39</td>\n",
       "      <td>142.00</td>\n",
       "      <td>1479.000000</td>\n",
       "      <td>0.1110</td>\n",
       "      <td>0.115900</td>\n",
       "      <td>0.243900</td>\n",
       "      <td>0.13890</td>\n",
       "      <td>0.172600</td>\n",
       "      <td>0.056230</td>\n",
       "      <td>...</td>\n",
       "      <td>25.45</td>\n",
       "      <td>26.40</td>\n",
       "      <td>166.10</td>\n",
       "      <td>880.624834</td>\n",
       "      <td>0.141000</td>\n",
       "      <td>0.2113</td>\n",
       "      <td>0.41070</td>\n",
       "      <td>0.221600</td>\n",
       "      <td>0.20600</td>\n",
       "      <td>0.084139</td>\n",
       "    </tr>\n",
       "    <tr>\n",
       "      <th>565</th>\n",
       "      <td>20.130000</td>\n",
       "      <td>28.25</td>\n",
       "      <td>131.20</td>\n",
       "      <td>1261.000000</td>\n",
       "      <td>0.0978</td>\n",
       "      <td>0.103400</td>\n",
       "      <td>0.144000</td>\n",
       "      <td>0.09791</td>\n",
       "      <td>0.175200</td>\n",
       "      <td>0.055330</td>\n",
       "      <td>...</td>\n",
       "      <td>23.69</td>\n",
       "      <td>38.25</td>\n",
       "      <td>155.00</td>\n",
       "      <td>1731.000000</td>\n",
       "      <td>0.116600</td>\n",
       "      <td>0.1922</td>\n",
       "      <td>0.32150</td>\n",
       "      <td>0.115365</td>\n",
       "      <td>0.25720</td>\n",
       "      <td>0.066370</td>\n",
       "    </tr>\n",
       "    <tr>\n",
       "      <th>567</th>\n",
       "      <td>14.199702</td>\n",
       "      <td>29.33</td>\n",
       "      <td>140.10</td>\n",
       "      <td>1265.000000</td>\n",
       "      <td>0.1178</td>\n",
       "      <td>0.277000</td>\n",
       "      <td>0.351400</td>\n",
       "      <td>0.15200</td>\n",
       "      <td>0.239700</td>\n",
       "      <td>0.070160</td>\n",
       "      <td>...</td>\n",
       "      <td>25.74</td>\n",
       "      <td>39.42</td>\n",
       "      <td>184.60</td>\n",
       "      <td>1821.000000</td>\n",
       "      <td>0.165000</td>\n",
       "      <td>0.8681</td>\n",
       "      <td>0.93870</td>\n",
       "      <td>0.265000</td>\n",
       "      <td>0.40870</td>\n",
       "      <td>0.124000</td>\n",
       "    </tr>\n",
       "  </tbody>\n",
       "</table>\n",
       "<p>505 rows × 30 columns</p>\n",
       "</div>"
      ],
      "text/plain": [
       "     mean_radius  mean_texture  mean_perimeter    mean_area  mean_smoothness  \\\n",
       "0      17.990000         10.38          122.80   655.744196           0.1184   \n",
       "2      19.690000         21.25          130.00  1203.000000           0.1096   \n",
       "3      11.420000         20.38           77.58   386.100000           0.1425   \n",
       "4      20.290000         14.34          135.10  1297.000000           0.1003   \n",
       "5      12.450000         15.70           82.57   477.100000           0.1278   \n",
       "..           ...           ...             ...          ...              ...   \n",
       "562    15.220000         30.62          103.40   655.744196           0.1048   \n",
       "563    20.920000         25.09          143.00  1347.000000           0.1099   \n",
       "564    21.560000         22.39          142.00  1479.000000           0.1110   \n",
       "565    20.130000         28.25          131.20  1261.000000           0.0978   \n",
       "567    14.199702         29.33          140.10  1265.000000           0.1178   \n",
       "\n",
       "     mean_compactness  mean_concavity  mean_concave_points  mean_symmetry  \\\n",
       "0            0.277600        0.300100              0.14710       0.181451   \n",
       "2            0.104296        0.090611              0.12790       0.206900   \n",
       "3            0.283900        0.090611              0.10520       0.259700   \n",
       "4            0.132800        0.090611              0.10430       0.180900   \n",
       "5            0.170000        0.157800              0.08089       0.208700   \n",
       "..                ...             ...                  ...            ...   \n",
       "562          0.208700        0.255000              0.09429       0.212800   \n",
       "563          0.223600        0.317400              0.14740       0.214900   \n",
       "564          0.115900        0.243900              0.13890       0.172600   \n",
       "565          0.103400        0.144000              0.09791       0.175200   \n",
       "567          0.277000        0.351400              0.15200       0.239700   \n",
       "\n",
       "     mean_fractal_dimension  ...  worst_radius  worst_texture  \\\n",
       "0                  0.078710  ...         25.38          17.33   \n",
       "2                  0.059990  ...         23.57          25.53   \n",
       "3                  0.097440  ...         14.91          26.50   \n",
       "4                  0.058830  ...         22.54          16.67   \n",
       "5                  0.076130  ...         15.47          23.75   \n",
       "..                      ...  ...           ...            ...   \n",
       "562                0.063041  ...         17.52          42.79   \n",
       "563                0.068790  ...         24.29          29.41   \n",
       "564                0.056230  ...         25.45          26.40   \n",
       "565                0.055330  ...         23.69          38.25   \n",
       "567                0.070160  ...         25.74          39.42   \n",
       "\n",
       "     worst_perimeter   worst_area  worst_smoothness  worst_compactness  \\\n",
       "0             184.60  2019.000000          0.162200             0.6656   \n",
       "2             152.50  1709.000000          0.144400             0.4245   \n",
       "3              98.87   567.700000          0.209800             0.8663   \n",
       "4             152.20  1575.000000          0.137400             0.2050   \n",
       "5             103.40   741.600000          0.179100             0.5249   \n",
       "..               ...          ...               ...                ...   \n",
       "562           128.70   915.000000          0.141700             0.7917   \n",
       "563           179.10   880.624834          0.132114             0.4186   \n",
       "564           166.10   880.624834          0.141000             0.2113   \n",
       "565           155.00  1731.000000          0.116600             0.1922   \n",
       "567           184.60  1821.000000          0.165000             0.8681   \n",
       "\n",
       "     worst_concavity  worst_concave_points  worst_symmetry  \\\n",
       "0            0.27384              0.265400         0.46010   \n",
       "2            0.45040              0.243000         0.29039   \n",
       "3            0.68690              0.257500         0.66380   \n",
       "4            0.40000              0.162500         0.23640   \n",
       "5            0.53550              0.174100         0.39850   \n",
       "..               ...                   ...             ...   \n",
       "562          1.17000              0.235600         0.40890   \n",
       "563          0.65990              0.254200         0.29290   \n",
       "564          0.41070              0.221600         0.20600   \n",
       "565          0.32150              0.115365         0.25720   \n",
       "567          0.93870              0.265000         0.40870   \n",
       "\n",
       "     worst_fractal_dimension  \n",
       "0                   0.118900  \n",
       "2                   0.087580  \n",
       "3                   0.173000  \n",
       "4                   0.076780  \n",
       "5                   0.124400  \n",
       "..                       ...  \n",
       "562                 0.140900  \n",
       "563                 0.098730  \n",
       "564                 0.084139  \n",
       "565                 0.066370  \n",
       "567                 0.124000  \n",
       "\n",
       "[505 rows x 30 columns]"
      ]
     },
     "execution_count": 36,
     "metadata": {},
     "output_type": "execute_result"
    }
   ],
   "source": [
    "df[nan_columns]"
   ]
  },
  {
   "cell_type": "code",
   "execution_count": 37,
   "metadata": {
    "id": "qTRtzu6662ZC"
   },
   "outputs": [],
   "source": [
    "# Forma otimizada\n",
    "df[nan_columns] = df[nan_columns].fillna('mean')\n",
    "# df.fillna(df[nan_columns].mean(), inplace=True)"
   ]
  },
  {
   "cell_type": "code",
   "execution_count": 85,
   "metadata": {
    "colab": {
     "base_uri": "https://localhost:8080/"
    },
    "id": "8QBpuvViDVSY",
    "outputId": "db2b4ee0-b725-4956-c721-fd3f01845497"
   },
   "outputs": [
    {
     "data": {
      "text/plain": [
       "sample_id                  0\n",
       "mean_radius                0\n",
       "mean_texture               0\n",
       "mean_perimeter             0\n",
       "mean_area                  0\n",
       "mean_smoothness            0\n",
       "mean_compactness           0\n",
       "mean_concavity             0\n",
       "mean_concave_points        0\n",
       "mean_symmetry              0\n",
       "mean_fractal_dimension     0\n",
       "radius_error               0\n",
       "texture_error              0\n",
       "perimeter_error            0\n",
       "area_error                 0\n",
       "smoothness_error           0\n",
       "compactness_error          0\n",
       "concavity_error            0\n",
       "concave_points_error       0\n",
       "symmetry_error             0\n",
       "fractal_dimension_error    0\n",
       "worst_radius               0\n",
       "worst_texture              0\n",
       "worst_perimeter            0\n",
       "worst_area                 0\n",
       "worst_smoothness           0\n",
       "worst_compactness          0\n",
       "worst_concavity            0\n",
       "worst_concave_points       0\n",
       "worst_symmetry             0\n",
       "worst_fractal_dimension    0\n",
       "diagnosis                  0\n",
       "dtype: int64"
      ]
     },
     "execution_count": 85,
     "metadata": {},
     "output_type": "execute_result"
    }
   ],
   "source": [
    "df.isnull().sum()"
   ]
  },
  {
   "cell_type": "markdown",
   "metadata": {
    "id": "MT2lYT2Z62ZD"
   },
   "source": [
    "### Dados Faltantes com SimpleImputer\n",
    "* https://scikit-learn.org/stable/modules/generated/sklearn.impute.SimpleImputer.html\n",
    "* https://medium.com/data-hackers/tratamento-e-transforma%C3%A7%C3%A3o-de-dados-nan-uma-vis%C3%A3o-geral-e-pr%C3%A1tica-54efa9fc7a98"
   ]
  },
  {
   "cell_type": "code",
   "execution_count": 38,
   "metadata": {
    "id": "4qMISqvXK8z4"
   },
   "outputs": [],
   "source": [
    "df = pd.read_csv('breast_cancer_missing.csv')"
   ]
  },
  {
   "cell_type": "code",
   "execution_count": 39,
   "metadata": {
    "id": "t-_6BQelLs_w"
   },
   "outputs": [],
   "source": [
    "df.dropna(subset=['diagnosis'],inplace=True)"
   ]
  },
  {
   "cell_type": "code",
   "execution_count": 40,
   "metadata": {
    "id": "3tTAsvLYMjkP"
   },
   "outputs": [],
   "source": [
    "nan_columns = df.columns[df.isna().any()].tolist()"
   ]
  },
  {
   "cell_type": "code",
   "execution_count": 41,
   "metadata": {
    "id": "pyxxEHiM62ZD"
   },
   "outputs": [],
   "source": [
    "imputer = SimpleImputer(missing_values=np.NaN, strategy='median')\n",
    "df[nan_columns] = imputer.fit_transform(df[nan_columns])"
   ]
  },
  {
   "cell_type": "code",
   "execution_count": 42,
   "metadata": {
    "colab": {
     "base_uri": "https://localhost:8080/"
    },
    "id": "obuAa0scMrgf",
    "outputId": "f7640ae7-a56c-4352-cf95-52630d55112b"
   },
   "outputs": [
    {
     "data": {
      "text/plain": [
       "sample_id                  0\n",
       "mean_radius                0\n",
       "mean_texture               0\n",
       "mean_perimeter             0\n",
       "mean_area                  0\n",
       "mean_smoothness            0\n",
       "mean_compactness           0\n",
       "mean_concavity             0\n",
       "mean_concave_points        0\n",
       "mean_symmetry              0\n",
       "mean_fractal_dimension     0\n",
       "radius_error               0\n",
       "texture_error              0\n",
       "perimeter_error            0\n",
       "area_error                 0\n",
       "smoothness_error           0\n",
       "compactness_error          0\n",
       "concavity_error            0\n",
       "concave_points_error       0\n",
       "symmetry_error             0\n",
       "fractal_dimension_error    0\n",
       "worst_radius               0\n",
       "worst_texture              0\n",
       "worst_perimeter            0\n",
       "worst_area                 0\n",
       "worst_smoothness           0\n",
       "worst_compactness          0\n",
       "worst_concavity            0\n",
       "worst_concave_points       0\n",
       "worst_symmetry             0\n",
       "worst_fractal_dimension    0\n",
       "diagnosis                  0\n",
       "dtype: int64"
      ]
     },
     "execution_count": 42,
     "metadata": {},
     "output_type": "execute_result"
    }
   ],
   "source": [
    "df.isnull().sum()"
   ]
  },
  {
   "cell_type": "markdown",
   "metadata": {
    "id": "usH6Zyuk62ZD"
   },
   "source": [
    "## 3) Normalização de atributos numéricos"
   ]
  },
  {
   "cell_type": "markdown",
   "metadata": {
    "id": "Sx6LrLDS62ZD"
   },
   "source": [
    "A normalização por reescala define, através de um valor mínimo e um valor máximo, um novo intervalo onde os valores de um atributo estarão contidos. Tipicamente, tal intervalo é definido como [0, 1]. Portanto, para este caso, a normalização por reescala de um atributo $j$ de um objeto $x_i$ pode ser calculada como:\n",
    "\n",
    "$$ x_{ij} = \\frac{x_{ij} - min_j}{max_j - min_j} $$\n",
    "\n",
    "sendo min_j e max_j , nessa ordem, os valores mínimo e máximo do atributo $j$ para o conjunto de dados considerado.\n",
    "\n",
    "Na normalização por padronização, os diferentes atributos contínuos poderão abranger diferentes intervalos, mas deverão possuir os mesmos valores para alguma medida de posição e de espalhamento/variação.\n",
    "Essas medidas irão consistir na média e no desvio-padrão. Neste caso, o valor normalizado de um atributo $j$\n",
    "em um objeto $i$ é dado por:\n",
    "\n",
    "$$ x_{ij} = \\frac{x_{ij} - \\bar{x}_j}{\\sigma_j} $$"
   ]
  },
  {
   "cell_type": "code",
   "execution_count": 68,
   "metadata": {
    "colab": {
     "base_uri": "https://localhost:8080/"
    },
    "id": "3nglmfwyN4xd",
    "outputId": "1ee5ad6b-d34c-4a93-dc33-0965214dbf7a"
   },
   "outputs": [
    {
     "ename": "AttributeError",
     "evalue": "'numpy.ndarray' object has no attribute 'columns'",
     "output_type": "error",
     "traceback": [
      "\u001b[0;31m---------------------------------------------------------------------------\u001b[0m",
      "\u001b[0;31mAttributeError\u001b[0m                            Traceback (most recent call last)",
      "Cell \u001b[0;32mIn[68], line 1\u001b[0m\n\u001b[0;32m----> 1\u001b[0m scaler_cols \u001b[38;5;241m=\u001b[39m \u001b[43mdf\u001b[49m\u001b[38;5;241;43m.\u001b[39;49m\u001b[43mcolumns\u001b[49m[\u001b[38;5;241m1\u001b[39m:\u001b[38;5;241m31\u001b[39m]\n\u001b[1;32m      2\u001b[0m \u001b[38;5;28mprint\u001b[39m(scaler_cols)\n",
      "\u001b[0;31mAttributeError\u001b[0m: 'numpy.ndarray' object has no attribute 'columns'"
     ]
    }
   ],
   "source": [
    "scaler_cols = df.columns[1:31]\n",
    "print(scaler_cols)"
   ]
  },
  {
   "cell_type": "code",
   "execution_count": 62,
   "metadata": {
    "colab": {
     "base_uri": "https://localhost:8080/",
     "height": 256
    },
    "id": "QXuLGX0DiDi1",
    "outputId": "54faea75-d126-46dc-ce47-b8c72157df11",
    "scrolled": true
   },
   "outputs": [],
   "source": [
    "df.head()"
   ]
  },
  {
   "cell_type": "code",
   "execution_count": 66,
   "metadata": {
    "id": "ZgDNZG1F62ZE"
   },
   "outputs": [],
   "source": [
    "from sklearn.preprocessing import StandardScaler\n",
    "from sklearn.preprocessing import MinMaxScaler\n",
    "\n",
    "scaler = StandardScaler()\n",
    "ajuste = scaler.fit(df[scaler_cols])\n",
    "df[scaler_cols] = ajuste.transform(df[scaler_cols])"
   ]
  },
  {
   "cell_type": "code",
   "execution_count": 67,
   "metadata": {
    "colab": {
     "base_uri": "https://localhost:8080/",
     "height": 256
    },
    "id": "TE4ysMhT62ZF",
    "outputId": "64b7dc1d-196e-4e57-fb6c-1e6ad378e289"
   },
   "outputs": [
    {
     "data": {
      "text/plain": [
       "array([[ 1.10104673, -2.16191834,  1.30504497, ...,  2.39138594,\n",
       "         2.87260703,  2.14983181],\n",
       "       [ 1.58716345,  0.49105367,  1.61241114, ...,  2.03756211,\n",
       "        -0.13875788,  0.24198335],\n",
       "       [-0.77765142,  0.27871829, -0.62538533, ...,  2.26659986,\n",
       "         6.30142218,  5.44531718],\n",
       "       ...,\n",
       "       [ 2.12189184,  0.76928625,  2.12468808, ...,  1.69953397,\n",
       "        -1.40457476, -0.20817629],\n",
       "       [ 1.71298189,  2.19949931,  1.66363883, ..., -0.1998998 ,\n",
       "        -0.54274199, -1.05001747],\n",
       "       [-0.21146842,  2.46308806,  2.04357757, ...,  2.38506766,\n",
       "         2.00740772,  2.46049679]])"
      ]
     },
     "execution_count": 67,
     "metadata": {},
     "output_type": "execute_result"
    }
   ],
   "source": [
    "df"
   ]
  },
  {
   "cell_type": "code",
   "execution_count": 95,
   "metadata": {
    "colab": {
     "base_uri": "https://localhost:8080/"
    },
    "id": "jqXQTfymPSnU",
    "outputId": "cee67f28-6128-4868-e8c2-d39d9a0b144d"
   },
   "outputs": [
    {
     "name": "stdout",
     "output_type": "stream",
     "text": [
      "<class 'pandas.core.frame.DataFrame'>\n",
      "Int64Index: 505 entries, 0 to 567\n",
      "Data columns (total 32 columns):\n",
      " #   Column                   Non-Null Count  Dtype  \n",
      "---  ------                   --------------  -----  \n",
      " 0   sample_id                505 non-null    int64  \n",
      " 1   mean_radius              505 non-null    float64\n",
      " 2   mean_texture             505 non-null    float64\n",
      " 3   mean_perimeter           505 non-null    float64\n",
      " 4   mean_area                505 non-null    float64\n",
      " 5   mean_smoothness          505 non-null    float64\n",
      " 6   mean_compactness         505 non-null    float64\n",
      " 7   mean_concavity           505 non-null    float64\n",
      " 8   mean_concave_points      505 non-null    float64\n",
      " 9   mean_symmetry            505 non-null    float64\n",
      " 10  mean_fractal_dimension   505 non-null    float64\n",
      " 11  radius_error             505 non-null    float64\n",
      " 12  texture_error            505 non-null    float64\n",
      " 13  perimeter_error          505 non-null    float64\n",
      " 14  area_error               505 non-null    float64\n",
      " 15  smoothness_error         505 non-null    float64\n",
      " 16  compactness_error        505 non-null    float64\n",
      " 17  concavity_error          505 non-null    float64\n",
      " 18  concave_points_error     505 non-null    float64\n",
      " 19  symmetry_error           505 non-null    float64\n",
      " 20  fractal_dimension_error  505 non-null    float64\n",
      " 21  worst_radius             505 non-null    float64\n",
      " 22  worst_texture            505 non-null    float64\n",
      " 23  worst_perimeter          505 non-null    float64\n",
      " 24  worst_area               505 non-null    float64\n",
      " 25  worst_smoothness         505 non-null    float64\n",
      " 26  worst_compactness        505 non-null    float64\n",
      " 27  worst_concavity          505 non-null    float64\n",
      " 28  worst_concave_points     505 non-null    float64\n",
      " 29  worst_symmetry           505 non-null    float64\n",
      " 30  worst_fractal_dimension  505 non-null    float64\n",
      " 31  diagnosis                505 non-null    object \n",
      "dtypes: float64(30), int64(1), object(1)\n",
      "memory usage: 130.2+ KB\n"
     ]
    }
   ],
   "source": [
    "df.info()"
   ]
  }
 ],
 "metadata": {
  "colab": {
   "provenance": []
  },
  "kernelspec": {
   "display_name": "Python 3 (ipykernel)",
   "language": "python",
   "name": "python3"
  },
  "language_info": {
   "codemirror_mode": {
    "name": "ipython",
    "version": 3
   },
   "file_extension": ".py",
   "mimetype": "text/x-python",
   "name": "python",
   "nbconvert_exporter": "python",
   "pygments_lexer": "ipython3",
   "version": "3.11.5"
  }
 },
 "nbformat": 4,
 "nbformat_minor": 4
}
