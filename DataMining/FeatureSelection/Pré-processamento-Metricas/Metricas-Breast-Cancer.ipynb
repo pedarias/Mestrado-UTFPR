{
 "cells": [
  {
   "cell_type": "markdown",
   "metadata": {
    "id": "swdsv2ZT62Y6"
   },
   "source": [
    "## Pré-processamento de dados  - Breast Cancer dataset\n",
    "\n",
    "* https://www.kaggle.com/datasets/uciml/breast-cancer-wisconsin-data"
   ]
  },
  {
   "cell_type": "code",
   "execution_count": 1,
   "metadata": {
    "id": "qwlY85FAKHTv"
   },
   "outputs": [],
   "source": [
    "import numpy as np\n",
    "import pandas as pd\n",
    "import matplotlib.pyplot as plt\n",
    "import seaborn as sns\n",
    "from sklearn.model_selection import train_test_split\n",
    "from sklearn.preprocessing import StandardScaler\n",
    "from sklearn.ensemble import RandomForestClassifier"
   ]
  },
  {
   "cell_type": "code",
   "execution_count": 2,
   "metadata": {
    "id": "J89hbLN462ZB"
   },
   "outputs": [],
   "source": [
    "df = pd.read_csv('breast_cancer_missing.csv')"
   ]
  },
  {
   "cell_type": "code",
   "execution_count": 3,
   "metadata": {
    "colab": {
     "base_uri": "https://localhost:8080/"
    },
    "executionInfo": {
     "elapsed": 79,
     "status": "ok",
     "timestamp": 1705949894823,
     "user": {
      "displayName": "DANILO SIPOLI SANCHES",
      "userId": "11160205893438547738"
     },
     "user_tz": 180
    },
    "id": "3pyAZVx162ZB",
    "outputId": "d8828c1f-399f-45b2-ab6b-a98803c3c747"
   },
   "outputs": [
    {
     "name": "stdout",
     "output_type": "stream",
     "text": [
      "<class 'pandas.core.frame.DataFrame'>\n",
      "RangeIndex: 569 entries, 0 to 568\n",
      "Data columns (total 32 columns):\n",
      " #   Column                   Non-Null Count  Dtype  \n",
      "---  ------                   --------------  -----  \n",
      " 0   sample_id                569 non-null    int64  \n",
      " 1   mean_radius              527 non-null    float64\n",
      " 2   mean_texture             521 non-null    float64\n",
      " 3   mean_perimeter           508 non-null    float64\n",
      " 4   mean_area                502 non-null    float64\n",
      " 5   mean_smoothness          523 non-null    float64\n",
      " 6   mean_compactness         510 non-null    float64\n",
      " 7   mean_concavity           502 non-null    float64\n",
      " 8   mean_concave_points      514 non-null    float64\n",
      " 9   mean_symmetry            519 non-null    float64\n",
      " 10  mean_fractal_dimension   513 non-null    float64\n",
      " 11  radius_error             511 non-null    float64\n",
      " 12  texture_error            513 non-null    float64\n",
      " 13  perimeter_error          505 non-null    float64\n",
      " 14  area_error               509 non-null    float64\n",
      " 15  smoothness_error         515 non-null    float64\n",
      " 16  compactness_error        509 non-null    float64\n",
      " 17  concavity_error          510 non-null    float64\n",
      " 18  concave_points_error     524 non-null    float64\n",
      " 19  symmetry_error           511 non-null    float64\n",
      " 20  fractal_dimension_error  517 non-null    float64\n",
      " 21  worst_radius             522 non-null    float64\n",
      " 22  worst_texture            511 non-null    float64\n",
      " 23  worst_perimeter          503 non-null    float64\n",
      " 24  worst_area               509 non-null    float64\n",
      " 25  worst_smoothness         506 non-null    float64\n",
      " 26  worst_compactness        516 non-null    float64\n",
      " 27  worst_concavity          519 non-null    float64\n",
      " 28  worst_concave_points     517 non-null    float64\n",
      " 29  worst_symmetry           510 non-null    float64\n",
      " 30  worst_fractal_dimension  494 non-null    float64\n",
      " 31  diagnosis                505 non-null    object \n",
      "dtypes: float64(30), int64(1), object(1)\n",
      "memory usage: 142.4+ KB\n"
     ]
    }
   ],
   "source": [
    "df.info()"
   ]
  },
  {
   "cell_type": "markdown",
   "metadata": {
    "id": "icBgVjtB8Sgg"
   },
   "source": [
    "## 1) Agrupamento e Amostragem"
   ]
  },
  {
   "cell_type": "code",
   "execution_count": 4,
   "metadata": {
    "colab": {
     "base_uri": "https://localhost:8080/",
     "height": 224
    },
    "executionInfo": {
     "elapsed": 77,
     "status": "ok",
     "timestamp": 1705949894824,
     "user": {
      "displayName": "DANILO SIPOLI SANCHES",
      "userId": "11160205893438547738"
     },
     "user_tz": 180
    },
    "id": "iVENjzNcP80d",
    "outputId": "f2d8b00d-a731-4bfc-d9d5-5edb00de3bd9"
   },
   "outputs": [
    {
     "data": {
      "text/html": [
       "<div>\n",
       "<style scoped>\n",
       "    .dataframe tbody tr th:only-of-type {\n",
       "        vertical-align: middle;\n",
       "    }\n",
       "\n",
       "    .dataframe tbody tr th {\n",
       "        vertical-align: top;\n",
       "    }\n",
       "\n",
       "    .dataframe thead th {\n",
       "        text-align: right;\n",
       "    }\n",
       "</style>\n",
       "<table border=\"1\" class=\"dataframe\">\n",
       "  <thead>\n",
       "    <tr style=\"text-align: right;\">\n",
       "      <th></th>\n",
       "      <th>sample_id</th>\n",
       "      <th>mean_radius</th>\n",
       "      <th>mean_texture</th>\n",
       "      <th>mean_perimeter</th>\n",
       "      <th>mean_area</th>\n",
       "      <th>mean_smoothness</th>\n",
       "      <th>mean_compactness</th>\n",
       "      <th>mean_concavity</th>\n",
       "      <th>mean_concave_points</th>\n",
       "      <th>mean_symmetry</th>\n",
       "      <th>...</th>\n",
       "      <th>worst_texture</th>\n",
       "      <th>worst_perimeter</th>\n",
       "      <th>worst_area</th>\n",
       "      <th>worst_smoothness</th>\n",
       "      <th>worst_compactness</th>\n",
       "      <th>worst_concavity</th>\n",
       "      <th>worst_concave_points</th>\n",
       "      <th>worst_symmetry</th>\n",
       "      <th>worst_fractal_dimension</th>\n",
       "      <th>diagnosis</th>\n",
       "    </tr>\n",
       "  </thead>\n",
       "  <tbody>\n",
       "    <tr>\n",
       "      <th>0</th>\n",
       "      <td>842302</td>\n",
       "      <td>17.990</td>\n",
       "      <td>10.38</td>\n",
       "      <td>122.80</td>\n",
       "      <td>NaN</td>\n",
       "      <td>0.11840</td>\n",
       "      <td>0.27760</td>\n",
       "      <td>0.30010</td>\n",
       "      <td>0.147100</td>\n",
       "      <td>NaN</td>\n",
       "      <td>...</td>\n",
       "      <td>17.33</td>\n",
       "      <td>184.60</td>\n",
       "      <td>2019.0</td>\n",
       "      <td>0.1622</td>\n",
       "      <td>0.6656</td>\n",
       "      <td>NaN</td>\n",
       "      <td>0.26540</td>\n",
       "      <td>0.4601</td>\n",
       "      <td>0.1189</td>\n",
       "      <td>malignant</td>\n",
       "    </tr>\n",
       "    <tr>\n",
       "      <th>114</th>\n",
       "      <td>864496</td>\n",
       "      <td>8.726</td>\n",
       "      <td>15.83</td>\n",
       "      <td>55.84</td>\n",
       "      <td>230.9</td>\n",
       "      <td>0.11500</td>\n",
       "      <td>0.08201</td>\n",
       "      <td>0.04132</td>\n",
       "      <td>0.019240</td>\n",
       "      <td>NaN</td>\n",
       "      <td>...</td>\n",
       "      <td>19.62</td>\n",
       "      <td>64.48</td>\n",
       "      <td>284.4</td>\n",
       "      <td>NaN</td>\n",
       "      <td>0.2364</td>\n",
       "      <td>0.24560</td>\n",
       "      <td>0.10500</td>\n",
       "      <td>NaN</td>\n",
       "      <td>0.1017</td>\n",
       "      <td>benign</td>\n",
       "    </tr>\n",
       "    <tr>\n",
       "      <th>335</th>\n",
       "      <td>89742801</td>\n",
       "      <td>17.060</td>\n",
       "      <td>21.00</td>\n",
       "      <td>111.80</td>\n",
       "      <td>918.6</td>\n",
       "      <td>0.11190</td>\n",
       "      <td>0.10560</td>\n",
       "      <td>0.15080</td>\n",
       "      <td>0.099340</td>\n",
       "      <td>0.1727</td>\n",
       "      <td>...</td>\n",
       "      <td>NaN</td>\n",
       "      <td>143.20</td>\n",
       "      <td>1362.0</td>\n",
       "      <td>0.1449</td>\n",
       "      <td>0.2053</td>\n",
       "      <td>0.39200</td>\n",
       "      <td>0.18270</td>\n",
       "      <td>0.2623</td>\n",
       "      <td>NaN</td>\n",
       "      <td>malignant</td>\n",
       "    </tr>\n",
       "    <tr>\n",
       "      <th>442</th>\n",
       "      <td>90944601</td>\n",
       "      <td>13.780</td>\n",
       "      <td>15.79</td>\n",
       "      <td>88.37</td>\n",
       "      <td>585.9</td>\n",
       "      <td>0.08817</td>\n",
       "      <td>NaN</td>\n",
       "      <td>0.01055</td>\n",
       "      <td>0.009937</td>\n",
       "      <td>NaN</td>\n",
       "      <td>...</td>\n",
       "      <td>17.50</td>\n",
       "      <td>97.90</td>\n",
       "      <td>706.6</td>\n",
       "      <td>0.1072</td>\n",
       "      <td>0.1071</td>\n",
       "      <td>0.03517</td>\n",
       "      <td>0.03312</td>\n",
       "      <td>NaN</td>\n",
       "      <td>0.0681</td>\n",
       "      <td>benign</td>\n",
       "    </tr>\n",
       "  </tbody>\n",
       "</table>\n",
       "<p>4 rows × 32 columns</p>\n",
       "</div>"
      ],
      "text/plain": [
       "     sample_id  mean_radius  mean_texture  mean_perimeter  mean_area  \\\n",
       "0       842302       17.990         10.38          122.80        NaN   \n",
       "114     864496        8.726         15.83           55.84      230.9   \n",
       "335   89742801       17.060         21.00          111.80      918.6   \n",
       "442   90944601       13.780         15.79           88.37      585.9   \n",
       "\n",
       "     mean_smoothness  mean_compactness  mean_concavity  mean_concave_points  \\\n",
       "0            0.11840           0.27760         0.30010             0.147100   \n",
       "114          0.11500           0.08201         0.04132             0.019240   \n",
       "335          0.11190           0.10560         0.15080             0.099340   \n",
       "442          0.08817               NaN         0.01055             0.009937   \n",
       "\n",
       "     mean_symmetry  ...  worst_texture  worst_perimeter  worst_area  \\\n",
       "0              NaN  ...          17.33           184.60      2019.0   \n",
       "114            NaN  ...          19.62            64.48       284.4   \n",
       "335         0.1727  ...            NaN           143.20      1362.0   \n",
       "442            NaN  ...          17.50            97.90       706.6   \n",
       "\n",
       "     worst_smoothness  worst_compactness  worst_concavity  \\\n",
       "0              0.1622             0.6656              NaN   \n",
       "114               NaN             0.2364          0.24560   \n",
       "335            0.1449             0.2053          0.39200   \n",
       "442            0.1072             0.1071          0.03517   \n",
       "\n",
       "     worst_concave_points  worst_symmetry  worst_fractal_dimension  diagnosis  \n",
       "0                 0.26540          0.4601                   0.1189  malignant  \n",
       "114               0.10500             NaN                   0.1017     benign  \n",
       "335               0.18270          0.2623                      NaN  malignant  \n",
       "442               0.03312             NaN                   0.0681     benign  \n",
       "\n",
       "[4 rows x 32 columns]"
      ]
     },
     "execution_count": 4,
     "metadata": {},
     "output_type": "execute_result"
    }
   ],
   "source": [
    "# Amostragem aleatoria\n",
    "df.sample(4)"
   ]
  },
  {
   "cell_type": "code",
   "execution_count": 5,
   "metadata": {
    "colab": {
     "base_uri": "https://localhost:8080/",
     "height": 349
    },
    "executionInfo": {
     "elapsed": 74,
     "status": "ok",
     "timestamp": 1705949894825,
     "user": {
      "displayName": "DANILO SIPOLI SANCHES",
      "userId": "11160205893438547738"
     },
     "user_tz": 180
    },
    "id": "n5vglpk_Bfbq",
    "outputId": "02ca0095-b17e-40bb-8176-607df552ddd7"
   },
   "outputs": [
    {
     "data": {
      "text/html": [
       "<div>\n",
       "<style scoped>\n",
       "    .dataframe tbody tr th:only-of-type {\n",
       "        vertical-align: middle;\n",
       "    }\n",
       "\n",
       "    .dataframe tbody tr th {\n",
       "        vertical-align: top;\n",
       "    }\n",
       "\n",
       "    .dataframe thead th {\n",
       "        text-align: right;\n",
       "    }\n",
       "</style>\n",
       "<table border=\"1\" class=\"dataframe\">\n",
       "  <thead>\n",
       "    <tr style=\"text-align: right;\">\n",
       "      <th></th>\n",
       "      <th>sample_id</th>\n",
       "      <th>mean_radius</th>\n",
       "      <th>mean_texture</th>\n",
       "      <th>mean_perimeter</th>\n",
       "      <th>mean_area</th>\n",
       "      <th>mean_smoothness</th>\n",
       "      <th>mean_compactness</th>\n",
       "      <th>mean_concavity</th>\n",
       "      <th>mean_concave_points</th>\n",
       "      <th>mean_symmetry</th>\n",
       "      <th>...</th>\n",
       "      <th>worst_texture</th>\n",
       "      <th>worst_perimeter</th>\n",
       "      <th>worst_area</th>\n",
       "      <th>worst_smoothness</th>\n",
       "      <th>worst_compactness</th>\n",
       "      <th>worst_concavity</th>\n",
       "      <th>worst_concave_points</th>\n",
       "      <th>worst_symmetry</th>\n",
       "      <th>worst_fractal_dimension</th>\n",
       "      <th>diagnosis</th>\n",
       "    </tr>\n",
       "  </thead>\n",
       "  <tbody>\n",
       "    <tr>\n",
       "      <th>429</th>\n",
       "      <td>90769602</td>\n",
       "      <td>12.72</td>\n",
       "      <td>17.67</td>\n",
       "      <td>80.98</td>\n",
       "      <td>501.3</td>\n",
       "      <td>0.07896</td>\n",
       "      <td>0.04522</td>\n",
       "      <td>0.014020</td>\n",
       "      <td>0.018350</td>\n",
       "      <td>0.1459</td>\n",
       "      <td>...</td>\n",
       "      <td>20.96</td>\n",
       "      <td>88.87</td>\n",
       "      <td>NaN</td>\n",
       "      <td>0.1068</td>\n",
       "      <td>0.09605</td>\n",
       "      <td>0.03469</td>\n",
       "      <td>NaN</td>\n",
       "      <td>0.2165</td>\n",
       "      <td>0.06025</td>\n",
       "      <td>benign</td>\n",
       "    </tr>\n",
       "    <tr>\n",
       "      <th>185</th>\n",
       "      <td>874158</td>\n",
       "      <td>10.08</td>\n",
       "      <td>15.11</td>\n",
       "      <td>63.76</td>\n",
       "      <td>317.5</td>\n",
       "      <td>0.09267</td>\n",
       "      <td>0.04695</td>\n",
       "      <td>0.001597</td>\n",
       "      <td>0.002404</td>\n",
       "      <td>0.1703</td>\n",
       "      <td>...</td>\n",
       "      <td>21.18</td>\n",
       "      <td>75.39</td>\n",
       "      <td>NaN</td>\n",
       "      <td>0.1521</td>\n",
       "      <td>0.10190</td>\n",
       "      <td>0.00692</td>\n",
       "      <td>0.01042</td>\n",
       "      <td>0.2933</td>\n",
       "      <td>0.07697</td>\n",
       "      <td>benign</td>\n",
       "    </tr>\n",
       "    <tr>\n",
       "      <th>513</th>\n",
       "      <td>915940</td>\n",
       "      <td>14.58</td>\n",
       "      <td>13.66</td>\n",
       "      <td>94.29</td>\n",
       "      <td>658.8</td>\n",
       "      <td>0.09832</td>\n",
       "      <td>0.08918</td>\n",
       "      <td>0.082220</td>\n",
       "      <td>0.043490</td>\n",
       "      <td>0.1739</td>\n",
       "      <td>...</td>\n",
       "      <td>NaN</td>\n",
       "      <td>NaN</td>\n",
       "      <td>862.0</td>\n",
       "      <td>0.1223</td>\n",
       "      <td>0.19280</td>\n",
       "      <td>0.24920</td>\n",
       "      <td>NaN</td>\n",
       "      <td>0.2626</td>\n",
       "      <td>0.07048</td>\n",
       "      <td>benign</td>\n",
       "    </tr>\n",
       "    <tr>\n",
       "      <th>511</th>\n",
       "      <td>915664</td>\n",
       "      <td>14.81</td>\n",
       "      <td>14.70</td>\n",
       "      <td>94.66</td>\n",
       "      <td>680.7</td>\n",
       "      <td>0.08472</td>\n",
       "      <td>NaN</td>\n",
       "      <td>0.034160</td>\n",
       "      <td>0.025410</td>\n",
       "      <td>0.1659</td>\n",
       "      <td>...</td>\n",
       "      <td>17.58</td>\n",
       "      <td>101.70</td>\n",
       "      <td>760.2</td>\n",
       "      <td>0.1139</td>\n",
       "      <td>0.10110</td>\n",
       "      <td>0.11010</td>\n",
       "      <td>0.07955</td>\n",
       "      <td>0.2334</td>\n",
       "      <td>NaN</td>\n",
       "      <td>benign</td>\n",
       "    </tr>\n",
       "    <tr>\n",
       "      <th>535</th>\n",
       "      <td>919555</td>\n",
       "      <td>20.55</td>\n",
       "      <td>20.86</td>\n",
       "      <td>137.80</td>\n",
       "      <td>1308.0</td>\n",
       "      <td>0.10460</td>\n",
       "      <td>0.17390</td>\n",
       "      <td>0.208500</td>\n",
       "      <td>0.132200</td>\n",
       "      <td>0.2127</td>\n",
       "      <td>...</td>\n",
       "      <td>25.48</td>\n",
       "      <td>NaN</td>\n",
       "      <td>1809.0</td>\n",
       "      <td>0.1268</td>\n",
       "      <td>0.31350</td>\n",
       "      <td>0.44330</td>\n",
       "      <td>0.21480</td>\n",
       "      <td>0.3077</td>\n",
       "      <td>0.07569</td>\n",
       "      <td>malignant</td>\n",
       "    </tr>\n",
       "    <tr>\n",
       "      <th>353</th>\n",
       "      <td>9010018</td>\n",
       "      <td>NaN</td>\n",
       "      <td>25.74</td>\n",
       "      <td>98.00</td>\n",
       "      <td>716.6</td>\n",
       "      <td>NaN</td>\n",
       "      <td>0.09769</td>\n",
       "      <td>0.123500</td>\n",
       "      <td>0.065530</td>\n",
       "      <td>0.1647</td>\n",
       "      <td>...</td>\n",
       "      <td>33.22</td>\n",
       "      <td>121.20</td>\n",
       "      <td>NaN</td>\n",
       "      <td>0.1660</td>\n",
       "      <td>0.23560</td>\n",
       "      <td>0.40290</td>\n",
       "      <td>0.15260</td>\n",
       "      <td>0.2654</td>\n",
       "      <td>0.09438</td>\n",
       "      <td>malignant</td>\n",
       "    </tr>\n",
       "    <tr>\n",
       "      <th>0</th>\n",
       "      <td>842302</td>\n",
       "      <td>17.99</td>\n",
       "      <td>10.38</td>\n",
       "      <td>122.80</td>\n",
       "      <td>NaN</td>\n",
       "      <td>0.11840</td>\n",
       "      <td>0.27760</td>\n",
       "      <td>0.300100</td>\n",
       "      <td>0.147100</td>\n",
       "      <td>NaN</td>\n",
       "      <td>...</td>\n",
       "      <td>17.33</td>\n",
       "      <td>184.60</td>\n",
       "      <td>2019.0</td>\n",
       "      <td>0.1622</td>\n",
       "      <td>0.66560</td>\n",
       "      <td>NaN</td>\n",
       "      <td>0.26540</td>\n",
       "      <td>0.4601</td>\n",
       "      <td>0.11890</td>\n",
       "      <td>malignant</td>\n",
       "    </tr>\n",
       "    <tr>\n",
       "      <th>126</th>\n",
       "      <td>866083</td>\n",
       "      <td>13.61</td>\n",
       "      <td>24.69</td>\n",
       "      <td>87.76</td>\n",
       "      <td>572.6</td>\n",
       "      <td>0.09258</td>\n",
       "      <td>0.07862</td>\n",
       "      <td>NaN</td>\n",
       "      <td>0.030850</td>\n",
       "      <td>0.1761</td>\n",
       "      <td>...</td>\n",
       "      <td>35.64</td>\n",
       "      <td>113.20</td>\n",
       "      <td>848.7</td>\n",
       "      <td>0.1471</td>\n",
       "      <td>0.28840</td>\n",
       "      <td>0.37960</td>\n",
       "      <td>0.13290</td>\n",
       "      <td>0.3470</td>\n",
       "      <td>0.07900</td>\n",
       "      <td>malignant</td>\n",
       "    </tr>\n",
       "  </tbody>\n",
       "</table>\n",
       "<p>8 rows × 32 columns</p>\n",
       "</div>"
      ],
      "text/plain": [
       "     sample_id  mean_radius  mean_texture  mean_perimeter  mean_area  \\\n",
       "429   90769602        12.72         17.67           80.98      501.3   \n",
       "185     874158        10.08         15.11           63.76      317.5   \n",
       "513     915940        14.58         13.66           94.29      658.8   \n",
       "511     915664        14.81         14.70           94.66      680.7   \n",
       "535     919555        20.55         20.86          137.80     1308.0   \n",
       "353    9010018          NaN         25.74           98.00      716.6   \n",
       "0       842302        17.99         10.38          122.80        NaN   \n",
       "126     866083        13.61         24.69           87.76      572.6   \n",
       "\n",
       "     mean_smoothness  mean_compactness  mean_concavity  mean_concave_points  \\\n",
       "429          0.07896           0.04522        0.014020             0.018350   \n",
       "185          0.09267           0.04695        0.001597             0.002404   \n",
       "513          0.09832           0.08918        0.082220             0.043490   \n",
       "511          0.08472               NaN        0.034160             0.025410   \n",
       "535          0.10460           0.17390        0.208500             0.132200   \n",
       "353              NaN           0.09769        0.123500             0.065530   \n",
       "0            0.11840           0.27760        0.300100             0.147100   \n",
       "126          0.09258           0.07862             NaN             0.030850   \n",
       "\n",
       "     mean_symmetry  ...  worst_texture  worst_perimeter  worst_area  \\\n",
       "429         0.1459  ...          20.96            88.87         NaN   \n",
       "185         0.1703  ...          21.18            75.39         NaN   \n",
       "513         0.1739  ...            NaN              NaN       862.0   \n",
       "511         0.1659  ...          17.58           101.70       760.2   \n",
       "535         0.2127  ...          25.48              NaN      1809.0   \n",
       "353         0.1647  ...          33.22           121.20         NaN   \n",
       "0              NaN  ...          17.33           184.60      2019.0   \n",
       "126         0.1761  ...          35.64           113.20       848.7   \n",
       "\n",
       "     worst_smoothness  worst_compactness  worst_concavity  \\\n",
       "429            0.1068            0.09605          0.03469   \n",
       "185            0.1521            0.10190          0.00692   \n",
       "513            0.1223            0.19280          0.24920   \n",
       "511            0.1139            0.10110          0.11010   \n",
       "535            0.1268            0.31350          0.44330   \n",
       "353            0.1660            0.23560          0.40290   \n",
       "0              0.1622            0.66560              NaN   \n",
       "126            0.1471            0.28840          0.37960   \n",
       "\n",
       "     worst_concave_points  worst_symmetry  worst_fractal_dimension  diagnosis  \n",
       "429                   NaN          0.2165                  0.06025     benign  \n",
       "185               0.01042          0.2933                  0.07697     benign  \n",
       "513                   NaN          0.2626                  0.07048     benign  \n",
       "511               0.07955          0.2334                      NaN     benign  \n",
       "535               0.21480          0.3077                  0.07569  malignant  \n",
       "353               0.15260          0.2654                  0.09438  malignant  \n",
       "0                 0.26540          0.4601                  0.11890  malignant  \n",
       "126               0.13290          0.3470                  0.07900  malignant  \n",
       "\n",
       "[8 rows x 32 columns]"
      ]
     },
     "execution_count": 5,
     "metadata": {},
     "output_type": "execute_result"
    }
   ],
   "source": [
    "# Amostra com quantidades iguais por classe\n",
    "# 4 amostras aleatórias por classe\n",
    "# group_keys=False\n",
    "# df.groupby('diagnosis', group_keys=False).apply(lambda x: x.sample(4))\n",
    "df.groupby('diagnosis',group_keys=False).sample(4)"
   ]
  },
  {
   "cell_type": "code",
   "execution_count": 6,
   "metadata": {
    "colab": {
     "base_uri": "https://localhost:8080/"
    },
    "executionInfo": {
     "elapsed": 71,
     "status": "ok",
     "timestamp": 1705949894825,
     "user": {
      "displayName": "DANILO SIPOLI SANCHES",
      "userId": "11160205893438547738"
     },
     "user_tz": 180
    },
    "id": "LZf8vfnrBFxd",
    "outputId": "411a6b7e-56d3-4a5e-a1f3-6a4a4bd42ed1"
   },
   "outputs": [
    {
     "name": "stdout",
     "output_type": "stream",
     "text": [
      "diagnosis\n",
      "benign       316\n",
      "malignant    189\n",
      "Name: count, dtype: int64\n"
     ]
    }
   ],
   "source": [
    "print(df['diagnosis'].value_counts())"
   ]
  },
  {
   "cell_type": "code",
   "execution_count": 7,
   "metadata": {
    "colab": {
     "base_uri": "https://localhost:8080/"
    },
    "executionInfo": {
     "elapsed": 64,
     "status": "ok",
     "timestamp": 1705949894825,
     "user": {
      "displayName": "DANILO SIPOLI SANCHES",
      "userId": "11160205893438547738"
     },
     "user_tz": 180
    },
    "id": "4TKSads3C-Dp",
    "outputId": "707103cf-af46-4ab0-c699-b75631c4a834"
   },
   "outputs": [
    {
     "name": "stdout",
     "output_type": "stream",
     "text": [
      "diagnosis\n",
      "benign       55.536028\n",
      "malignant    33.216169\n",
      "Name: count, dtype: float64\n"
     ]
    }
   ],
   "source": [
    "print((df['diagnosis'].value_counts()) / len(df) * 100)"
   ]
  },
  {
   "cell_type": "code",
   "execution_count": 8,
   "metadata": {
    "colab": {
     "base_uri": "https://localhost:8080/"
    },
    "executionInfo": {
     "elapsed": 60,
     "status": "ok",
     "timestamp": 1705949894826,
     "user": {
      "displayName": "DANILO SIPOLI SANCHES",
      "userId": "11160205893438547738"
     },
     "user_tz": 180
    },
    "id": "UhxdKeXaCCCR",
    "outputId": "34da50a3-3ea0-49c4-8d41-d6b3da5ed0d1"
   },
   "outputs": [
    {
     "data": {
      "text/plain": [
       "diagnosis\n",
       "benign       190\n",
       "malignant    113\n",
       "Name: count, dtype: int64"
      ]
     },
     "execution_count": 8,
     "metadata": {},
     "output_type": "execute_result"
    }
   ],
   "source": [
    "# Amostragem Proporcional (Estratificada)\n",
    "# Exemplo baseado em 60% das amostras\n",
    "df.groupby('diagnosis',group_keys=False)['diagnosis'].sample(frac=0.6).value_counts()"
   ]
  },
  {
   "cell_type": "code",
   "execution_count": 9,
   "metadata": {
    "colab": {
     "base_uri": "https://localhost:8080/",
     "height": 174
    },
    "executionInfo": {
     "elapsed": 56,
     "status": "ok",
     "timestamp": 1705949894826,
     "user": {
      "displayName": "DANILO SIPOLI SANCHES",
      "userId": "11160205893438547738"
     },
     "user_tz": 180
    },
    "id": "hGNOJXTm8ekT",
    "outputId": "3f5019a1-68fe-4eb5-823a-c550b007c24c"
   },
   "outputs": [
    {
     "data": {
      "text/html": [
       "<div>\n",
       "<style scoped>\n",
       "    .dataframe tbody tr th:only-of-type {\n",
       "        vertical-align: middle;\n",
       "    }\n",
       "\n",
       "    .dataframe tbody tr th {\n",
       "        vertical-align: top;\n",
       "    }\n",
       "\n",
       "    .dataframe thead tr th {\n",
       "        text-align: left;\n",
       "    }\n",
       "</style>\n",
       "<table border=\"1\" class=\"dataframe\">\n",
       "  <thead>\n",
       "    <tr>\n",
       "      <th></th>\n",
       "      <th>diagnosis</th>\n",
       "      <th colspan=\"2\" halign=\"left\">mean_area</th>\n",
       "      <th colspan=\"2\" halign=\"left\">worst_area</th>\n",
       "    </tr>\n",
       "    <tr>\n",
       "      <th></th>\n",
       "      <th></th>\n",
       "      <th>mean</th>\n",
       "      <th>std</th>\n",
       "      <th>mean</th>\n",
       "      <th>std</th>\n",
       "    </tr>\n",
       "  </thead>\n",
       "  <tbody>\n",
       "    <tr>\n",
       "      <th>0</th>\n",
       "      <td>benign</td>\n",
       "      <td>464.033684</td>\n",
       "      <td>134.705060</td>\n",
       "      <td>557.475524</td>\n",
       "      <td>162.800566</td>\n",
       "    </tr>\n",
       "    <tr>\n",
       "      <th>1</th>\n",
       "      <td>malignant</td>\n",
       "      <td>990.943558</td>\n",
       "      <td>367.001705</td>\n",
       "      <td>1440.750303</td>\n",
       "      <td>595.849372</td>\n",
       "    </tr>\n",
       "  </tbody>\n",
       "</table>\n",
       "</div>"
      ],
      "text/plain": [
       "   diagnosis   mean_area               worst_area            \n",
       "                    mean         std         mean         std\n",
       "0     benign  464.033684  134.705060   557.475524  162.800566\n",
       "1  malignant  990.943558  367.001705  1440.750303  595.849372"
      ]
     },
     "execution_count": 9,
     "metadata": {},
     "output_type": "execute_result"
    }
   ],
   "source": [
    "df.groupby('diagnosis', as_index=False)[['mean_area', 'worst_area']].agg(['mean','std'])"
   ]
  },
  {
   "cell_type": "markdown",
   "metadata": {
    "id": "inxS2tEI62ZA"
   },
   "source": [
    "## 2) Limpeza dos Dados"
   ]
  },
  {
   "cell_type": "markdown",
   "metadata": {
    "id": "nmhDxjpe62ZA"
   },
   "source": [
    "### Dados Faltantes"
   ]
  },
  {
   "cell_type": "markdown",
   "metadata": {
    "id": "pSXQRLCV62ZA"
   },
   "source": [
    "Missing Data ou Missing Values são valores ausentes mostrados como NaN que significa \"Not a Number\"\n",
    "\n",
    "#### A sintaxe Python usada:\n",
    "\n",
    "- Para selecionar NaN: pd.isnull()\n",
    "- Para substituir valores NaN: df.fillna()\n",
    "- Para substituir NaN pela média: df.fillna(df.mean(), inplace=True)\n",
    "- Para substituir valores presentes por outros valores: `pd.replace(\"valor\",\"novo_valor\")\n",
    "- Para remover os registros NaN: df.dropna(inplace=True)"
   ]
  },
  {
   "cell_type": "code",
   "execution_count": 10,
   "metadata": {
    "colab": {
     "base_uri": "https://localhost:8080/"
    },
    "executionInfo": {
     "elapsed": 53,
     "status": "ok",
     "timestamp": 1705949894827,
     "user": {
      "displayName": "DANILO SIPOLI SANCHES",
      "userId": "11160205893438547738"
     },
     "user_tz": 180
    },
    "id": "ZLdJd7MvE7L_",
    "outputId": "a9fd9d8e-9d33-4387-d98c-9f9488af8d34"
   },
   "outputs": [
    {
     "data": {
      "text/plain": [
       "sample_id                   0\n",
       "mean_radius                42\n",
       "mean_texture               48\n",
       "mean_perimeter             61\n",
       "mean_area                  67\n",
       "mean_smoothness            46\n",
       "mean_compactness           59\n",
       "mean_concavity             67\n",
       "mean_concave_points        55\n",
       "mean_symmetry              50\n",
       "mean_fractal_dimension     56\n",
       "radius_error               58\n",
       "texture_error              56\n",
       "perimeter_error            64\n",
       "area_error                 60\n",
       "smoothness_error           54\n",
       "compactness_error          60\n",
       "concavity_error            59\n",
       "concave_points_error       45\n",
       "symmetry_error             58\n",
       "fractal_dimension_error    52\n",
       "worst_radius               47\n",
       "worst_texture              58\n",
       "worst_perimeter            66\n",
       "worst_area                 60\n",
       "worst_smoothness           63\n",
       "worst_compactness          53\n",
       "worst_concavity            50\n",
       "worst_concave_points       52\n",
       "worst_symmetry             59\n",
       "worst_fractal_dimension    75\n",
       "diagnosis                  64\n",
       "dtype: int64"
      ]
     },
     "execution_count": 10,
     "metadata": {},
     "output_type": "execute_result"
    }
   ],
   "source": [
    "df.isnull().sum()"
   ]
  },
  {
   "cell_type": "code",
   "execution_count": 11,
   "metadata": {
    "colab": {
     "base_uri": "https://localhost:8080/"
    },
    "executionInfo": {
     "elapsed": 46,
     "status": "ok",
     "timestamp": 1705949894827,
     "user": {
      "displayName": "DANILO SIPOLI SANCHES",
      "userId": "11160205893438547738"
     },
     "user_tz": 180
    },
    "id": "8ptDMtPvE-d4",
    "outputId": "e012d3d2-09fd-4875-d092-ce19a34aaee2"
   },
   "outputs": [
    {
     "data": {
      "text/plain": [
       "64"
      ]
     },
     "execution_count": 11,
     "metadata": {},
     "output_type": "execute_result"
    }
   ],
   "source": [
    "df['diagnosis'].isnull().sum()"
   ]
  },
  {
   "cell_type": "code",
   "execution_count": 12,
   "metadata": {
    "id": "ql4pg0vR62ZC"
   },
   "outputs": [],
   "source": [
    "#Remove os dados faltantes em diagnosis\n",
    "df.dropna(subset=['diagnosis'],inplace=True)"
   ]
  },
  {
   "cell_type": "code",
   "execution_count": 13,
   "metadata": {
    "colab": {
     "base_uri": "https://localhost:8080/"
    },
    "executionInfo": {
     "elapsed": 41,
     "status": "ok",
     "timestamp": 1705949894828,
     "user": {
      "displayName": "DANILO SIPOLI SANCHES",
      "userId": "11160205893438547738"
     },
     "user_tz": 180
    },
    "id": "mkYWhvR5FFDJ",
    "outputId": "e45697a1-29c6-4f41-87d3-867dc97f7b2a"
   },
   "outputs": [
    {
     "data": {
      "text/plain": [
       "0"
      ]
     },
     "execution_count": 13,
     "metadata": {},
     "output_type": "execute_result"
    }
   ],
   "source": [
    "df['diagnosis'].isnull().sum()"
   ]
  },
  {
   "cell_type": "code",
   "execution_count": 16,
   "metadata": {
    "id": "Afe6xJQUFW1p"
   },
   "outputs": [
    {
     "name": "stdout",
     "output_type": "stream",
     "text": [
      "['mean_radius', 'mean_texture', 'mean_perimeter', 'mean_area', 'mean_smoothness', 'mean_compactness', 'mean_concavity', 'mean_concave_points', 'mean_symmetry', 'mean_fractal_dimension', 'radius_error', 'texture_error', 'perimeter_error', 'area_error', 'smoothness_error', 'compactness_error', 'concavity_error', 'concave_points_error', 'symmetry_error', 'fractal_dimension_error', 'worst_radius', 'worst_texture', 'worst_perimeter', 'worst_area', 'worst_smoothness', 'worst_compactness', 'worst_concavity', 'worst_concave_points', 'worst_symmetry', 'worst_fractal_dimension']\n"
     ]
    }
   ],
   "source": [
    "# Obtem o nome das colunas com NaN\n",
    "# Deixa no formato list\n",
    "nan_columns = df.columns[df.isna().any()].tolist()\n",
    "print(f\"{nan_columns}\")"
   ]
  },
  {
   "cell_type": "code",
   "execution_count": 17,
   "metadata": {
    "colab": {
     "base_uri": "https://localhost:8080/"
    },
    "executionInfo": {
     "elapsed": 717,
     "status": "ok",
     "timestamp": 1705949895510,
     "user": {
      "displayName": "DANILO SIPOLI SANCHES",
      "userId": "11160205893438547738"
     },
     "user_tz": 180
    },
    "id": "yg7m6ZikG_aI",
    "outputId": "25d45774-6f46-431a-8f97-ec00bc7863d2"
   },
   "outputs": [
    {
     "name": "stdout",
     "output_type": "stream",
     "text": [
      "14.199702355460387\n",
      "19.27627155172414\n",
      "92.82754966887418\n",
      "655.7441964285715\n",
      "0.09656095032397409\n",
      "0.10429558758314857\n",
      "0.09061060135135138\n",
      "0.05012960352422907\n",
      "0.18145119305856833\n",
      "0.06304136563876651\n",
      "0.4074896929824561\n",
      "1.205546799116998\n",
      "2.9253336283185836\n",
      "40.40882926829268\n",
      "0.007074840611353712\n",
      "0.026135179600886918\n",
      "0.032873957743362825\n",
      "0.012027144708423324\n",
      "0.020362975770925107\n",
      "0.003854444857768052\n",
      "16.408450216450216\n",
      "25.57175824175824\n",
      "107.61477876106196\n",
      "880.6248337028826\n",
      "0.13211443458980043\n",
      "0.25396089324618737\n",
      "0.2738400715835141\n",
      "0.11536521710526315\n",
      "0.2903896247240618\n",
      "0.08413929061784897\n"
     ]
    }
   ],
   "source": [
    "# Percorre cada coluna calculando a média\n",
    "# Substitui todos os NaN pela média\n",
    "for col in nan_columns:\n",
    "  media = df[col].mean()\n",
    "  print(media)\n",
    "  df[col].fillna(media, inplace=True)"
   ]
  },
  {
   "cell_type": "code",
   "execution_count": 18,
   "metadata": {
    "colab": {
     "base_uri": "https://localhost:8080/"
    },
    "executionInfo": {
     "elapsed": 19,
     "status": "ok",
     "timestamp": 1705949895511,
     "user": {
      "displayName": "DANILO SIPOLI SANCHES",
      "userId": "11160205893438547738"
     },
     "user_tz": 180
    },
    "id": "uWTVr9NmHVcu",
    "outputId": "83c8a480-ae04-4aaa-d9dd-cca2f68f06b1"
   },
   "outputs": [
    {
     "data": {
      "text/plain": [
       "sample_id                  0\n",
       "mean_radius                0\n",
       "mean_texture               0\n",
       "mean_perimeter             0\n",
       "mean_area                  0\n",
       "mean_smoothness            0\n",
       "mean_compactness           0\n",
       "mean_concavity             0\n",
       "mean_concave_points        0\n",
       "mean_symmetry              0\n",
       "mean_fractal_dimension     0\n",
       "radius_error               0\n",
       "texture_error              0\n",
       "perimeter_error            0\n",
       "area_error                 0\n",
       "smoothness_error           0\n",
       "compactness_error          0\n",
       "concavity_error            0\n",
       "concave_points_error       0\n",
       "symmetry_error             0\n",
       "fractal_dimension_error    0\n",
       "worst_radius               0\n",
       "worst_texture              0\n",
       "worst_perimeter            0\n",
       "worst_area                 0\n",
       "worst_smoothness           0\n",
       "worst_compactness          0\n",
       "worst_concavity            0\n",
       "worst_concave_points       0\n",
       "worst_symmetry             0\n",
       "worst_fractal_dimension    0\n",
       "diagnosis                  0\n",
       "dtype: int64"
      ]
     },
     "execution_count": 18,
     "metadata": {},
     "output_type": "execute_result"
    }
   ],
   "source": [
    "df.isnull().sum()"
   ]
  },
  {
   "cell_type": "code",
   "execution_count": 19,
   "metadata": {
    "colab": {
     "base_uri": "https://localhost:8080/",
     "height": 443
    },
    "executionInfo": {
     "elapsed": 17,
     "status": "ok",
     "timestamp": 1705949895511,
     "user": {
      "displayName": "DANILO SIPOLI SANCHES",
      "userId": "11160205893438547738"
     },
     "user_tz": 180
    },
    "id": "8sbr5X3GJrGn",
    "outputId": "d531d171-1714-412e-e4dd-abb72d348985"
   },
   "outputs": [
    {
     "data": {
      "text/html": [
       "<div>\n",
       "<style scoped>\n",
       "    .dataframe tbody tr th:only-of-type {\n",
       "        vertical-align: middle;\n",
       "    }\n",
       "\n",
       "    .dataframe tbody tr th {\n",
       "        vertical-align: top;\n",
       "    }\n",
       "\n",
       "    .dataframe thead th {\n",
       "        text-align: right;\n",
       "    }\n",
       "</style>\n",
       "<table border=\"1\" class=\"dataframe\">\n",
       "  <thead>\n",
       "    <tr style=\"text-align: right;\">\n",
       "      <th></th>\n",
       "      <th>mean_radius</th>\n",
       "      <th>mean_texture</th>\n",
       "      <th>mean_perimeter</th>\n",
       "      <th>mean_area</th>\n",
       "      <th>mean_smoothness</th>\n",
       "      <th>mean_compactness</th>\n",
       "      <th>mean_concavity</th>\n",
       "      <th>mean_concave_points</th>\n",
       "      <th>mean_symmetry</th>\n",
       "      <th>mean_fractal_dimension</th>\n",
       "      <th>...</th>\n",
       "      <th>worst_radius</th>\n",
       "      <th>worst_texture</th>\n",
       "      <th>worst_perimeter</th>\n",
       "      <th>worst_area</th>\n",
       "      <th>worst_smoothness</th>\n",
       "      <th>worst_compactness</th>\n",
       "      <th>worst_concavity</th>\n",
       "      <th>worst_concave_points</th>\n",
       "      <th>worst_symmetry</th>\n",
       "      <th>worst_fractal_dimension</th>\n",
       "    </tr>\n",
       "  </thead>\n",
       "  <tbody>\n",
       "    <tr>\n",
       "      <th>0</th>\n",
       "      <td>17.990000</td>\n",
       "      <td>10.38</td>\n",
       "      <td>122.80</td>\n",
       "      <td>655.744196</td>\n",
       "      <td>0.1184</td>\n",
       "      <td>0.277600</td>\n",
       "      <td>0.300100</td>\n",
       "      <td>0.14710</td>\n",
       "      <td>0.181451</td>\n",
       "      <td>0.078710</td>\n",
       "      <td>...</td>\n",
       "      <td>25.38</td>\n",
       "      <td>17.33</td>\n",
       "      <td>184.60</td>\n",
       "      <td>2019.000000</td>\n",
       "      <td>0.162200</td>\n",
       "      <td>0.6656</td>\n",
       "      <td>0.27384</td>\n",
       "      <td>0.265400</td>\n",
       "      <td>0.46010</td>\n",
       "      <td>0.118900</td>\n",
       "    </tr>\n",
       "    <tr>\n",
       "      <th>2</th>\n",
       "      <td>19.690000</td>\n",
       "      <td>21.25</td>\n",
       "      <td>130.00</td>\n",
       "      <td>1203.000000</td>\n",
       "      <td>0.1096</td>\n",
       "      <td>0.104296</td>\n",
       "      <td>0.090611</td>\n",
       "      <td>0.12790</td>\n",
       "      <td>0.206900</td>\n",
       "      <td>0.059990</td>\n",
       "      <td>...</td>\n",
       "      <td>23.57</td>\n",
       "      <td>25.53</td>\n",
       "      <td>152.50</td>\n",
       "      <td>1709.000000</td>\n",
       "      <td>0.144400</td>\n",
       "      <td>0.4245</td>\n",
       "      <td>0.45040</td>\n",
       "      <td>0.243000</td>\n",
       "      <td>0.29039</td>\n",
       "      <td>0.087580</td>\n",
       "    </tr>\n",
       "    <tr>\n",
       "      <th>3</th>\n",
       "      <td>11.420000</td>\n",
       "      <td>20.38</td>\n",
       "      <td>77.58</td>\n",
       "      <td>386.100000</td>\n",
       "      <td>0.1425</td>\n",
       "      <td>0.283900</td>\n",
       "      <td>0.090611</td>\n",
       "      <td>0.10520</td>\n",
       "      <td>0.259700</td>\n",
       "      <td>0.097440</td>\n",
       "      <td>...</td>\n",
       "      <td>14.91</td>\n",
       "      <td>26.50</td>\n",
       "      <td>98.87</td>\n",
       "      <td>567.700000</td>\n",
       "      <td>0.209800</td>\n",
       "      <td>0.8663</td>\n",
       "      <td>0.68690</td>\n",
       "      <td>0.257500</td>\n",
       "      <td>0.66380</td>\n",
       "      <td>0.173000</td>\n",
       "    </tr>\n",
       "    <tr>\n",
       "      <th>4</th>\n",
       "      <td>20.290000</td>\n",
       "      <td>14.34</td>\n",
       "      <td>135.10</td>\n",
       "      <td>1297.000000</td>\n",
       "      <td>0.1003</td>\n",
       "      <td>0.132800</td>\n",
       "      <td>0.090611</td>\n",
       "      <td>0.10430</td>\n",
       "      <td>0.180900</td>\n",
       "      <td>0.058830</td>\n",
       "      <td>...</td>\n",
       "      <td>22.54</td>\n",
       "      <td>16.67</td>\n",
       "      <td>152.20</td>\n",
       "      <td>1575.000000</td>\n",
       "      <td>0.137400</td>\n",
       "      <td>0.2050</td>\n",
       "      <td>0.40000</td>\n",
       "      <td>0.162500</td>\n",
       "      <td>0.23640</td>\n",
       "      <td>0.076780</td>\n",
       "    </tr>\n",
       "    <tr>\n",
       "      <th>5</th>\n",
       "      <td>12.450000</td>\n",
       "      <td>15.70</td>\n",
       "      <td>82.57</td>\n",
       "      <td>477.100000</td>\n",
       "      <td>0.1278</td>\n",
       "      <td>0.170000</td>\n",
       "      <td>0.157800</td>\n",
       "      <td>0.08089</td>\n",
       "      <td>0.208700</td>\n",
       "      <td>0.076130</td>\n",
       "      <td>...</td>\n",
       "      <td>15.47</td>\n",
       "      <td>23.75</td>\n",
       "      <td>103.40</td>\n",
       "      <td>741.600000</td>\n",
       "      <td>0.179100</td>\n",
       "      <td>0.5249</td>\n",
       "      <td>0.53550</td>\n",
       "      <td>0.174100</td>\n",
       "      <td>0.39850</td>\n",
       "      <td>0.124400</td>\n",
       "    </tr>\n",
       "    <tr>\n",
       "      <th>...</th>\n",
       "      <td>...</td>\n",
       "      <td>...</td>\n",
       "      <td>...</td>\n",
       "      <td>...</td>\n",
       "      <td>...</td>\n",
       "      <td>...</td>\n",
       "      <td>...</td>\n",
       "      <td>...</td>\n",
       "      <td>...</td>\n",
       "      <td>...</td>\n",
       "      <td>...</td>\n",
       "      <td>...</td>\n",
       "      <td>...</td>\n",
       "      <td>...</td>\n",
       "      <td>...</td>\n",
       "      <td>...</td>\n",
       "      <td>...</td>\n",
       "      <td>...</td>\n",
       "      <td>...</td>\n",
       "      <td>...</td>\n",
       "      <td>...</td>\n",
       "    </tr>\n",
       "    <tr>\n",
       "      <th>562</th>\n",
       "      <td>15.220000</td>\n",
       "      <td>30.62</td>\n",
       "      <td>103.40</td>\n",
       "      <td>655.744196</td>\n",
       "      <td>0.1048</td>\n",
       "      <td>0.208700</td>\n",
       "      <td>0.255000</td>\n",
       "      <td>0.09429</td>\n",
       "      <td>0.212800</td>\n",
       "      <td>0.063041</td>\n",
       "      <td>...</td>\n",
       "      <td>17.52</td>\n",
       "      <td>42.79</td>\n",
       "      <td>128.70</td>\n",
       "      <td>915.000000</td>\n",
       "      <td>0.141700</td>\n",
       "      <td>0.7917</td>\n",
       "      <td>1.17000</td>\n",
       "      <td>0.235600</td>\n",
       "      <td>0.40890</td>\n",
       "      <td>0.140900</td>\n",
       "    </tr>\n",
       "    <tr>\n",
       "      <th>563</th>\n",
       "      <td>20.920000</td>\n",
       "      <td>25.09</td>\n",
       "      <td>143.00</td>\n",
       "      <td>1347.000000</td>\n",
       "      <td>0.1099</td>\n",
       "      <td>0.223600</td>\n",
       "      <td>0.317400</td>\n",
       "      <td>0.14740</td>\n",
       "      <td>0.214900</td>\n",
       "      <td>0.068790</td>\n",
       "      <td>...</td>\n",
       "      <td>24.29</td>\n",
       "      <td>29.41</td>\n",
       "      <td>179.10</td>\n",
       "      <td>880.624834</td>\n",
       "      <td>0.132114</td>\n",
       "      <td>0.4186</td>\n",
       "      <td>0.65990</td>\n",
       "      <td>0.254200</td>\n",
       "      <td>0.29290</td>\n",
       "      <td>0.098730</td>\n",
       "    </tr>\n",
       "    <tr>\n",
       "      <th>564</th>\n",
       "      <td>21.560000</td>\n",
       "      <td>22.39</td>\n",
       "      <td>142.00</td>\n",
       "      <td>1479.000000</td>\n",
       "      <td>0.1110</td>\n",
       "      <td>0.115900</td>\n",
       "      <td>0.243900</td>\n",
       "      <td>0.13890</td>\n",
       "      <td>0.172600</td>\n",
       "      <td>0.056230</td>\n",
       "      <td>...</td>\n",
       "      <td>25.45</td>\n",
       "      <td>26.40</td>\n",
       "      <td>166.10</td>\n",
       "      <td>880.624834</td>\n",
       "      <td>0.141000</td>\n",
       "      <td>0.2113</td>\n",
       "      <td>0.41070</td>\n",
       "      <td>0.221600</td>\n",
       "      <td>0.20600</td>\n",
       "      <td>0.084139</td>\n",
       "    </tr>\n",
       "    <tr>\n",
       "      <th>565</th>\n",
       "      <td>20.130000</td>\n",
       "      <td>28.25</td>\n",
       "      <td>131.20</td>\n",
       "      <td>1261.000000</td>\n",
       "      <td>0.0978</td>\n",
       "      <td>0.103400</td>\n",
       "      <td>0.144000</td>\n",
       "      <td>0.09791</td>\n",
       "      <td>0.175200</td>\n",
       "      <td>0.055330</td>\n",
       "      <td>...</td>\n",
       "      <td>23.69</td>\n",
       "      <td>38.25</td>\n",
       "      <td>155.00</td>\n",
       "      <td>1731.000000</td>\n",
       "      <td>0.116600</td>\n",
       "      <td>0.1922</td>\n",
       "      <td>0.32150</td>\n",
       "      <td>0.115365</td>\n",
       "      <td>0.25720</td>\n",
       "      <td>0.066370</td>\n",
       "    </tr>\n",
       "    <tr>\n",
       "      <th>567</th>\n",
       "      <td>14.199702</td>\n",
       "      <td>29.33</td>\n",
       "      <td>140.10</td>\n",
       "      <td>1265.000000</td>\n",
       "      <td>0.1178</td>\n",
       "      <td>0.277000</td>\n",
       "      <td>0.351400</td>\n",
       "      <td>0.15200</td>\n",
       "      <td>0.239700</td>\n",
       "      <td>0.070160</td>\n",
       "      <td>...</td>\n",
       "      <td>25.74</td>\n",
       "      <td>39.42</td>\n",
       "      <td>184.60</td>\n",
       "      <td>1821.000000</td>\n",
       "      <td>0.165000</td>\n",
       "      <td>0.8681</td>\n",
       "      <td>0.93870</td>\n",
       "      <td>0.265000</td>\n",
       "      <td>0.40870</td>\n",
       "      <td>0.124000</td>\n",
       "    </tr>\n",
       "  </tbody>\n",
       "</table>\n",
       "<p>505 rows × 30 columns</p>\n",
       "</div>"
      ],
      "text/plain": [
       "     mean_radius  mean_texture  mean_perimeter    mean_area  mean_smoothness  \\\n",
       "0      17.990000         10.38          122.80   655.744196           0.1184   \n",
       "2      19.690000         21.25          130.00  1203.000000           0.1096   \n",
       "3      11.420000         20.38           77.58   386.100000           0.1425   \n",
       "4      20.290000         14.34          135.10  1297.000000           0.1003   \n",
       "5      12.450000         15.70           82.57   477.100000           0.1278   \n",
       "..           ...           ...             ...          ...              ...   \n",
       "562    15.220000         30.62          103.40   655.744196           0.1048   \n",
       "563    20.920000         25.09          143.00  1347.000000           0.1099   \n",
       "564    21.560000         22.39          142.00  1479.000000           0.1110   \n",
       "565    20.130000         28.25          131.20  1261.000000           0.0978   \n",
       "567    14.199702         29.33          140.10  1265.000000           0.1178   \n",
       "\n",
       "     mean_compactness  mean_concavity  mean_concave_points  mean_symmetry  \\\n",
       "0            0.277600        0.300100              0.14710       0.181451   \n",
       "2            0.104296        0.090611              0.12790       0.206900   \n",
       "3            0.283900        0.090611              0.10520       0.259700   \n",
       "4            0.132800        0.090611              0.10430       0.180900   \n",
       "5            0.170000        0.157800              0.08089       0.208700   \n",
       "..                ...             ...                  ...            ...   \n",
       "562          0.208700        0.255000              0.09429       0.212800   \n",
       "563          0.223600        0.317400              0.14740       0.214900   \n",
       "564          0.115900        0.243900              0.13890       0.172600   \n",
       "565          0.103400        0.144000              0.09791       0.175200   \n",
       "567          0.277000        0.351400              0.15200       0.239700   \n",
       "\n",
       "     mean_fractal_dimension  ...  worst_radius  worst_texture  \\\n",
       "0                  0.078710  ...         25.38          17.33   \n",
       "2                  0.059990  ...         23.57          25.53   \n",
       "3                  0.097440  ...         14.91          26.50   \n",
       "4                  0.058830  ...         22.54          16.67   \n",
       "5                  0.076130  ...         15.47          23.75   \n",
       "..                      ...  ...           ...            ...   \n",
       "562                0.063041  ...         17.52          42.79   \n",
       "563                0.068790  ...         24.29          29.41   \n",
       "564                0.056230  ...         25.45          26.40   \n",
       "565                0.055330  ...         23.69          38.25   \n",
       "567                0.070160  ...         25.74          39.42   \n",
       "\n",
       "     worst_perimeter   worst_area  worst_smoothness  worst_compactness  \\\n",
       "0             184.60  2019.000000          0.162200             0.6656   \n",
       "2             152.50  1709.000000          0.144400             0.4245   \n",
       "3              98.87   567.700000          0.209800             0.8663   \n",
       "4             152.20  1575.000000          0.137400             0.2050   \n",
       "5             103.40   741.600000          0.179100             0.5249   \n",
       "..               ...          ...               ...                ...   \n",
       "562           128.70   915.000000          0.141700             0.7917   \n",
       "563           179.10   880.624834          0.132114             0.4186   \n",
       "564           166.10   880.624834          0.141000             0.2113   \n",
       "565           155.00  1731.000000          0.116600             0.1922   \n",
       "567           184.60  1821.000000          0.165000             0.8681   \n",
       "\n",
       "     worst_concavity  worst_concave_points  worst_symmetry  \\\n",
       "0            0.27384              0.265400         0.46010   \n",
       "2            0.45040              0.243000         0.29039   \n",
       "3            0.68690              0.257500         0.66380   \n",
       "4            0.40000              0.162500         0.23640   \n",
       "5            0.53550              0.174100         0.39850   \n",
       "..               ...                   ...             ...   \n",
       "562          1.17000              0.235600         0.40890   \n",
       "563          0.65990              0.254200         0.29290   \n",
       "564          0.41070              0.221600         0.20600   \n",
       "565          0.32150              0.115365         0.25720   \n",
       "567          0.93870              0.265000         0.40870   \n",
       "\n",
       "     worst_fractal_dimension  \n",
       "0                   0.118900  \n",
       "2                   0.087580  \n",
       "3                   0.173000  \n",
       "4                   0.076780  \n",
       "5                   0.124400  \n",
       "..                       ...  \n",
       "562                 0.140900  \n",
       "563                 0.098730  \n",
       "564                 0.084139  \n",
       "565                 0.066370  \n",
       "567                 0.124000  \n",
       "\n",
       "[505 rows x 30 columns]"
      ]
     },
     "execution_count": 19,
     "metadata": {},
     "output_type": "execute_result"
    }
   ],
   "source": [
    "df[nan_columns]"
   ]
  },
  {
   "cell_type": "code",
   "execution_count": 20,
   "metadata": {
    "id": "qTRtzu6662ZC"
   },
   "outputs": [],
   "source": [
    "# Forma otimizada\n",
    "df[nan_columns] = df[nan_columns].fillna('mean')\n",
    "# df.fillna(df[nan_columns].mean(), inplace=True)"
   ]
  },
  {
   "cell_type": "code",
   "execution_count": null,
   "metadata": {
    "colab": {
     "base_uri": "https://localhost:8080/"
    },
    "executionInfo": {
     "elapsed": 16,
     "status": "ok",
     "timestamp": 1705949895511,
     "user": {
      "displayName": "DANILO SIPOLI SANCHES",
      "userId": "11160205893438547738"
     },
     "user_tz": 180
    },
    "id": "8QBpuvViDVSY",
    "outputId": "557cf8d9-9c37-4392-bb09-61865a38917e"
   },
   "outputs": [
    {
     "data": {
      "text/plain": [
       "sample_id                  0\n",
       "mean_radius                0\n",
       "mean_texture               0\n",
       "mean_perimeter             0\n",
       "mean_area                  0\n",
       "mean_smoothness            0\n",
       "mean_compactness           0\n",
       "mean_concavity             0\n",
       "mean_concave_points        0\n",
       "mean_symmetry              0\n",
       "mean_fractal_dimension     0\n",
       "radius_error               0\n",
       "texture_error              0\n",
       "perimeter_error            0\n",
       "area_error                 0\n",
       "smoothness_error           0\n",
       "compactness_error          0\n",
       "concavity_error            0\n",
       "concave_points_error       0\n",
       "symmetry_error             0\n",
       "fractal_dimension_error    0\n",
       "worst_radius               0\n",
       "worst_texture              0\n",
       "worst_perimeter            0\n",
       "worst_area                 0\n",
       "worst_smoothness           0\n",
       "worst_compactness          0\n",
       "worst_concavity            0\n",
       "worst_concave_points       0\n",
       "worst_symmetry             0\n",
       "worst_fractal_dimension    0\n",
       "diagnosis                  0\n",
       "dtype: int64"
      ]
     },
     "execution_count": 49,
     "metadata": {},
     "output_type": "execute_result"
    }
   ],
   "source": [
    "df.isnull().sum()"
   ]
  },
  {
   "cell_type": "markdown",
   "metadata": {
    "id": "usH6Zyuk62ZD"
   },
   "source": [
    "## 3) Normalização de atributos numéricos"
   ]
  },
  {
   "cell_type": "markdown",
   "metadata": {
    "id": "Sx6LrLDS62ZD"
   },
   "source": [
    "A normalização por reescala define, através de um valor mínimo e um valor máximo, um novo intervalo onde os valores de um atributo estarão contidos. Tipicamente, tal intervalo é definido como [0, 1]. Portanto, para este caso, a normalização por reescala de um atributo $j$ de um objeto $x_i$ pode ser calculada como:\n",
    "\n",
    "$$ x_{ij} = \\frac{x_{ij} - min_j}{max_j - min_j} $$\n",
    "\n",
    "sendo min_j e max_j , nessa ordem, os valores mínimo e máximo do atributo $j$ para o conjunto de dados considerado.\n",
    "\n",
    "Na normalização por padronização, os diferentes atributos contínuos poderão abranger diferentes intervalos, mas deverão possuir os mesmos valores para alguma medida de posição e de espalhamento/variação.\n",
    "Essas medidas irão consistir na média e no desvio-padrão. Neste caso, o valor normalizado de um atributo $j$\n",
    "em um objeto $i$ é dado por:\n",
    "\n",
    "$$ x_{ij} = \\frac{x_{ij} - \\bar{x}_j}{\\sigma_j} $$"
   ]
  },
  {
   "cell_type": "code",
   "execution_count": 21,
   "metadata": {
    "colab": {
     "base_uri": "https://localhost:8080/"
    },
    "executionInfo": {
     "elapsed": 15,
     "status": "ok",
     "timestamp": 1705949895511,
     "user": {
      "displayName": "DANILO SIPOLI SANCHES",
      "userId": "11160205893438547738"
     },
     "user_tz": 180
    },
    "id": "3nglmfwyN4xd",
    "outputId": "a06bda9d-fd97-47ed-d859-ea219c8b6e8b"
   },
   "outputs": [
    {
     "name": "stdout",
     "output_type": "stream",
     "text": [
      "Index(['mean_radius', 'mean_texture', 'mean_perimeter', 'mean_area',\n",
      "       'mean_smoothness', 'mean_compactness', 'mean_concavity',\n",
      "       'mean_concave_points', 'mean_symmetry', 'mean_fractal_dimension',\n",
      "       'radius_error', 'texture_error', 'perimeter_error', 'area_error',\n",
      "       'smoothness_error', 'compactness_error', 'concavity_error',\n",
      "       'concave_points_error', 'symmetry_error', 'fractal_dimension_error',\n",
      "       'worst_radius', 'worst_texture', 'worst_perimeter', 'worst_area',\n",
      "       'worst_smoothness', 'worst_compactness', 'worst_concavity',\n",
      "       'worst_concave_points', 'worst_symmetry', 'worst_fractal_dimension'],\n",
      "      dtype='object')\n"
     ]
    }
   ],
   "source": [
    "scaler_cols = df.columns[1:31]\n",
    "print(scaler_cols)"
   ]
  },
  {
   "cell_type": "code",
   "execution_count": null,
   "metadata": {
    "colab": {
     "base_uri": "https://localhost:8080/",
     "height": 255
    },
    "executionInfo": {
     "elapsed": 14,
     "status": "ok",
     "timestamp": 1705949895511,
     "user": {
      "displayName": "DANILO SIPOLI SANCHES",
      "userId": "11160205893438547738"
     },
     "user_tz": 180
    },
    "id": "QXuLGX0DiDi1",
    "outputId": "53e4f837-8e40-4d72-936d-2bab7ea5dd1b"
   },
   "outputs": [
    {
     "data": {
      "text/html": [
       "\n",
       "  <div id=\"df-9ceedbaa-bede-4510-be99-d8ebd2b511c1\" class=\"colab-df-container\">\n",
       "    <div>\n",
       "<style scoped>\n",
       "    .dataframe tbody tr th:only-of-type {\n",
       "        vertical-align: middle;\n",
       "    }\n",
       "\n",
       "    .dataframe tbody tr th {\n",
       "        vertical-align: top;\n",
       "    }\n",
       "\n",
       "    .dataframe thead th {\n",
       "        text-align: right;\n",
       "    }\n",
       "</style>\n",
       "<table border=\"1\" class=\"dataframe\">\n",
       "  <thead>\n",
       "    <tr style=\"text-align: right;\">\n",
       "      <th></th>\n",
       "      <th>sample_id</th>\n",
       "      <th>mean_radius</th>\n",
       "      <th>mean_texture</th>\n",
       "      <th>mean_perimeter</th>\n",
       "      <th>mean_area</th>\n",
       "      <th>mean_smoothness</th>\n",
       "      <th>mean_compactness</th>\n",
       "      <th>mean_concavity</th>\n",
       "      <th>mean_concave_points</th>\n",
       "      <th>mean_symmetry</th>\n",
       "      <th>...</th>\n",
       "      <th>worst_texture</th>\n",
       "      <th>worst_perimeter</th>\n",
       "      <th>worst_area</th>\n",
       "      <th>worst_smoothness</th>\n",
       "      <th>worst_compactness</th>\n",
       "      <th>worst_concavity</th>\n",
       "      <th>worst_concave_points</th>\n",
       "      <th>worst_symmetry</th>\n",
       "      <th>worst_fractal_dimension</th>\n",
       "      <th>diagnosis</th>\n",
       "    </tr>\n",
       "  </thead>\n",
       "  <tbody>\n",
       "    <tr>\n",
       "      <th>0</th>\n",
       "      <td>842302</td>\n",
       "      <td>17.99</td>\n",
       "      <td>10.38</td>\n",
       "      <td>122.80</td>\n",
       "      <td>655.744196</td>\n",
       "      <td>0.1184</td>\n",
       "      <td>0.277600</td>\n",
       "      <td>0.300100</td>\n",
       "      <td>0.14710</td>\n",
       "      <td>0.181451</td>\n",
       "      <td>...</td>\n",
       "      <td>17.33</td>\n",
       "      <td>184.60</td>\n",
       "      <td>2019.0</td>\n",
       "      <td>0.1622</td>\n",
       "      <td>0.6656</td>\n",
       "      <td>0.27384</td>\n",
       "      <td>0.2654</td>\n",
       "      <td>0.46010</td>\n",
       "      <td>0.11890</td>\n",
       "      <td>malignant</td>\n",
       "    </tr>\n",
       "    <tr>\n",
       "      <th>2</th>\n",
       "      <td>84300903</td>\n",
       "      <td>19.69</td>\n",
       "      <td>21.25</td>\n",
       "      <td>130.00</td>\n",
       "      <td>1203.000000</td>\n",
       "      <td>0.1096</td>\n",
       "      <td>0.104296</td>\n",
       "      <td>0.090611</td>\n",
       "      <td>0.12790</td>\n",
       "      <td>0.206900</td>\n",
       "      <td>...</td>\n",
       "      <td>25.53</td>\n",
       "      <td>152.50</td>\n",
       "      <td>1709.0</td>\n",
       "      <td>0.1444</td>\n",
       "      <td>0.4245</td>\n",
       "      <td>0.45040</td>\n",
       "      <td>0.2430</td>\n",
       "      <td>0.29039</td>\n",
       "      <td>0.08758</td>\n",
       "      <td>malignant</td>\n",
       "    </tr>\n",
       "    <tr>\n",
       "      <th>3</th>\n",
       "      <td>84348301</td>\n",
       "      <td>11.42</td>\n",
       "      <td>20.38</td>\n",
       "      <td>77.58</td>\n",
       "      <td>386.100000</td>\n",
       "      <td>0.1425</td>\n",
       "      <td>0.283900</td>\n",
       "      <td>0.090611</td>\n",
       "      <td>0.10520</td>\n",
       "      <td>0.259700</td>\n",
       "      <td>...</td>\n",
       "      <td>26.50</td>\n",
       "      <td>98.87</td>\n",
       "      <td>567.7</td>\n",
       "      <td>0.2098</td>\n",
       "      <td>0.8663</td>\n",
       "      <td>0.68690</td>\n",
       "      <td>0.2575</td>\n",
       "      <td>0.66380</td>\n",
       "      <td>0.17300</td>\n",
       "      <td>malignant</td>\n",
       "    </tr>\n",
       "    <tr>\n",
       "      <th>4</th>\n",
       "      <td>84358402</td>\n",
       "      <td>20.29</td>\n",
       "      <td>14.34</td>\n",
       "      <td>135.10</td>\n",
       "      <td>1297.000000</td>\n",
       "      <td>0.1003</td>\n",
       "      <td>0.132800</td>\n",
       "      <td>0.090611</td>\n",
       "      <td>0.10430</td>\n",
       "      <td>0.180900</td>\n",
       "      <td>...</td>\n",
       "      <td>16.67</td>\n",
       "      <td>152.20</td>\n",
       "      <td>1575.0</td>\n",
       "      <td>0.1374</td>\n",
       "      <td>0.2050</td>\n",
       "      <td>0.40000</td>\n",
       "      <td>0.1625</td>\n",
       "      <td>0.23640</td>\n",
       "      <td>0.07678</td>\n",
       "      <td>malignant</td>\n",
       "    </tr>\n",
       "    <tr>\n",
       "      <th>5</th>\n",
       "      <td>843786</td>\n",
       "      <td>12.45</td>\n",
       "      <td>15.70</td>\n",
       "      <td>82.57</td>\n",
       "      <td>477.100000</td>\n",
       "      <td>0.1278</td>\n",
       "      <td>0.170000</td>\n",
       "      <td>0.157800</td>\n",
       "      <td>0.08089</td>\n",
       "      <td>0.208700</td>\n",
       "      <td>...</td>\n",
       "      <td>23.75</td>\n",
       "      <td>103.40</td>\n",
       "      <td>741.6</td>\n",
       "      <td>0.1791</td>\n",
       "      <td>0.5249</td>\n",
       "      <td>0.53550</td>\n",
       "      <td>0.1741</td>\n",
       "      <td>0.39850</td>\n",
       "      <td>0.12440</td>\n",
       "      <td>malignant</td>\n",
       "    </tr>\n",
       "  </tbody>\n",
       "</table>\n",
       "<p>5 rows × 32 columns</p>\n",
       "</div>\n",
       "    <div class=\"colab-df-buttons\">\n",
       "\n",
       "  <div class=\"colab-df-container\">\n",
       "    <button class=\"colab-df-convert\" onclick=\"convertToInteractive('df-9ceedbaa-bede-4510-be99-d8ebd2b511c1')\"\n",
       "            title=\"Convert this dataframe to an interactive table.\"\n",
       "            style=\"display:none;\">\n",
       "\n",
       "  <svg xmlns=\"http://www.w3.org/2000/svg\" height=\"24px\" viewBox=\"0 -960 960 960\">\n",
       "    <path d=\"M120-120v-720h720v720H120Zm60-500h600v-160H180v160Zm220 220h160v-160H400v160Zm0 220h160v-160H400v160ZM180-400h160v-160H180v160Zm440 0h160v-160H620v160ZM180-180h160v-160H180v160Zm440 0h160v-160H620v160Z\"/>\n",
       "  </svg>\n",
       "    </button>\n",
       "\n",
       "  <style>\n",
       "    .colab-df-container {\n",
       "      display:flex;\n",
       "      gap: 12px;\n",
       "    }\n",
       "\n",
       "    .colab-df-convert {\n",
       "      background-color: #E8F0FE;\n",
       "      border: none;\n",
       "      border-radius: 50%;\n",
       "      cursor: pointer;\n",
       "      display: none;\n",
       "      fill: #1967D2;\n",
       "      height: 32px;\n",
       "      padding: 0 0 0 0;\n",
       "      width: 32px;\n",
       "    }\n",
       "\n",
       "    .colab-df-convert:hover {\n",
       "      background-color: #E2EBFA;\n",
       "      box-shadow: 0px 1px 2px rgba(60, 64, 67, 0.3), 0px 1px 3px 1px rgba(60, 64, 67, 0.15);\n",
       "      fill: #174EA6;\n",
       "    }\n",
       "\n",
       "    .colab-df-buttons div {\n",
       "      margin-bottom: 4px;\n",
       "    }\n",
       "\n",
       "    [theme=dark] .colab-df-convert {\n",
       "      background-color: #3B4455;\n",
       "      fill: #D2E3FC;\n",
       "    }\n",
       "\n",
       "    [theme=dark] .colab-df-convert:hover {\n",
       "      background-color: #434B5C;\n",
       "      box-shadow: 0px 1px 3px 1px rgba(0, 0, 0, 0.15);\n",
       "      filter: drop-shadow(0px 1px 2px rgba(0, 0, 0, 0.3));\n",
       "      fill: #FFFFFF;\n",
       "    }\n",
       "  </style>\n",
       "\n",
       "    <script>\n",
       "      const buttonEl =\n",
       "        document.querySelector('#df-9ceedbaa-bede-4510-be99-d8ebd2b511c1 button.colab-df-convert');\n",
       "      buttonEl.style.display =\n",
       "        google.colab.kernel.accessAllowed ? 'block' : 'none';\n",
       "\n",
       "      async function convertToInteractive(key) {\n",
       "        const element = document.querySelector('#df-9ceedbaa-bede-4510-be99-d8ebd2b511c1');\n",
       "        const dataTable =\n",
       "          await google.colab.kernel.invokeFunction('convertToInteractive',\n",
       "                                                    [key], {});\n",
       "        if (!dataTable) return;\n",
       "\n",
       "        const docLinkHtml = 'Like what you see? Visit the ' +\n",
       "          '<a target=\"_blank\" href=https://colab.research.google.com/notebooks/data_table.ipynb>data table notebook</a>'\n",
       "          + ' to learn more about interactive tables.';\n",
       "        element.innerHTML = '';\n",
       "        dataTable['output_type'] = 'display_data';\n",
       "        await google.colab.output.renderOutput(dataTable, element);\n",
       "        const docLink = document.createElement('div');\n",
       "        docLink.innerHTML = docLinkHtml;\n",
       "        element.appendChild(docLink);\n",
       "      }\n",
       "    </script>\n",
       "  </div>\n",
       "\n",
       "\n",
       "<div id=\"df-801dd07b-53f2-48ed-87bf-2ec0c85219a7\">\n",
       "  <button class=\"colab-df-quickchart\" onclick=\"quickchart('df-801dd07b-53f2-48ed-87bf-2ec0c85219a7')\"\n",
       "            title=\"Suggest charts\"\n",
       "            style=\"display:none;\">\n",
       "\n",
       "<svg xmlns=\"http://www.w3.org/2000/svg\" height=\"24px\"viewBox=\"0 0 24 24\"\n",
       "     width=\"24px\">\n",
       "    <g>\n",
       "        <path d=\"M19 3H5c-1.1 0-2 .9-2 2v14c0 1.1.9 2 2 2h14c1.1 0 2-.9 2-2V5c0-1.1-.9-2-2-2zM9 17H7v-7h2v7zm4 0h-2V7h2v10zm4 0h-2v-4h2v4z\"/>\n",
       "    </g>\n",
       "</svg>\n",
       "  </button>\n",
       "\n",
       "<style>\n",
       "  .colab-df-quickchart {\n",
       "      --bg-color: #E8F0FE;\n",
       "      --fill-color: #1967D2;\n",
       "      --hover-bg-color: #E2EBFA;\n",
       "      --hover-fill-color: #174EA6;\n",
       "      --disabled-fill-color: #AAA;\n",
       "      --disabled-bg-color: #DDD;\n",
       "  }\n",
       "\n",
       "  [theme=dark] .colab-df-quickchart {\n",
       "      --bg-color: #3B4455;\n",
       "      --fill-color: #D2E3FC;\n",
       "      --hover-bg-color: #434B5C;\n",
       "      --hover-fill-color: #FFFFFF;\n",
       "      --disabled-bg-color: #3B4455;\n",
       "      --disabled-fill-color: #666;\n",
       "  }\n",
       "\n",
       "  .colab-df-quickchart {\n",
       "    background-color: var(--bg-color);\n",
       "    border: none;\n",
       "    border-radius: 50%;\n",
       "    cursor: pointer;\n",
       "    display: none;\n",
       "    fill: var(--fill-color);\n",
       "    height: 32px;\n",
       "    padding: 0;\n",
       "    width: 32px;\n",
       "  }\n",
       "\n",
       "  .colab-df-quickchart:hover {\n",
       "    background-color: var(--hover-bg-color);\n",
       "    box-shadow: 0 1px 2px rgba(60, 64, 67, 0.3), 0 1px 3px 1px rgba(60, 64, 67, 0.15);\n",
       "    fill: var(--button-hover-fill-color);\n",
       "  }\n",
       "\n",
       "  .colab-df-quickchart-complete:disabled,\n",
       "  .colab-df-quickchart-complete:disabled:hover {\n",
       "    background-color: var(--disabled-bg-color);\n",
       "    fill: var(--disabled-fill-color);\n",
       "    box-shadow: none;\n",
       "  }\n",
       "\n",
       "  .colab-df-spinner {\n",
       "    border: 2px solid var(--fill-color);\n",
       "    border-color: transparent;\n",
       "    border-bottom-color: var(--fill-color);\n",
       "    animation:\n",
       "      spin 1s steps(1) infinite;\n",
       "  }\n",
       "\n",
       "  @keyframes spin {\n",
       "    0% {\n",
       "      border-color: transparent;\n",
       "      border-bottom-color: var(--fill-color);\n",
       "      border-left-color: var(--fill-color);\n",
       "    }\n",
       "    20% {\n",
       "      border-color: transparent;\n",
       "      border-left-color: var(--fill-color);\n",
       "      border-top-color: var(--fill-color);\n",
       "    }\n",
       "    30% {\n",
       "      border-color: transparent;\n",
       "      border-left-color: var(--fill-color);\n",
       "      border-top-color: var(--fill-color);\n",
       "      border-right-color: var(--fill-color);\n",
       "    }\n",
       "    40% {\n",
       "      border-color: transparent;\n",
       "      border-right-color: var(--fill-color);\n",
       "      border-top-color: var(--fill-color);\n",
       "    }\n",
       "    60% {\n",
       "      border-color: transparent;\n",
       "      border-right-color: var(--fill-color);\n",
       "    }\n",
       "    80% {\n",
       "      border-color: transparent;\n",
       "      border-right-color: var(--fill-color);\n",
       "      border-bottom-color: var(--fill-color);\n",
       "    }\n",
       "    90% {\n",
       "      border-color: transparent;\n",
       "      border-bottom-color: var(--fill-color);\n",
       "    }\n",
       "  }\n",
       "</style>\n",
       "\n",
       "  <script>\n",
       "    async function quickchart(key) {\n",
       "      const quickchartButtonEl =\n",
       "        document.querySelector('#' + key + ' button');\n",
       "      quickchartButtonEl.disabled = true;  // To prevent multiple clicks.\n",
       "      quickchartButtonEl.classList.add('colab-df-spinner');\n",
       "      try {\n",
       "        const charts = await google.colab.kernel.invokeFunction(\n",
       "            'suggestCharts', [key], {});\n",
       "      } catch (error) {\n",
       "        console.error('Error during call to suggestCharts:', error);\n",
       "      }\n",
       "      quickchartButtonEl.classList.remove('colab-df-spinner');\n",
       "      quickchartButtonEl.classList.add('colab-df-quickchart-complete');\n",
       "    }\n",
       "    (() => {\n",
       "      let quickchartButtonEl =\n",
       "        document.querySelector('#df-801dd07b-53f2-48ed-87bf-2ec0c85219a7 button');\n",
       "      quickchartButtonEl.style.display =\n",
       "        google.colab.kernel.accessAllowed ? 'block' : 'none';\n",
       "    })();\n",
       "  </script>\n",
       "</div>\n",
       "    </div>\n",
       "  </div>\n"
      ],
      "text/plain": [
       "   sample_id  mean_radius  mean_texture  mean_perimeter    mean_area  \\\n",
       "0     842302        17.99         10.38          122.80   655.744196   \n",
       "2   84300903        19.69         21.25          130.00  1203.000000   \n",
       "3   84348301        11.42         20.38           77.58   386.100000   \n",
       "4   84358402        20.29         14.34          135.10  1297.000000   \n",
       "5     843786        12.45         15.70           82.57   477.100000   \n",
       "\n",
       "   mean_smoothness  mean_compactness  mean_concavity  mean_concave_points  \\\n",
       "0           0.1184          0.277600        0.300100              0.14710   \n",
       "2           0.1096          0.104296        0.090611              0.12790   \n",
       "3           0.1425          0.283900        0.090611              0.10520   \n",
       "4           0.1003          0.132800        0.090611              0.10430   \n",
       "5           0.1278          0.170000        0.157800              0.08089   \n",
       "\n",
       "   mean_symmetry  ...  worst_texture  worst_perimeter  worst_area  \\\n",
       "0       0.181451  ...          17.33           184.60      2019.0   \n",
       "2       0.206900  ...          25.53           152.50      1709.0   \n",
       "3       0.259700  ...          26.50            98.87       567.7   \n",
       "4       0.180900  ...          16.67           152.20      1575.0   \n",
       "5       0.208700  ...          23.75           103.40       741.6   \n",
       "\n",
       "   worst_smoothness  worst_compactness  worst_concavity  worst_concave_points  \\\n",
       "0            0.1622             0.6656          0.27384                0.2654   \n",
       "2            0.1444             0.4245          0.45040                0.2430   \n",
       "3            0.2098             0.8663          0.68690                0.2575   \n",
       "4            0.1374             0.2050          0.40000                0.1625   \n",
       "5            0.1791             0.5249          0.53550                0.1741   \n",
       "\n",
       "   worst_symmetry  worst_fractal_dimension  diagnosis  \n",
       "0         0.46010                  0.11890  malignant  \n",
       "2         0.29039                  0.08758  malignant  \n",
       "3         0.66380                  0.17300  malignant  \n",
       "4         0.23640                  0.07678  malignant  \n",
       "5         0.39850                  0.12440  malignant  \n",
       "\n",
       "[5 rows x 32 columns]"
      ]
     },
     "execution_count": 51,
     "metadata": {},
     "output_type": "execute_result"
    }
   ],
   "source": [
    "df.head()"
   ]
  },
  {
   "cell_type": "code",
   "execution_count": null,
   "metadata": {
    "id": "ZgDNZG1F62ZE"
   },
   "outputs": [],
   "source": [
    "# from sklearn.preprocessing import StandardScaler\n",
    "# from sklearn.preprocessing import MinMaxScaler\n",
    "\n",
    "# scaler = StandardScaler()\n",
    "# ajuste = scaler.fit(df[scaler_cols])\n",
    "# df[scaler_cols] = ajuste.transform(df[scaler_cols])"
   ]
  },
  {
   "cell_type": "code",
   "execution_count": null,
   "metadata": {
    "colab": {
     "base_uri": "https://localhost:8080/",
     "height": 255
    },
    "executionInfo": {
     "elapsed": 13,
     "status": "ok",
     "timestamp": 1705949895511,
     "user": {
      "displayName": "DANILO SIPOLI SANCHES",
      "userId": "11160205893438547738"
     },
     "user_tz": 180
    },
    "id": "TE4ysMhT62ZF",
    "outputId": "f04e9172-4c88-4a8d-cbe5-312c16199cfa"
   },
   "outputs": [
    {
     "data": {
      "text/html": [
       "\n",
       "  <div id=\"df-64ba26fe-94f7-4686-b264-950631acd609\" class=\"colab-df-container\">\n",
       "    <div>\n",
       "<style scoped>\n",
       "    .dataframe tbody tr th:only-of-type {\n",
       "        vertical-align: middle;\n",
       "    }\n",
       "\n",
       "    .dataframe tbody tr th {\n",
       "        vertical-align: top;\n",
       "    }\n",
       "\n",
       "    .dataframe thead th {\n",
       "        text-align: right;\n",
       "    }\n",
       "</style>\n",
       "<table border=\"1\" class=\"dataframe\">\n",
       "  <thead>\n",
       "    <tr style=\"text-align: right;\">\n",
       "      <th></th>\n",
       "      <th>sample_id</th>\n",
       "      <th>mean_radius</th>\n",
       "      <th>mean_texture</th>\n",
       "      <th>mean_perimeter</th>\n",
       "      <th>mean_area</th>\n",
       "      <th>mean_smoothness</th>\n",
       "      <th>mean_compactness</th>\n",
       "      <th>mean_concavity</th>\n",
       "      <th>mean_concave_points</th>\n",
       "      <th>mean_symmetry</th>\n",
       "      <th>...</th>\n",
       "      <th>worst_texture</th>\n",
       "      <th>worst_perimeter</th>\n",
       "      <th>worst_area</th>\n",
       "      <th>worst_smoothness</th>\n",
       "      <th>worst_compactness</th>\n",
       "      <th>worst_concavity</th>\n",
       "      <th>worst_concave_points</th>\n",
       "      <th>worst_symmetry</th>\n",
       "      <th>worst_fractal_dimension</th>\n",
       "      <th>diagnosis</th>\n",
       "    </tr>\n",
       "  </thead>\n",
       "  <tbody>\n",
       "    <tr>\n",
       "      <th>0</th>\n",
       "      <td>842302</td>\n",
       "      <td>17.99</td>\n",
       "      <td>10.38</td>\n",
       "      <td>122.80</td>\n",
       "      <td>655.744196</td>\n",
       "      <td>0.1184</td>\n",
       "      <td>0.277600</td>\n",
       "      <td>0.300100</td>\n",
       "      <td>0.14710</td>\n",
       "      <td>0.181451</td>\n",
       "      <td>...</td>\n",
       "      <td>17.33</td>\n",
       "      <td>184.60</td>\n",
       "      <td>2019.0</td>\n",
       "      <td>0.1622</td>\n",
       "      <td>0.6656</td>\n",
       "      <td>0.27384</td>\n",
       "      <td>0.2654</td>\n",
       "      <td>0.46010</td>\n",
       "      <td>0.11890</td>\n",
       "      <td>malignant</td>\n",
       "    </tr>\n",
       "    <tr>\n",
       "      <th>2</th>\n",
       "      <td>84300903</td>\n",
       "      <td>19.69</td>\n",
       "      <td>21.25</td>\n",
       "      <td>130.00</td>\n",
       "      <td>1203.000000</td>\n",
       "      <td>0.1096</td>\n",
       "      <td>0.104296</td>\n",
       "      <td>0.090611</td>\n",
       "      <td>0.12790</td>\n",
       "      <td>0.206900</td>\n",
       "      <td>...</td>\n",
       "      <td>25.53</td>\n",
       "      <td>152.50</td>\n",
       "      <td>1709.0</td>\n",
       "      <td>0.1444</td>\n",
       "      <td>0.4245</td>\n",
       "      <td>0.45040</td>\n",
       "      <td>0.2430</td>\n",
       "      <td>0.29039</td>\n",
       "      <td>0.08758</td>\n",
       "      <td>malignant</td>\n",
       "    </tr>\n",
       "    <tr>\n",
       "      <th>3</th>\n",
       "      <td>84348301</td>\n",
       "      <td>11.42</td>\n",
       "      <td>20.38</td>\n",
       "      <td>77.58</td>\n",
       "      <td>386.100000</td>\n",
       "      <td>0.1425</td>\n",
       "      <td>0.283900</td>\n",
       "      <td>0.090611</td>\n",
       "      <td>0.10520</td>\n",
       "      <td>0.259700</td>\n",
       "      <td>...</td>\n",
       "      <td>26.50</td>\n",
       "      <td>98.87</td>\n",
       "      <td>567.7</td>\n",
       "      <td>0.2098</td>\n",
       "      <td>0.8663</td>\n",
       "      <td>0.68690</td>\n",
       "      <td>0.2575</td>\n",
       "      <td>0.66380</td>\n",
       "      <td>0.17300</td>\n",
       "      <td>malignant</td>\n",
       "    </tr>\n",
       "    <tr>\n",
       "      <th>4</th>\n",
       "      <td>84358402</td>\n",
       "      <td>20.29</td>\n",
       "      <td>14.34</td>\n",
       "      <td>135.10</td>\n",
       "      <td>1297.000000</td>\n",
       "      <td>0.1003</td>\n",
       "      <td>0.132800</td>\n",
       "      <td>0.090611</td>\n",
       "      <td>0.10430</td>\n",
       "      <td>0.180900</td>\n",
       "      <td>...</td>\n",
       "      <td>16.67</td>\n",
       "      <td>152.20</td>\n",
       "      <td>1575.0</td>\n",
       "      <td>0.1374</td>\n",
       "      <td>0.2050</td>\n",
       "      <td>0.40000</td>\n",
       "      <td>0.1625</td>\n",
       "      <td>0.23640</td>\n",
       "      <td>0.07678</td>\n",
       "      <td>malignant</td>\n",
       "    </tr>\n",
       "    <tr>\n",
       "      <th>5</th>\n",
       "      <td>843786</td>\n",
       "      <td>12.45</td>\n",
       "      <td>15.70</td>\n",
       "      <td>82.57</td>\n",
       "      <td>477.100000</td>\n",
       "      <td>0.1278</td>\n",
       "      <td>0.170000</td>\n",
       "      <td>0.157800</td>\n",
       "      <td>0.08089</td>\n",
       "      <td>0.208700</td>\n",
       "      <td>...</td>\n",
       "      <td>23.75</td>\n",
       "      <td>103.40</td>\n",
       "      <td>741.6</td>\n",
       "      <td>0.1791</td>\n",
       "      <td>0.5249</td>\n",
       "      <td>0.53550</td>\n",
       "      <td>0.1741</td>\n",
       "      <td>0.39850</td>\n",
       "      <td>0.12440</td>\n",
       "      <td>malignant</td>\n",
       "    </tr>\n",
       "  </tbody>\n",
       "</table>\n",
       "<p>5 rows × 32 columns</p>\n",
       "</div>\n",
       "    <div class=\"colab-df-buttons\">\n",
       "\n",
       "  <div class=\"colab-df-container\">\n",
       "    <button class=\"colab-df-convert\" onclick=\"convertToInteractive('df-64ba26fe-94f7-4686-b264-950631acd609')\"\n",
       "            title=\"Convert this dataframe to an interactive table.\"\n",
       "            style=\"display:none;\">\n",
       "\n",
       "  <svg xmlns=\"http://www.w3.org/2000/svg\" height=\"24px\" viewBox=\"0 -960 960 960\">\n",
       "    <path d=\"M120-120v-720h720v720H120Zm60-500h600v-160H180v160Zm220 220h160v-160H400v160Zm0 220h160v-160H400v160ZM180-400h160v-160H180v160Zm440 0h160v-160H620v160ZM180-180h160v-160H180v160Zm440 0h160v-160H620v160Z\"/>\n",
       "  </svg>\n",
       "    </button>\n",
       "\n",
       "  <style>\n",
       "    .colab-df-container {\n",
       "      display:flex;\n",
       "      gap: 12px;\n",
       "    }\n",
       "\n",
       "    .colab-df-convert {\n",
       "      background-color: #E8F0FE;\n",
       "      border: none;\n",
       "      border-radius: 50%;\n",
       "      cursor: pointer;\n",
       "      display: none;\n",
       "      fill: #1967D2;\n",
       "      height: 32px;\n",
       "      padding: 0 0 0 0;\n",
       "      width: 32px;\n",
       "    }\n",
       "\n",
       "    .colab-df-convert:hover {\n",
       "      background-color: #E2EBFA;\n",
       "      box-shadow: 0px 1px 2px rgba(60, 64, 67, 0.3), 0px 1px 3px 1px rgba(60, 64, 67, 0.15);\n",
       "      fill: #174EA6;\n",
       "    }\n",
       "\n",
       "    .colab-df-buttons div {\n",
       "      margin-bottom: 4px;\n",
       "    }\n",
       "\n",
       "    [theme=dark] .colab-df-convert {\n",
       "      background-color: #3B4455;\n",
       "      fill: #D2E3FC;\n",
       "    }\n",
       "\n",
       "    [theme=dark] .colab-df-convert:hover {\n",
       "      background-color: #434B5C;\n",
       "      box-shadow: 0px 1px 3px 1px rgba(0, 0, 0, 0.15);\n",
       "      filter: drop-shadow(0px 1px 2px rgba(0, 0, 0, 0.3));\n",
       "      fill: #FFFFFF;\n",
       "    }\n",
       "  </style>\n",
       "\n",
       "    <script>\n",
       "      const buttonEl =\n",
       "        document.querySelector('#df-64ba26fe-94f7-4686-b264-950631acd609 button.colab-df-convert');\n",
       "      buttonEl.style.display =\n",
       "        google.colab.kernel.accessAllowed ? 'block' : 'none';\n",
       "\n",
       "      async function convertToInteractive(key) {\n",
       "        const element = document.querySelector('#df-64ba26fe-94f7-4686-b264-950631acd609');\n",
       "        const dataTable =\n",
       "          await google.colab.kernel.invokeFunction('convertToInteractive',\n",
       "                                                    [key], {});\n",
       "        if (!dataTable) return;\n",
       "\n",
       "        const docLinkHtml = 'Like what you see? Visit the ' +\n",
       "          '<a target=\"_blank\" href=https://colab.research.google.com/notebooks/data_table.ipynb>data table notebook</a>'\n",
       "          + ' to learn more about interactive tables.';\n",
       "        element.innerHTML = '';\n",
       "        dataTable['output_type'] = 'display_data';\n",
       "        await google.colab.output.renderOutput(dataTable, element);\n",
       "        const docLink = document.createElement('div');\n",
       "        docLink.innerHTML = docLinkHtml;\n",
       "        element.appendChild(docLink);\n",
       "      }\n",
       "    </script>\n",
       "  </div>\n",
       "\n",
       "\n",
       "<div id=\"df-b9333d57-26ea-4144-bed4-b4f4b5ab57a2\">\n",
       "  <button class=\"colab-df-quickchart\" onclick=\"quickchart('df-b9333d57-26ea-4144-bed4-b4f4b5ab57a2')\"\n",
       "            title=\"Suggest charts\"\n",
       "            style=\"display:none;\">\n",
       "\n",
       "<svg xmlns=\"http://www.w3.org/2000/svg\" height=\"24px\"viewBox=\"0 0 24 24\"\n",
       "     width=\"24px\">\n",
       "    <g>\n",
       "        <path d=\"M19 3H5c-1.1 0-2 .9-2 2v14c0 1.1.9 2 2 2h14c1.1 0 2-.9 2-2V5c0-1.1-.9-2-2-2zM9 17H7v-7h2v7zm4 0h-2V7h2v10zm4 0h-2v-4h2v4z\"/>\n",
       "    </g>\n",
       "</svg>\n",
       "  </button>\n",
       "\n",
       "<style>\n",
       "  .colab-df-quickchart {\n",
       "      --bg-color: #E8F0FE;\n",
       "      --fill-color: #1967D2;\n",
       "      --hover-bg-color: #E2EBFA;\n",
       "      --hover-fill-color: #174EA6;\n",
       "      --disabled-fill-color: #AAA;\n",
       "      --disabled-bg-color: #DDD;\n",
       "  }\n",
       "\n",
       "  [theme=dark] .colab-df-quickchart {\n",
       "      --bg-color: #3B4455;\n",
       "      --fill-color: #D2E3FC;\n",
       "      --hover-bg-color: #434B5C;\n",
       "      --hover-fill-color: #FFFFFF;\n",
       "      --disabled-bg-color: #3B4455;\n",
       "      --disabled-fill-color: #666;\n",
       "  }\n",
       "\n",
       "  .colab-df-quickchart {\n",
       "    background-color: var(--bg-color);\n",
       "    border: none;\n",
       "    border-radius: 50%;\n",
       "    cursor: pointer;\n",
       "    display: none;\n",
       "    fill: var(--fill-color);\n",
       "    height: 32px;\n",
       "    padding: 0;\n",
       "    width: 32px;\n",
       "  }\n",
       "\n",
       "  .colab-df-quickchart:hover {\n",
       "    background-color: var(--hover-bg-color);\n",
       "    box-shadow: 0 1px 2px rgba(60, 64, 67, 0.3), 0 1px 3px 1px rgba(60, 64, 67, 0.15);\n",
       "    fill: var(--button-hover-fill-color);\n",
       "  }\n",
       "\n",
       "  .colab-df-quickchart-complete:disabled,\n",
       "  .colab-df-quickchart-complete:disabled:hover {\n",
       "    background-color: var(--disabled-bg-color);\n",
       "    fill: var(--disabled-fill-color);\n",
       "    box-shadow: none;\n",
       "  }\n",
       "\n",
       "  .colab-df-spinner {\n",
       "    border: 2px solid var(--fill-color);\n",
       "    border-color: transparent;\n",
       "    border-bottom-color: var(--fill-color);\n",
       "    animation:\n",
       "      spin 1s steps(1) infinite;\n",
       "  }\n",
       "\n",
       "  @keyframes spin {\n",
       "    0% {\n",
       "      border-color: transparent;\n",
       "      border-bottom-color: var(--fill-color);\n",
       "      border-left-color: var(--fill-color);\n",
       "    }\n",
       "    20% {\n",
       "      border-color: transparent;\n",
       "      border-left-color: var(--fill-color);\n",
       "      border-top-color: var(--fill-color);\n",
       "    }\n",
       "    30% {\n",
       "      border-color: transparent;\n",
       "      border-left-color: var(--fill-color);\n",
       "      border-top-color: var(--fill-color);\n",
       "      border-right-color: var(--fill-color);\n",
       "    }\n",
       "    40% {\n",
       "      border-color: transparent;\n",
       "      border-right-color: var(--fill-color);\n",
       "      border-top-color: var(--fill-color);\n",
       "    }\n",
       "    60% {\n",
       "      border-color: transparent;\n",
       "      border-right-color: var(--fill-color);\n",
       "    }\n",
       "    80% {\n",
       "      border-color: transparent;\n",
       "      border-right-color: var(--fill-color);\n",
       "      border-bottom-color: var(--fill-color);\n",
       "    }\n",
       "    90% {\n",
       "      border-color: transparent;\n",
       "      border-bottom-color: var(--fill-color);\n",
       "    }\n",
       "  }\n",
       "</style>\n",
       "\n",
       "  <script>\n",
       "    async function quickchart(key) {\n",
       "      const quickchartButtonEl =\n",
       "        document.querySelector('#' + key + ' button');\n",
       "      quickchartButtonEl.disabled = true;  // To prevent multiple clicks.\n",
       "      quickchartButtonEl.classList.add('colab-df-spinner');\n",
       "      try {\n",
       "        const charts = await google.colab.kernel.invokeFunction(\n",
       "            'suggestCharts', [key], {});\n",
       "      } catch (error) {\n",
       "        console.error('Error during call to suggestCharts:', error);\n",
       "      }\n",
       "      quickchartButtonEl.classList.remove('colab-df-spinner');\n",
       "      quickchartButtonEl.classList.add('colab-df-quickchart-complete');\n",
       "    }\n",
       "    (() => {\n",
       "      let quickchartButtonEl =\n",
       "        document.querySelector('#df-b9333d57-26ea-4144-bed4-b4f4b5ab57a2 button');\n",
       "      quickchartButtonEl.style.display =\n",
       "        google.colab.kernel.accessAllowed ? 'block' : 'none';\n",
       "    })();\n",
       "  </script>\n",
       "</div>\n",
       "    </div>\n",
       "  </div>\n"
      ],
      "text/plain": [
       "   sample_id  mean_radius  mean_texture  mean_perimeter    mean_area  \\\n",
       "0     842302        17.99         10.38          122.80   655.744196   \n",
       "2   84300903        19.69         21.25          130.00  1203.000000   \n",
       "3   84348301        11.42         20.38           77.58   386.100000   \n",
       "4   84358402        20.29         14.34          135.10  1297.000000   \n",
       "5     843786        12.45         15.70           82.57   477.100000   \n",
       "\n",
       "   mean_smoothness  mean_compactness  mean_concavity  mean_concave_points  \\\n",
       "0           0.1184          0.277600        0.300100              0.14710   \n",
       "2           0.1096          0.104296        0.090611              0.12790   \n",
       "3           0.1425          0.283900        0.090611              0.10520   \n",
       "4           0.1003          0.132800        0.090611              0.10430   \n",
       "5           0.1278          0.170000        0.157800              0.08089   \n",
       "\n",
       "   mean_symmetry  ...  worst_texture  worst_perimeter  worst_area  \\\n",
       "0       0.181451  ...          17.33           184.60      2019.0   \n",
       "2       0.206900  ...          25.53           152.50      1709.0   \n",
       "3       0.259700  ...          26.50            98.87       567.7   \n",
       "4       0.180900  ...          16.67           152.20      1575.0   \n",
       "5       0.208700  ...          23.75           103.40       741.6   \n",
       "\n",
       "   worst_smoothness  worst_compactness  worst_concavity  worst_concave_points  \\\n",
       "0            0.1622             0.6656          0.27384                0.2654   \n",
       "2            0.1444             0.4245          0.45040                0.2430   \n",
       "3            0.2098             0.8663          0.68690                0.2575   \n",
       "4            0.1374             0.2050          0.40000                0.1625   \n",
       "5            0.1791             0.5249          0.53550                0.1741   \n",
       "\n",
       "   worst_symmetry  worst_fractal_dimension  diagnosis  \n",
       "0         0.46010                  0.11890  malignant  \n",
       "2         0.29039                  0.08758  malignant  \n",
       "3         0.66380                  0.17300  malignant  \n",
       "4         0.23640                  0.07678  malignant  \n",
       "5         0.39850                  0.12440  malignant  \n",
       "\n",
       "[5 rows x 32 columns]"
      ]
     },
     "execution_count": 53,
     "metadata": {},
     "output_type": "execute_result"
    }
   ],
   "source": [
    "df.head()"
   ]
  },
  {
   "cell_type": "code",
   "execution_count": null,
   "metadata": {
    "colab": {
     "base_uri": "https://localhost:8080/"
    },
    "executionInfo": {
     "elapsed": 12,
     "status": "ok",
     "timestamp": 1705949895511,
     "user": {
      "displayName": "DANILO SIPOLI SANCHES",
      "userId": "11160205893438547738"
     },
     "user_tz": 180
    },
    "id": "jqXQTfymPSnU",
    "outputId": "42ba25c3-b4c5-41c4-8508-9450d6c307cc"
   },
   "outputs": [
    {
     "name": "stdout",
     "output_type": "stream",
     "text": [
      "<class 'pandas.core.frame.DataFrame'>\n",
      "Int64Index: 505 entries, 0 to 567\n",
      "Data columns (total 32 columns):\n",
      " #   Column                   Non-Null Count  Dtype  \n",
      "---  ------                   --------------  -----  \n",
      " 0   sample_id                505 non-null    int64  \n",
      " 1   mean_radius              505 non-null    float64\n",
      " 2   mean_texture             505 non-null    float64\n",
      " 3   mean_perimeter           505 non-null    float64\n",
      " 4   mean_area                505 non-null    float64\n",
      " 5   mean_smoothness          505 non-null    float64\n",
      " 6   mean_compactness         505 non-null    float64\n",
      " 7   mean_concavity           505 non-null    float64\n",
      " 8   mean_concave_points      505 non-null    float64\n",
      " 9   mean_symmetry            505 non-null    float64\n",
      " 10  mean_fractal_dimension   505 non-null    float64\n",
      " 11  radius_error             505 non-null    float64\n",
      " 12  texture_error            505 non-null    float64\n",
      " 13  perimeter_error          505 non-null    float64\n",
      " 14  area_error               505 non-null    float64\n",
      " 15  smoothness_error         505 non-null    float64\n",
      " 16  compactness_error        505 non-null    float64\n",
      " 17  concavity_error          505 non-null    float64\n",
      " 18  concave_points_error     505 non-null    float64\n",
      " 19  symmetry_error           505 non-null    float64\n",
      " 20  fractal_dimension_error  505 non-null    float64\n",
      " 21  worst_radius             505 non-null    float64\n",
      " 22  worst_texture            505 non-null    float64\n",
      " 23  worst_perimeter          505 non-null    float64\n",
      " 24  worst_area               505 non-null    float64\n",
      " 25  worst_smoothness         505 non-null    float64\n",
      " 26  worst_compactness        505 non-null    float64\n",
      " 27  worst_concavity          505 non-null    float64\n",
      " 28  worst_concave_points     505 non-null    float64\n",
      " 29  worst_symmetry           505 non-null    float64\n",
      " 30  worst_fractal_dimension  505 non-null    float64\n",
      " 31  diagnosis                505 non-null    object \n",
      "dtypes: float64(30), int64(1), object(1)\n",
      "memory usage: 130.2+ KB\n"
     ]
    }
   ],
   "source": [
    "df.info()"
   ]
  },
  {
   "cell_type": "code",
   "execution_count": null,
   "metadata": {
    "id": "IDXe8W83fjNy"
   },
   "outputs": [],
   "source": []
  },
  {
   "cell_type": "markdown",
   "metadata": {
    "id": "ZXkqTkzQVy8I"
   },
   "source": [
    "## Modelos de Machine Learning"
   ]
  },
  {
   "cell_type": "markdown",
   "metadata": {
    "id": "_xsH1TpAV3ee"
   },
   "source": [
    "### Separação entre treino e teste"
   ]
  },
  {
   "cell_type": "code",
   "execution_count": 22,
   "metadata": {
    "id": "3l6_ESXyhJaE"
   },
   "outputs": [],
   "source": [
    "from sklearn.preprocessing import LabelEncoder"
   ]
  },
  {
   "cell_type": "code",
   "execution_count": 23,
   "metadata": {
    "id": "08A0IQbgftIr"
   },
   "outputs": [],
   "source": [
    "# Transforma os dados categóricos de diagnosis\n",
    "labelencoder = LabelEncoder()\n",
    "df['diagnosis'] = labelencoder.fit_transform(df['diagnosis'])"
   ]
  },
  {
   "cell_type": "code",
   "execution_count": 24,
   "metadata": {
    "colab": {
     "base_uri": "https://localhost:8080/"
    },
    "executionInfo": {
     "elapsed": 11,
     "status": "ok",
     "timestamp": 1705949895512,
     "user": {
      "displayName": "DANILO SIPOLI SANCHES",
      "userId": "11160205893438547738"
     },
     "user_tz": 180
    },
    "id": "NVfZPD_2hggp",
    "outputId": "d93d0118-4238-4329-b1f3-3f46ad5ae965"
   },
   "outputs": [
    {
     "data": {
      "text/plain": [
       "diagnosis\n",
       "0    316\n",
       "1    189\n",
       "Name: count, dtype: int64"
      ]
     },
     "execution_count": 24,
     "metadata": {},
     "output_type": "execute_result"
    }
   ],
   "source": [
    "df['diagnosis'].value_counts()"
   ]
  },
  {
   "cell_type": "code",
   "execution_count": null,
   "metadata": {
    "id": "GQB8obGjWE8U"
   },
   "outputs": [],
   "source": [
    "# Formato Numpy array\n",
    "# X = df.drop(['diagnosis'], axis=1).values\n",
    "# y = df['diagnosis'].values"
   ]
  },
  {
   "cell_type": "code",
   "execution_count": 25,
   "metadata": {
    "id": "3Xwr_L2nug0Q"
   },
   "outputs": [],
   "source": [
    "# Formato dataframe e series\n",
    "X = df.drop(['diagnosis'], axis=1)\n",
    "y = df['diagnosis']"
   ]
  },
  {
   "cell_type": "code",
   "execution_count": 26,
   "metadata": {
    "id": "7IFn9BVjWYqe"
   },
   "outputs": [],
   "source": [
    "X_train, X_test, y_train, y_test = train_test_split(X, y, test_size=0.3)"
   ]
  },
  {
   "cell_type": "markdown",
   "metadata": {
    "id": "3AuSSRBAWehG"
   },
   "source": [
    "### Randon Forest"
   ]
  },
  {
   "cell_type": "code",
   "execution_count": 29,
   "metadata": {
    "colab": {
     "base_uri": "https://localhost:8080/"
    },
    "executionInfo": {
     "elapsed": 682,
     "status": "ok",
     "timestamp": 1705953115815,
     "user": {
      "displayName": "DANILO SIPOLI SANCHES",
      "userId": "11160205893438547738"
     },
     "user_tz": 180
    },
    "id": "lUxg8HWoWiRX",
    "outputId": "bbf9fc1f-5e1e-49d6-eab7-9c98a7823bea"
   },
   "outputs": [
    {
     "name": "stdout",
     "output_type": "stream",
     "text": [
      "Training Score 1.0\n",
      "Testing Score \n",
      " 0.9276315789473685\n"
     ]
    }
   ],
   "source": [
    "forest = RandomForestClassifier(n_estimators = 10000)\n",
    "\n",
    "forest.fit(X_train, y_train)\n",
    "forest_score = forest.score(X_train, y_train)\n",
    "forest_test = forest.score(X_test, y_test)\n",
    "\n",
    "y_pred = forest.predict(X_test)\n",
    "print('Training Score',forest_score)\n",
    "print('Testing Score \\n',forest_test)"
   ]
  },
  {
   "cell_type": "markdown",
   "metadata": {
    "id": "9fNBvuWnYUDT"
   },
   "source": [
    "### Métricas"
   ]
  },
  {
   "cell_type": "code",
   "execution_count": 30,
   "metadata": {
    "id": "Eehw93GlXOKs"
   },
   "outputs": [],
   "source": [
    "from sklearn.metrics import confusion_matrix, ConfusionMatrixDisplay\n",
    "from sklearn.metrics import (recall_score,\n",
    "                             accuracy_score,\n",
    "                             precision_score,\n",
    "                             f1_score)"
   ]
  },
  {
   "cell_type": "code",
   "execution_count": 31,
   "metadata": {
    "colab": {
     "base_uri": "https://localhost:8080/",
     "height": 466
    },
    "executionInfo": {
     "elapsed": 530,
     "status": "ok",
     "timestamp": 1705953124838,
     "user": {
      "displayName": "DANILO SIPOLI SANCHES",
      "userId": "11160205893438547738"
     },
     "user_tz": 180
    },
    "id": "LBokKS0xYno-",
    "outputId": "9840a04e-fa4c-4808-ad9a-2b272fca8b56"
   },
   "outputs": [
    {
     "data": {
      "text/plain": [
       "<sklearn.metrics._plot.confusion_matrix.ConfusionMatrixDisplay at 0x7fa41b3d84d0>"
      ]
     },
     "execution_count": 31,
     "metadata": {},
     "output_type": "execute_result"
    },
    {
     "data": {
      "image/png": "[encoded data removed]",
      "text/plain": [
       "<Figure size 640x480 with 2 Axes>"
      ]
     },
     "metadata": {},
     "output_type": "display_data"
    }
   ],
   "source": [
    "cm = confusion_matrix(y_test, y_pred)\n",
    "# print(cm)\n",
    "ConfusionMatrixDisplay(cm).plot()"
   ]
  },
  {
   "cell_type": "code",
   "execution_count": 32,
   "metadata": {
    "colab": {
     "base_uri": "https://localhost:8080/"
    },
    "executionInfo": {
     "elapsed": 31,
     "status": "ok",
     "timestamp": 1705949896711,
     "user": {
      "displayName": "DANILO SIPOLI SANCHES",
      "userId": "11160205893438547738"
     },
     "user_tz": 180
    },
    "id": "U8zNZ_J-a_Nj",
    "outputId": "b9815dd1-b387-4cf5-d68f-2c87f97bd00d"
   },
   "outputs": [
    {
     "data": {
      "text/plain": [
       "Index(['sample_id', 'mean_radius', 'mean_texture', 'mean_perimeter',\n",
       "       'mean_area', 'mean_smoothness', 'mean_compactness', 'mean_concavity',\n",
       "       'mean_concave_points', 'mean_symmetry', 'mean_fractal_dimension',\n",
       "       'radius_error', 'texture_error', 'perimeter_error', 'area_error',\n",
       "       'smoothness_error', 'compactness_error', 'concavity_error',\n",
       "       'concave_points_error', 'symmetry_error', 'fractal_dimension_error',\n",
       "       'worst_radius', 'worst_texture', 'worst_perimeter', 'worst_area',\n",
       "       'worst_smoothness', 'worst_compactness', 'worst_concavity',\n",
       "       'worst_concave_points', 'worst_symmetry', 'worst_fractal_dimension',\n",
       "       'diagnosis'],\n",
       "      dtype='object')"
      ]
     },
     "execution_count": 32,
     "metadata": {},
     "output_type": "execute_result"
    }
   ],
   "source": [
    "df.columns"
   ]
  },
  {
   "cell_type": "code",
   "execution_count": 33,
   "metadata": {
    "colab": {
     "base_uri": "https://localhost:8080/"
    },
    "executionInfo": {
     "elapsed": 402,
     "status": "ok",
     "timestamp": 1705953130600,
     "user": {
      "displayName": "DANILO SIPOLI SANCHES",
      "userId": "11160205893438547738"
     },
     "user_tz": 180
    },
    "id": "d-bfyfX6Zixf",
    "outputId": "79891bc3-c8c2-49c8-99d7-78a514af8e73"
   },
   "outputs": [
    {
     "name": "stdout",
     "output_type": "stream",
     "text": [
      "ACC: 0.928\n",
      "Recall :0.83\n",
      "Precision :0.98\n",
      "F1-score :0.90\n"
     ]
    }
   ],
   "source": [
    "# Acuracidade\n",
    "print(\"ACC: %.3f\" %(accuracy_score(y_test,y_pred)))\n",
    "#Revocação\n",
    "print(\"Recall :%.2f\" %(recall_score(y_test,y_pred)))\n",
    "#Precisão\n",
    "print(\"Precision :%.2f\" %(precision_score(y_test,y_pred)))\n",
    "#F1-score\n",
    "print(\"F1-score :%.2f\" %(f1_score(y_test,y_pred)))"
   ]
  },
  {
   "cell_type": "code",
   "execution_count": 34,
   "metadata": {
    "colab": {
     "base_uri": "https://localhost:8080/"
    },
    "executionInfo": {
     "elapsed": 504,
     "status": "ok",
     "timestamp": 1705953135717,
     "user": {
      "displayName": "DANILO SIPOLI SANCHES",
      "userId": "11160205893438547738"
     },
     "user_tz": 180
    },
    "id": "-lRGZVZAd8lf",
    "outputId": "9444864b-01c5-4bda-c829-e0d206de4a9d"
   },
   "outputs": [
    {
     "name": "stdout",
     "output_type": "stream",
     "text": [
      "              precision    recall  f1-score   support\n",
      "\n",
      "           0       0.90      0.99      0.94        94\n",
      "           1       0.98      0.83      0.90        58\n",
      "\n",
      "    accuracy                           0.93       152\n",
      "   macro avg       0.94      0.91      0.92       152\n",
      "weighted avg       0.93      0.93      0.93       152\n",
      "\n"
     ]
    }
   ],
   "source": [
    "from sklearn.metrics import classification_report\n",
    "print(classification_report(y_test, y_pred))"
   ]
  },
  {
   "cell_type": "code",
   "execution_count": null,
   "metadata": {},
   "outputs": [],
   "source": []
  }
 ],
 "metadata": {
  "colab": {
   "provenance": []
  },
  "kernelspec": {
   "display_name": "Python 3 (ipykernel)",
   "language": "python",
   "name": "python3"
  },
  "language_info": {
   "codemirror_mode": {
    "name": "ipython",
    "version": 3
   },
   "file_extension": ".py",
   "mimetype": "text/x-python",
   "name": "python",
   "nbconvert_exporter": "python",
   "pygments_lexer": "ipython3",
   "version": "3.11.5"
  }
 },
 "nbformat": 4,
 "nbformat_minor": 4
}
