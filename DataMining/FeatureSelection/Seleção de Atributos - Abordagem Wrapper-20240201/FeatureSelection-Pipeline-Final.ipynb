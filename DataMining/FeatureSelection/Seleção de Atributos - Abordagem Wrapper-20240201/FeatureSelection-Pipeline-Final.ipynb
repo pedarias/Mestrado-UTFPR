{
 "cells": [
  {
   "cell_type": "markdown",
   "metadata": {
    "id": "swdsv2ZT62Y6"
   },
   "source": [
    "## Base: Airline passenger satisfaction\n",
    "\n",
    "* https://www.kaggle.com/datasets/teejmahal20/airline-passenger-satisfaction"
   ]
  },
  {
   "cell_type": "code",
   "execution_count": 9,
   "metadata": {
    "executionInfo": {
     "elapsed": 724,
     "status": "ok",
     "timestamp": 1706619533633,
     "user": {
      "displayName": "DANILO SIPOLI SANCHES",
      "userId": "11160205893438547738"
     },
     "user_tz": 180
    },
    "id": "qwlY85FAKHTv"
   },
   "outputs": [],
   "source": [
    "import numpy as np\n",
    "import pandas as pd\n",
    "import matplotlib.pyplot as plt\n",
    "import seaborn as sns\n",
    "from sklearn.model_selection import train_test_split\n",
    "from sklearn.preprocessing import StandardScaler\n",
    "from sklearn.ensemble import RandomForestClassifier"
   ]
  },
  {
   "cell_type": "code",
   "execution_count": 10,
   "metadata": {
    "executionInfo": {
     "elapsed": 66,
     "status": "ok",
     "timestamp": 1706619534509,
     "user": {
      "displayName": "DANILO SIPOLI SANCHES",
      "userId": "11160205893438547738"
     },
     "user_tz": 180
    },
    "id": "J89hbLN462ZB"
   },
   "outputs": [],
   "source": [
    "# df = pd.read_csv('train.csv')\n",
    "df = pd.read_csv('test.csv')"
   ]
  },
  {
   "cell_type": "code",
   "execution_count": 11,
   "metadata": {
    "colab": {
     "base_uri": "https://localhost:8080/"
    },
    "executionInfo": {
     "elapsed": 65,
     "status": "ok",
     "timestamp": 1706619534510,
     "user": {
      "displayName": "DANILO SIPOLI SANCHES",
      "userId": "11160205893438547738"
     },
     "user_tz": 180
    },
    "id": "yDiJh07Va3tS",
    "outputId": "9a1fa0e5-3b1b-449a-eefb-75337d993300"
   },
   "outputs": [
    {
     "data": {
      "text/plain": [
       "(25976, 25)"
      ]
     },
     "execution_count": 11,
     "metadata": {},
     "output_type": "execute_result"
    }
   ],
   "source": [
    "df.shape"
   ]
  },
  {
   "cell_type": "code",
   "execution_count": 12,
   "metadata": {
    "colab": {
     "base_uri": "https://localhost:8080/"
    },
    "executionInfo": {
     "elapsed": 61,
     "status": "ok",
     "timestamp": 1706619534510,
     "user": {
      "displayName": "DANILO SIPOLI SANCHES",
      "userId": "11160205893438547738"
     },
     "user_tz": 180
    },
    "id": "3pyAZVx162ZB",
    "outputId": "8309f8eb-9744-4953-c20f-896f5e657db0"
   },
   "outputs": [
    {
     "name": "stdout",
     "output_type": "stream",
     "text": [
      "<class 'pandas.core.frame.DataFrame'>\n",
      "RangeIndex: 25976 entries, 0 to 25975\n",
      "Data columns (total 25 columns):\n",
      " #   Column                             Non-Null Count  Dtype  \n",
      "---  ------                             --------------  -----  \n",
      " 0   Unnamed: 0                         25976 non-null  int64  \n",
      " 1   id                                 25976 non-null  int64  \n",
      " 2   Gender                             25976 non-null  object \n",
      " 3   Customer Type                      25976 non-null  object \n",
      " 4   Age                                25976 non-null  int64  \n",
      " 5   Type of Travel                     25976 non-null  object \n",
      " 6   Class                              25976 non-null  object \n",
      " 7   Flight Distance                    25976 non-null  int64  \n",
      " 8   Inflight wifi service              25976 non-null  int64  \n",
      " 9   Departure/Arrival time convenient  25976 non-null  int64  \n",
      " 10  Ease of Online booking             25976 non-null  int64  \n",
      " 11  Gate location                      25976 non-null  int64  \n",
      " 12  Food and drink                     25976 non-null  int64  \n",
      " 13  Online boarding                    25976 non-null  int64  \n",
      " 14  Seat comfort                       25976 non-null  int64  \n",
      " 15  Inflight entertainment             25976 non-null  int64  \n",
      " 16  On-board service                   25976 non-null  int64  \n",
      " 17  Leg room service                   25976 non-null  int64  \n",
      " 18  Baggage handling                   25976 non-null  int64  \n",
      " 19  Checkin service                    25976 non-null  int64  \n",
      " 20  Inflight service                   25976 non-null  int64  \n",
      " 21  Cleanliness                        25976 non-null  int64  \n",
      " 22  Departure Delay in Minutes         25976 non-null  int64  \n",
      " 23  Arrival Delay in Minutes           25893 non-null  float64\n",
      " 24  satisfaction                       25976 non-null  object \n",
      "dtypes: float64(1), int64(19), object(5)\n",
      "memory usage: 5.0+ MB\n"
     ]
    }
   ],
   "source": [
    "df.info()"
   ]
  },
  {
   "cell_type": "markdown",
   "metadata": {
    "id": "inxS2tEI62ZA"
   },
   "source": [
    "## Limpeza dos Dados"
   ]
  },
  {
   "cell_type": "markdown",
   "metadata": {
    "id": "nmhDxjpe62ZA"
   },
   "source": [
    "### Dados Faltantes"
   ]
  },
  {
   "cell_type": "code",
   "execution_count": 13,
   "metadata": {
    "colab": {
     "base_uri": "https://localhost:8080/"
    },
    "executionInfo": {
     "elapsed": 57,
     "status": "ok",
     "timestamp": 1706619534511,
     "user": {
      "displayName": "DANILO SIPOLI SANCHES",
      "userId": "11160205893438547738"
     },
     "user_tz": 180
    },
    "id": "ZLdJd7MvE7L_",
    "outputId": "71d8f0fe-5ad4-408e-b2f4-57602897b6f5"
   },
   "outputs": [
    {
     "data": {
      "text/plain": [
       "Unnamed: 0                            0\n",
       "id                                    0\n",
       "Gender                                0\n",
       "Customer Type                         0\n",
       "Age                                   0\n",
       "Type of Travel                        0\n",
       "Class                                 0\n",
       "Flight Distance                       0\n",
       "Inflight wifi service                 0\n",
       "Departure/Arrival time convenient     0\n",
       "Ease of Online booking                0\n",
       "Gate location                         0\n",
       "Food and drink                        0\n",
       "Online boarding                       0\n",
       "Seat comfort                          0\n",
       "Inflight entertainment                0\n",
       "On-board service                      0\n",
       "Leg room service                      0\n",
       "Baggage handling                      0\n",
       "Checkin service                       0\n",
       "Inflight service                      0\n",
       "Cleanliness                           0\n",
       "Departure Delay in Minutes            0\n",
       "Arrival Delay in Minutes             83\n",
       "satisfaction                          0\n",
       "dtype: int64"
      ]
     },
     "execution_count": 13,
     "metadata": {},
     "output_type": "execute_result"
    }
   ],
   "source": [
    "df.isnull().sum()"
   ]
  },
  {
   "cell_type": "code",
   "execution_count": 14,
   "metadata": {
    "executionInfo": {
     "elapsed": 54,
     "status": "ok",
     "timestamp": 1706619534512,
     "user": {
      "displayName": "DANILO SIPOLI SANCHES",
      "userId": "11160205893438547738"
     },
     "user_tz": 180
    },
    "id": "xjzfJ828HPM1"
   },
   "outputs": [],
   "source": [
    "# Remove id and Unnamed: 0\n",
    "df.drop(['Unnamed: 0'],axis=1, inplace=True)\n",
    "df.drop(['id'], axis=1, inplace=True)"
   ]
  },
  {
   "cell_type": "code",
   "execution_count": 15,
   "metadata": {
    "colab": {
     "base_uri": "https://localhost:8080/"
    },
    "executionInfo": {
     "elapsed": 53,
     "status": "ok",
     "timestamp": 1706619534512,
     "user": {
      "displayName": "DANILO SIPOLI SANCHES",
      "userId": "11160205893438547738"
     },
     "user_tz": 180
    },
    "id": "xYg8zChHOSB8",
    "outputId": "4ac15ccd-7171-4582-c89d-c4cf744be411"
   },
   "outputs": [
    {
     "data": {
      "text/plain": [
       "Index(['Gender', 'Customer Type', 'Age', 'Type of Travel', 'Class',\n",
       "       'Flight Distance', 'Inflight wifi service',\n",
       "       'Departure/Arrival time convenient', 'Ease of Online booking',\n",
       "       'Gate location', 'Food and drink', 'Online boarding', 'Seat comfort',\n",
       "       'Inflight entertainment', 'On-board service', 'Leg room service',\n",
       "       'Baggage handling', 'Checkin service', 'Inflight service',\n",
       "       'Cleanliness', 'Departure Delay in Minutes', 'Arrival Delay in Minutes',\n",
       "       'satisfaction'],\n",
       "      dtype='object')"
      ]
     },
     "execution_count": 15,
     "metadata": {},
     "output_type": "execute_result"
    }
   ],
   "source": [
    "df.columns"
   ]
  },
  {
   "cell_type": "markdown",
   "metadata": {
    "id": "pzFmhek0O0Ln"
   },
   "source": [
    "## Substituição dados faltantes em Arrival Delay in Minutes"
   ]
  },
  {
   "cell_type": "code",
   "execution_count": 16,
   "metadata": {
    "executionInfo": {
     "elapsed": 49,
     "status": "ok",
     "timestamp": 1706619534513,
     "user": {
      "displayName": "DANILO SIPOLI SANCHES",
      "userId": "11160205893438547738"
     },
     "user_tz": 180
    },
    "id": "bpTFe5QnO53f"
   },
   "outputs": [],
   "source": [
    "media = df['Arrival Delay in Minutes'].mean()\n",
    "df['Arrival Delay in Minutes'].fillna(media, inplace=True)"
   ]
  },
  {
   "cell_type": "code",
   "execution_count": 17,
   "metadata": {
    "colab": {
     "base_uri": "https://localhost:8080/"
    },
    "executionInfo": {
     "elapsed": 48,
     "status": "ok",
     "timestamp": 1706619534513,
     "user": {
      "displayName": "DANILO SIPOLI SANCHES",
      "userId": "11160205893438547738"
     },
     "user_tz": 180
    },
    "id": "IEyat1mIPTHu",
    "outputId": "1f0642a6-e239-4637-b0a2-47be09f6ce1a"
   },
   "outputs": [
    {
     "data": {
      "text/plain": [
       "0"
      ]
     },
     "execution_count": 17,
     "metadata": {},
     "output_type": "execute_result"
    }
   ],
   "source": [
    "df['Arrival Delay in Minutes'].isnull().sum()"
   ]
  },
  {
   "cell_type": "markdown",
   "metadata": {
    "id": "xkmdqntSPmEs"
   },
   "source": [
    "## Transformação dados categóricos"
   ]
  },
  {
   "cell_type": "code",
   "execution_count": 18,
   "metadata": {
    "executionInfo": {
     "elapsed": 45,
     "status": "ok",
     "timestamp": 1706619534514,
     "user": {
      "displayName": "DANILO SIPOLI SANCHES",
      "userId": "11160205893438547738"
     },
     "user_tz": 180
    },
    "id": "2UszGOzcPwfr"
   },
   "outputs": [],
   "source": [
    "from sklearn.preprocessing import LabelEncoder"
   ]
  },
  {
   "cell_type": "code",
   "execution_count": 19,
   "metadata": {
    "colab": {
     "base_uri": "https://localhost:8080/"
    },
    "executionInfo": {
     "elapsed": 45,
     "status": "ok",
     "timestamp": 1706619534515,
     "user": {
      "displayName": "DANILO SIPOLI SANCHES",
      "userId": "11160205893438547738"
     },
     "user_tz": 180
    },
    "id": "2AF2GoYZP0fq",
    "outputId": "a40f7ee4-1bd9-439a-d42b-0a015c988057"
   },
   "outputs": [
    {
     "name": "stdout",
     "output_type": "stream",
     "text": [
      "Gender: ['Female' 'Male']\n",
      "Customer Type: ['Loyal Customer' 'disloyal Customer']\n",
      "Type of Travel: ['Business travel' 'Personal Travel']\n",
      "Class: ['Eco' 'Business' 'Eco Plus']\n",
      "satisfaction: ['satisfied' 'neutral or dissatisfied']\n"
     ]
    }
   ],
   "source": [
    "for i in df.columns:\n",
    "  if(df[i].dtype=='object'):\n",
    "    print(f'{i}: {df[i].unique()}')"
   ]
  },
  {
   "cell_type": "code",
   "execution_count": 20,
   "metadata": {
    "executionInfo": {
     "elapsed": 41,
     "status": "ok",
     "timestamp": 1706619534515,
     "user": {
      "displayName": "DANILO SIPOLI SANCHES",
      "userId": "11160205893438547738"
     },
     "user_tz": 180
    },
    "id": "K1ib2kROPwfr"
   },
   "outputs": [],
   "source": [
    "# Transforma os dados categóricos\n",
    "labelencoder = LabelEncoder()\n",
    "df['Gender'] = labelencoder.fit_transform(df['Gender'])\n",
    "df['Customer Type'] = labelencoder.fit_transform(df['Customer Type'])\n",
    "df['Type of Travel'] = labelencoder.fit_transform(df['Type of Travel'])\n",
    "df['Class'] = labelencoder.fit_transform(df['Class'])\n",
    "df['satisfaction'] = labelencoder.fit_transform(df['satisfaction'])"
   ]
  },
  {
   "cell_type": "code",
   "execution_count": 21,
   "metadata": {
    "colab": {
     "base_uri": "https://localhost:8080/"
    },
    "executionInfo": {
     "elapsed": 42,
     "status": "ok",
     "timestamp": 1706619534516,
     "user": {
      "displayName": "DANILO SIPOLI SANCHES",
      "userId": "11160205893438547738"
     },
     "user_tz": 180
    },
    "id": "doJNvs-vSivo",
    "outputId": "a9ba39eb-dbe0-41c4-9fbc-c6ef5df46bb0"
   },
   "outputs": [
    {
     "name": "stdout",
     "output_type": "stream",
     "text": [
      "<class 'pandas.core.frame.DataFrame'>\n",
      "RangeIndex: 25976 entries, 0 to 25975\n",
      "Data columns (total 23 columns):\n",
      " #   Column                             Non-Null Count  Dtype  \n",
      "---  ------                             --------------  -----  \n",
      " 0   Gender                             25976 non-null  int64  \n",
      " 1   Customer Type                      25976 non-null  int64  \n",
      " 2   Age                                25976 non-null  int64  \n",
      " 3   Type of Travel                     25976 non-null  int64  \n",
      " 4   Class                              25976 non-null  int64  \n",
      " 5   Flight Distance                    25976 non-null  int64  \n",
      " 6   Inflight wifi service              25976 non-null  int64  \n",
      " 7   Departure/Arrival time convenient  25976 non-null  int64  \n",
      " 8   Ease of Online booking             25976 non-null  int64  \n",
      " 9   Gate location                      25976 non-null  int64  \n",
      " 10  Food and drink                     25976 non-null  int64  \n",
      " 11  Online boarding                    25976 non-null  int64  \n",
      " 12  Seat comfort                       25976 non-null  int64  \n",
      " 13  Inflight entertainment             25976 non-null  int64  \n",
      " 14  On-board service                   25976 non-null  int64  \n",
      " 15  Leg room service                   25976 non-null  int64  \n",
      " 16  Baggage handling                   25976 non-null  int64  \n",
      " 17  Checkin service                    25976 non-null  int64  \n",
      " 18  Inflight service                   25976 non-null  int64  \n",
      " 19  Cleanliness                        25976 non-null  int64  \n",
      " 20  Departure Delay in Minutes         25976 non-null  int64  \n",
      " 21  Arrival Delay in Minutes           25976 non-null  float64\n",
      " 22  satisfaction                       25976 non-null  int64  \n",
      "dtypes: float64(1), int64(22)\n",
      "memory usage: 4.6 MB\n"
     ]
    }
   ],
   "source": [
    "df.info()"
   ]
  },
  {
   "cell_type": "markdown",
   "metadata": {
    "id": "usH6Zyuk62ZD"
   },
   "source": [
    "## Normalização de atributos numéricos"
   ]
  },
  {
   "cell_type": "code",
   "execution_count": 22,
   "metadata": {
    "colab": {
     "base_uri": "https://localhost:8080/",
     "height": 307
    },
    "executionInfo": {
     "elapsed": 38,
     "status": "ok",
     "timestamp": 1706619534517,
     "user": {
      "displayName": "DANILO SIPOLI SANCHES",
      "userId": "11160205893438547738"
     },
     "user_tz": 180
    },
    "id": "FFGy8g8wSpob",
    "outputId": "bf61a220-0c56-4851-9195-f737c5eb00f1"
   },
   "outputs": [
    {
     "data": {
      "text/html": [
       "<div>\n",
       "<style scoped>\n",
       "    .dataframe tbody tr th:only-of-type {\n",
       "        vertical-align: middle;\n",
       "    }\n",
       "\n",
       "    .dataframe tbody tr th {\n",
       "        vertical-align: top;\n",
       "    }\n",
       "\n",
       "    .dataframe thead th {\n",
       "        text-align: right;\n",
       "    }\n",
       "</style>\n",
       "<table border=\"1\" class=\"dataframe\">\n",
       "  <thead>\n",
       "    <tr style=\"text-align: right;\">\n",
       "      <th></th>\n",
       "      <th>Gender</th>\n",
       "      <th>Customer Type</th>\n",
       "      <th>Age</th>\n",
       "      <th>Type of Travel</th>\n",
       "      <th>Class</th>\n",
       "      <th>Flight Distance</th>\n",
       "      <th>Inflight wifi service</th>\n",
       "      <th>Departure/Arrival time convenient</th>\n",
       "      <th>Ease of Online booking</th>\n",
       "      <th>Gate location</th>\n",
       "      <th>...</th>\n",
       "      <th>Inflight entertainment</th>\n",
       "      <th>On-board service</th>\n",
       "      <th>Leg room service</th>\n",
       "      <th>Baggage handling</th>\n",
       "      <th>Checkin service</th>\n",
       "      <th>Inflight service</th>\n",
       "      <th>Cleanliness</th>\n",
       "      <th>Departure Delay in Minutes</th>\n",
       "      <th>Arrival Delay in Minutes</th>\n",
       "      <th>satisfaction</th>\n",
       "    </tr>\n",
       "  </thead>\n",
       "  <tbody>\n",
       "    <tr>\n",
       "      <th>0</th>\n",
       "      <td>0</td>\n",
       "      <td>0</td>\n",
       "      <td>52</td>\n",
       "      <td>0</td>\n",
       "      <td>1</td>\n",
       "      <td>160</td>\n",
       "      <td>5</td>\n",
       "      <td>4</td>\n",
       "      <td>3</td>\n",
       "      <td>4</td>\n",
       "      <td>...</td>\n",
       "      <td>5</td>\n",
       "      <td>5</td>\n",
       "      <td>5</td>\n",
       "      <td>5</td>\n",
       "      <td>2</td>\n",
       "      <td>5</td>\n",
       "      <td>5</td>\n",
       "      <td>50</td>\n",
       "      <td>44.0</td>\n",
       "      <td>1</td>\n",
       "    </tr>\n",
       "    <tr>\n",
       "      <th>1</th>\n",
       "      <td>0</td>\n",
       "      <td>0</td>\n",
       "      <td>36</td>\n",
       "      <td>0</td>\n",
       "      <td>0</td>\n",
       "      <td>2863</td>\n",
       "      <td>1</td>\n",
       "      <td>1</td>\n",
       "      <td>3</td>\n",
       "      <td>1</td>\n",
       "      <td>...</td>\n",
       "      <td>4</td>\n",
       "      <td>4</td>\n",
       "      <td>4</td>\n",
       "      <td>4</td>\n",
       "      <td>3</td>\n",
       "      <td>4</td>\n",
       "      <td>5</td>\n",
       "      <td>0</td>\n",
       "      <td>0.0</td>\n",
       "      <td>1</td>\n",
       "    </tr>\n",
       "    <tr>\n",
       "      <th>2</th>\n",
       "      <td>1</td>\n",
       "      <td>1</td>\n",
       "      <td>20</td>\n",
       "      <td>0</td>\n",
       "      <td>1</td>\n",
       "      <td>192</td>\n",
       "      <td>2</td>\n",
       "      <td>0</td>\n",
       "      <td>2</td>\n",
       "      <td>4</td>\n",
       "      <td>...</td>\n",
       "      <td>2</td>\n",
       "      <td>4</td>\n",
       "      <td>1</td>\n",
       "      <td>3</td>\n",
       "      <td>2</td>\n",
       "      <td>2</td>\n",
       "      <td>2</td>\n",
       "      <td>0</td>\n",
       "      <td>0.0</td>\n",
       "      <td>0</td>\n",
       "    </tr>\n",
       "    <tr>\n",
       "      <th>3</th>\n",
       "      <td>1</td>\n",
       "      <td>0</td>\n",
       "      <td>44</td>\n",
       "      <td>0</td>\n",
       "      <td>0</td>\n",
       "      <td>3377</td>\n",
       "      <td>0</td>\n",
       "      <td>0</td>\n",
       "      <td>0</td>\n",
       "      <td>2</td>\n",
       "      <td>...</td>\n",
       "      <td>1</td>\n",
       "      <td>1</td>\n",
       "      <td>1</td>\n",
       "      <td>1</td>\n",
       "      <td>3</td>\n",
       "      <td>1</td>\n",
       "      <td>4</td>\n",
       "      <td>0</td>\n",
       "      <td>6.0</td>\n",
       "      <td>1</td>\n",
       "    </tr>\n",
       "    <tr>\n",
       "      <th>4</th>\n",
       "      <td>0</td>\n",
       "      <td>0</td>\n",
       "      <td>49</td>\n",
       "      <td>0</td>\n",
       "      <td>1</td>\n",
       "      <td>1182</td>\n",
       "      <td>2</td>\n",
       "      <td>3</td>\n",
       "      <td>4</td>\n",
       "      <td>3</td>\n",
       "      <td>...</td>\n",
       "      <td>2</td>\n",
       "      <td>2</td>\n",
       "      <td>2</td>\n",
       "      <td>2</td>\n",
       "      <td>4</td>\n",
       "      <td>2</td>\n",
       "      <td>4</td>\n",
       "      <td>0</td>\n",
       "      <td>20.0</td>\n",
       "      <td>1</td>\n",
       "    </tr>\n",
       "  </tbody>\n",
       "</table>\n",
       "<p>5 rows × 23 columns</p>\n",
       "</div>"
      ],
      "text/plain": [
       "   Gender  Customer Type  Age  Type of Travel  Class  Flight Distance  \\\n",
       "0       0              0   52               0      1              160   \n",
       "1       0              0   36               0      0             2863   \n",
       "2       1              1   20               0      1              192   \n",
       "3       1              0   44               0      0             3377   \n",
       "4       0              0   49               0      1             1182   \n",
       "\n",
       "   Inflight wifi service  Departure/Arrival time convenient  \\\n",
       "0                      5                                  4   \n",
       "1                      1                                  1   \n",
       "2                      2                                  0   \n",
       "3                      0                                  0   \n",
       "4                      2                                  3   \n",
       "\n",
       "   Ease of Online booking  Gate location  ...  Inflight entertainment  \\\n",
       "0                       3              4  ...                       5   \n",
       "1                       3              1  ...                       4   \n",
       "2                       2              4  ...                       2   \n",
       "3                       0              2  ...                       1   \n",
       "4                       4              3  ...                       2   \n",
       "\n",
       "   On-board service  Leg room service  Baggage handling  Checkin service  \\\n",
       "0                 5                 5                 5                2   \n",
       "1                 4                 4                 4                3   \n",
       "2                 4                 1                 3                2   \n",
       "3                 1                 1                 1                3   \n",
       "4                 2                 2                 2                4   \n",
       "\n",
       "   Inflight service  Cleanliness  Departure Delay in Minutes  \\\n",
       "0                 5            5                          50   \n",
       "1                 4            5                           0   \n",
       "2                 2            2                           0   \n",
       "3                 1            4                           0   \n",
       "4                 2            4                           0   \n",
       "\n",
       "   Arrival Delay in Minutes  satisfaction  \n",
       "0                      44.0             1  \n",
       "1                       0.0             1  \n",
       "2                       0.0             0  \n",
       "3                       6.0             1  \n",
       "4                      20.0             1  \n",
       "\n",
       "[5 rows x 23 columns]"
      ]
     },
     "execution_count": 22,
     "metadata": {},
     "output_type": "execute_result"
    }
   ],
   "source": [
    "df.head()"
   ]
  },
  {
   "cell_type": "code",
   "execution_count": 23,
   "metadata": {
    "colab": {
     "base_uri": "https://localhost:8080/"
    },
    "executionInfo": {
     "elapsed": 35,
     "status": "ok",
     "timestamp": 1706619534517,
     "user": {
      "displayName": "DANILO SIPOLI SANCHES",
      "userId": "11160205893438547738"
     },
     "user_tz": 180
    },
    "id": "3nglmfwyN4xd",
    "outputId": "2fdd4849-ed4a-45db-cf0d-9a80472051f3"
   },
   "outputs": [
    {
     "name": "stdout",
     "output_type": "stream",
     "text": [
      "['Age', 'Flight Distance', 'Inflight wifi service', 'Departure/Arrival time convenient', 'Ease of Online booking', 'Gate location', 'Food and drink', 'Online boarding', 'Seat comfort', 'Inflight entertainment', 'On-board service', 'Leg room service', 'Baggage handling', 'Checkin service', 'Inflight service', 'Cleanliness', 'Departure Delay in Minutes', 'Arrival Delay in Minutes']\n"
     ]
    }
   ],
   "source": [
    "scaler_cols = ['Age', 'Flight Distance', 'Inflight wifi service',\n",
    "       'Departure/Arrival time convenient', 'Ease of Online booking',\n",
    "       'Gate location', 'Food and drink', 'Online boarding', 'Seat comfort',\n",
    "       'Inflight entertainment', 'On-board service', 'Leg room service',\n",
    "       'Baggage handling', 'Checkin service', 'Inflight service',\n",
    "       'Cleanliness', 'Departure Delay in Minutes',\n",
    "       'Arrival Delay in Minutes']\n",
    "print(scaler_cols)"
   ]
  },
  {
   "cell_type": "code",
   "execution_count": 24,
   "metadata": {
    "executionInfo": {
     "elapsed": 31,
     "status": "ok",
     "timestamp": 1706619534518,
     "user": {
      "displayName": "DANILO SIPOLI SANCHES",
      "userId": "11160205893438547738"
     },
     "user_tz": 180
    },
    "id": "ZgDNZG1F62ZE"
   },
   "outputs": [],
   "source": [
    "from sklearn.preprocessing import StandardScaler\n",
    "\n",
    "scaler = StandardScaler()\n",
    "ajuste = scaler.fit(df[scaler_cols])\n",
    "df[scaler_cols] = ajuste.transform(df[scaler_cols])"
   ]
  },
  {
   "cell_type": "code",
   "execution_count": 25,
   "metadata": {
    "colab": {
     "base_uri": "https://localhost:8080/",
     "height": 307
    },
    "executionInfo": {
     "elapsed": 30,
     "status": "ok",
     "timestamp": 1706619534518,
     "user": {
      "displayName": "DANILO SIPOLI SANCHES",
      "userId": "11160205893438547738"
     },
     "user_tz": 180
    },
    "id": "TE4ysMhT62ZF",
    "outputId": "8b485b07-69d1-4132-ed15-650a1ef2f1f7"
   },
   "outputs": [
    {
     "data": {
      "text/html": [
       "<div>\n",
       "<style scoped>\n",
       "    .dataframe tbody tr th:only-of-type {\n",
       "        vertical-align: middle;\n",
       "    }\n",
       "\n",
       "    .dataframe tbody tr th {\n",
       "        vertical-align: top;\n",
       "    }\n",
       "\n",
       "    .dataframe thead th {\n",
       "        text-align: right;\n",
       "    }\n",
       "</style>\n",
       "<table border=\"1\" class=\"dataframe\">\n",
       "  <thead>\n",
       "    <tr style=\"text-align: right;\">\n",
       "      <th></th>\n",
       "      <th>Gender</th>\n",
       "      <th>Customer Type</th>\n",
       "      <th>Age</th>\n",
       "      <th>Type of Travel</th>\n",
       "      <th>Class</th>\n",
       "      <th>Flight Distance</th>\n",
       "      <th>Inflight wifi service</th>\n",
       "      <th>Departure/Arrival time convenient</th>\n",
       "      <th>Ease of Online booking</th>\n",
       "      <th>Gate location</th>\n",
       "      <th>...</th>\n",
       "      <th>Inflight entertainment</th>\n",
       "      <th>On-board service</th>\n",
       "      <th>Leg room service</th>\n",
       "      <th>Baggage handling</th>\n",
       "      <th>Checkin service</th>\n",
       "      <th>Inflight service</th>\n",
       "      <th>Cleanliness</th>\n",
       "      <th>Departure Delay in Minutes</th>\n",
       "      <th>Arrival Delay in Minutes</th>\n",
       "      <th>satisfaction</th>\n",
       "    </tr>\n",
       "  </thead>\n",
       "  <tbody>\n",
       "    <tr>\n",
       "      <th>0</th>\n",
       "      <td>0</td>\n",
       "      <td>0</td>\n",
       "      <td>0.817887</td>\n",
       "      <td>0</td>\n",
       "      <td>1</td>\n",
       "      <td>-1.035171</td>\n",
       "      <td>1.703853</td>\n",
       "      <td>0.621641</td>\n",
       "      <td>0.172143</td>\n",
       "      <td>0.797831</td>\n",
       "      <td>...</td>\n",
       "      <td>1.227138</td>\n",
       "      <td>1.259170</td>\n",
       "      <td>1.250974</td>\n",
       "      <td>1.161716</td>\n",
       "      <td>-1.035348</td>\n",
       "      <td>1.144063</td>\n",
       "      <td>1.298998</td>\n",
       "      <td>0.953810</td>\n",
       "      <td>0.781143</td>\n",
       "      <td>1</td>\n",
       "    </tr>\n",
       "    <tr>\n",
       "      <th>1</th>\n",
       "      <td>0</td>\n",
       "      <td>0</td>\n",
       "      <td>-0.239238</td>\n",
       "      <td>0</td>\n",
       "      <td>0</td>\n",
       "      <td>1.671443</td>\n",
       "      <td>-1.291598</td>\n",
       "      <td>-1.334871</td>\n",
       "      <td>0.172143</td>\n",
       "      <td>-1.542065</td>\n",
       "      <td>...</td>\n",
       "      <td>0.479907</td>\n",
       "      <td>0.479178</td>\n",
       "      <td>0.492730</td>\n",
       "      <td>0.311739</td>\n",
       "      <td>-0.247517</td>\n",
       "      <td>0.297077</td>\n",
       "      <td>1.298998</td>\n",
       "      <td>-0.382286</td>\n",
       "      <td>-0.393543</td>\n",
       "      <td>1</td>\n",
       "    </tr>\n",
       "    <tr>\n",
       "      <th>2</th>\n",
       "      <td>1</td>\n",
       "      <td>1</td>\n",
       "      <td>-1.296363</td>\n",
       "      <td>0</td>\n",
       "      <td>1</td>\n",
       "      <td>-1.003128</td>\n",
       "      <td>-0.542735</td>\n",
       "      <td>-1.987042</td>\n",
       "      <td>-0.535609</td>\n",
       "      <td>0.797831</td>\n",
       "      <td>...</td>\n",
       "      <td>-1.014556</td>\n",
       "      <td>0.479178</td>\n",
       "      <td>-1.782001</td>\n",
       "      <td>-0.538238</td>\n",
       "      <td>-1.035348</td>\n",
       "      <td>-1.396893</td>\n",
       "      <td>-0.974927</td>\n",
       "      <td>-0.382286</td>\n",
       "      <td>-0.393543</td>\n",
       "      <td>0</td>\n",
       "    </tr>\n",
       "    <tr>\n",
       "      <th>3</th>\n",
       "      <td>1</td>\n",
       "      <td>0</td>\n",
       "      <td>0.289325</td>\n",
       "      <td>0</td>\n",
       "      <td>0</td>\n",
       "      <td>2.186131</td>\n",
       "      <td>-2.040460</td>\n",
       "      <td>-1.987042</td>\n",
       "      <td>-1.951114</td>\n",
       "      <td>-0.762100</td>\n",
       "      <td>...</td>\n",
       "      <td>-1.761787</td>\n",
       "      <td>-1.860800</td>\n",
       "      <td>-1.782001</td>\n",
       "      <td>-2.238193</td>\n",
       "      <td>-0.247517</td>\n",
       "      <td>-2.243878</td>\n",
       "      <td>0.541023</td>\n",
       "      <td>-0.382286</td>\n",
       "      <td>-0.233358</td>\n",
       "      <td>1</td>\n",
       "    </tr>\n",
       "    <tr>\n",
       "      <th>4</th>\n",
       "      <td>0</td>\n",
       "      <td>0</td>\n",
       "      <td>0.619676</td>\n",
       "      <td>0</td>\n",
       "      <td>1</td>\n",
       "      <td>-0.011804</td>\n",
       "      <td>-0.542735</td>\n",
       "      <td>-0.030530</td>\n",
       "      <td>0.879895</td>\n",
       "      <td>0.017866</td>\n",
       "      <td>...</td>\n",
       "      <td>-1.014556</td>\n",
       "      <td>-1.080807</td>\n",
       "      <td>-1.023758</td>\n",
       "      <td>-1.388216</td>\n",
       "      <td>0.540315</td>\n",
       "      <td>-1.396893</td>\n",
       "      <td>0.541023</td>\n",
       "      <td>-0.382286</td>\n",
       "      <td>0.140405</td>\n",
       "      <td>1</td>\n",
       "    </tr>\n",
       "  </tbody>\n",
       "</table>\n",
       "<p>5 rows × 23 columns</p>\n",
       "</div>"
      ],
      "text/plain": [
       "   Gender  Customer Type       Age  Type of Travel  Class  Flight Distance  \\\n",
       "0       0              0  0.817887               0      1        -1.035171   \n",
       "1       0              0 -0.239238               0      0         1.671443   \n",
       "2       1              1 -1.296363               0      1        -1.003128   \n",
       "3       1              0  0.289325               0      0         2.186131   \n",
       "4       0              0  0.619676               0      1        -0.011804   \n",
       "\n",
       "   Inflight wifi service  Departure/Arrival time convenient  \\\n",
       "0               1.703853                           0.621641   \n",
       "1              -1.291598                          -1.334871   \n",
       "2              -0.542735                          -1.987042   \n",
       "3              -2.040460                          -1.987042   \n",
       "4              -0.542735                          -0.030530   \n",
       "\n",
       "   Ease of Online booking  Gate location  ...  Inflight entertainment  \\\n",
       "0                0.172143       0.797831  ...                1.227138   \n",
       "1                0.172143      -1.542065  ...                0.479907   \n",
       "2               -0.535609       0.797831  ...               -1.014556   \n",
       "3               -1.951114      -0.762100  ...               -1.761787   \n",
       "4                0.879895       0.017866  ...               -1.014556   \n",
       "\n",
       "   On-board service  Leg room service  Baggage handling  Checkin service  \\\n",
       "0          1.259170          1.250974          1.161716        -1.035348   \n",
       "1          0.479178          0.492730          0.311739        -0.247517   \n",
       "2          0.479178         -1.782001         -0.538238        -1.035348   \n",
       "3         -1.860800         -1.782001         -2.238193        -0.247517   \n",
       "4         -1.080807         -1.023758         -1.388216         0.540315   \n",
       "\n",
       "   Inflight service  Cleanliness  Departure Delay in Minutes  \\\n",
       "0          1.144063     1.298998                    0.953810   \n",
       "1          0.297077     1.298998                   -0.382286   \n",
       "2         -1.396893    -0.974927                   -0.382286   \n",
       "3         -2.243878     0.541023                   -0.382286   \n",
       "4         -1.396893     0.541023                   -0.382286   \n",
       "\n",
       "   Arrival Delay in Minutes  satisfaction  \n",
       "0                  0.781143             1  \n",
       "1                 -0.393543             1  \n",
       "2                 -0.393543             0  \n",
       "3                 -0.233358             1  \n",
       "4                  0.140405             1  \n",
       "\n",
       "[5 rows x 23 columns]"
      ]
     },
     "execution_count": 25,
     "metadata": {},
     "output_type": "execute_result"
    }
   ],
   "source": [
    "df.head()"
   ]
  },
  {
   "cell_type": "markdown",
   "metadata": {
    "id": "CXPWjQ8HUnTa"
   },
   "source": [
    "## Modelos de Machine Learning"
   ]
  },
  {
   "cell_type": "markdown",
   "metadata": {
    "id": "6iMAE5MjUnTb"
   },
   "source": [
    "### Separação entre treino e teste"
   ]
  },
  {
   "cell_type": "code",
   "execution_count": 26,
   "metadata": {
    "executionInfo": {
     "elapsed": 28,
     "status": "ok",
     "timestamp": 1706619534519,
     "user": {
      "displayName": "DANILO SIPOLI SANCHES",
      "userId": "11160205893438547738"
     },
     "user_tz": 180
    },
    "id": "uRXTYiG5UnTb"
   },
   "outputs": [],
   "source": [
    "# Formato dataframe e series\n",
    "X = df.drop(['satisfaction'], axis=1)\n",
    "y = df['satisfaction']"
   ]
  },
  {
   "cell_type": "code",
   "execution_count": 27,
   "metadata": {
    "executionInfo": {
     "elapsed": 28,
     "status": "ok",
     "timestamp": 1706619534520,
     "user": {
      "displayName": "DANILO SIPOLI SANCHES",
      "userId": "11160205893438547738"
     },
     "user_tz": 180
    },
    "id": "PKa5Rxx0UnTc"
   },
   "outputs": [],
   "source": [
    "X_train, X_test, y_train, y_test = train_test_split(X, y, test_size=0.3)"
   ]
  },
  {
   "cell_type": "markdown",
   "metadata": {
    "id": "qGIFAsLLUnTc"
   },
   "source": [
    "### Randon Forest"
   ]
  },
  {
   "cell_type": "code",
   "execution_count": 28,
   "metadata": {
    "colab": {
     "base_uri": "https://localhost:8080/"
    },
    "executionInfo": {
     "elapsed": 2452,
     "status": "ok",
     "timestamp": 1706619536945,
     "user": {
      "displayName": "DANILO SIPOLI SANCHES",
      "userId": "11160205893438547738"
     },
     "user_tz": 180
    },
    "id": "lUxg8HWoWiRX",
    "outputId": "ac746d71-9582-435d-b3e8-da6d0dd82770"
   },
   "outputs": [
    {
     "name": "stdout",
     "output_type": "stream",
     "text": [
      "Training Score 1.0\n",
      "Testing Score \n",
      " 0.9538046965225202\n"
     ]
    }
   ],
   "source": [
    "forest = RandomForestClassifier(n_estimators = 100)\n",
    "\n",
    "forest.fit(X_train, y_train)\n",
    "forest_score = forest.score(X_train, y_train)\n",
    "forest_test = forest.score(X_test, y_test)\n",
    "\n",
    "y_pred = forest.predict(X_test)\n",
    "print('Training Score',forest_score)\n",
    "print('Testing Score \\n',forest_test)\n"
   ]
  },
  {
   "cell_type": "markdown",
   "metadata": {
    "id": "h1lC5_srUnTe"
   },
   "source": [
    "### Métricas de avaliação"
   ]
  },
  {
   "cell_type": "code",
   "execution_count": 29,
   "metadata": {
    "executionInfo": {
     "elapsed": 21,
     "status": "ok",
     "timestamp": 1706619536946,
     "user": {
      "displayName": "DANILO SIPOLI SANCHES",
      "userId": "11160205893438547738"
     },
     "user_tz": 180
    },
    "id": "ULUQuXs7UnTe"
   },
   "outputs": [],
   "source": [
    "from sklearn.metrics import confusion_matrix, ConfusionMatrixDisplay\n",
    "from sklearn.metrics import (recall_score,\n",
    "                             accuracy_score,\n",
    "                             precision_score,\n",
    "                             f1_score)"
   ]
  },
  {
   "cell_type": "code",
   "execution_count": 30,
   "metadata": {
    "colab": {
     "base_uri": "https://localhost:8080/"
    },
    "executionInfo": {
     "elapsed": 19,
     "status": "ok",
     "timestamp": 1706619536946,
     "user": {
      "displayName": "DANILO SIPOLI SANCHES",
      "userId": "11160205893438547738"
     },
     "user_tz": 180
    },
    "id": "OCDPjt7KUnTg",
    "outputId": "22e9db67-784e-4bde-ae59-719329f2eb8a"
   },
   "outputs": [
    {
     "name": "stdout",
     "output_type": "stream",
     "text": [
      "ACC: 0.954\n",
      "Recall :0.94\n",
      "Precision :0.96\n",
      "F1-score :0.95\n"
     ]
    }
   ],
   "source": [
    "# Acuracidade\n",
    "print(\"ACC: %.3f\" %(accuracy_score(y_test,y_pred)))\n",
    "#Revocação\n",
    "print(\"Recall :%.2f\" %(recall_score(y_test,y_pred)))\n",
    "#Precisão\n",
    "print(\"Precision :%.2f\" %(precision_score(y_test,y_pred)))\n",
    "#F1-score\n",
    "print(\"F1-score :%.2f\" %(f1_score(y_test,y_pred)))\n"
   ]
  },
  {
   "cell_type": "code",
   "execution_count": 31,
   "metadata": {
    "colab": {
     "base_uri": "https://localhost:8080/"
    },
    "executionInfo": {
     "elapsed": 15,
     "status": "ok",
     "timestamp": 1706619536947,
     "user": {
      "displayName": "DANILO SIPOLI SANCHES",
      "userId": "11160205893438547738"
     },
     "user_tz": 180
    },
    "id": "-lRGZVZAd8lf",
    "outputId": "9fde33ad-1fb4-43ec-c15d-6a8fc146717d"
   },
   "outputs": [
    {
     "name": "stdout",
     "output_type": "stream",
     "text": [
      "              precision    recall  f1-score   support\n",
      "\n",
      "           0       0.95      0.97      0.96      4394\n",
      "           1       0.96      0.94      0.95      3399\n",
      "\n",
      "    accuracy                           0.95      7793\n",
      "   macro avg       0.95      0.95      0.95      7793\n",
      "weighted avg       0.95      0.95      0.95      7793\n",
      "\n"
     ]
    }
   ],
   "source": [
    "from sklearn.metrics import classification_report\n",
    "print(classification_report(y_test, y_pred))"
   ]
  },
  {
   "cell_type": "markdown",
   "metadata": {
    "id": "ZXkqTkzQVy8I"
   },
   "source": [
    "## Pipeline Sklearn\n",
    "* Permite a criação de diferentes combinações de técnicas\n",
    "* https://scikit-learn.org/stable/modules/generated/sklearn.pipeline.Pipeline.html"
   ]
  },
  {
   "cell_type": "code",
   "execution_count": 32,
   "metadata": {
    "executionInfo": {
     "elapsed": 11,
     "status": "ok",
     "timestamp": 1706619536947,
     "user": {
      "displayName": "DANILO SIPOLI SANCHES",
      "userId": "11160205893438547738"
     },
     "user_tz": 180
    },
    "id": "3l6_ESXyhJaE"
   },
   "outputs": [],
   "source": [
    "from sklearn.pipeline import Pipeline\n",
    "from sklearn.feature_selection import mutual_info_classif\n",
    "from sklearn.feature_selection import SelectKBest\n",
    "from sklearn.feature_selection import SequentialFeatureSelector as SFS\n",
    "from sklearn.feature_selection import RFE"
   ]
  },
  {
   "cell_type": "code",
   "execution_count": 33,
   "metadata": {
    "colab": {
     "base_uri": "https://localhost:8080/"
    },
    "executionInfo": {
     "elapsed": 6591,
     "status": "ok",
     "timestamp": 1706619543528,
     "user": {
      "displayName": "DANILO SIPOLI SANCHES",
      "userId": "11160205893438547738"
     },
     "user_tz": 180
    },
    "id": "-emSr2FP9RZo",
    "outputId": "6f906524-173d-48da-9305-89fe8010b1f4"
   },
   "outputs": [
    {
     "name": "stdout",
     "output_type": "stream",
     "text": [
      "Requirement already satisfied: feature-engine in /home/a10/anaconda3/envs/eda/lib/python3.11/site-packages (1.6.2)\n",
      "Requirement already satisfied: numpy>=1.18.2 in /home/a10/anaconda3/envs/eda/lib/python3.11/site-packages (from feature-engine) (1.26.3)\n",
      "Requirement already satisfied: pandas>=1.0.3 in /home/a10/anaconda3/envs/eda/lib/python3.11/site-packages (from feature-engine) (2.1.4)\n",
      "Requirement already satisfied: scikit-learn>=1.0.0 in /home/a10/anaconda3/envs/eda/lib/python3.11/site-packages (from feature-engine) (1.4.0)\n",
      "Requirement already satisfied: scipy>=1.4.1 in /home/a10/anaconda3/envs/eda/lib/python3.11/site-packages (from feature-engine) (1.12.0)\n",
      "Requirement already satisfied: statsmodels>=0.11.1 in /home/a10/anaconda3/envs/eda/lib/python3.11/site-packages (from feature-engine) (0.14.1)\n",
      "Requirement already satisfied: python-dateutil>=2.8.2 in /home/a10/anaconda3/envs/eda/lib/python3.11/site-packages (from pandas>=1.0.3->feature-engine) (2.8.2)\n",
      "Requirement already satisfied: pytz>=2020.1 in /home/a10/anaconda3/envs/eda/lib/python3.11/site-packages (from pandas>=1.0.3->feature-engine) (2023.3.post1)\n",
      "Requirement already satisfied: tzdata>=2022.1 in /home/a10/anaconda3/envs/eda/lib/python3.11/site-packages (from pandas>=1.0.3->feature-engine) (2023.4)\n",
      "Requirement already satisfied: joblib>=1.2.0 in /home/a10/anaconda3/envs/eda/lib/python3.11/site-packages (from scikit-learn>=1.0.0->feature-engine) (1.3.2)\n",
      "Requirement already satisfied: threadpoolctl>=2.0.0 in /home/a10/anaconda3/envs/eda/lib/python3.11/site-packages (from scikit-learn>=1.0.0->feature-engine) (3.2.0)\n",
      "Requirement already satisfied: patsy>=0.5.4 in /home/a10/anaconda3/envs/eda/lib/python3.11/site-packages (from statsmodels>=0.11.1->feature-engine) (0.5.6)\n",
      "Requirement already satisfied: packaging>=21.3 in /home/a10/anaconda3/envs/eda/lib/python3.11/site-packages (from statsmodels>=0.11.1->feature-engine) (23.2)\n",
      "Requirement already satisfied: six in /home/a10/anaconda3/envs/eda/lib/python3.11/site-packages (from patsy>=0.5.4->statsmodels>=0.11.1->feature-engine) (1.16.0)\n"
     ]
    }
   ],
   "source": [
    " !pip install feature-engine"
   ]
  },
  {
   "cell_type": "code",
   "execution_count": 34,
   "metadata": {
    "executionInfo": {
     "elapsed": 17,
     "status": "ok",
     "timestamp": 1706619543529,
     "user": {
      "displayName": "DANILO SIPOLI SANCHES",
      "userId": "11160205893438547738"
     },
     "user_tz": 180
    },
    "id": "ACh_PLX490of"
   },
   "outputs": [],
   "source": [
    "from feature_engine.selection import DropCorrelatedFeatures"
   ]
  },
  {
   "cell_type": "markdown",
   "metadata": {
    "id": "_xsH1TpAV3ee"
   },
   "source": [
    "### Separação entre treino e teste"
   ]
  },
  {
   "cell_type": "code",
   "execution_count": 35,
   "metadata": {
    "executionInfo": {
     "elapsed": 15,
     "status": "ok",
     "timestamp": 1706619543530,
     "user": {
      "displayName": "DANILO SIPOLI SANCHES",
      "userId": "11160205893438547738"
     },
     "user_tz": 180
    },
    "id": "3Xwr_L2nug0Q"
   },
   "outputs": [],
   "source": [
    "# Formato dataframe e series\n",
    "X = df.drop(['satisfaction'], axis=1)\n",
    "y = df['satisfaction']"
   ]
  },
  {
   "cell_type": "code",
   "execution_count": 36,
   "metadata": {
    "executionInfo": {
     "elapsed": 15,
     "status": "ok",
     "timestamp": 1706619543530,
     "user": {
      "displayName": "DANILO SIPOLI SANCHES",
      "userId": "11160205893438547738"
     },
     "user_tz": 180
    },
    "id": "7IFn9BVjWYqe"
   },
   "outputs": [],
   "source": [
    "X_train, X_test, y_train, y_test = train_test_split(X, y, test_size=0.3)"
   ]
  },
  {
   "cell_type": "markdown",
   "metadata": {
    "id": "3AuSSRBAWehG"
   },
   "source": [
    "### Configuração das técnicas que serão utilizadas"
   ]
  },
  {
   "cell_type": "code",
   "execution_count": 37,
   "metadata": {
    "executionInfo": {
     "elapsed": 14,
     "status": "ok",
     "timestamp": 1706619543530,
     "user": {
      "displayName": "DANILO SIPOLI SANCHES",
      "userId": "11160205893438547738"
     },
     "user_tz": 180
    },
    "id": "KFUGR88AZKnx"
   },
   "outputs": [],
   "source": [
    "# Inclusão DecisionTree\n",
    "from sklearn.tree import DecisionTreeClassifier\n",
    "CLF = DecisionTreeClassifier()\n",
    "CLF.fit(X_train, y_train)\n",
    "CLF_pred = CLF.predict(X_test)\n",
    "\n",
    "# Inclusão KNN\n",
    "# from sklearn.neighbors import KNeighborsClassifier\n",
    "# CLF = KNeighborsClassifier()\n",
    "# CLF.fit(X_train, y_train)\n",
    "# CLF_pred = CLF.predict(X_test)"
   ]
  },
  {
   "cell_type": "code",
   "execution_count": 38,
   "metadata": {
    "executionInfo": {
     "elapsed": 14,
     "status": "ok",
     "timestamp": 1706619543531,
     "user": {
      "displayName": "DANILO SIPOLI SANCHES",
      "userId": "11160205893438547738"
     },
     "user_tz": 180
    },
    "id": "loJ1p5OFC7nS"
   },
   "outputs": [],
   "source": [
    "# Configurações das técnicas de seleção e predição\n",
    "mi = SelectKBest(mutual_info_classif, k=15)\n",
    "\n",
    "dropC = DropCorrelatedFeatures(\n",
    "    threshold=0.8,\n",
    "    method='pearson')\n",
    "\n",
    "sfs = SFS(\n",
    "    estimator=CLF,\n",
    "    n_features_to_select=15,\n",
    "    direction='forward',\n",
    "    scoring='f1'\n",
    ")\n",
    "\n",
    "rfe = RFE(estimator=CLF,\n",
    "        n_features_to_select=15, step=1)"
   ]
  },
  {
   "cell_type": "code",
   "execution_count": 39,
   "metadata": {
    "executionInfo": {
     "elapsed": 46243,
     "status": "ok",
     "timestamp": 1706619589761,
     "user": {
      "displayName": "DANILO SIPOLI SANCHES",
      "userId": "11160205893438547738"
     },
     "user_tz": 180
    },
    "id": "2BlrPpais6yH"
   },
   "outputs": [],
   "source": [
    "# Feature Selection Techniques\n",
    "## Mutual Information|\n",
    "CLF1 = Pipeline([('mi', mi),\n",
    "                ('CLF', CLF)])\n",
    "CLF1.fit(X_train, y_train)\n",
    "CLF1_pred = CLF1.predict(X_test)\n",
    "\n",
    "## Drop Correlated\n",
    "CLF2 = Pipeline([('dropC', dropC),\n",
    "                ('CLF', CLF)])\n",
    "CLF2.fit(X_train, y_train)\n",
    "CLF2_pred = CLF2.predict(X_test)\n",
    "\n",
    "## SFS\n",
    "CLF3 = Pipeline([('sfs', sfs),\n",
    "                ('CLF', CLF)])\n",
    "CLF3.fit(X_train, y_train)\n",
    "CLF3_pred = CLF3.predict(X_test)\n",
    "\n",
    "# RFE\n",
    "CLF4 = Pipeline([('rfe', rfe),\n",
    "                ('CLF', CLF)])\n",
    "CLF4.fit(X_train, y_train)\n",
    "CLF4_pred = CLF4.predict(X_test)"
   ]
  },
  {
   "cell_type": "markdown",
   "metadata": {
    "id": "9fNBvuWnYUDT"
   },
   "source": [
    "### Métricas de avaliação"
   ]
  },
  {
   "cell_type": "code",
   "execution_count": 40,
   "metadata": {
    "executionInfo": {
     "elapsed": 21,
     "status": "ok",
     "timestamp": 1706619589761,
     "user": {
      "displayName": "DANILO SIPOLI SANCHES",
      "userId": "11160205893438547738"
     },
     "user_tz": 180
    },
    "id": "Eehw93GlXOKs"
   },
   "outputs": [],
   "source": [
    "from sklearn.metrics import confusion_matrix, ConfusionMatrixDisplay\n",
    "from sklearn.metrics import (recall_score,\n",
    "                             accuracy_score,\n",
    "                             precision_score,\n",
    "                             f1_score)"
   ]
  },
  {
   "cell_type": "code",
   "execution_count": 41,
   "metadata": {
    "colab": {
     "base_uri": "https://localhost:8080/"
    },
    "executionInfo": {
     "elapsed": 19,
     "status": "ok",
     "timestamp": 1706619589762,
     "user": {
      "displayName": "DANILO SIPOLI SANCHES",
      "userId": "11160205893438547738"
     },
     "user_tz": 180
    },
    "id": "d-bfyfX6Zixf",
    "outputId": "f75c862a-0777-43dd-9ea1-72f61f247057"
   },
   "outputs": [
    {
     "name": "stdout",
     "output_type": "stream",
     "text": [
      ">> Pipeline com Decision Tree\n",
      "ACC (Completo): 0.934\n",
      "ACC (MI): 0.923\n",
      "ACC: (dropC) 0.933\n",
      "ACC: (SFS) 0.940\n",
      "ACC: (RFE) 0.935\n",
      "Recall (Completo):0.92\n",
      "Recall (MI):0.92\n",
      "Recall (dropC):0.92\n",
      "Recall (SFS):0.93\n",
      "Recall (RFE):0.93\n",
      "Precision (Completo):0.93\n",
      "Precision (MI):0.91\n",
      "Precision (dropC):0.92\n",
      "Precision (SFS):0.93\n",
      "Precision (RFE):0.92\n",
      "F1-score (Completo):0.92\n",
      "F1-score (MI):0.91\n",
      "F1-score (dropC):0.92\n",
      "F1-score (SFS):0.93\n",
      "F1-score (RFE):0.93\n"
     ]
    }
   ],
   "source": [
    "# Acuracidade\n",
    "print(\">> Pipeline com Decision Tree\")\n",
    "print(\"ACC (Completo): %.3f\" %(accuracy_score(y_test,CLF_pred)))\n",
    "print(\"ACC (MI): %.3f\" %(accuracy_score(y_test,CLF1_pred)))\n",
    "print(\"ACC: (dropC) %.3f\" %(accuracy_score(y_test,CLF2_pred)))\n",
    "print(\"ACC: (SFS) %.3f\" %(accuracy_score(y_test,CLF3_pred)))\n",
    "print(\"ACC: (RFE) %.3f\" %(accuracy_score(y_test,CLF4_pred)))\n",
    "#Revocação\n",
    "print(\"Recall (Completo):%.2f\" %(recall_score(y_test,CLF_pred)))\n",
    "print(\"Recall (MI):%.2f\" %(recall_score(y_test,CLF1_pred)))\n",
    "print(\"Recall (dropC):%.2f\" %(recall_score(y_test,CLF2_pred)))\n",
    "print(\"Recall (SFS):%.2f\" %(recall_score(y_test,CLF3_pred)))\n",
    "print(\"Recall (RFE):%.2f\" %(recall_score(y_test,CLF4_pred)))\n",
    "#Precisão\n",
    "print(\"Precision (Completo):%.2f\" %(precision_score(y_test,CLF_pred)))\n",
    "print(\"Precision (MI):%.2f\" %(precision_score(y_test,CLF1_pred)))\n",
    "print(\"Precision (dropC):%.2f\" %(precision_score(y_test,CLF2_pred)))\n",
    "print(\"Precision (SFS):%.2f\" %(precision_score(y_test,CLF3_pred)))\n",
    "print(\"Precision (RFE):%.2f\" %(precision_score(y_test,CLF4_pred)))\n",
    "#F1-score\n",
    "print(\"F1-score (Completo):%.2f\" %(f1_score(y_test,CLF_pred)))\n",
    "print(\"F1-score (MI):%.2f\" %(f1_score(y_test,CLF1_pred)))\n",
    "print(\"F1-score (dropC):%.2f\" %(f1_score(y_test,CLF2_pred)))\n",
    "print(\"F1-score (SFS):%.2f\" %(f1_score(y_test,CLF3_pred)))\n",
    "print(\"F1-score (RFE):%.2f\" %(f1_score(y_test,CLF4_pred)))\n"
   ]
  },
  {
   "cell_type": "markdown",
   "metadata": {
    "id": "j7Gojsw3FQi1"
   },
   "source": [
    "#### Similaridade das Features"
   ]
  },
  {
   "cell_type": "code",
   "execution_count": 42,
   "metadata": {
    "executionInfo": {
     "elapsed": 14,
     "status": "ok",
     "timestamp": 1706619589762,
     "user": {
      "displayName": "DANILO SIPOLI SANCHES",
      "userId": "11160205893438547738"
     },
     "user_tz": 180
    },
    "id": "7Zi_w2wKag_j"
   },
   "outputs": [],
   "source": [
    "featuresMutualInfromation = CLF1[:-1].get_feature_names_out()\n",
    "featuresDropCorrelated = CLF2[:-1].get_feature_names_out()\n",
    "featuresSFS = CLF3[:-1].get_feature_names_out()\n",
    "featuresRFE = CLF4[:-1].get_feature_names_out()"
   ]
  },
  {
   "cell_type": "markdown",
   "metadata": {
    "id": "R1MewFpWKOCD"
   },
   "source": [
    "#### Diagrama de Venn (Até 4 conjuntos)\n",
    "* Biblioteca Vennforest4Py\n",
    "* https://pypi.org/project/venny4py/"
   ]
  },
  {
   "cell_type": "code",
   "execution_count": 43,
   "metadata": {
    "colab": {
     "base_uri": "https://localhost:8080/"
    },
    "executionInfo": {
     "elapsed": 7786,
     "status": "ok",
     "timestamp": 1706619597535,
     "user": {
      "displayName": "DANILO SIPOLI SANCHES",
      "userId": "11160205893438547738"
     },
     "user_tz": 180
    },
    "id": "dpbtvpubMDkb",
    "outputId": "52253771-d02b-4c95-ba67-926e4f788db7"
   },
   "outputs": [
    {
     "name": "stdout",
     "output_type": "stream",
     "text": [
      "Requirement already satisfied: venny4py in /home/a10/anaconda3/envs/eda/lib/python3.11/site-packages (1.0.1)\n"
     ]
    }
   ],
   "source": [
    "# !pip install milkviz\n",
    "!pip install venny4py"
   ]
  },
  {
   "cell_type": "code",
   "execution_count": 44,
   "metadata": {
    "executionInfo": {
     "elapsed": 10,
     "status": "ok",
     "timestamp": 1706619597535,
     "user": {
      "displayName": "DANILO SIPOLI SANCHES",
      "userId": "11160205893438547738"
     },
     "user_tz": 180
    },
    "id": "6aKqM-zsKNnv"
   },
   "outputs": [],
   "source": [
    "# import matplotlib_venn as venn\n",
    "# import milkviz as mv\n",
    "from venny4py.venny4py import *"
   ]
  },
  {
   "cell_type": "code",
   "execution_count": 45,
   "metadata": {
    "colab": {
     "base_uri": "https://localhost:8080/",
     "height": 596
    },
    "executionInfo": {
     "elapsed": 936,
     "status": "ok",
     "timestamp": 1706619598463,
     "user": {
      "displayName": "DANILO SIPOLI SANCHES",
      "userId": "11160205893438547738"
     },
     "user_tz": 180
    },
    "id": "gDI7wQmeKUfo",
    "outputId": "32da3c44-d0e3-462e-9735-83104682e463"
   },
   "outputs": [
    {
     "data": {
      "image/png": "[encoded data removed]",
      "text/plain": [
       "<Figure size 700x700 with 1 Axes>"
      ]
     },
     "metadata": {},
     "output_type": "display_data"
    }
   ],
   "source": [
    "#dict of sets\n",
    "sets = {\n",
    "    'Mutual_Information': set(featuresMutualInfromation),\n",
    "    'Drop Correlated': set(featuresDropCorrelated),\n",
    "    'SFS': set(featuresSFS),\n",
    "    'RFE': set(featuresRFE)\n",
    "}\n",
    "\n",
    "venny4py(sets=sets)"
   ]
  },
  {
   "cell_type": "markdown",
   "metadata": {
    "id": "WekT9D_mjUtK"
   },
   "source": [
    "#### Features similares entre as 4 abordagens"
   ]
  },
  {
   "cell_type": "code",
   "execution_count": 46,
   "metadata": {
    "colab": {
     "base_uri": "https://localhost:8080/"
    },
    "executionInfo": {
     "elapsed": 21,
     "status": "ok",
     "timestamp": 1706619598464,
     "user": {
      "displayName": "DANILO SIPOLI SANCHES",
      "userId": "11160205893438547738"
     },
     "user_tz": 180
    },
    "id": "66uq-Z5iGHsf",
    "outputId": "62de3e11-6990-4523-8514-142c8e0cafd3"
   },
   "outputs": [
    {
     "data": {
      "text/plain": [
       "{'Baggage handling',\n",
       " 'Class',\n",
       " 'Inflight entertainment',\n",
       " 'Inflight service',\n",
       " 'Inflight wifi service',\n",
       " 'On-board service',\n",
       " 'Online boarding',\n",
       " 'Seat comfort',\n",
       " 'Type of Travel'}"
      ]
     },
     "execution_count": 46,
     "metadata": {},
     "output_type": "execute_result"
    }
   ],
   "source": [
    "set(featuresMutualInfromation).intersection(featuresDropCorrelated,featuresSFS,featuresRFE)"
   ]
  }
 ],
 "metadata": {
  "colab": {
   "provenance": []
  },
  "kernelspec": {
   "display_name": "Python 3 (ipykernel)",
   "language": "python",
   "name": "python3"
  },
  "language_info": {
   "codemirror_mode": {
    "name": "ipython",
    "version": 3
   },
   "file_extension": ".py",
   "mimetype": "text/x-python",
   "name": "python",
   "nbconvert_exporter": "python",
   "pygments_lexer": "ipython3",
   "version": "3.11.5"
  }
 },
 "nbformat": 4,
 "nbformat_minor": 4
}
